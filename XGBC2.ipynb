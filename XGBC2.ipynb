{
 "cells": [
  {
   "cell_type": "markdown",
   "metadata": {},
   "source": [
    "# Categorical Modelling"
   ]
  },
  {
   "cell_type": "code",
   "execution_count": 119,
   "metadata": {},
   "outputs": [],
   "source": [
    "import pandas as pd"
   ]
  },
  {
   "cell_type": "code",
   "execution_count": 120,
   "metadata": {},
   "outputs": [],
   "source": [
    "# Jon's weather data (instead of Alberta provincial)\n",
    "df = pd.read_csv('JFE_data_18-19.csv', index_col=0)\n",
    "\n",
    "# sort by date\n",
    "df.sort_values(by='Date', inplace=True)\n",
    "\n",
    "# make date the index\n",
    "df.set_index('Date',inplace=True)\n",
    "\n",
    "#to_drop = ['AvgTemp_7','AvgRH_7', 'AvgDP_7','Precip_7', 'MaxTemp_7',\n",
    " #      'MinTemp_7','SsMean_7']\n",
    "#df.drop(labels=to_drop, axis=1, inplace=True)"
   ]
  },
  {
   "cell_type": "markdown",
   "metadata": {},
   "source": [
    "## Two Categories"
   ]
  },
  {
   "cell_type": "code",
   "execution_count": 94,
   "metadata": {},
   "outputs": [
    {
     "name": "stdout",
     "output_type": "stream",
     "text": [
      "250\n",
      "201\n"
     ]
    }
   ],
   "source": [
    "print(df.loc[df['SsMean'] < 250].SsMean.count())\n",
    "print(df.loc[df['SsMean'] > 250].SsMean.count())"
   ]
  },
  {
   "cell_type": "code",
   "execution_count": 95,
   "metadata": {},
   "outputs": [],
   "source": [
    "# create target\n",
    "# 0 = less than 250\n",
    "# 1 = over 250"
   ]
  },
  {
   "cell_type": "code",
   "execution_count": 96,
   "metadata": {},
   "outputs": [],
   "source": [
    "def create_cat(data):\n",
    "    if data < 250:\n",
    "        return 0\n",
    "    else:\n",
    "        return 1"
   ]
  },
  {
   "cell_type": "code",
   "execution_count": 97,
   "metadata": {},
   "outputs": [],
   "source": [
    "df['label'] = df['SsMean'].apply(create_cat)"
   ]
  },
  {
   "cell_type": "markdown",
   "metadata": {},
   "source": [
    "### XGBC, no scaling"
   ]
  },
  {
   "cell_type": "markdown",
   "metadata": {},
   "source": [
    "#### Ordered Test Set"
   ]
  },
  {
   "cell_type": "code",
   "execution_count": null,
   "metadata": {},
   "outputs": [],
   "source": [
    "# split off end of 2019 as test set\n",
    "test_size = df.shape[0] - 14\n",
    "train, test = df.iloc[:test_size], df.iloc[test_size:]\n",
    "\n",
    "X_train, X_test = train.drop(labels=['SsMean','logSsMean', 'label'], axis=1), test.drop(labels=['SsMean','logSsMean','label'], axis=1)\n",
    "y_train, y_test = train.label, test.label"
   ]
  },
  {
   "cell_type": "markdown",
   "metadata": {},
   "source": [
    "#### Random Test Set"
   ]
  },
  {
   "cell_type": "code",
   "execution_count": 140,
   "metadata": {},
   "outputs": [],
   "source": [
    "from sklearn.model_selection import train_test_split\n",
    "X = df.drop(labels=['SsMean','logSsMean', 'label'], axis=1)\n",
    "y = df.label\n",
    "\n",
    "X_train, X_test, y_train, y_test = train_test_split(X,y, test_size=0.2, random_state=46)"
   ]
  },
  {
   "cell_type": "markdown",
   "metadata": {},
   "source": [
    "#### Model"
   ]
  },
  {
   "cell_type": "code",
   "execution_count": 139,
   "metadata": {
    "collapsed": true,
    "jupyter": {
     "outputs_hidden": true
    }
   },
   "outputs": [
    {
     "ename": "KeyError",
     "evalue": "'Location'",
     "output_type": "error",
     "traceback": [
      "\u001b[0;31m---------------------------------------------------------------------------\u001b[0m",
      "\u001b[0;31mKeyError\u001b[0m                                  Traceback (most recent call last)",
      "\u001b[0;32m~/opt/anaconda3/envs/lighthouse/lib/python3.8/site-packages/pandas/core/indexes/base.py\u001b[0m in \u001b[0;36mget_loc\u001b[0;34m(self, key, method, tolerance)\u001b[0m\n\u001b[1;32m   3079\u001b[0m             \u001b[0;32mtry\u001b[0m\u001b[0;34m:\u001b[0m\u001b[0;34m\u001b[0m\u001b[0;34m\u001b[0m\u001b[0m\n\u001b[0;32m-> 3080\u001b[0;31m                 \u001b[0;32mreturn\u001b[0m \u001b[0mself\u001b[0m\u001b[0;34m.\u001b[0m\u001b[0m_engine\u001b[0m\u001b[0;34m.\u001b[0m\u001b[0mget_loc\u001b[0m\u001b[0;34m(\u001b[0m\u001b[0mcasted_key\u001b[0m\u001b[0;34m)\u001b[0m\u001b[0;34m\u001b[0m\u001b[0;34m\u001b[0m\u001b[0m\n\u001b[0m\u001b[1;32m   3081\u001b[0m             \u001b[0;32mexcept\u001b[0m \u001b[0mKeyError\u001b[0m \u001b[0;32mas\u001b[0m \u001b[0merr\u001b[0m\u001b[0;34m:\u001b[0m\u001b[0;34m\u001b[0m\u001b[0;34m\u001b[0m\u001b[0m\n",
      "\u001b[0;32mpandas/_libs/index.pyx\u001b[0m in \u001b[0;36mpandas._libs.index.IndexEngine.get_loc\u001b[0;34m()\u001b[0m\n",
      "\u001b[0;32mpandas/_libs/index.pyx\u001b[0m in \u001b[0;36mpandas._libs.index.IndexEngine.get_loc\u001b[0;34m()\u001b[0m\n",
      "\u001b[0;32mpandas/_libs/hashtable_class_helper.pxi\u001b[0m in \u001b[0;36mpandas._libs.hashtable.PyObjectHashTable.get_item\u001b[0;34m()\u001b[0m\n",
      "\u001b[0;32mpandas/_libs/hashtable_class_helper.pxi\u001b[0m in \u001b[0;36mpandas._libs.hashtable.PyObjectHashTable.get_item\u001b[0;34m()\u001b[0m\n",
      "\u001b[0;31mKeyError\u001b[0m: 'Location'",
      "\nThe above exception was the direct cause of the following exception:\n",
      "\u001b[0;31mKeyError\u001b[0m                                  Traceback (most recent call last)",
      "\u001b[0;32m<ipython-input-139-d060a4a4c6ac>\u001b[0m in \u001b[0;36m<module>\u001b[0;34m\u001b[0m\n\u001b[1;32m      3\u001b[0m \u001b[0;34m\u001b[0m\u001b[0m\n\u001b[1;32m      4\u001b[0m \u001b[0mle\u001b[0m \u001b[0;34m=\u001b[0m \u001b[0mLabelEncoder\u001b[0m\u001b[0;34m(\u001b[0m\u001b[0;34m)\u001b[0m\u001b[0;34m\u001b[0m\u001b[0;34m\u001b[0m\u001b[0m\n\u001b[0;32m----> 5\u001b[0;31m \u001b[0mle\u001b[0m\u001b[0;34m.\u001b[0m\u001b[0mfit\u001b[0m\u001b[0;34m(\u001b[0m\u001b[0mX_train\u001b[0m\u001b[0;34m[\u001b[0m\u001b[0;34m'Location'\u001b[0m\u001b[0;34m]\u001b[0m\u001b[0;34m)\u001b[0m\u001b[0;34m\u001b[0m\u001b[0;34m\u001b[0m\u001b[0m\n\u001b[0m\u001b[1;32m      6\u001b[0m \u001b[0mX_train\u001b[0m\u001b[0;34m[\u001b[0m\u001b[0;34m'Location'\u001b[0m\u001b[0;34m]\u001b[0m \u001b[0;34m=\u001b[0m \u001b[0mle\u001b[0m\u001b[0;34m.\u001b[0m\u001b[0mtransform\u001b[0m\u001b[0;34m(\u001b[0m\u001b[0mX_train\u001b[0m\u001b[0;34m[\u001b[0m\u001b[0;34m'Location'\u001b[0m\u001b[0;34m]\u001b[0m\u001b[0;34m)\u001b[0m\u001b[0;34m\u001b[0m\u001b[0;34m\u001b[0m\u001b[0m\n\u001b[1;32m      7\u001b[0m \u001b[0mX_test\u001b[0m\u001b[0;34m[\u001b[0m\u001b[0;34m'Location'\u001b[0m\u001b[0;34m]\u001b[0m \u001b[0;34m=\u001b[0m \u001b[0mle\u001b[0m\u001b[0;34m.\u001b[0m\u001b[0mtransform\u001b[0m\u001b[0;34m(\u001b[0m\u001b[0mX_test\u001b[0m\u001b[0;34m[\u001b[0m\u001b[0;34m'Location'\u001b[0m\u001b[0;34m]\u001b[0m\u001b[0;34m)\u001b[0m\u001b[0;34m\u001b[0m\u001b[0;34m\u001b[0m\u001b[0m\n",
      "\u001b[0;32m~/opt/anaconda3/envs/lighthouse/lib/python3.8/site-packages/pandas/core/frame.py\u001b[0m in \u001b[0;36m__getitem__\u001b[0;34m(self, key)\u001b[0m\n\u001b[1;32m   3022\u001b[0m             \u001b[0;32mif\u001b[0m \u001b[0mself\u001b[0m\u001b[0;34m.\u001b[0m\u001b[0mcolumns\u001b[0m\u001b[0;34m.\u001b[0m\u001b[0mnlevels\u001b[0m \u001b[0;34m>\u001b[0m \u001b[0;36m1\u001b[0m\u001b[0;34m:\u001b[0m\u001b[0;34m\u001b[0m\u001b[0;34m\u001b[0m\u001b[0m\n\u001b[1;32m   3023\u001b[0m                 \u001b[0;32mreturn\u001b[0m \u001b[0mself\u001b[0m\u001b[0;34m.\u001b[0m\u001b[0m_getitem_multilevel\u001b[0m\u001b[0;34m(\u001b[0m\u001b[0mkey\u001b[0m\u001b[0;34m)\u001b[0m\u001b[0;34m\u001b[0m\u001b[0;34m\u001b[0m\u001b[0m\n\u001b[0;32m-> 3024\u001b[0;31m             \u001b[0mindexer\u001b[0m \u001b[0;34m=\u001b[0m \u001b[0mself\u001b[0m\u001b[0;34m.\u001b[0m\u001b[0mcolumns\u001b[0m\u001b[0;34m.\u001b[0m\u001b[0mget_loc\u001b[0m\u001b[0;34m(\u001b[0m\u001b[0mkey\u001b[0m\u001b[0;34m)\u001b[0m\u001b[0;34m\u001b[0m\u001b[0;34m\u001b[0m\u001b[0m\n\u001b[0m\u001b[1;32m   3025\u001b[0m             \u001b[0;32mif\u001b[0m \u001b[0mis_integer\u001b[0m\u001b[0;34m(\u001b[0m\u001b[0mindexer\u001b[0m\u001b[0;34m)\u001b[0m\u001b[0;34m:\u001b[0m\u001b[0;34m\u001b[0m\u001b[0;34m\u001b[0m\u001b[0m\n\u001b[1;32m   3026\u001b[0m                 \u001b[0mindexer\u001b[0m \u001b[0;34m=\u001b[0m \u001b[0;34m[\u001b[0m\u001b[0mindexer\u001b[0m\u001b[0;34m]\u001b[0m\u001b[0;34m\u001b[0m\u001b[0;34m\u001b[0m\u001b[0m\n",
      "\u001b[0;32m~/opt/anaconda3/envs/lighthouse/lib/python3.8/site-packages/pandas/core/indexes/base.py\u001b[0m in \u001b[0;36mget_loc\u001b[0;34m(self, key, method, tolerance)\u001b[0m\n\u001b[1;32m   3080\u001b[0m                 \u001b[0;32mreturn\u001b[0m \u001b[0mself\u001b[0m\u001b[0;34m.\u001b[0m\u001b[0m_engine\u001b[0m\u001b[0;34m.\u001b[0m\u001b[0mget_loc\u001b[0m\u001b[0;34m(\u001b[0m\u001b[0mcasted_key\u001b[0m\u001b[0;34m)\u001b[0m\u001b[0;34m\u001b[0m\u001b[0;34m\u001b[0m\u001b[0m\n\u001b[1;32m   3081\u001b[0m             \u001b[0;32mexcept\u001b[0m \u001b[0mKeyError\u001b[0m \u001b[0;32mas\u001b[0m \u001b[0merr\u001b[0m\u001b[0;34m:\u001b[0m\u001b[0;34m\u001b[0m\u001b[0;34m\u001b[0m\u001b[0m\n\u001b[0;32m-> 3082\u001b[0;31m                 \u001b[0;32mraise\u001b[0m \u001b[0mKeyError\u001b[0m\u001b[0;34m(\u001b[0m\u001b[0mkey\u001b[0m\u001b[0;34m)\u001b[0m \u001b[0;32mfrom\u001b[0m \u001b[0merr\u001b[0m\u001b[0;34m\u001b[0m\u001b[0;34m\u001b[0m\u001b[0m\n\u001b[0m\u001b[1;32m   3083\u001b[0m \u001b[0;34m\u001b[0m\u001b[0m\n\u001b[1;32m   3084\u001b[0m         \u001b[0;32mif\u001b[0m \u001b[0mtolerance\u001b[0m \u001b[0;32mis\u001b[0m \u001b[0;32mnot\u001b[0m \u001b[0;32mNone\u001b[0m\u001b[0;34m:\u001b[0m\u001b[0;34m\u001b[0m\u001b[0;34m\u001b[0m\u001b[0m\n",
      "\u001b[0;31mKeyError\u001b[0m: 'Location'"
     ]
    }
   ],
   "source": [
    "# encode location\n",
    "from sklearn.preprocessing import LabelEncoder\n",
    "\n",
    "le = LabelEncoder()\n",
    "le.fit(X_train['Location'])\n",
    "X_train['Location'] = le.transform(X_train['Location'])\n",
    "X_test['Location'] = le.transform(X_test['Location'])"
   ]
  },
  {
   "cell_type": "code",
   "execution_count": 141,
   "metadata": {},
   "outputs": [
    {
     "name": "stderr",
     "output_type": "stream",
     "text": [
      "/Users/reneehall/opt/anaconda3/envs/lighthouse/lib/python3.8/site-packages/xgboost/sklearn.py:888: UserWarning: The use of label encoder in XGBClassifier is deprecated and will be removed in a future release. To remove this warning, do the following: 1) Pass option use_label_encoder=False when constructing XGBClassifier object; and 2) Encode your labels (y) as integers starting with 0, i.e. 0, 1, 2, ..., [num_class - 1].\n",
      "  warnings.warn(label_encoder_deprecation_msg, UserWarning)\n"
     ]
    },
    {
     "name": "stdout",
     "output_type": "stream",
     "text": [
      "[10:34:59] WARNING: /Users/travis/build/dmlc/xgboost/src/learner.cc:1061: Starting in XGBoost 1.3.0, the default evaluation metric used with the objective 'binary:logistic' was changed from 'error' to 'logloss'. Explicitly set eval_metric if you'd like to restore the old behavior.\n"
     ]
    },
    {
     "data": {
      "text/plain": [
       "XGBClassifier(base_score=0.5, booster='gbtree', colsample_bylevel=1,\n",
       "              colsample_bynode=1, colsample_bytree=1, gamma=0, gpu_id=-1,\n",
       "              importance_type='gain', interaction_constraints='',\n",
       "              learning_rate=0.300000012, max_delta_step=0, max_depth=6,\n",
       "              min_child_weight=1, missing=nan, monotone_constraints='()',\n",
       "              n_estimators=100, n_jobs=4, num_parallel_tree=1, random_state=0,\n",
       "              reg_alpha=0, reg_lambda=1, scale_pos_weight=1, subsample=1,\n",
       "              tree_method='exact', validate_parameters=1, verbosity=None)"
      ]
     },
     "execution_count": 141,
     "metadata": {},
     "output_type": "execute_result"
    }
   ],
   "source": [
    "import xgboost as xgb\n",
    "\n",
    "xg = xgb.XGBClassifier()\n",
    "xg.fit(X_train, y_train)"
   ]
  },
  {
   "cell_type": "code",
   "execution_count": 142,
   "metadata": {},
   "outputs": [
    {
     "name": "stdout",
     "output_type": "stream",
     "text": [
      "Train accuracy: 1.0\n",
      "Test accuracy: 0.8131868131868132\n",
      "Train auc: 1.0\n",
      "Test auc: 0.8472222222222223\n",
      "Train precision: 1.0\n",
      "Test precision: 0.6666666666666666\n",
      "Train recall: 1.0\n",
      "Test recall: 0.7407407407407407\n",
      "F1 score train: 1.0\n",
      "F1 score test: 0.7017543859649122\n",
      "              precision    recall  f1-score   support\n",
      "\n",
      "           0       0.89      0.84      0.86        64\n",
      "           1       0.67      0.74      0.70        27\n",
      "\n",
      "    accuracy                           0.81        91\n",
      "   macro avg       0.78      0.79      0.78        91\n",
      "weighted avg       0.82      0.81      0.82        91\n",
      "\n"
     ]
    }
   ],
   "source": [
    "from sklearn.metrics import roc_auc_score\n",
    "from sklearn.metrics import classification_report\n",
    "from sklearn.metrics import precision_score\n",
    "from sklearn.metrics import recall_score\n",
    "from sklearn.metrics import f1_score\n",
    "\n",
    "y_pred = xg.predict(X_test)\n",
    "y_train_pred = xg.predict(X_train)\n",
    "\n",
    "test_acc = xg.score(X_test, y_test)\n",
    "train_acc = xg.score(X_train, y_train)\n",
    "print('Train accuracy:', train_acc)\n",
    "print('Test accuracy:', test_acc)\n",
    "\n",
    "train_probs = xg.predict_proba(X_train)[:,1]\n",
    "train_auc = roc_auc_score(y_train,train_probs)\n",
    "print('Train auc:', train_auc)\n",
    "test_probs = xg.predict_proba(X_test)[:,1]\n",
    "test_auc = roc_auc_score(y_test,test_probs)\n",
    "print('Test auc:', test_auc)\n",
    "\n",
    "train_precision = precision_score(y_train, y_train_pred)\n",
    "test_precision = precision_score(y_test, y_pred)\n",
    "print('Train precision:', train_precision)\n",
    "print('Test precision:', test_precision)\n",
    "\n",
    "train_recall = recall_score(y_train, y_train_pred)\n",
    "test_recall = recall_score(y_test, y_pred)\n",
    "print('Train recall:', train_recall)\n",
    "print('Test recall:', test_recall)\n",
    "\n",
    "train_f1 = f1_score(y_train, y_train_pred)\n",
    "test_f1 = f1_score(y_test, y_pred)\n",
    "print('F1 score train:', train_f1)\n",
    "print('F1 score test:', test_f1)\n",
    "\n",
    "cr = classification_report(y_test,y_pred)\n",
    "print(cr)"
   ]
  },
  {
   "cell_type": "code",
   "execution_count": 143,
   "metadata": {},
   "outputs": [
    {
     "data": {
      "text/plain": [
       "<sklearn.metrics._plot.confusion_matrix.ConfusionMatrixDisplay at 0x7fe2f8a1f580>"
      ]
     },
     "execution_count": 143,
     "metadata": {},
     "output_type": "execute_result"
    },
    {
     "data": {
      "image/png": "[encoded data removed]",
      "text/plain": [
       "<Figure size 432x288 with 2 Axes>"
      ]
     },
     "metadata": {
      "needs_background": "light"
     },
     "output_type": "display_data"
    }
   ],
   "source": [
    "# from sklearn.metrics import plot_confusion_matrix\n",
    "\n",
    "plot_confusion_matrix(xg, X_test, y_test)"
   ]
  },
  {
   "cell_type": "markdown",
   "metadata": {},
   "source": [
    "### XGBC with scaling"
   ]
  },
  {
   "cell_type": "markdown",
   "metadata": {},
   "source": [
    "#### Ordered Test Set"
   ]
  },
  {
   "cell_type": "code",
   "execution_count": null,
   "metadata": {},
   "outputs": [],
   "source": [
    "# split off end of 2019 as test set\n",
    "test_size = df.shape[0] - 14\n",
    "train, test = df.iloc[:test_size], df.iloc[test_size:]\n",
    "\n",
    "X_train, X_test = train.drop(labels=['SsMean','logSsMean', 'label'], axis=1), test.drop(labels=['SsMean','logSsMean','label'], axis=1)\n",
    "y_train, y_test = train.label, test.label"
   ]
  },
  {
   "cell_type": "markdown",
   "metadata": {},
   "source": [
    "#### Random Test Set"
   ]
  },
  {
   "cell_type": "code",
   "execution_count": 105,
   "metadata": {},
   "outputs": [],
   "source": [
    "from sklearn.model_selection import train_test_split\n",
    "X = df.drop(labels=['SsMean','logSsMean', 'label'], axis=1)\n",
    "y = df.label\n",
    "\n",
    "X_train, X_test, y_train, y_test = train_test_split(X,y, test_size=0.2, random_state=46)"
   ]
  },
  {
   "cell_type": "markdown",
   "metadata": {},
   "source": [
    "#### Model"
   ]
  },
  {
   "cell_type": "code",
   "execution_count": 106,
   "metadata": {},
   "outputs": [
    {
     "name": "stderr",
     "output_type": "stream",
     "text": [
      "<ipython-input-106-a169bd59956c>:6: SettingWithCopyWarning: \n",
      "A value is trying to be set on a copy of a slice from a DataFrame.\n",
      "Try using .loc[row_indexer,col_indexer] = value instead\n",
      "\n",
      "See the caveats in the documentation: https://pandas.pydata.org/pandas-docs/stable/user_guide/indexing.html#returning-a-view-versus-a-copy\n",
      "  X_train['Location'] = le.transform(X_train['Location'])\n",
      "<ipython-input-106-a169bd59956c>:7: SettingWithCopyWarning: \n",
      "A value is trying to be set on a copy of a slice from a DataFrame.\n",
      "Try using .loc[row_indexer,col_indexer] = value instead\n",
      "\n",
      "See the caveats in the documentation: https://pandas.pydata.org/pandas-docs/stable/user_guide/indexing.html#returning-a-view-versus-a-copy\n",
      "  X_test['Location'] = le.transform(X_test['Location'])\n"
     ]
    }
   ],
   "source": [
    "from sklearn.preprocessing import StandardScaler\n",
    "\n",
    "# encode location\n",
    "le = LabelEncoder()\n",
    "le.fit(X_train['Location'])\n",
    "X_train['Location'] = le.transform(X_train['Location'])\n",
    "X_test['Location'] = le.transform(X_test['Location'])\n",
    "\n",
    "scaler = StandardScaler()\n",
    "scaler.fit(X_train)\n",
    "X_train = scaler.transform(X_train)\n",
    "X_test = scaler.transform(X_test)"
   ]
  },
  {
   "cell_type": "code",
   "execution_count": 107,
   "metadata": {},
   "outputs": [
    {
     "name": "stderr",
     "output_type": "stream",
     "text": [
      "/Users/reneehall/opt/anaconda3/envs/lighthouse/lib/python3.8/site-packages/xgboost/sklearn.py:888: UserWarning: The use of label encoder in XGBClassifier is deprecated and will be removed in a future release. To remove this warning, do the following: 1) Pass option use_label_encoder=False when constructing XGBClassifier object; and 2) Encode your labels (y) as integers starting with 0, i.e. 0, 1, 2, ..., [num_class - 1].\n",
      "  warnings.warn(label_encoder_deprecation_msg, UserWarning)\n"
     ]
    },
    {
     "name": "stdout",
     "output_type": "stream",
     "text": [
      "[13:26:11] WARNING: /Users/travis/build/dmlc/xgboost/src/learner.cc:1061: Starting in XGBoost 1.3.0, the default evaluation metric used with the objective 'binary:logistic' was changed from 'error' to 'logloss'. Explicitly set eval_metric if you'd like to restore the old behavior.\n"
     ]
    },
    {
     "data": {
      "text/plain": [
       "XGBClassifier(base_score=0.5, booster='gbtree', colsample_bylevel=1,\n",
       "              colsample_bynode=1, colsample_bytree=1, gamma=0, gpu_id=-1,\n",
       "              importance_type='gain', interaction_constraints='',\n",
       "              learning_rate=0.300000012, max_delta_step=0, max_depth=6,\n",
       "              min_child_weight=1, missing=nan, monotone_constraints='()',\n",
       "              n_estimators=100, n_jobs=4, num_parallel_tree=1, random_state=0,\n",
       "              reg_alpha=0, reg_lambda=1, scale_pos_weight=1, subsample=1,\n",
       "              tree_method='exact', validate_parameters=1, verbosity=None)"
      ]
     },
     "execution_count": 107,
     "metadata": {},
     "output_type": "execute_result"
    }
   ],
   "source": [
    "xg = xgb.XGBClassifier()\n",
    "xg.fit(X_train, y_train)"
   ]
  },
  {
   "cell_type": "code",
   "execution_count": 109,
   "metadata": {},
   "outputs": [
    {
     "name": "stdout",
     "output_type": "stream",
     "text": [
      "Train accuracy: 1.0\n",
      "Test accuracy: 0.7692307692307693\n",
      "Train auc: 1.0\n",
      "Test auc: 0.8463463463463463\n",
      "Train precision: 1.0\n",
      "Test precision: 0.6739130434782609\n",
      "Train recall: 1.0\n",
      "Test recall: 0.8378378378378378\n",
      "F1 score train: 1.0\n",
      "F1 score test: 0.746987951807229\n",
      "              precision    recall  f1-score   support\n",
      "\n",
      "           0       0.87      0.72      0.79        54\n",
      "           1       0.67      0.84      0.75        37\n",
      "\n",
      "    accuracy                           0.77        91\n",
      "   macro avg       0.77      0.78      0.77        91\n",
      "weighted avg       0.79      0.77      0.77        91\n",
      "\n"
     ]
    }
   ],
   "source": [
    "y_pred = xg.predict(X_test)\n",
    "y_train_pred = xg.predict(X_train)\n",
    "\n",
    "test_acc = xg.score(X_test, y_test)\n",
    "train_acc = xg.score(X_train, y_train)\n",
    "print('Train accuracy:', train_acc)\n",
    "print('Test accuracy:', test_acc)\n",
    "\n",
    "train_probs = xg.predict_proba(X_train)[:,1]\n",
    "train_auc = roc_auc_score(y_train,train_probs)\n",
    "print('Train auc:', train_auc)\n",
    "test_probs = xg.predict_proba(X_test)[:,1]\n",
    "test_auc = roc_auc_score(y_test,test_probs)\n",
    "print('Test auc:', test_auc)\n",
    "\n",
    "train_precision = precision_score(y_train, y_train_pred)\n",
    "test_precision = precision_score(y_test, y_pred)\n",
    "print('Train precision:', train_precision)\n",
    "print('Test precision:', test_precision)\n",
    "\n",
    "train_recall = recall_score(y_train, y_train_pred)\n",
    "test_recall = recall_score(y_test, y_pred)\n",
    "print('Train recall:', train_recall)\n",
    "print('Test recall:', test_recall)\n",
    "\n",
    "train_f1 = f1_score(y_train, y_train_pred)\n",
    "test_f1 = f1_score(y_test, y_pred)\n",
    "print('F1 score train:', train_f1)\n",
    "print('F1 score test:', test_f1)\n",
    "\n",
    "cr = classification_report(y_test,y_pred)\n",
    "print(cr)"
   ]
  },
  {
   "cell_type": "code",
   "execution_count": 110,
   "metadata": {},
   "outputs": [
    {
     "data": {
      "text/plain": [
       "<sklearn.metrics._plot.confusion_matrix.ConfusionMatrixDisplay at 0x7fe2f983d9a0>"
      ]
     },
     "execution_count": 110,
     "metadata": {},
     "output_type": "execute_result"
    },
    {
     "data": {
      "image/png": "[encoded data removed]",
      "text/plain": [
       "<Figure size 432x288 with 2 Axes>"
      ]
     },
     "metadata": {
      "needs_background": "light"
     },
     "output_type": "display_data"
    }
   ],
   "source": [
    "plot_confusion_matrix(xg, X_test, y_test)"
   ]
  },
  {
   "cell_type": "markdown",
   "metadata": {},
   "source": [
    "## 500+ label"
   ]
  },
  {
   "cell_type": "code",
   "execution_count": 121,
   "metadata": {},
   "outputs": [
    {
     "name": "stdout",
     "output_type": "stream",
     "text": [
      "319\n",
      "132\n"
     ]
    }
   ],
   "source": [
    "print(df.loc[df['SsMean'] < 500].SsMean.count())\n",
    "print(df.loc[df['SsMean'] > 500].SsMean.count())"
   ]
  },
  {
   "cell_type": "code",
   "execution_count": 122,
   "metadata": {},
   "outputs": [],
   "source": [
    "# create target\n",
    "# 0 = less than 500\n",
    "# 1 = over 500\n",
    "\n",
    "def create_500(data):\n",
    "    if data < 500:\n",
    "        return 0\n",
    "    else:\n",
    "        return 1"
   ]
  },
  {
   "cell_type": "code",
   "execution_count": 123,
   "metadata": {},
   "outputs": [],
   "source": [
    "df['label'] = df['SsMean'].apply(create_500)"
   ]
  },
  {
   "cell_type": "code",
   "execution_count": 124,
   "metadata": {},
   "outputs": [],
   "source": [
    "# create balanced dataset\n",
    "class_0 = df.loc[df['label']==0]\n",
    "class_1 = df.loc[df['label']==1]\n",
    "\n",
    "class_1_sample = class_1.sample(n=377, replace=True)\n",
    "\n",
    "bdf = pd.concat([class_0, class_1_sample], axis=0)\n",
    "bdf.sort_values(by='Date', inplace=True)"
   ]
  },
  {
   "cell_type": "code",
   "execution_count": 125,
   "metadata": {},
   "outputs": [
    {
     "data": {
      "text/plain": [
       "(696, 61)"
      ]
     },
     "execution_count": 125,
     "metadata": {},
     "output_type": "execute_result"
    }
   ],
   "source": [
    "bdf.shape"
   ]
  },
  {
   "cell_type": "markdown",
   "metadata": {},
   "source": [
    "### XGBC, scaling, 500+ label"
   ]
  },
  {
   "cell_type": "markdown",
   "metadata": {},
   "source": [
    "#### Ordered Test Set"
   ]
  },
  {
   "cell_type": "code",
   "execution_count": null,
   "metadata": {},
   "outputs": [],
   "source": [
    "# split off end of 2019 as test set\n",
    "test_size = bdf.shape[0] - 14\n",
    "train, test = bdf.iloc[:test_size], bdf.iloc[test_size:]\n",
    "\n",
    "X_train, X_test = train.drop(labels=['SsMean','logSsMean', 'label'], axis=1), test.drop(labels=['SsMean','logSsMean','label'], axis=1)\n",
    "y_train, y_test = train.label, test.label"
   ]
  },
  {
   "cell_type": "markdown",
   "metadata": {},
   "source": [
    "#### Random Test Set"
   ]
  },
  {
   "cell_type": "code",
   "execution_count": 131,
   "metadata": {},
   "outputs": [],
   "source": [
    "X = bdf.drop(labels=['SsMean','logSsMean', 'label'], axis=1)\n",
    "y = bdf.label\n",
    "\n",
    "X_train, X_test, y_train, y_test = train_test_split(X,y, test_size=0.2, random_state=46)"
   ]
  },
  {
   "cell_type": "markdown",
   "metadata": {},
   "source": [
    "#### Model"
   ]
  },
  {
   "cell_type": "code",
   "execution_count": 132,
   "metadata": {},
   "outputs": [
    {
     "name": "stderr",
     "output_type": "stream",
     "text": [
      "<ipython-input-132-86dd1da13430>:4: SettingWithCopyWarning: \n",
      "A value is trying to be set on a copy of a slice from a DataFrame.\n",
      "Try using .loc[row_indexer,col_indexer] = value instead\n",
      "\n",
      "See the caveats in the documentation: https://pandas.pydata.org/pandas-docs/stable/user_guide/indexing.html#returning-a-view-versus-a-copy\n",
      "  X_train['Location'] = le.transform(X_train['Location'])\n",
      "<ipython-input-132-86dd1da13430>:5: SettingWithCopyWarning: \n",
      "A value is trying to be set on a copy of a slice from a DataFrame.\n",
      "Try using .loc[row_indexer,col_indexer] = value instead\n",
      "\n",
      "See the caveats in the documentation: https://pandas.pydata.org/pandas-docs/stable/user_guide/indexing.html#returning-a-view-versus-a-copy\n",
      "  X_test['Location'] = le.transform(X_test['Location'])\n",
      "/Users/reneehall/opt/anaconda3/envs/lighthouse/lib/python3.8/site-packages/xgboost/sklearn.py:888: UserWarning: The use of label encoder in XGBClassifier is deprecated and will be removed in a future release. To remove this warning, do the following: 1) Pass option use_label_encoder=False when constructing XGBClassifier object; and 2) Encode your labels (y) as integers starting with 0, i.e. 0, 1, 2, ..., [num_class - 1].\n",
      "  warnings.warn(label_encoder_deprecation_msg, UserWarning)\n"
     ]
    },
    {
     "name": "stdout",
     "output_type": "stream",
     "text": [
      "[13:39:30] WARNING: /Users/travis/build/dmlc/xgboost/src/learner.cc:1061: Starting in XGBoost 1.3.0, the default evaluation metric used with the objective 'binary:logistic' was changed from 'error' to 'logloss'. Explicitly set eval_metric if you'd like to restore the old behavior.\n"
     ]
    },
    {
     "data": {
      "text/plain": [
       "XGBClassifier(base_score=0.5, booster='gbtree', colsample_bylevel=1,\n",
       "              colsample_bynode=1, colsample_bytree=1, gamma=0, gpu_id=-1,\n",
       "              importance_type='gain', interaction_constraints='',\n",
       "              learning_rate=0.300000012, max_delta_step=0, max_depth=6,\n",
       "              min_child_weight=1, missing=nan, monotone_constraints='()',\n",
       "              n_estimators=100, n_jobs=4, num_parallel_tree=1, random_state=0,\n",
       "              reg_alpha=0, reg_lambda=1, scale_pos_weight=1, subsample=1,\n",
       "              tree_method='exact', validate_parameters=1, verbosity=None)"
      ]
     },
     "execution_count": 132,
     "metadata": {},
     "output_type": "execute_result"
    }
   ],
   "source": [
    "# encode location\n",
    "le = LabelEncoder()\n",
    "le.fit(X_train['Location'])\n",
    "X_train['Location'] = le.transform(X_train['Location'])\n",
    "X_test['Location'] = le.transform(X_test['Location'])\n",
    "\n",
    "scaler = StandardScaler()\n",
    "scaler.fit(X_train)\n",
    "X_train = scaler.transform(X_train)\n",
    "X_test = scaler.transform(X_test)\n",
    "\n",
    "xg = xgb.XGBClassifier()\n",
    "xg.fit(X_train, y_train)"
   ]
  },
  {
   "cell_type": "code",
   "execution_count": 133,
   "metadata": {},
   "outputs": [
    {
     "name": "stdout",
     "output_type": "stream",
     "text": [
      "Train accuracy: 1.0\n",
      "Test accuracy: 0.8785714285714286\n",
      "Train auc: 1.0\n",
      "Test auc: 0.9756695972193824\n",
      "Train precision: 1.0\n",
      "Test precision: 0.8255813953488372\n",
      "Train recall: 1.0\n",
      "Test recall: 0.9726027397260274\n",
      "F1 score train: 1.0\n",
      "F1 score test: 0.8930817610062893\n",
      "              precision    recall  f1-score   support\n",
      "\n",
      "           0       0.96      0.78      0.86        67\n",
      "           1       0.83      0.97      0.89        73\n",
      "\n",
      "    accuracy                           0.88       140\n",
      "   macro avg       0.89      0.87      0.88       140\n",
      "weighted avg       0.89      0.88      0.88       140\n",
      "\n"
     ]
    },
    {
     "data": {
      "text/plain": [
       "<sklearn.metrics._plot.confusion_matrix.ConfusionMatrixDisplay at 0x7fe2fa203880>"
      ]
     },
     "execution_count": 133,
     "metadata": {},
     "output_type": "execute_result"
    },
    {
     "data": {
      "image/png": "[encoded data removed]",
      "text/plain": [
       "<Figure size 432x288 with 2 Axes>"
      ]
     },
     "metadata": {
      "needs_background": "light"
     },
     "output_type": "display_data"
    }
   ],
   "source": [
    "y_pred = xg.predict(X_test)\n",
    "y_train_pred = xg.predict(X_train)\n",
    "\n",
    "test_acc = xg.score(X_test, y_test)\n",
    "train_acc = xg.score(X_train, y_train)\n",
    "print('Train accuracy:', train_acc)\n",
    "print('Test accuracy:', test_acc)\n",
    "\n",
    "train_probs = xg.predict_proba(X_train)[:,1]\n",
    "train_auc = roc_auc_score(y_train,train_probs)\n",
    "print('Train auc:', train_auc)\n",
    "test_probs = xg.predict_proba(X_test)[:,1]\n",
    "test_auc = roc_auc_score(y_test,test_probs)\n",
    "print('Test auc:', test_auc)\n",
    "\n",
    "train_precision = precision_score(y_train, y_train_pred)\n",
    "test_precision = precision_score(y_test, y_pred)\n",
    "print('Train precision:', train_precision)\n",
    "print('Test precision:', test_precision)\n",
    "\n",
    "train_recall = recall_score(y_train, y_train_pred)\n",
    "test_recall = recall_score(y_test, y_pred)\n",
    "print('Train recall:', train_recall)\n",
    "print('Test recall:', test_recall)\n",
    "\n",
    "train_f1 = f1_score(y_train, y_train_pred)\n",
    "test_f1 = f1_score(y_test, y_pred)\n",
    "print('F1 score train:', train_f1)\n",
    "print('F1 score test:', test_f1)\n",
    "\n",
    "cr = classification_report(y_test,y_pred)\n",
    "print(cr)\n",
    "\n",
    "plot_confusion_matrix(xg, X_test, y_test)"
   ]
  },
  {
   "cell_type": "markdown",
   "metadata": {},
   "source": [
    "### XGBC, no scaling, 500+"
   ]
  },
  {
   "cell_type": "markdown",
   "metadata": {},
   "source": [
    "#### Ordered Test Set"
   ]
  },
  {
   "cell_type": "code",
   "execution_count": null,
   "metadata": {},
   "outputs": [],
   "source": [
    "# split off end of 2019 as test set\n",
    "test_size = bdf.shape[0] - 14\n",
    "train, test = bdf.iloc[:test_size], bdf.iloc[test_size:]\n",
    "\n",
    "X_train, X_test = train.drop(labels=['SsMean','logSsMean', 'label'], axis=1), test.drop(labels=['SsMean','logSsMean','label'], axis=1)\n",
    "y_train, y_test = train.label, test.label"
   ]
  },
  {
   "cell_type": "markdown",
   "metadata": {},
   "source": [
    "#### Random Test Set"
   ]
  },
  {
   "cell_type": "code",
   "execution_count": 135,
   "metadata": {},
   "outputs": [],
   "source": [
    "X = bdf.drop(labels=['SsMean','logSsMean', 'label'], axis=1)\n",
    "y = bdf.label\n",
    "\n",
    "X_train, X_test, y_train, y_test = train_test_split(X,y, test_size=0.2, random_state=46)"
   ]
  },
  {
   "cell_type": "markdown",
   "metadata": {},
   "source": [
    "#### Model"
   ]
  },
  {
   "cell_type": "code",
   "execution_count": 136,
   "metadata": {},
   "outputs": [
    {
     "name": "stderr",
     "output_type": "stream",
     "text": [
      "<ipython-input-136-1d60d416afa3>:4: SettingWithCopyWarning: \n",
      "A value is trying to be set on a copy of a slice from a DataFrame.\n",
      "Try using .loc[row_indexer,col_indexer] = value instead\n",
      "\n",
      "See the caveats in the documentation: https://pandas.pydata.org/pandas-docs/stable/user_guide/indexing.html#returning-a-view-versus-a-copy\n",
      "  X_train['Location'] = le.transform(X_train['Location'])\n",
      "<ipython-input-136-1d60d416afa3>:5: SettingWithCopyWarning: \n",
      "A value is trying to be set on a copy of a slice from a DataFrame.\n",
      "Try using .loc[row_indexer,col_indexer] = value instead\n",
      "\n",
      "See the caveats in the documentation: https://pandas.pydata.org/pandas-docs/stable/user_guide/indexing.html#returning-a-view-versus-a-copy\n",
      "  X_test['Location'] = le.transform(X_test['Location'])\n",
      "/Users/reneehall/opt/anaconda3/envs/lighthouse/lib/python3.8/site-packages/xgboost/sklearn.py:888: UserWarning: The use of label encoder in XGBClassifier is deprecated and will be removed in a future release. To remove this warning, do the following: 1) Pass option use_label_encoder=False when constructing XGBClassifier object; and 2) Encode your labels (y) as integers starting with 0, i.e. 0, 1, 2, ..., [num_class - 1].\n",
      "  warnings.warn(label_encoder_deprecation_msg, UserWarning)\n"
     ]
    },
    {
     "name": "stdout",
     "output_type": "stream",
     "text": [
      "[13:41:24] WARNING: /Users/travis/build/dmlc/xgboost/src/learner.cc:1061: Starting in XGBoost 1.3.0, the default evaluation metric used with the objective 'binary:logistic' was changed from 'error' to 'logloss'. Explicitly set eval_metric if you'd like to restore the old behavior.\n"
     ]
    },
    {
     "data": {
      "text/plain": [
       "XGBClassifier(base_score=0.5, booster='gbtree', colsample_bylevel=1,\n",
       "              colsample_bynode=1, colsample_bytree=1, gamma=0, gpu_id=-1,\n",
       "              importance_type='gain', interaction_constraints='',\n",
       "              learning_rate=0.300000012, max_delta_step=0, max_depth=6,\n",
       "              min_child_weight=1, missing=nan, monotone_constraints='()',\n",
       "              n_estimators=100, n_jobs=4, num_parallel_tree=1, random_state=0,\n",
       "              reg_alpha=0, reg_lambda=1, scale_pos_weight=1, subsample=1,\n",
       "              tree_method='exact', validate_parameters=1, verbosity=None)"
      ]
     },
     "execution_count": 136,
     "metadata": {},
     "output_type": "execute_result"
    }
   ],
   "source": [
    "# encode location\n",
    "le = LabelEncoder()\n",
    "le.fit(X_train['Location'])\n",
    "X_train['Location'] = le.transform(X_train['Location'])\n",
    "X_test['Location'] = le.transform(X_test['Location'])\n",
    "\n",
    "xg = xgb.XGBClassifier()\n",
    "xg.fit(X_train, y_train)"
   ]
  },
  {
   "cell_type": "code",
   "execution_count": 137,
   "metadata": {},
   "outputs": [
    {
     "name": "stdout",
     "output_type": "stream",
     "text": [
      "Train accuracy: 1.0\n",
      "Test accuracy: 0.8785714285714286\n",
      "Train auc: 1.0\n",
      "Test auc: 0.9756695972193824\n",
      "Train precision: 1.0\n",
      "Test precision: 0.8255813953488372\n",
      "Train recall: 1.0\n",
      "Test recall: 0.9726027397260274\n",
      "F1 score train: 1.0\n",
      "F1 score test: 0.8930817610062893\n",
      "              precision    recall  f1-score   support\n",
      "\n",
      "           0       0.96      0.78      0.86        67\n",
      "           1       0.83      0.97      0.89        73\n",
      "\n",
      "    accuracy                           0.88       140\n",
      "   macro avg       0.89      0.87      0.88       140\n",
      "weighted avg       0.89      0.88      0.88       140\n",
      "\n"
     ]
    },
    {
     "data": {
      "text/plain": [
       "<sklearn.metrics._plot.confusion_matrix.ConfusionMatrixDisplay at 0x7fe2f8be07c0>"
      ]
     },
     "execution_count": 137,
     "metadata": {},
     "output_type": "execute_result"
    },
    {
     "data": {
      "image/png": "[encoded data removed]",
      "text/plain": [
       "<Figure size 432x288 with 2 Axes>"
      ]
     },
     "metadata": {
      "needs_background": "light"
     },
     "output_type": "display_data"
    }
   ],
   "source": [
    "y_pred = xg.predict(X_test)\n",
    "y_train_pred = xg.predict(X_train)\n",
    "\n",
    "test_acc = xg.score(X_test, y_test)\n",
    "train_acc = xg.score(X_train, y_train)\n",
    "print('Train accuracy:', train_acc)\n",
    "print('Test accuracy:', test_acc)\n",
    "\n",
    "train_probs = xg.predict_proba(X_train)[:,1]\n",
    "train_auc = roc_auc_score(y_train,train_probs)\n",
    "print('Train auc:', train_auc)\n",
    "test_probs = xg.predict_proba(X_test)[:,1]\n",
    "test_auc = roc_auc_score(y_test,test_probs)\n",
    "print('Test auc:', test_auc)\n",
    "\n",
    "train_precision = precision_score(y_train, y_train_pred)\n",
    "test_precision = precision_score(y_test, y_pred)\n",
    "print('Train precision:', train_precision)\n",
    "print('Test precision:', test_precision)\n",
    "\n",
    "train_recall = recall_score(y_train, y_train_pred)\n",
    "test_recall = recall_score(y_test, y_pred)\n",
    "print('Train recall:', train_recall)\n",
    "print('Test recall:', test_recall)\n",
    "\n",
    "train_f1 = f1_score(y_train, y_train_pred)\n",
    "test_f1 = f1_score(y_test, y_pred)\n",
    "print('F1 score train:', train_f1)\n",
    "print('F1 score test:', test_f1)\n",
    "\n",
    "cr = classification_report(y_test,y_pred)\n",
    "print(cr)\n",
    "\n",
    "plot_confusion_matrix(xg, X_test, y_test)"
   ]
  },
  {
   "cell_type": "code",
   "execution_count": 113,
   "metadata": {},
   "outputs": [],
   "source": [
    "r_df = pd.DataFrame(test)\n",
    "r_df['pred'] = y_pred\n",
    "r_df.reset_index(inplace=True)"
   ]
  },
  {
   "cell_type": "code",
   "execution_count": 114,
   "metadata": {},
   "outputs": [],
   "source": [
    "incorrect = r_df[r_df['label'] != r_df['pred']]\n",
    "correct = r_df[r_df['label'] == r_df['pred']]"
   ]
  },
  {
   "cell_type": "code",
   "execution_count": 119,
   "metadata": {},
   "outputs": [],
   "source": [
    "wrong_df = pd.DataFrame()\n",
    "for i in incorrect.index.tolist():\n",
    "    wrong_df = wrong_df.append(test.iloc[i])\n",
    "    \n",
    "right_df = pd.DataFrame()\n",
    "for i in correct.index.tolist():\n",
    "    right_df = right_df.append(test.iloc[i])"
   ]
  },
  {
   "cell_type": "code",
   "execution_count": 120,
   "metadata": {},
   "outputs": [
    {
     "data": {
      "text/plain": [
       "Index(['AvgDP', 'AvgDP_1', 'AvgDP_3', 'AvgDP_7', 'AvgRH', 'AvgRH_1', 'AvgRH_3',\n",
       "       'AvgRH_7', 'AvgTemp', 'AvgTemp_1', 'AvgTemp_3', 'AvgTemp_7',\n",
       "       'AvgWindSpeed', 'Date', 'JDay', 'Location', 'MaxTemp', 'MaxTemp_1',\n",
       "       'MaxTemp_3', 'MaxTemp_7', 'MinTemp', 'MinTemp_1', 'MinTemp_3',\n",
       "       'MinTemp_7', 'Precip', 'Precip_1', 'Precip_3', 'Precip_7', 'SsMean',\n",
       "       'SsMean_1', 'SsMean_3', 'SsMean_7', 'YearWeek', 'label', 'logSsMean',\n",
       "       'month', 'precip_3dTotal', 'pred', 'year'],\n",
       "      dtype='object')"
      ]
     },
     "execution_count": 120,
     "metadata": {},
     "output_type": "execute_result"
    }
   ],
   "source": [
    "wrong_df.columns"
   ]
  },
  {
   "cell_type": "code",
   "execution_count": 136,
   "metadata": {},
   "outputs": [
    {
     "data": {
      "text/html": [
       "<div>\n",
       "<style scoped>\n",
       "    .dataframe tbody tr th:only-of-type {\n",
       "        vertical-align: middle;\n",
       "    }\n",
       "\n",
       "    .dataframe tbody tr th {\n",
       "        vertical-align: top;\n",
       "    }\n",
       "\n",
       "    .dataframe thead th {\n",
       "        text-align: right;\n",
       "    }\n",
       "</style>\n",
       "<table border=\"1\" class=\"dataframe\">\n",
       "  <thead>\n",
       "    <tr style=\"text-align: right;\">\n",
       "      <th></th>\n",
       "      <th>AvgDP_1</th>\n",
       "      <th>AvgDP_3</th>\n",
       "      <th>AvgDP_7</th>\n",
       "      <th>AvgRH_1</th>\n",
       "      <th>AvgRH_3</th>\n",
       "      <th>AvgRH_7</th>\n",
       "      <th>AvgTemp_1</th>\n",
       "      <th>AvgTemp_3</th>\n",
       "      <th>AvgTemp_7</th>\n",
       "      <th>Location</th>\n",
       "      <th>...</th>\n",
       "      <th>MaxTemp_7</th>\n",
       "      <th>MinTemp_1</th>\n",
       "      <th>MinTemp_3</th>\n",
       "      <th>MinTemp_7</th>\n",
       "      <th>Precip_3</th>\n",
       "      <th>Precip_7</th>\n",
       "      <th>SsMean</th>\n",
       "      <th>SsMean_1</th>\n",
       "      <th>SsMean_3</th>\n",
       "      <th>pred</th>\n",
       "    </tr>\n",
       "  </thead>\n",
       "  <tbody>\n",
       "    <tr>\n",
       "      <th>8</th>\n",
       "      <td>11.10</td>\n",
       "      <td>11.800000</td>\n",
       "      <td>10.282857</td>\n",
       "      <td>56.0</td>\n",
       "      <td>58.500000</td>\n",
       "      <td>62.628571</td>\n",
       "      <td>19.9</td>\n",
       "      <td>20.1</td>\n",
       "      <td>17.757143</td>\n",
       "      <td>2.0</td>\n",
       "      <td>...</td>\n",
       "      <td>26.542857</td>\n",
       "      <td>12.9</td>\n",
       "      <td>12.266667</td>\n",
       "      <td>9.700000</td>\n",
       "      <td>0.866667</td>\n",
       "      <td>0.657143</td>\n",
       "      <td>2379.4</td>\n",
       "      <td>2362.23</td>\n",
       "      <td>863.873333</td>\n",
       "      <td>0.0</td>\n",
       "    </tr>\n",
       "    <tr>\n",
       "      <th>17</th>\n",
       "      <td>9.88</td>\n",
       "      <td>11.046667</td>\n",
       "      <td>10.605714</td>\n",
       "      <td>83.9</td>\n",
       "      <td>70.733333</td>\n",
       "      <td>64.242857</td>\n",
       "      <td>13.1</td>\n",
       "      <td>16.9</td>\n",
       "      <td>17.757143</td>\n",
       "      <td>2.0</td>\n",
       "      <td>...</td>\n",
       "      <td>26.528571</td>\n",
       "      <td>7.7</td>\n",
       "      <td>10.366667</td>\n",
       "      <td>9.571429</td>\n",
       "      <td>0.866667</td>\n",
       "      <td>0.800000</td>\n",
       "      <td>768.5</td>\n",
       "      <td>2379.40</td>\n",
       "      <td>1629.076667</td>\n",
       "      <td>0.0</td>\n",
       "    </tr>\n",
       "    <tr>\n",
       "      <th>20</th>\n",
       "      <td>9.88</td>\n",
       "      <td>11.046667</td>\n",
       "      <td>10.605714</td>\n",
       "      <td>83.9</td>\n",
       "      <td>70.733333</td>\n",
       "      <td>64.242857</td>\n",
       "      <td>13.1</td>\n",
       "      <td>16.9</td>\n",
       "      <td>17.757143</td>\n",
       "      <td>2.0</td>\n",
       "      <td>...</td>\n",
       "      <td>26.528571</td>\n",
       "      <td>7.7</td>\n",
       "      <td>10.366667</td>\n",
       "      <td>9.571429</td>\n",
       "      <td>0.866667</td>\n",
       "      <td>0.800000</td>\n",
       "      <td>768.5</td>\n",
       "      <td>2379.40</td>\n",
       "      <td>1629.076667</td>\n",
       "      <td>0.0</td>\n",
       "    </tr>\n",
       "  </tbody>\n",
       "</table>\n",
       "<p>3 rows × 22 columns</p>\n",
       "</div>"
      ],
      "text/plain": [
       "    AvgDP_1    AvgDP_3    AvgDP_7  AvgRH_1    AvgRH_3    AvgRH_7  AvgTemp_1  \\\n",
       "8     11.10  11.800000  10.282857     56.0  58.500000  62.628571       19.9   \n",
       "17     9.88  11.046667  10.605714     83.9  70.733333  64.242857       13.1   \n",
       "20     9.88  11.046667  10.605714     83.9  70.733333  64.242857       13.1   \n",
       "\n",
       "    AvgTemp_3  AvgTemp_7  Location  ...  MaxTemp_7  MinTemp_1  MinTemp_3  \\\n",
       "8        20.1  17.757143       2.0  ...  26.542857       12.9  12.266667   \n",
       "17       16.9  17.757143       2.0  ...  26.528571        7.7  10.366667   \n",
       "20       16.9  17.757143       2.0  ...  26.528571        7.7  10.366667   \n",
       "\n",
       "    MinTemp_7  Precip_3  Precip_7  SsMean  SsMean_1     SsMean_3  pred  \n",
       "8    9.700000  0.866667  0.657143  2379.4   2362.23   863.873333   0.0  \n",
       "17   9.571429  0.866667  0.800000   768.5   2379.40  1629.076667   0.0  \n",
       "20   9.571429  0.866667  0.800000   768.5   2379.40  1629.076667   0.0  \n",
       "\n",
       "[3 rows x 22 columns]"
      ]
     },
     "execution_count": 136,
     "metadata": {},
     "output_type": "execute_result"
    }
   ],
   "source": [
    "cols = ['AvgDP_1', 'AvgDP_3', 'AvgDP_7', 'AvgRH_1', 'AvgRH_3',\n",
    "       'AvgRH_7', 'AvgTemp_1', 'AvgTemp_3', 'AvgTemp_7',\n",
    "       'Location', 'MaxTemp_1',\n",
    "       'MaxTemp_3', 'MaxTemp_7', 'MinTemp_1', 'MinTemp_3',\n",
    "       'MinTemp_7', 'Precip_3', 'Precip_7', 'SsMean',\n",
    "       'SsMean_1', 'SsMean_3',\n",
    "       'pred']\n",
    "\n",
    "wrong_df[cols]"
   ]
  },
  {
   "cell_type": "code",
   "execution_count": 137,
   "metadata": {},
   "outputs": [
    {
     "data": {
      "text/html": [
       "<div>\n",
       "<style scoped>\n",
       "    .dataframe tbody tr th:only-of-type {\n",
       "        vertical-align: middle;\n",
       "    }\n",
       "\n",
       "    .dataframe tbody tr th {\n",
       "        vertical-align: top;\n",
       "    }\n",
       "\n",
       "    .dataframe thead th {\n",
       "        text-align: right;\n",
       "    }\n",
       "</style>\n",
       "<table border=\"1\" class=\"dataframe\">\n",
       "  <thead>\n",
       "    <tr style=\"text-align: right;\">\n",
       "      <th></th>\n",
       "      <th>AvgDP_1</th>\n",
       "      <th>AvgDP_3</th>\n",
       "      <th>AvgDP_7</th>\n",
       "      <th>AvgRH_1</th>\n",
       "      <th>AvgRH_3</th>\n",
       "      <th>AvgRH_7</th>\n",
       "      <th>AvgTemp_1</th>\n",
       "      <th>AvgTemp_3</th>\n",
       "      <th>AvgTemp_7</th>\n",
       "      <th>Location</th>\n",
       "      <th>...</th>\n",
       "      <th>MaxTemp_7</th>\n",
       "      <th>MinTemp_1</th>\n",
       "      <th>MinTemp_3</th>\n",
       "      <th>MinTemp_7</th>\n",
       "      <th>Precip_3</th>\n",
       "      <th>Precip_7</th>\n",
       "      <th>SsMean</th>\n",
       "      <th>SsMean_1</th>\n",
       "      <th>SsMean_3</th>\n",
       "      <th>pred</th>\n",
       "    </tr>\n",
       "  </thead>\n",
       "  <tbody>\n",
       "    <tr>\n",
       "      <th>0</th>\n",
       "      <td>11.40</td>\n",
       "      <td>12.226667</td>\n",
       "      <td>10.377143</td>\n",
       "      <td>72.5</td>\n",
       "      <td>64.300000</td>\n",
       "      <td>66.885714</td>\n",
       "      <td>16.9</td>\n",
       "      <td>19.366667</td>\n",
       "      <td>17.000000</td>\n",
       "      <td>4.0</td>\n",
       "      <td>...</td>\n",
       "      <td>24.800000</td>\n",
       "      <td>8.7</td>\n",
       "      <td>12.066667</td>\n",
       "      <td>10.371429</td>\n",
       "      <td>0.966667</td>\n",
       "      <td>1.071429</td>\n",
       "      <td>2260.510</td>\n",
       "      <td>135.420</td>\n",
       "      <td>595.573333</td>\n",
       "      <td>1.0</td>\n",
       "    </tr>\n",
       "    <tr>\n",
       "      <th>1</th>\n",
       "      <td>12.38</td>\n",
       "      <td>13.333333</td>\n",
       "      <td>11.211429</td>\n",
       "      <td>67.4</td>\n",
       "      <td>65.333333</td>\n",
       "      <td>63.985714</td>\n",
       "      <td>18.9</td>\n",
       "      <td>20.266667</td>\n",
       "      <td>18.414286</td>\n",
       "      <td>5.0</td>\n",
       "      <td>...</td>\n",
       "      <td>26.628571</td>\n",
       "      <td>9.4</td>\n",
       "      <td>11.966667</td>\n",
       "      <td>10.042857</td>\n",
       "      <td>1.166667</td>\n",
       "      <td>0.714286</td>\n",
       "      <td>936.380</td>\n",
       "      <td>132.570</td>\n",
       "      <td>1058.526667</td>\n",
       "      <td>1.0</td>\n",
       "    </tr>\n",
       "    <tr>\n",
       "      <th>2</th>\n",
       "      <td>11.40</td>\n",
       "      <td>12.226667</td>\n",
       "      <td>10.377143</td>\n",
       "      <td>72.5</td>\n",
       "      <td>64.300000</td>\n",
       "      <td>66.885714</td>\n",
       "      <td>16.9</td>\n",
       "      <td>19.366667</td>\n",
       "      <td>17.000000</td>\n",
       "      <td>4.0</td>\n",
       "      <td>...</td>\n",
       "      <td>24.800000</td>\n",
       "      <td>8.7</td>\n",
       "      <td>12.066667</td>\n",
       "      <td>10.371429</td>\n",
       "      <td>0.966667</td>\n",
       "      <td>1.071429</td>\n",
       "      <td>2260.510</td>\n",
       "      <td>135.420</td>\n",
       "      <td>595.573333</td>\n",
       "      <td>1.0</td>\n",
       "    </tr>\n",
       "    <tr>\n",
       "      <th>3</th>\n",
       "      <td>12.38</td>\n",
       "      <td>13.333333</td>\n",
       "      <td>11.211429</td>\n",
       "      <td>67.4</td>\n",
       "      <td>65.333333</td>\n",
       "      <td>63.985714</td>\n",
       "      <td>18.9</td>\n",
       "      <td>20.266667</td>\n",
       "      <td>18.414286</td>\n",
       "      <td>5.0</td>\n",
       "      <td>...</td>\n",
       "      <td>26.628571</td>\n",
       "      <td>9.4</td>\n",
       "      <td>11.966667</td>\n",
       "      <td>10.042857</td>\n",
       "      <td>1.166667</td>\n",
       "      <td>0.714286</td>\n",
       "      <td>936.380</td>\n",
       "      <td>132.570</td>\n",
       "      <td>1058.526667</td>\n",
       "      <td>1.0</td>\n",
       "    </tr>\n",
       "    <tr>\n",
       "      <th>4</th>\n",
       "      <td>11.40</td>\n",
       "      <td>12.226667</td>\n",
       "      <td>10.342857</td>\n",
       "      <td>72.5</td>\n",
       "      <td>64.300000</td>\n",
       "      <td>63.714286</td>\n",
       "      <td>16.9</td>\n",
       "      <td>19.366667</td>\n",
       "      <td>17.600000</td>\n",
       "      <td>3.0</td>\n",
       "      <td>...</td>\n",
       "      <td>26.157143</td>\n",
       "      <td>8.7</td>\n",
       "      <td>12.066667</td>\n",
       "      <td>10.071429</td>\n",
       "      <td>0.966667</td>\n",
       "      <td>0.528571</td>\n",
       "      <td>16864.435</td>\n",
       "      <td>249.440</td>\n",
       "      <td>259.771667</td>\n",
       "      <td>1.0</td>\n",
       "    </tr>\n",
       "    <tr>\n",
       "      <th>5</th>\n",
       "      <td>12.16</td>\n",
       "      <td>12.620000</td>\n",
       "      <td>10.634286</td>\n",
       "      <td>72.3</td>\n",
       "      <td>64.600000</td>\n",
       "      <td>65.242857</td>\n",
       "      <td>17.7</td>\n",
       "      <td>19.700000</td>\n",
       "      <td>17.585714</td>\n",
       "      <td>1.0</td>\n",
       "      <td>...</td>\n",
       "      <td>25.771429</td>\n",
       "      <td>10.5</td>\n",
       "      <td>12.266667</td>\n",
       "      <td>9.700000</td>\n",
       "      <td>0.866667</td>\n",
       "      <td>0.657143</td>\n",
       "      <td>1472.790</td>\n",
       "      <td>308.880</td>\n",
       "      <td>571.583333</td>\n",
       "      <td>1.0</td>\n",
       "    </tr>\n",
       "    <tr>\n",
       "      <th>6</th>\n",
       "      <td>12.18</td>\n",
       "      <td>12.440000</td>\n",
       "      <td>11.917143</td>\n",
       "      <td>71.4</td>\n",
       "      <td>62.533333</td>\n",
       "      <td>68.800000</td>\n",
       "      <td>17.9</td>\n",
       "      <td>19.933333</td>\n",
       "      <td>18.157143</td>\n",
       "      <td>0.0</td>\n",
       "      <td>...</td>\n",
       "      <td>25.871429</td>\n",
       "      <td>11.1</td>\n",
       "      <td>12.833333</td>\n",
       "      <td>11.857143</td>\n",
       "      <td>1.333333</td>\n",
       "      <td>0.771429</td>\n",
       "      <td>389.480</td>\n",
       "      <td>34.300</td>\n",
       "      <td>53.850000</td>\n",
       "      <td>0.0</td>\n",
       "    </tr>\n",
       "    <tr>\n",
       "      <th>7</th>\n",
       "      <td>12.38</td>\n",
       "      <td>13.333333</td>\n",
       "      <td>11.211429</td>\n",
       "      <td>67.4</td>\n",
       "      <td>65.333333</td>\n",
       "      <td>63.985714</td>\n",
       "      <td>18.9</td>\n",
       "      <td>20.266667</td>\n",
       "      <td>18.414286</td>\n",
       "      <td>5.0</td>\n",
       "      <td>...</td>\n",
       "      <td>26.628571</td>\n",
       "      <td>9.4</td>\n",
       "      <td>11.966667</td>\n",
       "      <td>10.042857</td>\n",
       "      <td>1.166667</td>\n",
       "      <td>0.714286</td>\n",
       "      <td>936.380</td>\n",
       "      <td>132.570</td>\n",
       "      <td>1058.526667</td>\n",
       "      <td>1.0</td>\n",
       "    </tr>\n",
       "    <tr>\n",
       "      <th>9</th>\n",
       "      <td>10.72</td>\n",
       "      <td>12.426667</td>\n",
       "      <td>11.608571</td>\n",
       "      <td>45.6</td>\n",
       "      <td>63.300000</td>\n",
       "      <td>59.757143</td>\n",
       "      <td>21.6</td>\n",
       "      <td>19.766667</td>\n",
       "      <td>19.657143</td>\n",
       "      <td>5.0</td>\n",
       "      <td>...</td>\n",
       "      <td>27.814286</td>\n",
       "      <td>14.2</td>\n",
       "      <td>12.766667</td>\n",
       "      <td>10.871429</td>\n",
       "      <td>0.766667</td>\n",
       "      <td>0.571429</td>\n",
       "      <td>84.000</td>\n",
       "      <td>936.380</td>\n",
       "      <td>384.130000</td>\n",
       "      <td>0.0</td>\n",
       "    </tr>\n",
       "    <tr>\n",
       "      <th>10</th>\n",
       "      <td>10.92</td>\n",
       "      <td>12.206667</td>\n",
       "      <td>11.682857</td>\n",
       "      <td>53.6</td>\n",
       "      <td>67.033333</td>\n",
       "      <td>63.985714</td>\n",
       "      <td>20.2</td>\n",
       "      <td>18.800000</td>\n",
       "      <td>18.885714</td>\n",
       "      <td>0.0</td>\n",
       "      <td>...</td>\n",
       "      <td>27.114286</td>\n",
       "      <td>12.9</td>\n",
       "      <td>12.533333</td>\n",
       "      <td>11.842857</td>\n",
       "      <td>1.366667</td>\n",
       "      <td>0.671429</td>\n",
       "      <td>26.930</td>\n",
       "      <td>389.480</td>\n",
       "      <td>145.020000</td>\n",
       "      <td>0.0</td>\n",
       "    </tr>\n",
       "    <tr>\n",
       "      <th>11</th>\n",
       "      <td>11.10</td>\n",
       "      <td>12.273333</td>\n",
       "      <td>11.131429</td>\n",
       "      <td>56.0</td>\n",
       "      <td>67.533333</td>\n",
       "      <td>62.871429</td>\n",
       "      <td>19.9</td>\n",
       "      <td>18.766667</td>\n",
       "      <td>18.557143</td>\n",
       "      <td>1.0</td>\n",
       "      <td>...</td>\n",
       "      <td>27.028571</td>\n",
       "      <td>12.9</td>\n",
       "      <td>12.100000</td>\n",
       "      <td>10.314286</td>\n",
       "      <td>0.433333</td>\n",
       "      <td>0.614286</td>\n",
       "      <td>294.060</td>\n",
       "      <td>1472.790</td>\n",
       "      <td>664.543333</td>\n",
       "      <td>0.0</td>\n",
       "    </tr>\n",
       "    <tr>\n",
       "      <th>12</th>\n",
       "      <td>11.06</td>\n",
       "      <td>11.966667</td>\n",
       "      <td>10.825714</td>\n",
       "      <td>57.8</td>\n",
       "      <td>68.833333</td>\n",
       "      <td>61.485714</td>\n",
       "      <td>19.5</td>\n",
       "      <td>18.200000</td>\n",
       "      <td>18.528571</td>\n",
       "      <td>3.0</td>\n",
       "      <td>...</td>\n",
       "      <td>27.371429</td>\n",
       "      <td>11.3</td>\n",
       "      <td>11.166667</td>\n",
       "      <td>10.414286</td>\n",
       "      <td>0.966667</td>\n",
       "      <td>0.414286</td>\n",
       "      <td>1483.110</td>\n",
       "      <td>16864.435</td>\n",
       "      <td>5707.848333</td>\n",
       "      <td>1.0</td>\n",
       "    </tr>\n",
       "    <tr>\n",
       "      <th>13</th>\n",
       "      <td>11.06</td>\n",
       "      <td>11.966667</td>\n",
       "      <td>10.825714</td>\n",
       "      <td>57.8</td>\n",
       "      <td>68.833333</td>\n",
       "      <td>61.485714</td>\n",
       "      <td>19.5</td>\n",
       "      <td>18.200000</td>\n",
       "      <td>18.528571</td>\n",
       "      <td>3.0</td>\n",
       "      <td>...</td>\n",
       "      <td>27.371429</td>\n",
       "      <td>11.3</td>\n",
       "      <td>11.166667</td>\n",
       "      <td>10.414286</td>\n",
       "      <td>0.966667</td>\n",
       "      <td>0.414286</td>\n",
       "      <td>1483.110</td>\n",
       "      <td>16864.435</td>\n",
       "      <td>5707.848333</td>\n",
       "      <td>1.0</td>\n",
       "    </tr>\n",
       "    <tr>\n",
       "      <th>14</th>\n",
       "      <td>11.06</td>\n",
       "      <td>11.966667</td>\n",
       "      <td>10.574286</td>\n",
       "      <td>57.8</td>\n",
       "      <td>68.833333</td>\n",
       "      <td>63.585714</td>\n",
       "      <td>19.5</td>\n",
       "      <td>18.200000</td>\n",
       "      <td>17.857143</td>\n",
       "      <td>4.0</td>\n",
       "      <td>...</td>\n",
       "      <td>26.242857</td>\n",
       "      <td>11.3</td>\n",
       "      <td>11.166667</td>\n",
       "      <td>10.428571</td>\n",
       "      <td>0.966667</td>\n",
       "      <td>0.528571</td>\n",
       "      <td>239.920</td>\n",
       "      <td>2260.510</td>\n",
       "      <td>895.566667</td>\n",
       "      <td>0.0</td>\n",
       "    </tr>\n",
       "    <tr>\n",
       "      <th>15</th>\n",
       "      <td>9.04</td>\n",
       "      <td>10.500000</td>\n",
       "      <td>10.768571</td>\n",
       "      <td>76.7</td>\n",
       "      <td>69.000000</td>\n",
       "      <td>64.057143</td>\n",
       "      <td>13.7</td>\n",
       "      <td>16.700000</td>\n",
       "      <td>17.957143</td>\n",
       "      <td>4.0</td>\n",
       "      <td>...</td>\n",
       "      <td>26.257143</td>\n",
       "      <td>7.6</td>\n",
       "      <td>9.200000</td>\n",
       "      <td>10.242857</td>\n",
       "      <td>0.000000</td>\n",
       "      <td>0.414286</td>\n",
       "      <td>1377.310</td>\n",
       "      <td>239.920</td>\n",
       "      <td>878.616667</td>\n",
       "      <td>1.0</td>\n",
       "    </tr>\n",
       "    <tr>\n",
       "      <th>16</th>\n",
       "      <td>9.04</td>\n",
       "      <td>10.500000</td>\n",
       "      <td>10.768571</td>\n",
       "      <td>76.7</td>\n",
       "      <td>69.000000</td>\n",
       "      <td>64.057143</td>\n",
       "      <td>13.7</td>\n",
       "      <td>16.700000</td>\n",
       "      <td>17.957143</td>\n",
       "      <td>4.0</td>\n",
       "      <td>...</td>\n",
       "      <td>26.257143</td>\n",
       "      <td>7.6</td>\n",
       "      <td>9.200000</td>\n",
       "      <td>10.242857</td>\n",
       "      <td>0.000000</td>\n",
       "      <td>0.414286</td>\n",
       "      <td>1377.310</td>\n",
       "      <td>239.920</td>\n",
       "      <td>878.616667</td>\n",
       "      <td>1.0</td>\n",
       "    </tr>\n",
       "    <tr>\n",
       "      <th>18</th>\n",
       "      <td>9.04</td>\n",
       "      <td>10.500000</td>\n",
       "      <td>10.768571</td>\n",
       "      <td>76.7</td>\n",
       "      <td>69.000000</td>\n",
       "      <td>64.057143</td>\n",
       "      <td>13.7</td>\n",
       "      <td>16.700000</td>\n",
       "      <td>17.957143</td>\n",
       "      <td>4.0</td>\n",
       "      <td>...</td>\n",
       "      <td>26.257143</td>\n",
       "      <td>7.6</td>\n",
       "      <td>9.200000</td>\n",
       "      <td>10.242857</td>\n",
       "      <td>0.000000</td>\n",
       "      <td>0.414286</td>\n",
       "      <td>1377.310</td>\n",
       "      <td>239.920</td>\n",
       "      <td>878.616667</td>\n",
       "      <td>1.0</td>\n",
       "    </tr>\n",
       "    <tr>\n",
       "      <th>19</th>\n",
       "      <td>9.04</td>\n",
       "      <td>10.500000</td>\n",
       "      <td>10.768571</td>\n",
       "      <td>76.7</td>\n",
       "      <td>69.000000</td>\n",
       "      <td>64.057143</td>\n",
       "      <td>13.7</td>\n",
       "      <td>16.700000</td>\n",
       "      <td>17.957143</td>\n",
       "      <td>3.0</td>\n",
       "      <td>...</td>\n",
       "      <td>26.257143</td>\n",
       "      <td>7.6</td>\n",
       "      <td>9.200000</td>\n",
       "      <td>10.242857</td>\n",
       "      <td>0.000000</td>\n",
       "      <td>0.414286</td>\n",
       "      <td>2054.905</td>\n",
       "      <td>1483.110</td>\n",
       "      <td>6198.995000</td>\n",
       "      <td>1.0</td>\n",
       "    </tr>\n",
       "    <tr>\n",
       "      <th>21</th>\n",
       "      <td>9.40</td>\n",
       "      <td>10.833333</td>\n",
       "      <td>11.342857</td>\n",
       "      <td>80.5</td>\n",
       "      <td>68.500000</td>\n",
       "      <td>64.357143</td>\n",
       "      <td>13.3</td>\n",
       "      <td>17.133333</td>\n",
       "      <td>18.471429</td>\n",
       "      <td>0.0</td>\n",
       "      <td>...</td>\n",
       "      <td>26.485714</td>\n",
       "      <td>8.0</td>\n",
       "      <td>10.666667</td>\n",
       "      <td>11.285714</td>\n",
       "      <td>0.533333</td>\n",
       "      <td>0.885714</td>\n",
       "      <td>9.180</td>\n",
       "      <td>26.930</td>\n",
       "      <td>150.236667</td>\n",
       "      <td>0.0</td>\n",
       "    </tr>\n",
       "    <tr>\n",
       "      <th>22</th>\n",
       "      <td>9.44</td>\n",
       "      <td>10.846667</td>\n",
       "      <td>11.551429</td>\n",
       "      <td>79.7</td>\n",
       "      <td>64.233333</td>\n",
       "      <td>63.971429</td>\n",
       "      <td>13.5</td>\n",
       "      <td>18.000000</td>\n",
       "      <td>18.757143</td>\n",
       "      <td>5.0</td>\n",
       "      <td>...</td>\n",
       "      <td>26.300000</td>\n",
       "      <td>6.8</td>\n",
       "      <td>10.133333</td>\n",
       "      <td>10.514286</td>\n",
       "      <td>0.266667</td>\n",
       "      <td>0.542857</td>\n",
       "      <td>89.860</td>\n",
       "      <td>84.000</td>\n",
       "      <td>384.316667</td>\n",
       "      <td>0.0</td>\n",
       "    </tr>\n",
       "    <tr>\n",
       "      <th>23</th>\n",
       "      <td>9.04</td>\n",
       "      <td>10.500000</td>\n",
       "      <td>10.768571</td>\n",
       "      <td>76.7</td>\n",
       "      <td>69.000000</td>\n",
       "      <td>64.057143</td>\n",
       "      <td>13.7</td>\n",
       "      <td>16.700000</td>\n",
       "      <td>17.957143</td>\n",
       "      <td>3.0</td>\n",
       "      <td>...</td>\n",
       "      <td>26.257143</td>\n",
       "      <td>7.6</td>\n",
       "      <td>9.200000</td>\n",
       "      <td>10.242857</td>\n",
       "      <td>0.000000</td>\n",
       "      <td>0.414286</td>\n",
       "      <td>2054.905</td>\n",
       "      <td>1483.110</td>\n",
       "      <td>6198.995000</td>\n",
       "      <td>1.0</td>\n",
       "    </tr>\n",
       "    <tr>\n",
       "      <th>24</th>\n",
       "      <td>9.04</td>\n",
       "      <td>10.500000</td>\n",
       "      <td>10.768571</td>\n",
       "      <td>76.7</td>\n",
       "      <td>69.000000</td>\n",
       "      <td>64.057143</td>\n",
       "      <td>13.7</td>\n",
       "      <td>16.700000</td>\n",
       "      <td>17.957143</td>\n",
       "      <td>3.0</td>\n",
       "      <td>...</td>\n",
       "      <td>26.257143</td>\n",
       "      <td>7.6</td>\n",
       "      <td>9.200000</td>\n",
       "      <td>10.242857</td>\n",
       "      <td>0.000000</td>\n",
       "      <td>0.414286</td>\n",
       "      <td>2054.905</td>\n",
       "      <td>1483.110</td>\n",
       "      <td>6198.995000</td>\n",
       "      <td>1.0</td>\n",
       "    </tr>\n",
       "    <tr>\n",
       "      <th>25</th>\n",
       "      <td>7.68</td>\n",
       "      <td>9.553333</td>\n",
       "      <td>10.351429</td>\n",
       "      <td>73.4</td>\n",
       "      <td>71.100000</td>\n",
       "      <td>65.900000</td>\n",
       "      <td>13.0</td>\n",
       "      <td>15.333333</td>\n",
       "      <td>17.171429</td>\n",
       "      <td>2.0</td>\n",
       "      <td>...</td>\n",
       "      <td>25.414286</td>\n",
       "      <td>7.3</td>\n",
       "      <td>9.300000</td>\n",
       "      <td>9.685714</td>\n",
       "      <td>1.000000</td>\n",
       "      <td>0.971429</td>\n",
       "      <td>44.370</td>\n",
       "      <td>768.500</td>\n",
       "      <td>1836.710000</td>\n",
       "      <td>0.0</td>\n",
       "    </tr>\n",
       "    <tr>\n",
       "      <th>26</th>\n",
       "      <td>7.32</td>\n",
       "      <td>9.160000</td>\n",
       "      <td>11.248571</td>\n",
       "      <td>70.1</td>\n",
       "      <td>65.133333</td>\n",
       "      <td>64.957143</td>\n",
       "      <td>13.3</td>\n",
       "      <td>16.133333</td>\n",
       "      <td>18.257143</td>\n",
       "      <td>5.0</td>\n",
       "      <td>...</td>\n",
       "      <td>25.628571</td>\n",
       "      <td>8.3</td>\n",
       "      <td>9.766667</td>\n",
       "      <td>10.300000</td>\n",
       "      <td>0.266667</td>\n",
       "      <td>0.614286</td>\n",
       "      <td>25.660</td>\n",
       "      <td>89.860</td>\n",
       "      <td>370.080000</td>\n",
       "      <td>0.0</td>\n",
       "    </tr>\n",
       "    <tr>\n",
       "      <th>27</th>\n",
       "      <td>7.26</td>\n",
       "      <td>9.193333</td>\n",
       "      <td>10.737143</td>\n",
       "      <td>70.8</td>\n",
       "      <td>68.300000</td>\n",
       "      <td>64.257143</td>\n",
       "      <td>13.1</td>\n",
       "      <td>15.533333</td>\n",
       "      <td>17.885714</td>\n",
       "      <td>0.0</td>\n",
       "      <td>...</td>\n",
       "      <td>25.414286</td>\n",
       "      <td>6.0</td>\n",
       "      <td>8.966667</td>\n",
       "      <td>10.814286</td>\n",
       "      <td>0.733333</td>\n",
       "      <td>0.885714</td>\n",
       "      <td>49.650</td>\n",
       "      <td>9.180</td>\n",
       "      <td>141.863333</td>\n",
       "      <td>0.0</td>\n",
       "    </tr>\n",
       "    <tr>\n",
       "      <th>28</th>\n",
       "      <td>7.68</td>\n",
       "      <td>9.553333</td>\n",
       "      <td>10.974286</td>\n",
       "      <td>73.4</td>\n",
       "      <td>71.100000</td>\n",
       "      <td>66.942857</td>\n",
       "      <td>13.0</td>\n",
       "      <td>15.333333</td>\n",
       "      <td>17.585714</td>\n",
       "      <td>1.0</td>\n",
       "      <td>...</td>\n",
       "      <td>25.271429</td>\n",
       "      <td>7.3</td>\n",
       "      <td>9.300000</td>\n",
       "      <td>10.342857</td>\n",
       "      <td>1.000000</td>\n",
       "      <td>0.942857</td>\n",
       "      <td>24.620</td>\n",
       "      <td>2292.600</td>\n",
       "      <td>1353.150000</td>\n",
       "      <td>0.0</td>\n",
       "    </tr>\n",
       "    <tr>\n",
       "      <th>29</th>\n",
       "      <td>7.10</td>\n",
       "      <td>7.953333</td>\n",
       "      <td>10.654286</td>\n",
       "      <td>58.5</td>\n",
       "      <td>69.433333</td>\n",
       "      <td>64.271429</td>\n",
       "      <td>15.4</td>\n",
       "      <td>14.066667</td>\n",
       "      <td>17.800000</td>\n",
       "      <td>5.0</td>\n",
       "      <td>...</td>\n",
       "      <td>25.214286</td>\n",
       "      <td>4.5</td>\n",
       "      <td>6.533333</td>\n",
       "      <td>9.957143</td>\n",
       "      <td>0.333333</td>\n",
       "      <td>0.642857</td>\n",
       "      <td>15.870</td>\n",
       "      <td>25.660</td>\n",
       "      <td>66.506667</td>\n",
       "      <td>0.0</td>\n",
       "    </tr>\n",
       "  </tbody>\n",
       "</table>\n",
       "<p>27 rows × 22 columns</p>\n",
       "</div>"
      ],
      "text/plain": [
       "    AvgDP_1    AvgDP_3    AvgDP_7  AvgRH_1    AvgRH_3    AvgRH_7  AvgTemp_1  \\\n",
       "0     11.40  12.226667  10.377143     72.5  64.300000  66.885714       16.9   \n",
       "1     12.38  13.333333  11.211429     67.4  65.333333  63.985714       18.9   \n",
       "2     11.40  12.226667  10.377143     72.5  64.300000  66.885714       16.9   \n",
       "3     12.38  13.333333  11.211429     67.4  65.333333  63.985714       18.9   \n",
       "4     11.40  12.226667  10.342857     72.5  64.300000  63.714286       16.9   \n",
       "5     12.16  12.620000  10.634286     72.3  64.600000  65.242857       17.7   \n",
       "6     12.18  12.440000  11.917143     71.4  62.533333  68.800000       17.9   \n",
       "7     12.38  13.333333  11.211429     67.4  65.333333  63.985714       18.9   \n",
       "9     10.72  12.426667  11.608571     45.6  63.300000  59.757143       21.6   \n",
       "10    10.92  12.206667  11.682857     53.6  67.033333  63.985714       20.2   \n",
       "11    11.10  12.273333  11.131429     56.0  67.533333  62.871429       19.9   \n",
       "12    11.06  11.966667  10.825714     57.8  68.833333  61.485714       19.5   \n",
       "13    11.06  11.966667  10.825714     57.8  68.833333  61.485714       19.5   \n",
       "14    11.06  11.966667  10.574286     57.8  68.833333  63.585714       19.5   \n",
       "15     9.04  10.500000  10.768571     76.7  69.000000  64.057143       13.7   \n",
       "16     9.04  10.500000  10.768571     76.7  69.000000  64.057143       13.7   \n",
       "18     9.04  10.500000  10.768571     76.7  69.000000  64.057143       13.7   \n",
       "19     9.04  10.500000  10.768571     76.7  69.000000  64.057143       13.7   \n",
       "21     9.40  10.833333  11.342857     80.5  68.500000  64.357143       13.3   \n",
       "22     9.44  10.846667  11.551429     79.7  64.233333  63.971429       13.5   \n",
       "23     9.04  10.500000  10.768571     76.7  69.000000  64.057143       13.7   \n",
       "24     9.04  10.500000  10.768571     76.7  69.000000  64.057143       13.7   \n",
       "25     7.68   9.553333  10.351429     73.4  71.100000  65.900000       13.0   \n",
       "26     7.32   9.160000  11.248571     70.1  65.133333  64.957143       13.3   \n",
       "27     7.26   9.193333  10.737143     70.8  68.300000  64.257143       13.1   \n",
       "28     7.68   9.553333  10.974286     73.4  71.100000  66.942857       13.0   \n",
       "29     7.10   7.953333  10.654286     58.5  69.433333  64.271429       15.4   \n",
       "\n",
       "    AvgTemp_3  AvgTemp_7  Location  ...  MaxTemp_7  MinTemp_1  MinTemp_3  \\\n",
       "0   19.366667  17.000000       4.0  ...  24.800000        8.7  12.066667   \n",
       "1   20.266667  18.414286       5.0  ...  26.628571        9.4  11.966667   \n",
       "2   19.366667  17.000000       4.0  ...  24.800000        8.7  12.066667   \n",
       "3   20.266667  18.414286       5.0  ...  26.628571        9.4  11.966667   \n",
       "4   19.366667  17.600000       3.0  ...  26.157143        8.7  12.066667   \n",
       "5   19.700000  17.585714       1.0  ...  25.771429       10.5  12.266667   \n",
       "6   19.933333  18.157143       0.0  ...  25.871429       11.1  12.833333   \n",
       "7   20.266667  18.414286       5.0  ...  26.628571        9.4  11.966667   \n",
       "9   19.766667  19.657143       5.0  ...  27.814286       14.2  12.766667   \n",
       "10  18.800000  18.885714       0.0  ...  27.114286       12.9  12.533333   \n",
       "11  18.766667  18.557143       1.0  ...  27.028571       12.9  12.100000   \n",
       "12  18.200000  18.528571       3.0  ...  27.371429       11.3  11.166667   \n",
       "13  18.200000  18.528571       3.0  ...  27.371429       11.3  11.166667   \n",
       "14  18.200000  17.857143       4.0  ...  26.242857       11.3  11.166667   \n",
       "15  16.700000  17.957143       4.0  ...  26.257143        7.6   9.200000   \n",
       "16  16.700000  17.957143       4.0  ...  26.257143        7.6   9.200000   \n",
       "18  16.700000  17.957143       4.0  ...  26.257143        7.6   9.200000   \n",
       "19  16.700000  17.957143       3.0  ...  26.257143        7.6   9.200000   \n",
       "21  17.133333  18.471429       0.0  ...  26.485714        8.0  10.666667   \n",
       "22  18.000000  18.757143       5.0  ...  26.300000        6.8  10.133333   \n",
       "23  16.700000  17.957143       3.0  ...  26.257143        7.6   9.200000   \n",
       "24  16.700000  17.957143       3.0  ...  26.257143        7.6   9.200000   \n",
       "25  15.333333  17.171429       2.0  ...  25.414286        7.3   9.300000   \n",
       "26  16.133333  18.257143       5.0  ...  25.628571        8.3   9.766667   \n",
       "27  15.533333  17.885714       0.0  ...  25.414286        6.0   8.966667   \n",
       "28  15.333333  17.585714       1.0  ...  25.271429        7.3   9.300000   \n",
       "29  14.066667  17.800000       5.0  ...  25.214286        4.5   6.533333   \n",
       "\n",
       "    MinTemp_7  Precip_3  Precip_7     SsMean   SsMean_1     SsMean_3  pred  \n",
       "0   10.371429  0.966667  1.071429   2260.510    135.420   595.573333   1.0  \n",
       "1   10.042857  1.166667  0.714286    936.380    132.570  1058.526667   1.0  \n",
       "2   10.371429  0.966667  1.071429   2260.510    135.420   595.573333   1.0  \n",
       "3   10.042857  1.166667  0.714286    936.380    132.570  1058.526667   1.0  \n",
       "4   10.071429  0.966667  0.528571  16864.435    249.440   259.771667   1.0  \n",
       "5    9.700000  0.866667  0.657143   1472.790    308.880   571.583333   1.0  \n",
       "6   11.857143  1.333333  0.771429    389.480     34.300    53.850000   0.0  \n",
       "7   10.042857  1.166667  0.714286    936.380    132.570  1058.526667   1.0  \n",
       "9   10.871429  0.766667  0.571429     84.000    936.380   384.130000   0.0  \n",
       "10  11.842857  1.366667  0.671429     26.930    389.480   145.020000   0.0  \n",
       "11  10.314286  0.433333  0.614286    294.060   1472.790   664.543333   0.0  \n",
       "12  10.414286  0.966667  0.414286   1483.110  16864.435  5707.848333   1.0  \n",
       "13  10.414286  0.966667  0.414286   1483.110  16864.435  5707.848333   1.0  \n",
       "14  10.428571  0.966667  0.528571    239.920   2260.510   895.566667   0.0  \n",
       "15  10.242857  0.000000  0.414286   1377.310    239.920   878.616667   1.0  \n",
       "16  10.242857  0.000000  0.414286   1377.310    239.920   878.616667   1.0  \n",
       "18  10.242857  0.000000  0.414286   1377.310    239.920   878.616667   1.0  \n",
       "19  10.242857  0.000000  0.414286   2054.905   1483.110  6198.995000   1.0  \n",
       "21  11.285714  0.533333  0.885714      9.180     26.930   150.236667   0.0  \n",
       "22  10.514286  0.266667  0.542857     89.860     84.000   384.316667   0.0  \n",
       "23  10.242857  0.000000  0.414286   2054.905   1483.110  6198.995000   1.0  \n",
       "24  10.242857  0.000000  0.414286   2054.905   1483.110  6198.995000   1.0  \n",
       "25   9.685714  1.000000  0.971429     44.370    768.500  1836.710000   0.0  \n",
       "26  10.300000  0.266667  0.614286     25.660     89.860   370.080000   0.0  \n",
       "27  10.814286  0.733333  0.885714     49.650      9.180   141.863333   0.0  \n",
       "28  10.342857  1.000000  0.942857     24.620   2292.600  1353.150000   0.0  \n",
       "29   9.957143  0.333333  0.642857     15.870     25.660    66.506667   0.0  \n",
       "\n",
       "[27 rows x 22 columns]"
      ]
     },
     "execution_count": 137,
     "metadata": {},
     "output_type": "execute_result"
    }
   ],
   "source": [
    "right_df[cols]"
   ]
  },
  {
   "cell_type": "code",
   "execution_count": null,
   "metadata": {},
   "outputs": [],
   "source": []
  }
 ],
 "metadata": {
  "kernelspec": {
   "display_name": "lighthouse",
   "language": "python",
   "name": "lighthouse"
  },
  "language_info": {
   "codemirror_mode": {
    "name": "ipython",
    "version": 3
   },
   "file_extension": ".py",
   "mimetype": "text/x-python",
   "name": "python",
   "nbconvert_exporter": "python",
   "pygments_lexer": "ipython3",
   "version": "3.8.2"
  }
 },
 "nbformat": 4,
 "nbformat_minor": 4
}
