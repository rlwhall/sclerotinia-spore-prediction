{
 "cells": [
  {
   "cell_type": "markdown",
   "metadata": {},
   "source": [
    "# Featrue Engineering"
   ]
  },
  {
   "cell_type": "code",
   "execution_count": 73,
   "metadata": {},
   "outputs": [],
   "source": [
    "# import packaged\n",
    "import pandas as pd\n",
    "import numpy as np\n",
    "import datetime as dt \n",
    "\n",
    "import matplotlib.pyplot as plt"
   ]
  },
  {
   "cell_type": "code",
   "execution_count": 110,
   "metadata": {},
   "outputs": [],
   "source": [
    "# import data\n",
    "df = pd.read_csv('final_df.csv', index_col=0)\n",
    "\n",
    "# keep only necessary columns\n",
    "to_keep = ['Location.x', 'JDay', 'Date', 'SsMean', 'Air Temp. Min. (�C)', 'Air Temp. Max. (�C)',\n",
    "       'Air Temp. Avg. (�C)', 'Humidity Avg. (%)', 'Precip. (mm)',\n",
    "       'Wind Speed 10 m Avg. (km/h)']\n",
    "\n",
    "df2 = df[to_keep].copy()\n",
    "\n",
    "# rename columns\n",
    "df2.columns = ['Location', 'JDay', 'Date', 'SsMean', 'MinTemp', 'MaxTemp',\n",
    "       'AvgTemp', 'AvgRH', 'Precip', 'AvgWindSpeed']"
   ]
  },
  {
   "cell_type": "code",
   "execution_count": 111,
   "metadata": {},
   "outputs": [],
   "source": [
    "# drop SsMean nans\n",
    "df2.dropna(inplace=True)"
   ]
  },
  {
   "cell_type": "code",
   "execution_count": 112,
   "metadata": {},
   "outputs": [
    {
     "data": {
      "text/plain": [
       "Location         object\n",
       "JDay              int64\n",
       "Date             object\n",
       "SsMean          float64\n",
       "MinTemp         float64\n",
       "MaxTemp         float64\n",
       "AvgTemp         float64\n",
       "AvgRH           float64\n",
       "Precip          float64\n",
       "AvgWindSpeed    float64\n",
       "dtype: object"
      ]
     },
     "execution_count": 112,
     "metadata": {},
     "output_type": "execute_result"
    }
   ],
   "source": [
    "df2.dtypes"
   ]
  },
  {
   "cell_type": "code",
   "execution_count": 113,
   "metadata": {},
   "outputs": [
    {
     "data": {
      "text/plain": [
       "MaxTemp         0\n",
       "AvgTemp         0\n",
       "AvgRH           0\n",
       "Precip          0\n",
       "AvgWindSpeed    0\n",
       "dtype: int64"
      ]
     },
     "execution_count": 113,
     "metadata": {},
     "output_type": "execute_result"
    }
   ],
   "source": [
    "df2.isnull().sum().sort_values().tail()"
   ]
  },
  {
   "cell_type": "code",
   "execution_count": 114,
   "metadata": {},
   "outputs": [],
   "source": [
    "# convert date to datetime\n",
    "df2['Date'] = pd.to_datetime(df2['Date'])"
   ]
  },
  {
   "cell_type": "code",
   "execution_count": 115,
   "metadata": {},
   "outputs": [],
   "source": [
    "# Create month \n",
    "df2['month'] = pd.to_datetime(df2['Date']).dt.month"
   ]
  },
  {
   "cell_type": "code",
   "execution_count": 116,
   "metadata": {},
   "outputs": [],
   "source": [
    "# create year (from dt)\n",
    "df2['year'] = pd.to_datetime(df2['Date']).dt.year"
   ]
  },
  {
   "cell_type": "code",
   "execution_count": 117,
   "metadata": {},
   "outputs": [],
   "source": [
    "# create week of year\n",
    "df2['YearWeek'] = pd.to_datetime(df2['Date']).dt.isocalendar().week"
   ]
  },
  {
   "cell_type": "code",
   "execution_count": 118,
   "metadata": {},
   "outputs": [],
   "source": [
    "# calculate provincial dew point\n",
    "def dew_point(RH, Temp):\n",
    "    a = Temp\n",
    "    b = ((100-RH)/5)\n",
    "    DP = a-b\n",
    "    return DP\n",
    "\n",
    "df2['AvgDP'] = dew_point(df2['AvgRH'], df2['AvgTemp'])"
   ]
  },
  {
   "cell_type": "code",
   "execution_count": 6,
   "metadata": {},
   "outputs": [],
   "source": [
    "# encode location"
   ]
  },
  {
   "cell_type": "code",
   "execution_count": 119,
   "metadata": {},
   "outputs": [
    {
     "data": {
      "image/png": "[encoded data removed]",
      "text/plain": [
       "<Figure size 432x288 with 1 Axes>"
      ]
     },
     "metadata": {
      "needs_background": "light"
     },
     "output_type": "display_data"
    }
   ],
   "source": [
    "# look at target - log transform?\n",
    "plt.hist(df2.SsMean, bins=30)\n",
    "plt.show()"
   ]
  },
  {
   "cell_type": "code",
   "execution_count": 120,
   "metadata": {},
   "outputs": [
    {
     "data": {
      "text/plain": [
       "22112.055"
      ]
     },
     "execution_count": 120,
     "metadata": {},
     "output_type": "execute_result"
    }
   ],
   "source": [
    "np.max(df2.SsMean)"
   ]
  },
  {
   "cell_type": "code",
   "execution_count": 269,
   "metadata": {},
   "outputs": [],
   "source": [
    "# add +1 to deal with 0s\n",
    "df2['logSsMean'] = np.log(df2.SsMean + 1)"
   ]
  },
  {
   "cell_type": "code",
   "execution_count": 270,
   "metadata": {},
   "outputs": [
    {
     "data": {
      "image/png": "[encoded data removed]",
      "text/plain": [
       "<Figure size 432x288 with 1 Axes>"
      ]
     },
     "metadata": {
      "needs_background": "light"
     },
     "output_type": "display_data"
    }
   ],
   "source": [
    "plt.hist(df2.logSsMean, bins=30)\n",
    "plt.show()"
   ]
  },
  {
   "cell_type": "code",
   "execution_count": 106,
   "metadata": {},
   "outputs": [],
   "source": [
    "# both year and location matter, sooooo averages have to be calculated for all of these separately"
   ]
  },
  {
   "cell_type": "code",
   "execution_count": 271,
   "metadata": {},
   "outputs": [],
   "source": [
    "# create rolling average function\n",
    "\n",
    "def rolling(data, col):\n",
    "    # -1 day data\n",
    "    name1 = col + '_1'\n",
    "    # shift by 1\n",
    "    lag1 = data[col].shift(1)\n",
    "    # assign to column  \n",
    "    data[name1] = lag1\n",
    "    \n",
    "    # -3 day mean\n",
    "    name3 = col + '_3'\n",
    "    # assign mean to column\n",
    "    window3 = lag1.rolling(window=3).mean()\n",
    "    data[name3] = window3\n",
    "    \n",
    "    # 7 day rolling mean leads to a lot of lost values\n",
    "    # -7 day mean\n",
    "    name7 = col + '_7'\n",
    "    # assign mean to column\n",
    "    window7 = lag1.rolling(window=7).mean()\n",
    "    data[name7] = window7\n",
    "    \n",
    "    # fill NaN's with june mean info so that we can keep as much data as possible\n",
    "    data[name1] = data[name1].fillna(value=data.iloc[1:7][name1].mean())\n",
    "    data[name3] = data[name3].fillna(value=data.iloc[6:10][name3].mean())\n",
    "    data[name7] = data[name7].fillna(value=data.iloc[13:20][name7].mean())\n",
    "    \n",
    "    # return new dataframe\n",
    "    return data"
   ]
  },
  {
   "cell_type": "code",
   "execution_count": 272,
   "metadata": {},
   "outputs": [],
   "source": [
    "# create dfs for each location and year \n",
    "# (don't actually need to do year, because location names do not overlap b/w years)\n",
    "locations = df2['Location'].unique().tolist()\n",
    "\n",
    "dfa = df2.loc[df2['Location'] == locations[0]].copy()\n",
    "dfb = df2.loc[df2['Location'] == locations[1]].copy()\n",
    "dfc = df2.loc[df2['Location'] == locations[2]].copy()\n",
    "dfd = df2.loc[df2['Location'] == locations[3]].copy()\n",
    "dfe = df2.loc[df2['Location'] == locations[4]].copy()\n",
    "dff = df2.loc[df2['Location'] == locations[5]].copy()\n",
    "dfg = df2.loc[df2['Location'] == locations[6]].copy()\n",
    "dfh = df2.loc[df2['Location'] == locations[7]].copy()\n",
    "dfi = df2.loc[df2['Location'] == locations[8]].copy()"
   ]
  },
  {
   "cell_type": "code",
   "execution_count": 273,
   "metadata": {},
   "outputs": [],
   "source": [
    "# rolling mean temp\n",
    "df_list = [dfa, dfb, dfc, dfd, dfe, dff, dfg, dfh, dfi]\n",
    "\n",
    "for frame in df_list:\n",
    "    frame = rolling(frame, 'AvgTemp')"
   ]
  },
  {
   "cell_type": "code",
   "execution_count": 274,
   "metadata": {},
   "outputs": [],
   "source": [
    "# rolling mean humidity\n",
    "df_list = [dfa, dfb, dfc, dfd, dfe, dff, dfg, dfh, dfi]\n",
    "\n",
    "for frame in df_list:\n",
    "    frame = rolling(frame, 'AvgRH')"
   ]
  },
  {
   "cell_type": "code",
   "execution_count": 275,
   "metadata": {},
   "outputs": [],
   "source": [
    "# rolling mean DP\n",
    "df_list = [dfa, dfb, dfc, dfd, dfe, dff, dfg, dfh, dfi]\n",
    "\n",
    "for frame in df_list:\n",
    "    frame = rolling(frame, 'AvgDP')"
   ]
  },
  {
   "cell_type": "code",
   "execution_count": 276,
   "metadata": {},
   "outputs": [],
   "source": [
    "# rolling total rainfall\n",
    "df_list = [dfa, dfb, dfc, dfd, dfe, dff, dfg, dfh, dfi]\n",
    "\n",
    "for frame in df_list:\n",
    "    frame = rolling(frame, 'Precip')"
   ]
  },
  {
   "cell_type": "code",
   "execution_count": 277,
   "metadata": {},
   "outputs": [],
   "source": [
    "# rolling max temp\n",
    "df_list = [dfa, dfb, dfc, dfd, dfe, dff, dfg, dfh, dfi]\n",
    "\n",
    "for frame in df_list:\n",
    "    frame = rolling(frame, 'MaxTemp')"
   ]
  },
  {
   "cell_type": "code",
   "execution_count": 278,
   "metadata": {},
   "outputs": [],
   "source": [
    "# rolling min temp\n",
    "df_list = [dfa, dfb, dfc, dfd, dfe, dff, dfg, dfh, dfi]\n",
    "\n",
    "for frame in df_list:\n",
    "    frame = rolling(frame, 'MinTemp')"
   ]
  },
  {
   "cell_type": "code",
   "execution_count": 279,
   "metadata": {},
   "outputs": [],
   "source": [
    "#? Harvest Season (Y/N)"
   ]
  },
  {
   "cell_type": "code",
   "execution_count": 280,
   "metadata": {},
   "outputs": [],
   "source": [
    "# rolling spore count\n",
    "df_list = [dfa, dfb, dfc, dfd, dfe, dff, dfg, dfh, dfi]\n",
    "\n",
    "for frame in df_list:\n",
    "    frame = rolling(frame, 'SsMean')"
   ]
  },
  {
   "cell_type": "code",
   "execution_count": 281,
   "metadata": {},
   "outputs": [],
   "source": [
    "# for precip to 3 day total\n",
    "def precip_3day(data):\n",
    "    # -1 day data\n",
    "    name = 'precip_3dTotal'   \n",
    "    # -3 day mean\n",
    "    width = 3\n",
    "    # shift by 3\n",
    "    lag = data['Precip'].shift(1)\n",
    "    # assign mean to column\n",
    "    window3 = lag.rolling(window=width).sum()\n",
    "    data[name] = window3\n",
    "    \n",
    "    # fill NaN's with june mean info so that we can keep as much data as possible\n",
    "    data[name] = data[name].fillna(value=data.iloc[6:10][name].mean())\n",
    "        \n",
    "    # return new dataframe\n",
    "    return data"
   ]
  },
  {
   "cell_type": "code",
   "execution_count": 282,
   "metadata": {},
   "outputs": [],
   "source": [
    "df_list = [dfa, dfb, dfc, dfd, dfe, dff, dfg, dfh, dfi]\n",
    "\n",
    "for frame in df_list:\n",
    "    frame = precip_3day(frame)"
   ]
  },
  {
   "cell_type": "code",
   "execution_count": 184,
   "metadata": {
    "collapsed": true,
    "jupyter": {
     "outputs_hidden": true
    }
   },
   "outputs": [
    {
     "data": {
      "text/html": [
       "<div>\n",
       "<style scoped>\n",
       "    .dataframe tbody tr th:only-of-type {\n",
       "        vertical-align: middle;\n",
       "    }\n",
       "\n",
       "    .dataframe tbody tr th {\n",
       "        vertical-align: top;\n",
       "    }\n",
       "\n",
       "    .dataframe thead th {\n",
       "        text-align: right;\n",
       "    }\n",
       "</style>\n",
       "<table border=\"1\" class=\"dataframe\">\n",
       "  <thead>\n",
       "    <tr style=\"text-align: right;\">\n",
       "      <th></th>\n",
       "      <th>Location</th>\n",
       "      <th>JDay</th>\n",
       "      <th>Date</th>\n",
       "      <th>SsMean</th>\n",
       "      <th>MinTemp</th>\n",
       "      <th>MaxTemp</th>\n",
       "      <th>AvgTemp</th>\n",
       "      <th>AvgRH</th>\n",
       "      <th>Precip</th>\n",
       "      <th>AvgWindSpeed</th>\n",
       "      <th>...</th>\n",
       "      <th>MaxTemp_1</th>\n",
       "      <th>MaxTemp_3</th>\n",
       "      <th>MaxTemp_7</th>\n",
       "      <th>MinTemp_1</th>\n",
       "      <th>MinTemp_3</th>\n",
       "      <th>MinTemp_7</th>\n",
       "      <th>SsMean_1</th>\n",
       "      <th>SsMean_3</th>\n",
       "      <th>SsMean_7</th>\n",
       "      <th>precip_3dTotal</th>\n",
       "    </tr>\n",
       "  </thead>\n",
       "  <tbody>\n",
       "    <tr>\n",
       "      <th>0</th>\n",
       "      <td>Cranford</td>\n",
       "      <td>164</td>\n",
       "      <td>2018-06-13</td>\n",
       "      <td>295.035</td>\n",
       "      <td>7.7</td>\n",
       "      <td>26.5</td>\n",
       "      <td>17.9</td>\n",
       "      <td>38.4</td>\n",
       "      <td>0.0</td>\n",
       "      <td>22.6</td>\n",
       "      <td>...</td>\n",
       "      <td>23.433333</td>\n",
       "      <td>23.410256</td>\n",
       "      <td>23.684127</td>\n",
       "      <td>9.526667</td>\n",
       "      <td>9.876923</td>\n",
       "      <td>10.473016</td>\n",
       "      <td>191.516333</td>\n",
       "      <td>193.281538</td>\n",
       "      <td>206.847937</td>\n",
       "      <td>4.938462</td>\n",
       "    </tr>\n",
       "    <tr>\n",
       "      <th>1</th>\n",
       "      <td>Cranford</td>\n",
       "      <td>165</td>\n",
       "      <td>2018-06-14</td>\n",
       "      <td>106.900</td>\n",
       "      <td>4.6</td>\n",
       "      <td>22.0</td>\n",
       "      <td>13.1</td>\n",
       "      <td>65.9</td>\n",
       "      <td>1.2</td>\n",
       "      <td>19.1</td>\n",
       "      <td>...</td>\n",
       "      <td>26.500000</td>\n",
       "      <td>23.410256</td>\n",
       "      <td>23.684127</td>\n",
       "      <td>7.700000</td>\n",
       "      <td>9.876923</td>\n",
       "      <td>10.473016</td>\n",
       "      <td>295.035000</td>\n",
       "      <td>193.281538</td>\n",
       "      <td>206.847937</td>\n",
       "      <td>4.938462</td>\n",
       "    </tr>\n",
       "    <tr>\n",
       "      <th>2</th>\n",
       "      <td>Cranford</td>\n",
       "      <td>166</td>\n",
       "      <td>2018-06-15</td>\n",
       "      <td>164.775</td>\n",
       "      <td>7.2</td>\n",
       "      <td>22.0</td>\n",
       "      <td>13.2</td>\n",
       "      <td>77.8</td>\n",
       "      <td>7.2</td>\n",
       "      <td>11.1</td>\n",
       "      <td>...</td>\n",
       "      <td>22.000000</td>\n",
       "      <td>23.410256</td>\n",
       "      <td>23.684127</td>\n",
       "      <td>4.600000</td>\n",
       "      <td>9.876923</td>\n",
       "      <td>10.473016</td>\n",
       "      <td>106.900000</td>\n",
       "      <td>193.281538</td>\n",
       "      <td>206.847937</td>\n",
       "      <td>4.938462</td>\n",
       "    </tr>\n",
       "    <tr>\n",
       "      <th>3</th>\n",
       "      <td>Cranford</td>\n",
       "      <td>167</td>\n",
       "      <td>2018-06-16</td>\n",
       "      <td>138.380</td>\n",
       "      <td>11.2</td>\n",
       "      <td>18.1</td>\n",
       "      <td>12.5</td>\n",
       "      <td>89.3</td>\n",
       "      <td>9.8</td>\n",
       "      <td>16.5</td>\n",
       "      <td>...</td>\n",
       "      <td>22.000000</td>\n",
       "      <td>23.500000</td>\n",
       "      <td>23.684127</td>\n",
       "      <td>7.200000</td>\n",
       "      <td>6.500000</td>\n",
       "      <td>10.473016</td>\n",
       "      <td>164.775000</td>\n",
       "      <td>188.903333</td>\n",
       "      <td>206.847937</td>\n",
       "      <td>8.400000</td>\n",
       "    </tr>\n",
       "    <tr>\n",
       "      <th>4</th>\n",
       "      <td>Cranford</td>\n",
       "      <td>168</td>\n",
       "      <td>2018-06-17</td>\n",
       "      <td>154.545</td>\n",
       "      <td>7.7</td>\n",
       "      <td>21.8</td>\n",
       "      <td>15.8</td>\n",
       "      <td>67.1</td>\n",
       "      <td>0.0</td>\n",
       "      <td>7.8</td>\n",
       "      <td>...</td>\n",
       "      <td>18.100000</td>\n",
       "      <td>20.700000</td>\n",
       "      <td>23.684127</td>\n",
       "      <td>11.200000</td>\n",
       "      <td>7.666667</td>\n",
       "      <td>10.473016</td>\n",
       "      <td>138.380000</td>\n",
       "      <td>136.685000</td>\n",
       "      <td>206.847937</td>\n",
       "      <td>18.200000</td>\n",
       "    </tr>\n",
       "    <tr>\n",
       "      <th>5</th>\n",
       "      <td>Cranford</td>\n",
       "      <td>169</td>\n",
       "      <td>2018-06-18</td>\n",
       "      <td>149.135</td>\n",
       "      <td>12.2</td>\n",
       "      <td>18.3</td>\n",
       "      <td>15.0</td>\n",
       "      <td>84.4</td>\n",
       "      <td>2.5</td>\n",
       "      <td>8.2</td>\n",
       "      <td>...</td>\n",
       "      <td>21.800000</td>\n",
       "      <td>20.633333</td>\n",
       "      <td>23.684127</td>\n",
       "      <td>7.700000</td>\n",
       "      <td>8.700000</td>\n",
       "      <td>10.473016</td>\n",
       "      <td>154.545000</td>\n",
       "      <td>152.566667</td>\n",
       "      <td>206.847937</td>\n",
       "      <td>17.000000</td>\n",
       "    </tr>\n",
       "    <tr>\n",
       "      <th>6</th>\n",
       "      <td>Cranford</td>\n",
       "      <td>170</td>\n",
       "      <td>2018-06-19</td>\n",
       "      <td>498.310</td>\n",
       "      <td>12.1</td>\n",
       "      <td>23.1</td>\n",
       "      <td>17.2</td>\n",
       "      <td>72.0</td>\n",
       "      <td>0.0</td>\n",
       "      <td>9.4</td>\n",
       "      <td>...</td>\n",
       "      <td>18.300000</td>\n",
       "      <td>19.400000</td>\n",
       "      <td>23.684127</td>\n",
       "      <td>12.200000</td>\n",
       "      <td>10.366667</td>\n",
       "      <td>10.473016</td>\n",
       "      <td>149.135000</td>\n",
       "      <td>147.353333</td>\n",
       "      <td>206.847937</td>\n",
       "      <td>12.300000</td>\n",
       "    </tr>\n",
       "    <tr>\n",
       "      <th>7</th>\n",
       "      <td>Cranford</td>\n",
       "      <td>171</td>\n",
       "      <td>2018-06-20</td>\n",
       "      <td>56.585</td>\n",
       "      <td>8.8</td>\n",
       "      <td>24.9</td>\n",
       "      <td>17.8</td>\n",
       "      <td>71.8</td>\n",
       "      <td>0.0</td>\n",
       "      <td>14.2</td>\n",
       "      <td>...</td>\n",
       "      <td>23.100000</td>\n",
       "      <td>21.066667</td>\n",
       "      <td>21.685714</td>\n",
       "      <td>12.100000</td>\n",
       "      <td>10.666667</td>\n",
       "      <td>8.957143</td>\n",
       "      <td>498.310000</td>\n",
       "      <td>267.330000</td>\n",
       "      <td>215.297143</td>\n",
       "      <td>2.500000</td>\n",
       "    </tr>\n",
       "    <tr>\n",
       "      <th>8</th>\n",
       "      <td>Cranford</td>\n",
       "      <td>172</td>\n",
       "      <td>2018-06-21</td>\n",
       "      <td>118.885</td>\n",
       "      <td>13.7</td>\n",
       "      <td>29.2</td>\n",
       "      <td>20.6</td>\n",
       "      <td>64.3</td>\n",
       "      <td>0.0</td>\n",
       "      <td>14.0</td>\n",
       "      <td>...</td>\n",
       "      <td>24.900000</td>\n",
       "      <td>22.100000</td>\n",
       "      <td>21.457143</td>\n",
       "      <td>8.800000</td>\n",
       "      <td>11.033333</td>\n",
       "      <td>9.114286</td>\n",
       "      <td>56.585000</td>\n",
       "      <td>234.676667</td>\n",
       "      <td>181.232857</td>\n",
       "      <td>2.500000</td>\n",
       "    </tr>\n",
       "    <tr>\n",
       "      <th>9</th>\n",
       "      <td>Cranford</td>\n",
       "      <td>173</td>\n",
       "      <td>2018-06-22</td>\n",
       "      <td>530.525</td>\n",
       "      <td>12.2</td>\n",
       "      <td>27.4</td>\n",
       "      <td>19.7</td>\n",
       "      <td>62.3</td>\n",
       "      <td>0.0</td>\n",
       "      <td>20.1</td>\n",
       "      <td>...</td>\n",
       "      <td>29.200000</td>\n",
       "      <td>25.733333</td>\n",
       "      <td>22.485714</td>\n",
       "      <td>13.700000</td>\n",
       "      <td>11.533333</td>\n",
       "      <td>10.414286</td>\n",
       "      <td>118.885000</td>\n",
       "      <td>224.593333</td>\n",
       "      <td>182.945000</td>\n",
       "      <td>0.000000</td>\n",
       "    </tr>\n",
       "    <tr>\n",
       "      <th>10</th>\n",
       "      <td>Cranford</td>\n",
       "      <td>174</td>\n",
       "      <td>2018-06-23</td>\n",
       "      <td>139.660</td>\n",
       "      <td>12.0</td>\n",
       "      <td>22.2</td>\n",
       "      <td>17.2</td>\n",
       "      <td>80.3</td>\n",
       "      <td>1.1</td>\n",
       "      <td>15.7</td>\n",
       "      <td>...</td>\n",
       "      <td>27.400000</td>\n",
       "      <td>27.166667</td>\n",
       "      <td>23.257143</td>\n",
       "      <td>12.200000</td>\n",
       "      <td>11.566667</td>\n",
       "      <td>11.128571</td>\n",
       "      <td>530.525000</td>\n",
       "      <td>235.331667</td>\n",
       "      <td>235.195000</td>\n",
       "      <td>0.000000</td>\n",
       "    </tr>\n",
       "    <tr>\n",
       "      <th>11</th>\n",
       "      <td>Cranford</td>\n",
       "      <td>175</td>\n",
       "      <td>2018-06-24</td>\n",
       "      <td>32.550</td>\n",
       "      <td>12.4</td>\n",
       "      <td>27.1</td>\n",
       "      <td>20.2</td>\n",
       "      <td>73.2</td>\n",
       "      <td>0.0</td>\n",
       "      <td>9.3</td>\n",
       "      <td>...</td>\n",
       "      <td>22.200000</td>\n",
       "      <td>26.266667</td>\n",
       "      <td>23.842857</td>\n",
       "      <td>12.000000</td>\n",
       "      <td>12.633333</td>\n",
       "      <td>11.242857</td>\n",
       "      <td>139.660000</td>\n",
       "      <td>263.023333</td>\n",
       "      <td>235.377857</td>\n",
       "      <td>1.100000</td>\n",
       "    </tr>\n",
       "    <tr>\n",
       "      <th>14</th>\n",
       "      <td>Cranford</td>\n",
       "      <td>178</td>\n",
       "      <td>2018-06-27</td>\n",
       "      <td>165.340</td>\n",
       "      <td>4.9</td>\n",
       "      <td>24.8</td>\n",
       "      <td>16.1</td>\n",
       "      <td>51.4</td>\n",
       "      <td>0.0</td>\n",
       "      <td>18.2</td>\n",
       "      <td>...</td>\n",
       "      <td>27.100000</td>\n",
       "      <td>25.566667</td>\n",
       "      <td>24.600000</td>\n",
       "      <td>12.400000</td>\n",
       "      <td>12.200000</td>\n",
       "      <td>11.914286</td>\n",
       "      <td>32.550000</td>\n",
       "      <td>234.245000</td>\n",
       "      <td>217.950000</td>\n",
       "      <td>1.100000</td>\n",
       "    </tr>\n",
       "    <tr>\n",
       "      <th>15</th>\n",
       "      <td>Cranford</td>\n",
       "      <td>179</td>\n",
       "      <td>2018-06-28</td>\n",
       "      <td>260.955</td>\n",
       "      <td>8.9</td>\n",
       "      <td>21.7</td>\n",
       "      <td>16.1</td>\n",
       "      <td>57.7</td>\n",
       "      <td>0.0</td>\n",
       "      <td>13.3</td>\n",
       "      <td>...</td>\n",
       "      <td>24.800000</td>\n",
       "      <td>24.700000</td>\n",
       "      <td>25.528571</td>\n",
       "      <td>4.900000</td>\n",
       "      <td>9.766667</td>\n",
       "      <td>10.871429</td>\n",
       "      <td>165.340000</td>\n",
       "      <td>112.516667</td>\n",
       "      <td>220.265000</td>\n",
       "      <td>1.100000</td>\n",
       "    </tr>\n",
       "    <tr>\n",
       "      <th>16</th>\n",
       "      <td>Cranford</td>\n",
       "      <td>180</td>\n",
       "      <td>2018-06-29</td>\n",
       "      <td>61.165</td>\n",
       "      <td>7.3</td>\n",
       "      <td>22.4</td>\n",
       "      <td>15.5</td>\n",
       "      <td>64.8</td>\n",
       "      <td>0.0</td>\n",
       "      <td>15.0</td>\n",
       "      <td>...</td>\n",
       "      <td>21.700000</td>\n",
       "      <td>24.533333</td>\n",
       "      <td>25.328571</td>\n",
       "      <td>8.900000</td>\n",
       "      <td>8.733333</td>\n",
       "      <td>10.414286</td>\n",
       "      <td>260.955000</td>\n",
       "      <td>152.948333</td>\n",
       "      <td>186.357143</td>\n",
       "      <td>0.000000</td>\n",
       "    </tr>\n",
       "  </tbody>\n",
       "</table>\n",
       "<p>15 rows × 37 columns</p>\n",
       "</div>"
      ],
      "text/plain": [
       "    Location  JDay       Date   SsMean  MinTemp  MaxTemp  AvgTemp  AvgRH  \\\n",
       "0   Cranford   164 2018-06-13  295.035      7.7     26.5     17.9   38.4   \n",
       "1   Cranford   165 2018-06-14  106.900      4.6     22.0     13.1   65.9   \n",
       "2   Cranford   166 2018-06-15  164.775      7.2     22.0     13.2   77.8   \n",
       "3   Cranford   167 2018-06-16  138.380     11.2     18.1     12.5   89.3   \n",
       "4   Cranford   168 2018-06-17  154.545      7.7     21.8     15.8   67.1   \n",
       "5   Cranford   169 2018-06-18  149.135     12.2     18.3     15.0   84.4   \n",
       "6   Cranford   170 2018-06-19  498.310     12.1     23.1     17.2   72.0   \n",
       "7   Cranford   171 2018-06-20   56.585      8.8     24.9     17.8   71.8   \n",
       "8   Cranford   172 2018-06-21  118.885     13.7     29.2     20.6   64.3   \n",
       "9   Cranford   173 2018-06-22  530.525     12.2     27.4     19.7   62.3   \n",
       "10  Cranford   174 2018-06-23  139.660     12.0     22.2     17.2   80.3   \n",
       "11  Cranford   175 2018-06-24   32.550     12.4     27.1     20.2   73.2   \n",
       "14  Cranford   178 2018-06-27  165.340      4.9     24.8     16.1   51.4   \n",
       "15  Cranford   179 2018-06-28  260.955      8.9     21.7     16.1   57.7   \n",
       "16  Cranford   180 2018-06-29   61.165      7.3     22.4     15.5   64.8   \n",
       "\n",
       "    Precip  AvgWindSpeed  ...  MaxTemp_1  MaxTemp_3  MaxTemp_7  MinTemp_1  \\\n",
       "0      0.0          22.6  ...  23.433333  23.410256  23.684127   9.526667   \n",
       "1      1.2          19.1  ...  26.500000  23.410256  23.684127   7.700000   \n",
       "2      7.2          11.1  ...  22.000000  23.410256  23.684127   4.600000   \n",
       "3      9.8          16.5  ...  22.000000  23.500000  23.684127   7.200000   \n",
       "4      0.0           7.8  ...  18.100000  20.700000  23.684127  11.200000   \n",
       "5      2.5           8.2  ...  21.800000  20.633333  23.684127   7.700000   \n",
       "6      0.0           9.4  ...  18.300000  19.400000  23.684127  12.200000   \n",
       "7      0.0          14.2  ...  23.100000  21.066667  21.685714  12.100000   \n",
       "8      0.0          14.0  ...  24.900000  22.100000  21.457143   8.800000   \n",
       "9      0.0          20.1  ...  29.200000  25.733333  22.485714  13.700000   \n",
       "10     1.1          15.7  ...  27.400000  27.166667  23.257143  12.200000   \n",
       "11     0.0           9.3  ...  22.200000  26.266667  23.842857  12.000000   \n",
       "14     0.0          18.2  ...  27.100000  25.566667  24.600000  12.400000   \n",
       "15     0.0          13.3  ...  24.800000  24.700000  25.528571   4.900000   \n",
       "16     0.0          15.0  ...  21.700000  24.533333  25.328571   8.900000   \n",
       "\n",
       "    MinTemp_3  MinTemp_7    SsMean_1    SsMean_3    SsMean_7  precip_3dTotal  \n",
       "0    9.876923  10.473016  191.516333  193.281538  206.847937        4.938462  \n",
       "1    9.876923  10.473016  295.035000  193.281538  206.847937        4.938462  \n",
       "2    9.876923  10.473016  106.900000  193.281538  206.847937        4.938462  \n",
       "3    6.500000  10.473016  164.775000  188.903333  206.847937        8.400000  \n",
       "4    7.666667  10.473016  138.380000  136.685000  206.847937       18.200000  \n",
       "5    8.700000  10.473016  154.545000  152.566667  206.847937       17.000000  \n",
       "6   10.366667  10.473016  149.135000  147.353333  206.847937       12.300000  \n",
       "7   10.666667   8.957143  498.310000  267.330000  215.297143        2.500000  \n",
       "8   11.033333   9.114286   56.585000  234.676667  181.232857        2.500000  \n",
       "9   11.533333  10.414286  118.885000  224.593333  182.945000        0.000000  \n",
       "10  11.566667  11.128571  530.525000  235.331667  235.195000        0.000000  \n",
       "11  12.633333  11.242857  139.660000  263.023333  235.377857        1.100000  \n",
       "14  12.200000  11.914286   32.550000  234.245000  217.950000        1.100000  \n",
       "15   9.766667  10.871429  165.340000  112.516667  220.265000        1.100000  \n",
       "16   8.733333  10.414286  260.955000  152.948333  186.357143        0.000000  \n",
       "\n",
       "[15 rows x 37 columns]"
      ]
     },
     "execution_count": 184,
     "metadata": {},
     "output_type": "execute_result"
    }
   ],
   "source": [
    "dfa.head(15)"
   ]
  },
  {
   "cell_type": "code",
   "execution_count": 283,
   "metadata": {},
   "outputs": [],
   "source": [
    "# join dfs together\n",
    "df_list = [dfa, dfb, dfc, dfd, dfe, dff, dfg, dfh, dfi]\n",
    "df3 = pd.concat(df_list, axis=0)"
   ]
  },
  {
   "cell_type": "code",
   "execution_count": 284,
   "metadata": {},
   "outputs": [
    {
     "data": {
      "text/plain": [
       "(545, 37)"
      ]
     },
     "execution_count": 284,
     "metadata": {},
     "output_type": "execute_result"
    }
   ],
   "source": [
    "df3.shape"
   ]
  },
  {
   "cell_type": "code",
   "execution_count": 285,
   "metadata": {},
   "outputs": [
    {
     "data": {
      "text/plain": [
       "Location     0\n",
       "AvgRH_3      0\n",
       "AvgDP_1      0\n",
       "AvgDP_3      0\n",
       "AvgDP_7      0\n",
       "Precip_1     0\n",
       "Precip_3     0\n",
       "Precip_7     0\n",
       "MaxTemp_1    0\n",
       "MaxTemp_3    0\n",
       "dtype: int64"
      ]
     },
     "execution_count": 285,
     "metadata": {},
     "output_type": "execute_result"
    }
   ],
   "source": [
    "df3.isnull().sum().sort_values(ascending=False).head(10)"
   ]
  },
  {
   "cell_type": "code",
   "execution_count": 286,
   "metadata": {},
   "outputs": [],
   "source": [
    "df3.to_csv('FE_data_18-19.csv')"
   ]
  },
  {
   "cell_type": "code",
   "execution_count": null,
   "metadata": {},
   "outputs": [],
   "source": []
  }
 ],
 "metadata": {
  "kernelspec": {
   "display_name": "lighthouse",
   "language": "python",
   "name": "lighthouse"
  },
  "language_info": {
   "codemirror_mode": {
    "name": "ipython",
    "version": 3
   },
   "file_extension": ".py",
   "mimetype": "text/x-python",
   "name": "python",
   "nbconvert_exporter": "python",
   "pygments_lexer": "ipython3",
   "version": "3.8.2"
  }
 },
 "nbformat": 4,
 "nbformat_minor": 4
}
