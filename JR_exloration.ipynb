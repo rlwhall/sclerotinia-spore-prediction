{
 "cells": [
  {
   "cell_type": "code",
   "execution_count": 1,
   "metadata": {},
   "outputs": [],
   "source": [
    "import numpy as np\n",
    "import pandas as pd\n",
    "import scipy.stats\n",
    "\n",
    "import matplotlib.pyplot as plt\n",
    "%matplotlib inline\n",
    "\n",
    "from sklearn.model_selection import train_test_split, cross_val_score, cross_validate\n",
    "from sklearn.model_selection import RandomizedSearchCV, GridSearchCV\n",
    "from sklearn.preprocessing import normalize, scale, Normalizer, StandardScaler, OrdinalEncoder, OneHotEncoder, FunctionTransformer\n",
    "from sklearn.linear_model import LogisticRegression, LinearRegression, Ridge, Lasso, LassoCV\n",
    "from sklearn.ensemble import RandomForestRegressor, RandomForestClassifier, VotingRegressor, StackingRegressor\n",
    "\n",
    "from sklearn.dummy import DummyRegressor, DummyClassifier\n",
    "from sklearn.experimental import enable_iterative_imputer\n",
    "from sklearn.impute import IterativeImputer, SimpleImputer\n",
    "from sklearn.compose import ColumnTransformer\n",
    "from sklearn.pipeline import Pipeline\n",
    "\n",
    "from sklearn import metrics\n",
    "from sklearn.metrics import r2_score, mean_squared_error\n",
    "from sklearn.metrics import precision_score, f1_score, accuracy_score, roc_curve, roc_auc_score, make_scorer\n",
    "from sklearn.metrics import classification_report, confusion_matrix, ConfusionMatrixDisplay\n",
    "from sklearn.metrics import plot_confusion_matrix\n",
    "\n",
    "from sklearn.svm import SVR, SVC\n",
    "from sklearn.datasets import make_blobs\n",
    "from sklearn.tree import DecisionTreeRegressor, export_graphviz\n",
    "from sklearn.metrics import roc_curve, auc, roc_auc_score\n",
    "\n",
    "from matplotlib import cm\n",
    "from matplotlib.colors import ListedColormap, LinearSegmentedColormap\n",
    "\n",
    "from statistics import mean\n",
    "\n"
   ]
  },
  {
   "cell_type": "code",
   "execution_count": 2,
   "metadata": {},
   "outputs": [],
   "source": [
    "# load in my data:\n",
    "data = pd.read_csv(\"2018-19 asco and weather data for modeling.csv\", index_col = 0)"
   ]
  },
  {
   "cell_type": "code",
   "execution_count": 3,
   "metadata": {},
   "outputs": [
    {
     "data": {
      "text/html": [
       "<div>\n",
       "<style scoped>\n",
       "    .dataframe tbody tr th:only-of-type {\n",
       "        vertical-align: middle;\n",
       "    }\n",
       "\n",
       "    .dataframe tbody tr th {\n",
       "        vertical-align: top;\n",
       "    }\n",
       "\n",
       "    .dataframe thead th {\n",
       "        text-align: right;\n",
       "    }\n",
       "</style>\n",
       "<table border=\"1\" class=\"dataframe\">\n",
       "  <thead>\n",
       "    <tr style=\"text-align: right;\">\n",
       "      <th></th>\n",
       "      <th>SamplerNo</th>\n",
       "      <th>Location.x</th>\n",
       "      <th>SamplerType</th>\n",
       "      <th>qPCR_Plate</th>\n",
       "      <th>Date</th>\n",
       "      <th>SampleID</th>\n",
       "      <th>Censored</th>\n",
       "      <th>Water.</th>\n",
       "      <th>Location.y</th>\n",
       "    </tr>\n",
       "  </thead>\n",
       "  <tbody>\n",
       "    <tr>\n",
       "      <th>1</th>\n",
       "      <td>01</td>\n",
       "      <td>1917</td>\n",
       "      <td>Burkard</td>\n",
       "      <td>Plate 09</td>\n",
       "      <td>2019-07-08</td>\n",
       "      <td>T1-189</td>\n",
       "      <td>False</td>\n",
       "      <td>No</td>\n",
       "      <td>NaN</td>\n",
       "    </tr>\n",
       "    <tr>\n",
       "      <th>2</th>\n",
       "      <td>01</td>\n",
       "      <td>1917</td>\n",
       "      <td>Burkard</td>\n",
       "      <td>Plate 09</td>\n",
       "      <td>2019-07-09</td>\n",
       "      <td>T1-190</td>\n",
       "      <td>False</td>\n",
       "      <td>No</td>\n",
       "      <td>1917</td>\n",
       "    </tr>\n",
       "    <tr>\n",
       "      <th>3</th>\n",
       "      <td>01</td>\n",
       "      <td>1917</td>\n",
       "      <td>Burkard</td>\n",
       "      <td>Plate 09</td>\n",
       "      <td>2019-07-10</td>\n",
       "      <td>T1-191</td>\n",
       "      <td>True</td>\n",
       "      <td>Yes</td>\n",
       "      <td>1917</td>\n",
       "    </tr>\n",
       "    <tr>\n",
       "      <th>4</th>\n",
       "      <td>01</td>\n",
       "      <td>1917</td>\n",
       "      <td>Burkard</td>\n",
       "      <td>Plate 09</td>\n",
       "      <td>2019-07-11</td>\n",
       "      <td>T1-192</td>\n",
       "      <td>False</td>\n",
       "      <td>No</td>\n",
       "      <td>1917</td>\n",
       "    </tr>\n",
       "    <tr>\n",
       "      <th>5</th>\n",
       "      <td>01</td>\n",
       "      <td>1917</td>\n",
       "      <td>Burkard</td>\n",
       "      <td>Plate 01</td>\n",
       "      <td>2019-07-12</td>\n",
       "      <td>T1-193</td>\n",
       "      <td>False</td>\n",
       "      <td>No</td>\n",
       "      <td>1917</td>\n",
       "    </tr>\n",
       "    <tr>\n",
       "      <th>...</th>\n",
       "      <td>...</td>\n",
       "      <td>...</td>\n",
       "      <td>...</td>\n",
       "      <td>...</td>\n",
       "      <td>...</td>\n",
       "      <td>...</td>\n",
       "      <td>...</td>\n",
       "      <td>...</td>\n",
       "      <td>...</td>\n",
       "    </tr>\n",
       "    <tr>\n",
       "      <th>564</th>\n",
       "      <td>Taber</td>\n",
       "      <td>Taber</td>\n",
       "      <td>Burkard</td>\n",
       "      <td>NaN</td>\n",
       "      <td>2018-08-24</td>\n",
       "      <td>NaN</td>\n",
       "      <td>NaN</td>\n",
       "      <td>NaN</td>\n",
       "      <td>Taber</td>\n",
       "    </tr>\n",
       "    <tr>\n",
       "      <th>565</th>\n",
       "      <td>Taber</td>\n",
       "      <td>Taber</td>\n",
       "      <td>Burkard</td>\n",
       "      <td>NaN</td>\n",
       "      <td>2018-08-25</td>\n",
       "      <td>NaN</td>\n",
       "      <td>NaN</td>\n",
       "      <td>NaN</td>\n",
       "      <td>Taber</td>\n",
       "    </tr>\n",
       "    <tr>\n",
       "      <th>566</th>\n",
       "      <td>Taber</td>\n",
       "      <td>Taber</td>\n",
       "      <td>Burkard</td>\n",
       "      <td>NaN</td>\n",
       "      <td>2018-08-26</td>\n",
       "      <td>NaN</td>\n",
       "      <td>NaN</td>\n",
       "      <td>NaN</td>\n",
       "      <td>Taber</td>\n",
       "    </tr>\n",
       "    <tr>\n",
       "      <th>567</th>\n",
       "      <td>Taber</td>\n",
       "      <td>Taber</td>\n",
       "      <td>Burkard</td>\n",
       "      <td>NaN</td>\n",
       "      <td>2018-08-27</td>\n",
       "      <td>NaN</td>\n",
       "      <td>NaN</td>\n",
       "      <td>NaN</td>\n",
       "      <td>Taber</td>\n",
       "    </tr>\n",
       "    <tr>\n",
       "      <th>568</th>\n",
       "      <td>Taber</td>\n",
       "      <td>Taber</td>\n",
       "      <td>Burkard</td>\n",
       "      <td>NaN</td>\n",
       "      <td>2018-08-28</td>\n",
       "      <td>NaN</td>\n",
       "      <td>NaN</td>\n",
       "      <td>NaN</td>\n",
       "      <td>Taber</td>\n",
       "    </tr>\n",
       "  </tbody>\n",
       "</table>\n",
       "<p>568 rows × 9 columns</p>\n",
       "</div>"
      ],
      "text/plain": [
       "    SamplerNo Location.x SamplerType qPCR_Plate        Date SampleID Censored  \\\n",
       "1          01       1917     Burkard   Plate 09  2019-07-08   T1-189    False   \n",
       "2          01       1917     Burkard   Plate 09  2019-07-09   T1-190    False   \n",
       "3          01       1917     Burkard   Plate 09  2019-07-10   T1-191     True   \n",
       "4          01       1917     Burkard   Plate 09  2019-07-11   T1-192    False   \n",
       "5          01       1917     Burkard   Plate 01  2019-07-12   T1-193    False   \n",
       "..        ...        ...         ...        ...         ...      ...      ...   \n",
       "564     Taber      Taber     Burkard        NaN  2018-08-24      NaN      NaN   \n",
       "565     Taber      Taber     Burkard        NaN  2018-08-25      NaN      NaN   \n",
       "566     Taber      Taber     Burkard        NaN  2018-08-26      NaN      NaN   \n",
       "567     Taber      Taber     Burkard        NaN  2018-08-27      NaN      NaN   \n",
       "568     Taber      Taber     Burkard        NaN  2018-08-28      NaN      NaN   \n",
       "\n",
       "    Water. Location.y  \n",
       "1       No        NaN  \n",
       "2       No       1917  \n",
       "3      Yes       1917  \n",
       "4       No       1917  \n",
       "5       No       1917  \n",
       "..     ...        ...  \n",
       "564    NaN      Taber  \n",
       "565    NaN      Taber  \n",
       "566    NaN      Taber  \n",
       "567    NaN      Taber  \n",
       "568    NaN      Taber  \n",
       "\n",
       "[568 rows x 9 columns]"
      ]
     },
     "execution_count": 3,
     "metadata": {},
     "output_type": "execute_result"
    }
   ],
   "source": [
    "data.select_dtypes('object')"
   ]
  },
  {
   "cell_type": "code",
   "execution_count": 7,
   "metadata": {},
   "outputs": [
    {
     "data": {
      "text/plain": [
       "(568, 98)"
      ]
     },
     "execution_count": 7,
     "metadata": {},
     "output_type": "execute_result"
    }
   ],
   "source": [
    "data.shape"
   ]
  },
  {
   "cell_type": "code",
   "execution_count": 8,
   "metadata": {},
   "outputs": [
    {
     "data": {
      "text/html": [
       "<div>\n",
       "<style scoped>\n",
       "    .dataframe tbody tr th:only-of-type {\n",
       "        vertical-align: middle;\n",
       "    }\n",
       "\n",
       "    .dataframe tbody tr th {\n",
       "        vertical-align: top;\n",
       "    }\n",
       "\n",
       "    .dataframe thead th {\n",
       "        text-align: right;\n",
       "    }\n",
       "</style>\n",
       "<table border=\"1\" class=\"dataframe\">\n",
       "  <thead>\n",
       "    <tr style=\"text-align: right;\">\n",
       "      <th></th>\n",
       "      <th>SamplerNo</th>\n",
       "      <th>Location.x</th>\n",
       "      <th>SamplerType</th>\n",
       "      <th>ExtractionGroup</th>\n",
       "      <th>qPCR_Plate</th>\n",
       "      <th>JDay</th>\n",
       "      <th>Date</th>\n",
       "      <th>SampleID</th>\n",
       "      <th>SsCtMean</th>\n",
       "      <th>SsCtSD</th>\n",
       "      <th>...</th>\n",
       "      <th>MinDP_1d</th>\n",
       "      <th>MeanSoilTemp</th>\n",
       "      <th>DiffMeanSoilT</th>\n",
       "      <th>MeanSoilT_1d</th>\n",
       "      <th>MaxSoilTemp</th>\n",
       "      <th>DiffMaxSoilT</th>\n",
       "      <th>MaxSoilT_1d</th>\n",
       "      <th>MinSoilTemp</th>\n",
       "      <th>DiffMinSoilT</th>\n",
       "      <th>MinSoilT_1d</th>\n",
       "    </tr>\n",
       "  </thead>\n",
       "  <tbody>\n",
       "    <tr>\n",
       "      <th>1</th>\n",
       "      <td>01</td>\n",
       "      <td>1917</td>\n",
       "      <td>Burkard</td>\n",
       "      <td>NaN</td>\n",
       "      <td>Plate 09</td>\n",
       "      <td>189</td>\n",
       "      <td>2019-07-08</td>\n",
       "      <td>T1-189</td>\n",
       "      <td>160.0</td>\n",
       "      <td>0.14</td>\n",
       "      <td>...</td>\n",
       "      <td>NaN</td>\n",
       "      <td>NaN</td>\n",
       "      <td>NaN</td>\n",
       "      <td>NaN</td>\n",
       "      <td>NaN</td>\n",
       "      <td>NaN</td>\n",
       "      <td>NaN</td>\n",
       "      <td>NaN</td>\n",
       "      <td>NaN</td>\n",
       "      <td>NaN</td>\n",
       "    </tr>\n",
       "    <tr>\n",
       "      <th>2</th>\n",
       "      <td>01</td>\n",
       "      <td>1917</td>\n",
       "      <td>Burkard</td>\n",
       "      <td>NaN</td>\n",
       "      <td>Plate 09</td>\n",
       "      <td>190</td>\n",
       "      <td>2019-07-09</td>\n",
       "      <td>T1-190</td>\n",
       "      <td>327.0</td>\n",
       "      <td>0.43</td>\n",
       "      <td>...</td>\n",
       "      <td>NaN</td>\n",
       "      <td>20.62917</td>\n",
       "      <td>NaN</td>\n",
       "      <td>NaN</td>\n",
       "      <td>27.1</td>\n",
       "      <td>NaN</td>\n",
       "      <td>NaN</td>\n",
       "      <td>13.7</td>\n",
       "      <td>NaN</td>\n",
       "      <td>NaN</td>\n",
       "    </tr>\n",
       "    <tr>\n",
       "      <th>3</th>\n",
       "      <td>01</td>\n",
       "      <td>1917</td>\n",
       "      <td>Burkard</td>\n",
       "      <td>NaN</td>\n",
       "      <td>Plate 09</td>\n",
       "      <td>191</td>\n",
       "      <td>2019-07-10</td>\n",
       "      <td>T1-191</td>\n",
       "      <td>380.0</td>\n",
       "      <td>0.17</td>\n",
       "      <td>...</td>\n",
       "      <td>6.9</td>\n",
       "      <td>21.70833</td>\n",
       "      <td>1.07917</td>\n",
       "      <td>20.62917</td>\n",
       "      <td>28.2</td>\n",
       "      <td>1.1</td>\n",
       "      <td>27.1</td>\n",
       "      <td>15.4</td>\n",
       "      <td>1.7</td>\n",
       "      <td>13.7</td>\n",
       "    </tr>\n",
       "    <tr>\n",
       "      <th>4</th>\n",
       "      <td>01</td>\n",
       "      <td>1917</td>\n",
       "      <td>Burkard</td>\n",
       "      <td>NaN</td>\n",
       "      <td>Plate 09</td>\n",
       "      <td>192</td>\n",
       "      <td>2019-07-11</td>\n",
       "      <td>T1-192</td>\n",
       "      <td>209.0</td>\n",
       "      <td>0.36</td>\n",
       "      <td>...</td>\n",
       "      <td>7.6</td>\n",
       "      <td>19.81667</td>\n",
       "      <td>-1.89167</td>\n",
       "      <td>21.70833</td>\n",
       "      <td>24.3</td>\n",
       "      <td>-3.9</td>\n",
       "      <td>28.2</td>\n",
       "      <td>15.3</td>\n",
       "      <td>-0.1</td>\n",
       "      <td>15.4</td>\n",
       "    </tr>\n",
       "    <tr>\n",
       "      <th>5</th>\n",
       "      <td>01</td>\n",
       "      <td>1917</td>\n",
       "      <td>Burkard</td>\n",
       "      <td>NaN</td>\n",
       "      <td>Plate 01</td>\n",
       "      <td>193</td>\n",
       "      <td>2019-07-12</td>\n",
       "      <td>T1-193</td>\n",
       "      <td>152.0</td>\n",
       "      <td>0.06</td>\n",
       "      <td>...</td>\n",
       "      <td>8.5</td>\n",
       "      <td>20.40833</td>\n",
       "      <td>0.59167</td>\n",
       "      <td>19.81667</td>\n",
       "      <td>25.7</td>\n",
       "      <td>1.4</td>\n",
       "      <td>24.3</td>\n",
       "      <td>14.5</td>\n",
       "      <td>-0.8</td>\n",
       "      <td>15.3</td>\n",
       "    </tr>\n",
       "  </tbody>\n",
       "</table>\n",
       "<p>5 rows × 98 columns</p>\n",
       "</div>"
      ],
      "text/plain": [
       "  SamplerNo Location.x SamplerType  ExtractionGroup qPCR_Plate  JDay  \\\n",
       "1        01       1917     Burkard              NaN   Plate 09   189   \n",
       "2        01       1917     Burkard              NaN   Plate 09   190   \n",
       "3        01       1917     Burkard              NaN   Plate 09   191   \n",
       "4        01       1917     Burkard              NaN   Plate 09   192   \n",
       "5        01       1917     Burkard              NaN   Plate 01   193   \n",
       "\n",
       "         Date SampleID  SsCtMean  SsCtSD  ...  MinDP_1d  MeanSoilTemp  \\\n",
       "1  2019-07-08   T1-189     160.0    0.14  ...       NaN           NaN   \n",
       "2  2019-07-09   T1-190     327.0    0.43  ...       NaN      20.62917   \n",
       "3  2019-07-10   T1-191     380.0    0.17  ...       6.9      21.70833   \n",
       "4  2019-07-11   T1-192     209.0    0.36  ...       7.6      19.81667   \n",
       "5  2019-07-12   T1-193     152.0    0.06  ...       8.5      20.40833   \n",
       "\n",
       "  DiffMeanSoilT  MeanSoilT_1d  MaxSoilTemp  DiffMaxSoilT  MaxSoilT_1d  \\\n",
       "1           NaN           NaN          NaN           NaN          NaN   \n",
       "2           NaN           NaN         27.1           NaN          NaN   \n",
       "3       1.07917      20.62917         28.2           1.1         27.1   \n",
       "4      -1.89167      21.70833         24.3          -3.9         28.2   \n",
       "5       0.59167      19.81667         25.7           1.4         24.3   \n",
       "\n",
       "   MinSoilTemp  DiffMinSoilT  MinSoilT_1d  \n",
       "1          NaN           NaN          NaN  \n",
       "2         13.7           NaN          NaN  \n",
       "3         15.4           1.7         13.7  \n",
       "4         15.3          -0.1         15.4  \n",
       "5         14.5          -0.8         15.3  \n",
       "\n",
       "[5 rows x 98 columns]"
      ]
     },
     "execution_count": 8,
     "metadata": {},
     "output_type": "execute_result"
    }
   ],
   "source": [
    "data.head()"
   ]
  },
  {
   "cell_type": "code",
   "execution_count": 170,
   "metadata": {},
   "outputs": [
    {
     "data": {
      "text/plain": [
       "array(['Plate 09', 'Plate 01', 'Plate 10', 'Plate 16', nan, 'Plate 21',\n",
       "       'Plate 03', 'Plate 04', 'Plate 18 redone', 'Plate 13', 'Plate 17',\n",
       "       'Plate 22', 'Plate 23', 'Plate 15', 'Plate 07', 'Plate 20'],\n",
       "      dtype=object)"
      ]
     },
     "execution_count": 170,
     "metadata": {},
     "output_type": "execute_result"
    }
   ],
   "source": [
    "data['qPCR_Plate'].unique()"
   ]
  },
  {
   "cell_type": "code",
   "execution_count": 169,
   "metadata": {},
   "outputs": [
    {
     "data": {
      "text/plain": [
       "1        317.430\n",
       "2         67.090\n",
       "3         35.450\n",
       "4        210.560\n",
       "5        313.940\n",
       "         ...    \n",
       "564     3306.850\n",
       "565    16854.055\n",
       "566     1646.950\n",
       "567     2692.505\n",
       "568    13539.785\n",
       "Name: SsMean, Length: 545, dtype: float64"
      ]
     },
     "execution_count": 169,
     "metadata": {},
     "output_type": "execute_result"
    }
   ],
   "source": [
    "data['SsMean']"
   ]
  },
  {
   "cell_type": "code",
   "execution_count": 10,
   "metadata": {
    "collapsed": true,
    "jupyter": {
     "outputs_hidden": true
    }
   },
   "outputs": [
    {
     "data": {
      "text/plain": [
       "Index(['SamplerNo', 'Location.x', 'SamplerType', 'ExtractionGroup',\n",
       "       'qPCR_Plate', 'JDay', 'Date', 'SampleID', 'SsCtMean', 'SsCtSD',\n",
       "       'SsMean', 'logSsMean', 'Censored', 'SsSD', 'SsScaled', 'SsClean',\n",
       "       'logSsClean', 'VolumeSampled', 'sporesPCM', 'logSPCM', 'TtCt', 'TtSD',\n",
       "       'Water.', 'logSsMean_t1', 'Location.y', 'Year', 'MeanWetness',\n",
       "       'DiffMeanWet', 'MeanWet_1d', 'MaxWetness', 'DiffMaxWet', 'MaxWet_1d',\n",
       "       'MinWetness', 'DiffMinWet', 'MinWet_1d', 'MeanTemp', 'DiffMeanT',\n",
       "       'MeanT_1d', 'MaxTemp', 'DiffMaxT', 'MaxT_1d', 'MinTemp', 'DiffMinT',\n",
       "       'MinT_1d', 'MeanRH', 'DiffMeanRH', 'MeanRH_1d', 'MaxRH', 'DiffMaxRH',\n",
       "       'MaxRH_1d', 'MinRH', 'DiffMinRH', 'MinRH_1d', 'DiffRH_0d', 'DiffRH_1d',\n",
       "       'DiffRH_2d', 'MaxDiffRH_2h', 'MaxDiffRH_3h', 'MeanVPD', 'DiffMeanVPD',\n",
       "       'MeanVPD_1d', 'MaxVPD', 'DiffMaxVPD', 'MaxVPD_1d', 'MinVPD',\n",
       "       'DiffMinVPD', 'TotalPrecip', 'Precip_1d', 'RainYN', 'MaxRain',\n",
       "       'MinRain', 'MeanWC', 'DiffMeanWC', 'MeanWC_1d', 'MaxWC', 'DiffMaxWC',\n",
       "       'MaxWC_1d', 'MinWC', 'DiffMinWC', 'MinWC_1d', 'MeanDP', 'DiffMeanDP',\n",
       "       'MeanDP_1d', 'MaxDP', 'DiffMaxDP', 'MaxDP_1d', 'MinDP', 'DiffMinDP',\n",
       "       'MinDP_1d', 'MeanSoilTemp', 'DiffMeanSoilT', 'MeanSoilT_1d',\n",
       "       'MaxSoilTemp', 'DiffMaxSoilT', 'MaxSoilT_1d', 'MinSoilTemp',\n",
       "       'DiffMinSoilT', 'MinSoilT_1d'],\n",
       "      dtype='object')"
      ]
     },
     "execution_count": 10,
     "metadata": {},
     "output_type": "execute_result"
    }
   ],
   "source": [
    "data.columns"
   ]
  },
  {
   "cell_type": "code",
   "execution_count": 11,
   "metadata": {
    "collapsed": true,
    "jupyter": {
     "outputs_hidden": true
    }
   },
   "outputs": [
    {
     "data": {
      "text/html": [
       "<div>\n",
       "<style scoped>\n",
       "    .dataframe tbody tr th:only-of-type {\n",
       "        vertical-align: middle;\n",
       "    }\n",
       "\n",
       "    .dataframe tbody tr th {\n",
       "        vertical-align: top;\n",
       "    }\n",
       "\n",
       "    .dataframe thead th {\n",
       "        text-align: right;\n",
       "    }\n",
       "</style>\n",
       "<table border=\"1\" class=\"dataframe\">\n",
       "  <thead>\n",
       "    <tr style=\"text-align: right;\">\n",
       "      <th></th>\n",
       "      <th>SsMean</th>\n",
       "      <th>sporesPCM</th>\n",
       "    </tr>\n",
       "  </thead>\n",
       "  <tbody>\n",
       "    <tr>\n",
       "      <th>1</th>\n",
       "      <td>317.430</td>\n",
       "      <td>13.23</td>\n",
       "    </tr>\n",
       "    <tr>\n",
       "      <th>2</th>\n",
       "      <td>67.090</td>\n",
       "      <td>2.80</td>\n",
       "    </tr>\n",
       "    <tr>\n",
       "      <th>3</th>\n",
       "      <td>35.450</td>\n",
       "      <td>0.00</td>\n",
       "    </tr>\n",
       "    <tr>\n",
       "      <th>4</th>\n",
       "      <td>210.560</td>\n",
       "      <td>8.77</td>\n",
       "    </tr>\n",
       "    <tr>\n",
       "      <th>5</th>\n",
       "      <td>313.940</td>\n",
       "      <td>13.08</td>\n",
       "    </tr>\n",
       "    <tr>\n",
       "      <th>...</th>\n",
       "      <td>...</td>\n",
       "      <td>...</td>\n",
       "    </tr>\n",
       "    <tr>\n",
       "      <th>564</th>\n",
       "      <td>3306.850</td>\n",
       "      <td>NaN</td>\n",
       "    </tr>\n",
       "    <tr>\n",
       "      <th>565</th>\n",
       "      <td>16854.055</td>\n",
       "      <td>NaN</td>\n",
       "    </tr>\n",
       "    <tr>\n",
       "      <th>566</th>\n",
       "      <td>1646.950</td>\n",
       "      <td>NaN</td>\n",
       "    </tr>\n",
       "    <tr>\n",
       "      <th>567</th>\n",
       "      <td>2692.505</td>\n",
       "      <td>NaN</td>\n",
       "    </tr>\n",
       "    <tr>\n",
       "      <th>568</th>\n",
       "      <td>13539.785</td>\n",
       "      <td>NaN</td>\n",
       "    </tr>\n",
       "  </tbody>\n",
       "</table>\n",
       "<p>568 rows × 2 columns</p>\n",
       "</div>"
      ],
      "text/plain": [
       "        SsMean  sporesPCM\n",
       "1      317.430      13.23\n",
       "2       67.090       2.80\n",
       "3       35.450       0.00\n",
       "4      210.560       8.77\n",
       "5      313.940      13.08\n",
       "..         ...        ...\n",
       "564   3306.850        NaN\n",
       "565  16854.055        NaN\n",
       "566   1646.950        NaN\n",
       "567   2692.505        NaN\n",
       "568  13539.785        NaN\n",
       "\n",
       "[568 rows x 2 columns]"
      ]
     },
     "execution_count": 11,
     "metadata": {},
     "output_type": "execute_result"
    }
   ],
   "source": [
    "data[['SsMean', 'sporesPCM']]"
   ]
  },
  {
   "cell_type": "code",
   "execution_count": 89,
   "metadata": {},
   "outputs": [],
   "source": [
    "cont = data.select_dtypes(['int','float'])"
   ]
  },
  {
   "cell_type": "code",
   "execution_count": 90,
   "metadata": {},
   "outputs": [],
   "source": [
    "percent_missing = cont.isnull().sum() * 100 / len(data)\n",
    "missing_value_df = pd.DataFrame({'column_name': cont.columns,\n",
    "                                 'percent_missing': percent_missing})"
   ]
  },
  {
   "cell_type": "code",
   "execution_count": 65,
   "metadata": {},
   "outputs": [
    {
     "data": {
      "text/html": [
       "<div>\n",
       "<style scoped>\n",
       "    .dataframe tbody tr th:only-of-type {\n",
       "        vertical-align: middle;\n",
       "    }\n",
       "\n",
       "    .dataframe tbody tr th {\n",
       "        vertical-align: top;\n",
       "    }\n",
       "\n",
       "    .dataframe thead th {\n",
       "        text-align: right;\n",
       "    }\n",
       "</style>\n",
       "<table border=\"1\" class=\"dataframe\">\n",
       "  <thead>\n",
       "    <tr style=\"text-align: right;\">\n",
       "      <th></th>\n",
       "      <th>column_name</th>\n",
       "      <th>percent_missing</th>\n",
       "    </tr>\n",
       "  </thead>\n",
       "  <tbody>\n",
       "    <tr>\n",
       "      <th>ExtractionGroup</th>\n",
       "      <td>ExtractionGroup</td>\n",
       "      <td>100.000000</td>\n",
       "    </tr>\n",
       "    <tr>\n",
       "      <th>SsScaled</th>\n",
       "      <td>SsScaled</td>\n",
       "      <td>100.000000</td>\n",
       "    </tr>\n",
       "    <tr>\n",
       "      <th>DiffMinSoilT</th>\n",
       "      <td>DiffMinSoilT</td>\n",
       "      <td>58.626761</td>\n",
       "    </tr>\n",
       "    <tr>\n",
       "      <th>DiffMaxSoilT</th>\n",
       "      <td>DiffMaxSoilT</td>\n",
       "      <td>58.626761</td>\n",
       "    </tr>\n",
       "    <tr>\n",
       "      <th>DiffMeanSoilT</th>\n",
       "      <td>DiffMeanSoilT</td>\n",
       "      <td>58.626761</td>\n",
       "    </tr>\n",
       "    <tr>\n",
       "      <th>MaxSoilT_1d</th>\n",
       "      <td>MaxSoilT_1d</td>\n",
       "      <td>58.274648</td>\n",
       "    </tr>\n",
       "    <tr>\n",
       "      <th>MeanSoilT_1d</th>\n",
       "      <td>MeanSoilT_1d</td>\n",
       "      <td>58.274648</td>\n",
       "    </tr>\n",
       "    <tr>\n",
       "      <th>MinSoilT_1d</th>\n",
       "      <td>MinSoilT_1d</td>\n",
       "      <td>58.274648</td>\n",
       "    </tr>\n",
       "    <tr>\n",
       "      <th>MinSoilTemp</th>\n",
       "      <td>MinSoilTemp</td>\n",
       "      <td>57.570423</td>\n",
       "    </tr>\n",
       "    <tr>\n",
       "      <th>MeanSoilTemp</th>\n",
       "      <td>MeanSoilTemp</td>\n",
       "      <td>57.570423</td>\n",
       "    </tr>\n",
       "    <tr>\n",
       "      <th>MaxSoilTemp</th>\n",
       "      <td>MaxSoilTemp</td>\n",
       "      <td>57.570423</td>\n",
       "    </tr>\n",
       "    <tr>\n",
       "      <th>SsCtMean</th>\n",
       "      <td>SsCtMean</td>\n",
       "      <td>52.288732</td>\n",
       "    </tr>\n",
       "    <tr>\n",
       "      <th>logSsClean</th>\n",
       "      <td>logSsClean</td>\n",
       "      <td>52.288732</td>\n",
       "    </tr>\n",
       "    <tr>\n",
       "      <th>SsCtSD</th>\n",
       "      <td>SsCtSD</td>\n",
       "      <td>52.288732</td>\n",
       "    </tr>\n",
       "    <tr>\n",
       "      <th>SsClean</th>\n",
       "      <td>SsClean</td>\n",
       "      <td>52.288732</td>\n",
       "    </tr>\n",
       "    <tr>\n",
       "      <th>TtSD</th>\n",
       "      <td>TtSD</td>\n",
       "      <td>52.288732</td>\n",
       "    </tr>\n",
       "    <tr>\n",
       "      <th>TtCt</th>\n",
       "      <td>TtCt</td>\n",
       "      <td>52.288732</td>\n",
       "    </tr>\n",
       "    <tr>\n",
       "      <th>SsSD</th>\n",
       "      <td>SsSD</td>\n",
       "      <td>52.288732</td>\n",
       "    </tr>\n",
       "    <tr>\n",
       "      <th>logSPCM</th>\n",
       "      <td>logSPCM</td>\n",
       "      <td>43.485915</td>\n",
       "    </tr>\n",
       "    <tr>\n",
       "      <th>sporesPCM</th>\n",
       "      <td>sporesPCM</td>\n",
       "      <td>43.485915</td>\n",
       "    </tr>\n",
       "    <tr>\n",
       "      <th>VolumeSampled</th>\n",
       "      <td>VolumeSampled</td>\n",
       "      <td>43.485915</td>\n",
       "    </tr>\n",
       "    <tr>\n",
       "      <th>DiffMaxWC</th>\n",
       "      <td>DiffMaxWC</td>\n",
       "      <td>18.661972</td>\n",
       "    </tr>\n",
       "    <tr>\n",
       "      <th>DiffMeanWC</th>\n",
       "      <td>DiffMeanWC</td>\n",
       "      <td>18.661972</td>\n",
       "    </tr>\n",
       "    <tr>\n",
       "      <th>DiffMinWC</th>\n",
       "      <td>DiffMinWC</td>\n",
       "      <td>18.661972</td>\n",
       "    </tr>\n",
       "    <tr>\n",
       "      <th>MeanWC_1d</th>\n",
       "      <td>MeanWC_1d</td>\n",
       "      <td>18.309859</td>\n",
       "    </tr>\n",
       "    <tr>\n",
       "      <th>MinWC_1d</th>\n",
       "      <td>MinWC_1d</td>\n",
       "      <td>18.309859</td>\n",
       "    </tr>\n",
       "    <tr>\n",
       "      <th>MaxWC_1d</th>\n",
       "      <td>MaxWC_1d</td>\n",
       "      <td>18.309859</td>\n",
       "    </tr>\n",
       "    <tr>\n",
       "      <th>MaxWC</th>\n",
       "      <td>MaxWC</td>\n",
       "      <td>16.901408</td>\n",
       "    </tr>\n",
       "    <tr>\n",
       "      <th>MeanWC</th>\n",
       "      <td>MeanWC</td>\n",
       "      <td>16.901408</td>\n",
       "    </tr>\n",
       "    <tr>\n",
       "      <th>MinWC</th>\n",
       "      <td>MinWC</td>\n",
       "      <td>16.901408</td>\n",
       "    </tr>\n",
       "  </tbody>\n",
       "</table>\n",
       "</div>"
      ],
      "text/plain": [
       "                     column_name  percent_missing\n",
       "ExtractionGroup  ExtractionGroup       100.000000\n",
       "SsScaled                SsScaled       100.000000\n",
       "DiffMinSoilT        DiffMinSoilT        58.626761\n",
       "DiffMaxSoilT        DiffMaxSoilT        58.626761\n",
       "DiffMeanSoilT      DiffMeanSoilT        58.626761\n",
       "MaxSoilT_1d          MaxSoilT_1d        58.274648\n",
       "MeanSoilT_1d        MeanSoilT_1d        58.274648\n",
       "MinSoilT_1d          MinSoilT_1d        58.274648\n",
       "MinSoilTemp          MinSoilTemp        57.570423\n",
       "MeanSoilTemp        MeanSoilTemp        57.570423\n",
       "MaxSoilTemp          MaxSoilTemp        57.570423\n",
       "SsCtMean                SsCtMean        52.288732\n",
       "logSsClean            logSsClean        52.288732\n",
       "SsCtSD                    SsCtSD        52.288732\n",
       "SsClean                  SsClean        52.288732\n",
       "TtSD                        TtSD        52.288732\n",
       "TtCt                        TtCt        52.288732\n",
       "SsSD                        SsSD        52.288732\n",
       "logSPCM                  logSPCM        43.485915\n",
       "sporesPCM              sporesPCM        43.485915\n",
       "VolumeSampled      VolumeSampled        43.485915\n",
       "DiffMaxWC              DiffMaxWC        18.661972\n",
       "DiffMeanWC            DiffMeanWC        18.661972\n",
       "DiffMinWC              DiffMinWC        18.661972\n",
       "MeanWC_1d              MeanWC_1d        18.309859\n",
       "MinWC_1d                MinWC_1d        18.309859\n",
       "MaxWC_1d                MaxWC_1d        18.309859\n",
       "MaxWC                      MaxWC        16.901408\n",
       "MeanWC                    MeanWC        16.901408\n",
       "MinWC                      MinWC        16.901408"
      ]
     },
     "execution_count": 65,
     "metadata": {},
     "output_type": "execute_result"
    }
   ],
   "source": [
    "missing_value_df.sort_values('percent_missing', ascending=False).head(30)"
   ]
  },
  {
   "cell_type": "code",
   "execution_count": 91,
   "metadata": {},
   "outputs": [],
   "source": [
    "# cols with greater than 50% missing values\n",
    "miss50 = missing_value_df[missing_value_df['percent_missing'] > 50]"
   ]
  },
  {
   "cell_type": "code",
   "execution_count": 67,
   "metadata": {},
   "outputs": [
    {
     "data": {
      "text/plain": [
       "Index(['ExtractionGroup', 'SsCtMean', 'SsCtSD', 'SsSD', 'SsScaled', 'SsClean',\n",
       "       'logSsClean', 'TtCt', 'TtSD', 'MeanSoilTemp', 'DiffMeanSoilT',\n",
       "       'MeanSoilT_1d', 'MaxSoilTemp', 'DiffMaxSoilT', 'MaxSoilT_1d',\n",
       "       'MinSoilTemp', 'DiffMinSoilT', 'MinSoilT_1d'],\n",
       "      dtype='object')"
      ]
     },
     "execution_count": 67,
     "metadata": {},
     "output_type": "execute_result"
    }
   ],
   "source": [
    "miss50.index"
   ]
  },
  {
   "cell_type": "code",
   "execution_count": 93,
   "metadata": {},
   "outputs": [
    {
     "name": "stderr",
     "output_type": "stream",
     "text": [
      "<ipython-input-93-4a2ccb65fa6a>:1: SettingWithCopyWarning: \n",
      "A value is trying to be set on a copy of a slice from a DataFrame\n",
      "\n",
      "See the caveats in the documentation: https://pandas.pydata.org/pandas-docs/stable/user_guide/indexing.html#returning-a-view-versus-a-copy\n",
      "  cont.dropna(axis=0, subset=['SsMean'],inplace=True)\n"
     ]
    }
   ],
   "source": [
    "cont.dropna(axis=0, subset=['SsMean'],inplace=True)"
   ]
  },
  {
   "cell_type": "code",
   "execution_count": 128,
   "metadata": {},
   "outputs": [],
   "source": [
    "def create_cat(data):\n",
    "    if data < 500:\n",
    "        return 0\n",
    "    else:\n",
    "        return 1"
   ]
  },
  {
   "cell_type": "code",
   "execution_count": 129,
   "metadata": {
    "collapsed": true,
    "jupyter": {
     "outputs_hidden": true
    }
   },
   "outputs": [
    {
     "name": "stderr",
     "output_type": "stream",
     "text": [
      "<ipython-input-129-21259d0802b4>:1: SettingWithCopyWarning: \n",
      "A value is trying to be set on a copy of a slice from a DataFrame.\n",
      "Try using .loc[row_indexer,col_indexer] = value instead\n",
      "\n",
      "See the caveats in the documentation: https://pandas.pydata.org/pandas-docs/stable/user_guide/indexing.html#returning-a-view-versus-a-copy\n",
      "  cont['label'] = cont['SsMean'].apply(create_cat)\n"
     ]
    }
   ],
   "source": [
    "cont['label'] = cont['SsMean'].apply(create_cat)"
   ]
  },
  {
   "cell_type": "code",
   "execution_count": 144,
   "metadata": {},
   "outputs": [],
   "source": [
    "# try balanced dataset\n",
    "class_0 = cont.loc[cont['label']==0]\n",
    "class_1 = cont.loc[cont['label']==1]"
   ]
  },
  {
   "cell_type": "code",
   "execution_count": 145,
   "metadata": {},
   "outputs": [
    {
     "data": {
      "text/plain": [
       "(377, 90)"
      ]
     },
     "execution_count": 145,
     "metadata": {},
     "output_type": "execute_result"
    }
   ],
   "source": [
    "class_0.shape"
   ]
  },
  {
   "cell_type": "code",
   "execution_count": 154,
   "metadata": {},
   "outputs": [],
   "source": [
    "class_1_sample = class_1.sample(n=377, replace=True)"
   ]
  },
  {
   "cell_type": "code",
   "execution_count": 155,
   "metadata": {},
   "outputs": [
    {
     "data": {
      "text/plain": [
       "(377, 90)"
      ]
     },
     "execution_count": 155,
     "metadata": {},
     "output_type": "execute_result"
    }
   ],
   "source": [
    "class_1_sample.shape"
   ]
  },
  {
   "cell_type": "code",
   "execution_count": 156,
   "metadata": {},
   "outputs": [],
   "source": [
    "from sklearn.utils import shuffle\n",
    "balanced_df = pd.concat([class_0, class_1_sample], axis=0)\n",
    "balanced_df = shuffle(balanced_df)"
   ]
  },
  {
   "cell_type": "code",
   "execution_count": 157,
   "metadata": {},
   "outputs": [
    {
     "data": {
      "text/plain": [
       "(754, 90)"
      ]
     },
     "execution_count": 157,
     "metadata": {},
     "output_type": "execute_result"
    }
   ],
   "source": [
    "balanced_df.shape"
   ]
  },
  {
   "cell_type": "code",
   "execution_count": 158,
   "metadata": {},
   "outputs": [],
   "source": [
    "X = balanced_df.drop(labels=['SsMean','label'], axis=1)\n",
    "y = balanced_df['label']"
   ]
  },
  {
   "cell_type": "code",
   "execution_count": null,
   "metadata": {},
   "outputs": [],
   "source": []
  },
  {
   "cell_type": "code",
   "execution_count": 159,
   "metadata": {},
   "outputs": [
    {
     "data": {
      "text/plain": [
       "(754, 88)"
      ]
     },
     "execution_count": 159,
     "metadata": {},
     "output_type": "execute_result"
    }
   ],
   "source": [
    "X.shape"
   ]
  },
  {
   "cell_type": "code",
   "execution_count": 160,
   "metadata": {},
   "outputs": [],
   "source": [
    "X.drop(labels=miss50.index, axis=1, inplace=True)"
   ]
  },
  {
   "cell_type": "code",
   "execution_count": 161,
   "metadata": {},
   "outputs": [
    {
     "data": {
      "text/plain": [
       "(754, 70)"
      ]
     },
     "execution_count": 161,
     "metadata": {},
     "output_type": "execute_result"
    }
   ],
   "source": [
    "X.shape"
   ]
  },
  {
   "cell_type": "code",
   "execution_count": 162,
   "metadata": {},
   "outputs": [
    {
     "data": {
      "text/plain": [
       "(754,)"
      ]
     },
     "execution_count": 162,
     "metadata": {},
     "output_type": "execute_result"
    }
   ],
   "source": [
    "y.shape"
   ]
  },
  {
   "cell_type": "code",
   "execution_count": 88,
   "metadata": {},
   "outputs": [
    {
     "data": {
      "text/plain": [
       "568"
      ]
     },
     "execution_count": 88,
     "metadata": {},
     "output_type": "execute_result"
    }
   ],
   "source": [
    "y.isnull().sum()"
   ]
  },
  {
   "cell_type": "code",
   "execution_count": 163,
   "metadata": {},
   "outputs": [],
   "source": [
    "# fill with mean....just for experiementation purposes\n",
    "for col in X.columns:\n",
    "    X[col] = X.fillna(value=X[col].mean())"
   ]
  },
  {
   "cell_type": "code",
   "execution_count": 164,
   "metadata": {},
   "outputs": [],
   "source": [
    "scaler = StandardScaler()\n",
    "X = scaler.fit_transform(X)"
   ]
  },
  {
   "cell_type": "code",
   "execution_count": 165,
   "metadata": {},
   "outputs": [],
   "source": [
    "from sklearn.model_selection import train_test_split\n",
    "\n",
    "X_train, X_test, y_train, y_test = train_test_split(X,y, test_size=0.3, random_state=233)"
   ]
  },
  {
   "cell_type": "code",
   "execution_count": 166,
   "metadata": {},
   "outputs": [],
   "source": [
    "from sklearn.linear_model import LogisticRegression\n",
    "\n",
    "lr = LogisticRegression()\n",
    "model = lr.fit(X_train,y_train)"
   ]
  },
  {
   "cell_type": "code",
   "execution_count": 167,
   "metadata": {},
   "outputs": [
    {
     "data": {
      "text/plain": [
       "0.5947136563876652"
      ]
     },
     "execution_count": 167,
     "metadata": {},
     "output_type": "execute_result"
    }
   ],
   "source": [
    "y_pred = lr.predict(X_test)\n",
    "lr.score(X_test, y_test)"
   ]
  },
  {
   "cell_type": "code",
   "execution_count": 172,
   "metadata": {},
   "outputs": [
    {
     "data": {
      "text/plain": [
       "0.6402192505053647"
      ]
     },
     "execution_count": 172,
     "metadata": {},
     "output_type": "execute_result"
    }
   ],
   "source": [
    "from sklearn.metrics import roc_auc_score\n",
    "\n",
    "probs = lr.predict_proba(X_test)[:,1]\n",
    "auc = roc_auc_score(y_test,probs)\n",
    "auc"
   ]
  },
  {
   "cell_type": "code",
   "execution_count": 168,
   "metadata": {},
   "outputs": [
    {
     "name": "stdout",
     "output_type": "stream",
     "text": [
      "              precision    recall  f1-score   support\n",
      "\n",
      "           0       0.61      0.59      0.60       118\n",
      "           1       0.58      0.60      0.59       109\n",
      "\n",
      "    accuracy                           0.59       227\n",
      "   macro avg       0.59      0.59      0.59       227\n",
      "weighted avg       0.60      0.59      0.59       227\n",
      "\n"
     ]
    }
   ],
   "source": [
    "from sklearn.metrics import classification_report\n",
    "\n",
    "cr = classification_report(y_test,y_pred)\n",
    "print(cr)"
   ]
  },
  {
   "cell_type": "code",
   "execution_count": 117,
   "metadata": {},
   "outputs": [
    {
     "data": {
      "text/plain": [
       "(545, 70)"
      ]
     },
     "execution_count": 117,
     "metadata": {},
     "output_type": "execute_result"
    }
   ],
   "source": [
    "X.shape"
   ]
  },
  {
   "cell_type": "code",
   "execution_count": 121,
   "metadata": {},
   "outputs": [],
   "source": [
    "kbest = SelectKBest(k=20)\n",
    "kbest = kbest.fit(X_train,y_train)\n",
    "X2_train = kbest.transform(X_train)\n",
    "X2_test = kbest.transform(X_test)"
   ]
  },
  {
   "cell_type": "code",
   "execution_count": 122,
   "metadata": {},
   "outputs": [
    {
     "data": {
      "text/plain": [
       "(381, 20)"
      ]
     },
     "execution_count": 122,
     "metadata": {},
     "output_type": "execute_result"
    }
   ],
   "source": [
    "X2_train.shape"
   ]
  },
  {
   "cell_type": "code",
   "execution_count": 126,
   "metadata": {},
   "outputs": [
    {
     "data": {
      "text/plain": [
       "(164, 20)"
      ]
     },
     "execution_count": 126,
     "metadata": {},
     "output_type": "execute_result"
    }
   ],
   "source": [
    "X2_test.shape"
   ]
  },
  {
   "cell_type": "code",
   "execution_count": 110,
   "metadata": {},
   "outputs": [],
   "source": [
    "from sklearn.preprocessing import StandardScaler\n",
    "from sklearn.pipeline import Pipeline, FeatureUnion\n",
    "\n",
    "scaler = StandardScaler()\n",
    "\n",
    "# create pca and kbest and merge with featureunion\n",
    "from sklearn.decomposition import PCA\n",
    "from sklearn.feature_selection import SelectKBest\n",
    "\n",
    "pca = PCA(n_components=3)\n",
    "kbest = SelectKBest(k=3)\n",
    "\n",
    "feature_union = FeatureUnion([\n",
    "    ('pca', pca),\n",
    "    ('select_best', kbest)\n",
    "])\n",
    "\n",
    "from sklearn.svm import SVR\n",
    "\n",
    "model = SVR()\n",
    "\n",
    "pipeline = Pipeline(\n",
    "    steps=[\n",
    "    ('scaler', scaler),\n",
    "    ('features', feature_union),\n",
    "    ('classifier', model)\n",
    "])"
   ]
  },
  {
   "cell_type": "code",
   "execution_count": 111,
   "metadata": {},
   "outputs": [
    {
     "data": {
      "text/plain": [
       "Pipeline(steps=[('scaler', StandardScaler()),\n",
       "                ('features',\n",
       "                 FeatureUnion(transformer_list=[('pca', PCA(n_components=3)),\n",
       "                                                ('select_best',\n",
       "                                                 SelectKBest(k=3))])),\n",
       "                ('classifier', SVR())])"
      ]
     },
     "execution_count": 111,
     "metadata": {},
     "output_type": "execute_result"
    }
   ],
   "source": [
    "pipeline.fit(X_train, y_train)"
   ]
  },
  {
   "cell_type": "code",
   "execution_count": 112,
   "metadata": {},
   "outputs": [
    {
     "data": {
      "text/plain": [
       "-0.07526561955881239"
      ]
     },
     "execution_count": 112,
     "metadata": {},
     "output_type": "execute_result"
    }
   ],
   "source": [
    "y_pred = pipeline.predict(X_test)\n",
    "pipeline.score(X_test, y_test)"
   ]
  },
  {
   "cell_type": "code",
   "execution_count": 10,
   "metadata": {},
   "outputs": [
    {
     "data": {
      "text/plain": [
       "98"
      ]
     },
     "execution_count": 10,
     "metadata": {},
     "output_type": "execute_result"
    }
   ],
   "source": [
    "y.loc[y.values > 1000].count()"
   ]
  },
  {
   "cell_type": "code",
   "execution_count": 11,
   "metadata": {},
   "outputs": [],
   "source": [
    "cont = X.select_dtypes(['float','int'])"
   ]
  },
  {
   "cell_type": "code",
   "execution_count": 12,
   "metadata": {},
   "outputs": [
    {
     "data": {
      "text/plain": [
       "(568, 88)"
      ]
     },
     "execution_count": 12,
     "metadata": {},
     "output_type": "execute_result"
    }
   ],
   "source": [
    "cont.shape"
   ]
  },
  {
   "cell_type": "code",
   "execution_count": 14,
   "metadata": {},
   "outputs": [
    {
     "data": {
      "text/plain": [
       "ExtractionGroup    568\n",
       "SsScaled           568\n",
       "DiffMinSoilT       333\n",
       "DiffMaxSoilT       333\n",
       "DiffMeanSoilT      333\n",
       "MeanSoilT_1d       331\n",
       "MinSoilT_1d        331\n",
       "MaxSoilT_1d        331\n",
       "MaxSoilTemp        327\n",
       "MinSoilTemp        327\n",
       "MeanSoilTemp       327\n",
       "SsCtMean           297\n",
       "TtCt               297\n",
       "SsCtSD             297\n",
       "SsSD               297\n",
       "SsClean            297\n",
       "TtSD               297\n",
       "logSsClean         297\n",
       "logSPCM            247\n",
       "sporesPCM          247\n",
       "dtype: int64"
      ]
     },
     "execution_count": 14,
     "metadata": {},
     "output_type": "execute_result"
    }
   ],
   "source": [
    "cont.isnull().sum().sort_values(ascending=False).head(20)"
   ]
  },
  {
   "cell_type": "code",
   "execution_count": null,
   "metadata": {},
   "outputs": [],
   "source": []
  }
 ],
 "metadata": {
  "kernelspec": {
   "display_name": "lighthouse",
   "language": "python",
   "name": "lighthouse"
  },
  "language_info": {
   "codemirror_mode": {
    "name": "ipython",
    "version": 3
   },
   "file_extension": ".py",
   "mimetype": "text/x-python",
   "name": "python",
   "nbconvert_exporter": "python",
   "pygments_lexer": "ipython3",
   "version": "3.8.2"
  }
 },
 "nbformat": 4,
 "nbformat_minor": 4
}
