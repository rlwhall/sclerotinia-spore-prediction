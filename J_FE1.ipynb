{
 "cells": [
  {
   "cell_type": "markdown",
   "metadata": {},
   "source": [
    "# Featrue Engineering"
   ]
  },
  {
   "cell_type": "code",
   "execution_count": 1,
   "metadata": {},
   "outputs": [],
   "source": [
    "# import packaged\n",
    "import pandas as pd\n",
    "import numpy as np\n",
    "import datetime as dt \n",
    "\n",
    "import matplotlib.pyplot as plt"
   ]
  },
  {
   "cell_type": "code",
   "execution_count": 44,
   "metadata": {},
   "outputs": [],
   "source": [
    "# import data\n",
    "df = pd.read_csv('final_df.csv', index_col=0)"
   ]
  },
  {
   "cell_type": "code",
   "execution_count": 45,
   "metadata": {},
   "outputs": [],
   "source": [
    "# keep only necessary columns (Jon's weather data)\n",
    "# soil temp dropped because of high number nan's\n",
    "to_keep = ['Location.x', 'JDay', 'Date', 'SsMean',\n",
    "       'MeanWetness',\n",
    "       'MeanTemp','MaxTemp', \n",
    "       'MinTemp', 'MeanRH', \n",
    "       'MaxRH','MinRH', \n",
    "       'TotalPrecip',\n",
    "    'RainYN', 'MeanWC', \n",
    "       'MaxWC', 'MinWC',\n",
    "       'MeanDP']\n",
    "\n",
    "df2 = df[to_keep].copy()\n",
    "\n",
    "df2.rename(columns={'Location.x': 'Location'}, inplace=True)"
   ]
  },
  {
   "cell_type": "code",
   "execution_count": 46,
   "metadata": {},
   "outputs": [],
   "source": [
    "# drop SsMean nans\n",
    "df2.dropna(inplace=True, subset=['SsMean'])"
   ]
  },
  {
   "cell_type": "code",
   "execution_count": 84,
   "metadata": {},
   "outputs": [
    {
     "data": {
      "text/plain": [
       "Location       0\n",
       "TotalPrecip    0\n",
       "YearWeek       0\n",
       "year           0\n",
       "month          0\n",
       "MeanDP         0\n",
       "MinWC          0\n",
       "MaxWC          0\n",
       "MeanWC         0\n",
       "RainYN         0\n",
       "dtype: int64"
      ]
     },
     "execution_count": 84,
     "metadata": {},
     "output_type": "execute_result"
    }
   ],
   "source": [
    "# check null values\n",
    "df2.isnull().sum().sort_values(ascending=False).head(10)"
   ]
  },
  {
   "cell_type": "code",
   "execution_count": 83,
   "metadata": {},
   "outputs": [],
   "source": [
    "# Keeping it simple for now...drop all nan values\n",
    "df2.dropna(inplace=True)"
   ]
  },
  {
   "cell_type": "code",
   "execution_count": 85,
   "metadata": {},
   "outputs": [],
   "source": [
    "# convert date to datetime\n",
    "df2['Date'] = pd.to_datetime(df2['Date'])"
   ]
  },
  {
   "cell_type": "code",
   "execution_count": 86,
   "metadata": {},
   "outputs": [],
   "source": [
    "# Create month \n",
    "df2['month'] = pd.to_datetime(df2['Date']).dt.month"
   ]
  },
  {
   "cell_type": "code",
   "execution_count": 87,
   "metadata": {},
   "outputs": [],
   "source": [
    "# create year (from dt)\n",
    "df2['year'] = pd.to_datetime(df2['Date']).dt.year"
   ]
  },
  {
   "cell_type": "code",
   "execution_count": 88,
   "metadata": {},
   "outputs": [],
   "source": [
    "# create week of year\n",
    "df2['YearWeek'] = pd.to_datetime(df2['Date']).dt.isocalendar().week"
   ]
  },
  {
   "cell_type": "code",
   "execution_count": 89,
   "metadata": {},
   "outputs": [
    {
     "data": {
      "image/png": "[encoded data removed]",
      "text/plain": [
       "<Figure size 432x288 with 1 Axes>"
      ]
     },
     "metadata": {
      "needs_background": "light"
     },
     "output_type": "display_data"
    }
   ],
   "source": [
    "# look at target - log transform?\n",
    "plt.hist(df2.SsMean, bins=30)\n",
    "plt.show()"
   ]
  },
  {
   "cell_type": "code",
   "execution_count": 90,
   "metadata": {},
   "outputs": [
    {
     "data": {
      "text/plain": [
       "22112.055"
      ]
     },
     "execution_count": 90,
     "metadata": {},
     "output_type": "execute_result"
    }
   ],
   "source": [
    "np.max(df2.SsMean)"
   ]
  },
  {
   "cell_type": "code",
   "execution_count": 91,
   "metadata": {},
   "outputs": [],
   "source": [
    "# add +1 to deal with 0s\n",
    "df2['logSsMean'] = np.log(df2.SsMean + 1)"
   ]
  },
  {
   "cell_type": "code",
   "execution_count": 92,
   "metadata": {},
   "outputs": [
    {
     "data": {
      "image/png": "[encoded data removed]",
      "text/plain": [
       "<Figure size 432x288 with 1 Axes>"
      ]
     },
     "metadata": {
      "needs_background": "light"
     },
     "output_type": "display_data"
    }
   ],
   "source": [
    "plt.hist(df2.logSsMean, bins=30)\n",
    "plt.show()"
   ]
  },
  {
   "cell_type": "code",
   "execution_count": 93,
   "metadata": {},
   "outputs": [],
   "source": [
    "# both year and location matter, sooooo averages have to be calculated for all of these separately"
   ]
  },
  {
   "cell_type": "code",
   "execution_count": 265,
   "metadata": {},
   "outputs": [],
   "source": [
    "# create rolling average function\n",
    "\n",
    "def rolling(data, col):\n",
    "    # -1 day data\n",
    "    name1 = col + '_1'\n",
    "    # shift by 1\n",
    "    lag1 = data[col].shift(1)\n",
    "    # assign to column  \n",
    "    data[name1] = lag1\n",
    "    \n",
    "    # -3 day mean\n",
    "    name3 = col + '_3'\n",
    "    # assign mean to column\n",
    "    window3 = lag1.rolling(window=3).mean()\n",
    "    data[name3] = window3\n",
    "    \n",
    "    # 7 day rolling mean leads to a lot of lost values\n",
    "    # -7 day mean\n",
    "    name7 = col + '_7'\n",
    "    # assign mean to column\n",
    "    window7 = lag1.rolling(window=7).mean()\n",
    "    data[name7] = window7\n",
    "    \n",
    "    # fill NaN's with june mean info so that we can keep as much data as possible\n",
    "    data[name1] = data[name1].fillna(value=data.iloc[1:7][name1].mean())\n",
    "    data[name3] = data[name3].fillna(value=data.iloc[6:10][name3].mean())\n",
    "    data[name7] = data[name7].fillna(value=data.iloc[:20][name7].mean())\n",
    "    \n",
    "    # return new dataframe\n",
    "    return data"
   ]
  },
  {
   "cell_type": "code",
   "execution_count": 266,
   "metadata": {},
   "outputs": [],
   "source": [
    "# create dfs for each location and year \n",
    "# (don't actually need to do year, because location names do not overlap b/w years)\n",
    "locations = df2['Location'].unique().tolist()\n",
    "\n",
    "dfa = df2.loc[df2['Location'] == locations[0]].copy()\n",
    "dfb = df2.loc[df2['Location'] == locations[1]].copy()\n",
    "dfc = df2.loc[df2['Location'] == locations[2]].copy()\n",
    "dfd = df2.loc[df2['Location'] == locations[3]].copy()\n",
    "dfe = df2.loc[df2['Location'] == locations[4]].copy()\n",
    "dff = df2.loc[df2['Location'] == locations[5]].copy()\n",
    "dfg = df2.loc[df2['Location'] == locations[6]].copy()\n",
    "dfh = df2.loc[df2['Location'] == locations[7]].copy()\n",
    "dfi = df2.loc[df2['Location'] == locations[8]].copy()"
   ]
  },
  {
   "cell_type": "code",
   "execution_count": 267,
   "metadata": {},
   "outputs": [],
   "source": [
    "# rolling mean wet\n",
    "df_list = [dfa, dfb, dfc, dfd, dfe, dff, dfg, dfh, dfi]\n",
    "\n",
    "for frame in df_list:\n",
    "    frame = rolling(frame, 'MeanWetness')"
   ]
  },
  {
   "cell_type": "code",
   "execution_count": 268,
   "metadata": {},
   "outputs": [],
   "source": [
    "# rolling mean temp\n",
    "df_list = [dfa, dfb, dfc, dfd, dfe, dff, dfg, dfh, dfi]\n",
    "\n",
    "for frame in df_list:\n",
    "    frame = rolling(frame, 'MeanTemp')"
   ]
  },
  {
   "cell_type": "code",
   "execution_count": 269,
   "metadata": {},
   "outputs": [],
   "source": [
    "# rolling max temp\n",
    "df_list = [dfa, dfb, dfc, dfd, dfe, dff, dfg, dfh, dfi]\n",
    "\n",
    "for frame in df_list:\n",
    "    frame = rolling(frame, 'MaxTemp')"
   ]
  },
  {
   "cell_type": "code",
   "execution_count": 270,
   "metadata": {},
   "outputs": [],
   "source": [
    "# rolling min temp\n",
    "df_list = [dfa, dfb, dfc, dfd, dfe, dff, dfg, dfh, dfi]\n",
    "\n",
    "for frame in df_list:\n",
    "    frame = rolling(frame, 'MinTemp')"
   ]
  },
  {
   "cell_type": "code",
   "execution_count": 271,
   "metadata": {},
   "outputs": [],
   "source": [
    "# rolling mean humidity\n",
    "df_list = [dfa, dfb, dfc, dfd, dfe, dff, dfg, dfh, dfi]\n",
    "\n",
    "for frame in df_list:\n",
    "    frame = rolling(frame, 'MeanRH')"
   ]
  },
  {
   "cell_type": "code",
   "execution_count": 272,
   "metadata": {},
   "outputs": [],
   "source": [
    "# rolling max humidity\n",
    "df_list = [dfa, dfb, dfc, dfd, dfe, dff, dfg, dfh, dfi]\n",
    "\n",
    "for frame in df_list:\n",
    "    frame = rolling(frame, 'MaxRH')"
   ]
  },
  {
   "cell_type": "code",
   "execution_count": 273,
   "metadata": {},
   "outputs": [],
   "source": [
    "# rolling min humidity\n",
    "df_list = [dfa, dfb, dfc, dfd, dfe, dff, dfg, dfh, dfi]\n",
    "\n",
    "for frame in df_list:\n",
    "    frame = rolling(frame, 'MinRH')"
   ]
  },
  {
   "cell_type": "code",
   "execution_count": 274,
   "metadata": {},
   "outputs": [],
   "source": [
    "# rolling mean WC\n",
    "df_list = [dfa, dfb, dfc, dfd, dfe, dff, dfg, dfh, dfi]\n",
    "\n",
    "for frame in df_list:\n",
    "    frame = rolling(frame, 'MeanWC')"
   ]
  },
  {
   "cell_type": "code",
   "execution_count": 275,
   "metadata": {},
   "outputs": [],
   "source": [
    "# rolling max WC\n",
    "df_list = [dfa, dfb, dfc, dfd, dfe, dff, dfg, dfh, dfi]\n",
    "\n",
    "for frame in df_list:\n",
    "    frame = rolling(frame, 'MaxWC')"
   ]
  },
  {
   "cell_type": "code",
   "execution_count": 276,
   "metadata": {},
   "outputs": [],
   "source": [
    "# rolling min WC\n",
    "df_list = [dfa, dfb, dfc, dfd, dfe, dff, dfg, dfh, dfi]\n",
    "\n",
    "for frame in df_list:\n",
    "    frame = rolling(frame, 'MinWC')"
   ]
  },
  {
   "cell_type": "code",
   "execution_count": 277,
   "metadata": {},
   "outputs": [],
   "source": [
    "# rolling mean DP\n",
    "df_list = [dfa, dfb, dfc, dfd, dfe, dff, dfg, dfh, dfi]\n",
    "\n",
    "for frame in df_list:\n",
    "    frame = rolling(frame, 'MeanDP')"
   ]
  },
  {
   "cell_type": "code",
   "execution_count": 278,
   "metadata": {},
   "outputs": [],
   "source": [
    "# rolling total rainfall\n",
    "df_list = [dfa, dfb, dfc, dfd, dfe, dff, dfg, dfh, dfi]\n",
    "\n",
    "for frame in df_list:\n",
    "    frame = rolling(frame, 'TotalPrecip')"
   ]
  },
  {
   "cell_type": "code",
   "execution_count": 279,
   "metadata": {},
   "outputs": [],
   "source": [
    "# rolling spore count\n",
    "df_list = [dfa, dfb, dfc, dfd, dfe, dff, dfg, dfh, dfi]\n",
    "\n",
    "for frame in df_list:\n",
    "    frame = rolling(frame, 'SsMean')"
   ]
  },
  {
   "cell_type": "code",
   "execution_count": 280,
   "metadata": {},
   "outputs": [],
   "source": [
    "# for precip to 3 day total\n",
    "def precip_3day(data):\n",
    "    # -1 day data\n",
    "    name = 'precip_3dTotal'   \n",
    "    # -3 day mean\n",
    "    width = 3\n",
    "    # shift by 3\n",
    "    lag = data['TotalPrecip'].shift(1)\n",
    "    # assign mean to column\n",
    "    window3 = lag.rolling(window=width).sum()\n",
    "    data[name] = window3\n",
    "    \n",
    "    # fill NaN's with june mean info so that we can keep as much data as possible\n",
    "    data[name] = data[name].fillna(value=data.iloc[6:10][name].mean())\n",
    "        \n",
    "    # return new dataframe\n",
    "    return data"
   ]
  },
  {
   "cell_type": "code",
   "execution_count": 281,
   "metadata": {},
   "outputs": [],
   "source": [
    "df_list = [dfa, dfb, dfc, dfd, dfe, dff, dfg, dfh, dfi]\n",
    "\n",
    "for frame in df_list:\n",
    "    frame = precip_3day(frame)"
   ]
  },
  {
   "cell_type": "code",
   "execution_count": 282,
   "metadata": {},
   "outputs": [],
   "source": [
    "# join dfs together\n",
    "df_list = [dfa, dfb, dfc, dfd, dfe, dff, dfg, dfh, dfi]\n",
    "df3 = pd.concat(df_list, axis=0)"
   ]
  },
  {
   "cell_type": "code",
   "execution_count": 283,
   "metadata": {},
   "outputs": [
    {
     "data": {
      "text/plain": [
       "(451, 61)"
      ]
     },
     "execution_count": 283,
     "metadata": {},
     "output_type": "execute_result"
    }
   ],
   "source": [
    "df3.shape"
   ]
  },
  {
   "cell_type": "code",
   "execution_count": 284,
   "metadata": {},
   "outputs": [
    {
     "data": {
      "text/plain": [
       "Location     0\n",
       "MinTemp_3    0\n",
       "MeanRH_1     0\n",
       "MeanRH_3     0\n",
       "MeanRH_7     0\n",
       "MaxRH_1      0\n",
       "MaxRH_3      0\n",
       "MaxRH_7      0\n",
       "MinRH_1      0\n",
       "MinRH_3      0\n",
       "dtype: int64"
      ]
     },
     "execution_count": 284,
     "metadata": {},
     "output_type": "execute_result"
    }
   ],
   "source": [
    "df3.isnull().sum().sort_values(ascending=False).head(10)"
   ]
  },
  {
   "cell_type": "code",
   "execution_count": 286,
   "metadata": {},
   "outputs": [],
   "source": [
    "df3.to_csv('JFE_data_18-19.csv')"
   ]
  },
  {
   "cell_type": "code",
   "execution_count": null,
   "metadata": {},
   "outputs": [],
   "source": []
  }
 ],
 "metadata": {
  "kernelspec": {
   "display_name": "lighthouse",
   "language": "python",
   "name": "lighthouse"
  },
  "language_info": {
   "codemirror_mode": {
    "name": "ipython",
    "version": 3
   },
   "file_extension": ".py",
   "mimetype": "text/x-python",
   "name": "python",
   "nbconvert_exporter": "python",
   "pygments_lexer": "ipython3",
   "version": "3.8.2"
  }
 },
 "nbformat": 4,
 "nbformat_minor": 4
}
