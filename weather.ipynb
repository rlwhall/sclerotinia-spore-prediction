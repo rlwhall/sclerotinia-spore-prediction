{
 "cells": [
  {
   "cell_type": "code",
   "execution_count": 1,
   "metadata": {},
   "outputs": [],
   "source": [
    "import pandas as pd"
   ]
  },
  {
   "cell_type": "code",
   "execution_count": 24,
   "metadata": {},
   "outputs": [],
   "source": [
    "# weather data from https://agriculture.alberta.ca/acis/weather-data-viewer.jsp"
   ]
  },
  {
   "cell_type": "code",
   "execution_count": 3,
   "metadata": {},
   "outputs": [],
   "source": [
    "df = pd.read_csv('data_and_location2.csv', index_col=0)"
   ]
  },
  {
   "cell_type": "code",
   "execution_count": 4,
   "metadata": {},
   "outputs": [
    {
     "data": {
      "text/html": [
       "<div>\n",
       "<style scoped>\n",
       "    .dataframe tbody tr th:only-of-type {\n",
       "        vertical-align: middle;\n",
       "    }\n",
       "\n",
       "    .dataframe tbody tr th {\n",
       "        vertical-align: top;\n",
       "    }\n",
       "\n",
       "    .dataframe thead th {\n",
       "        text-align: right;\n",
       "    }\n",
       "</style>\n",
       "<table border=\"1\" class=\"dataframe\">\n",
       "  <thead>\n",
       "    <tr style=\"text-align: right;\">\n",
       "      <th></th>\n",
       "      <th>FieldID</th>\n",
       "      <th>Date</th>\n",
       "      <th>Year_x</th>\n",
       "      <th>JDay</th>\n",
       "      <th>SsCtMean</th>\n",
       "      <th>SsCtSD</th>\n",
       "      <th>SsMean</th>\n",
       "      <th>logSsMean</th>\n",
       "      <th>TtCt</th>\n",
       "      <th>TtSD</th>\n",
       "      <th>...</th>\n",
       "      <th>Year_y</th>\n",
       "      <th>SamplerNo</th>\n",
       "      <th>CropType</th>\n",
       "      <th>Crop</th>\n",
       "      <th>Region</th>\n",
       "      <th>Province</th>\n",
       "      <th>SamplerPresent</th>\n",
       "      <th>SamplerType</th>\n",
       "      <th>Lat</th>\n",
       "      <th>Long</th>\n",
       "    </tr>\n",
       "  </thead>\n",
       "  <tbody>\n",
       "    <tr>\n",
       "      <th>0</th>\n",
       "      <td>1904</td>\n",
       "      <td>2019-07-05</td>\n",
       "      <td>2019</td>\n",
       "      <td>186</td>\n",
       "      <td>37.15</td>\n",
       "      <td>0.63</td>\n",
       "      <td>6.51</td>\n",
       "      <td>0.875640</td>\n",
       "      <td>23.60</td>\n",
       "      <td>0.10</td>\n",
       "      <td>...</td>\n",
       "      <td>2019.0</td>\n",
       "      <td>NaN</td>\n",
       "      <td>Bean</td>\n",
       "      <td>Bean</td>\n",
       "      <td>Vauxhall</td>\n",
       "      <td>Alberta</td>\n",
       "      <td>Yes</td>\n",
       "      <td>Burkard</td>\n",
       "      <td>49.869673</td>\n",
       "      <td>-112.076528</td>\n",
       "    </tr>\n",
       "    <tr>\n",
       "      <th>1</th>\n",
       "      <td>1904</td>\n",
       "      <td>2019-07-06</td>\n",
       "      <td>2019</td>\n",
       "      <td>187</td>\n",
       "      <td>40.00</td>\n",
       "      <td>0.00</td>\n",
       "      <td>0.00</td>\n",
       "      <td>0.000000</td>\n",
       "      <td>23.29</td>\n",
       "      <td>0.07</td>\n",
       "      <td>...</td>\n",
       "      <td>2019.0</td>\n",
       "      <td>NaN</td>\n",
       "      <td>Bean</td>\n",
       "      <td>Bean</td>\n",
       "      <td>Vauxhall</td>\n",
       "      <td>Alberta</td>\n",
       "      <td>Yes</td>\n",
       "      <td>Burkard</td>\n",
       "      <td>49.869673</td>\n",
       "      <td>-112.076528</td>\n",
       "    </tr>\n",
       "    <tr>\n",
       "      <th>2</th>\n",
       "      <td>1904</td>\n",
       "      <td>2019-07-07</td>\n",
       "      <td>2019</td>\n",
       "      <td>188</td>\n",
       "      <td>36.85</td>\n",
       "      <td>0.25</td>\n",
       "      <td>7.57</td>\n",
       "      <td>0.932981</td>\n",
       "      <td>23.40</td>\n",
       "      <td>0.07</td>\n",
       "      <td>...</td>\n",
       "      <td>2019.0</td>\n",
       "      <td>NaN</td>\n",
       "      <td>Bean</td>\n",
       "      <td>Bean</td>\n",
       "      <td>Vauxhall</td>\n",
       "      <td>Alberta</td>\n",
       "      <td>Yes</td>\n",
       "      <td>Burkard</td>\n",
       "      <td>49.869673</td>\n",
       "      <td>-112.076528</td>\n",
       "    </tr>\n",
       "    <tr>\n",
       "      <th>3</th>\n",
       "      <td>1904</td>\n",
       "      <td>2019-07-08</td>\n",
       "      <td>2019</td>\n",
       "      <td>189</td>\n",
       "      <td>38.80</td>\n",
       "      <td>0.76</td>\n",
       "      <td>2.32</td>\n",
       "      <td>0.521138</td>\n",
       "      <td>24.03</td>\n",
       "      <td>0.05</td>\n",
       "      <td>...</td>\n",
       "      <td>2019.0</td>\n",
       "      <td>NaN</td>\n",
       "      <td>Bean</td>\n",
       "      <td>Bean</td>\n",
       "      <td>Vauxhall</td>\n",
       "      <td>Alberta</td>\n",
       "      <td>Yes</td>\n",
       "      <td>Burkard</td>\n",
       "      <td>49.869673</td>\n",
       "      <td>-112.076528</td>\n",
       "    </tr>\n",
       "    <tr>\n",
       "      <th>4</th>\n",
       "      <td>1904</td>\n",
       "      <td>2019-07-09</td>\n",
       "      <td>2019</td>\n",
       "      <td>190</td>\n",
       "      <td>33.44</td>\n",
       "      <td>0.25</td>\n",
       "      <td>65.06</td>\n",
       "      <td>1.819939</td>\n",
       "      <td>24.41</td>\n",
       "      <td>0.08</td>\n",
       "      <td>...</td>\n",
       "      <td>2019.0</td>\n",
       "      <td>NaN</td>\n",
       "      <td>Bean</td>\n",
       "      <td>Bean</td>\n",
       "      <td>Vauxhall</td>\n",
       "      <td>Alberta</td>\n",
       "      <td>Yes</td>\n",
       "      <td>Burkard</td>\n",
       "      <td>49.869673</td>\n",
       "      <td>-112.076528</td>\n",
       "    </tr>\n",
       "  </tbody>\n",
       "</table>\n",
       "<p>5 rows × 85 columns</p>\n",
       "</div>"
      ],
      "text/plain": [
       "  FieldID        Date  Year_x  JDay SsCtMean  SsCtSD  SsMean  logSsMean  \\\n",
       "0    1904  2019-07-05    2019   186    37.15    0.63    6.51   0.875640   \n",
       "1    1904  2019-07-06    2019   187    40.00    0.00    0.00   0.000000   \n",
       "2    1904  2019-07-07    2019   188    36.85    0.25    7.57   0.932981   \n",
       "3    1904  2019-07-08    2019   189    38.80    0.76    2.32   0.521138   \n",
       "4    1904  2019-07-09    2019   190    33.44    0.25   65.06   1.819939   \n",
       "\n",
       "    TtCt  TtSD  ...  Year_y  SamplerNo  CropType  Crop    Region  Province  \\\n",
       "0  23.60  0.10  ...  2019.0        NaN      Bean  Bean  Vauxhall   Alberta   \n",
       "1  23.29  0.07  ...  2019.0        NaN      Bean  Bean  Vauxhall   Alberta   \n",
       "2  23.40  0.07  ...  2019.0        NaN      Bean  Bean  Vauxhall   Alberta   \n",
       "3  24.03  0.05  ...  2019.0        NaN      Bean  Bean  Vauxhall   Alberta   \n",
       "4  24.41  0.08  ...  2019.0        NaN      Bean  Bean  Vauxhall   Alberta   \n",
       "\n",
       "   SamplerPresent  SamplerType        Lat        Long  \n",
       "0             Yes      Burkard  49.869673 -112.076528  \n",
       "1             Yes      Burkard  49.869673 -112.076528  \n",
       "2             Yes      Burkard  49.869673 -112.076528  \n",
       "3             Yes      Burkard  49.869673 -112.076528  \n",
       "4             Yes      Burkard  49.869673 -112.076528  \n",
       "\n",
       "[5 rows x 85 columns]"
      ]
     },
     "execution_count": 4,
     "metadata": {},
     "output_type": "execute_result"
    }
   ],
   "source": [
    "df.head()"
   ]
  },
  {
   "cell_type": "code",
   "execution_count": 5,
   "metadata": {},
   "outputs": [],
   "source": [
    "df['Date'] = pd.to_datetime(df['Date'])"
   ]
  },
  {
   "cell_type": "code",
   "execution_count": 6,
   "metadata": {},
   "outputs": [],
   "source": [
    "df2 = df.sort_values(by='Date')"
   ]
  },
  {
   "cell_type": "code",
   "execution_count": 7,
   "metadata": {},
   "outputs": [
    {
     "data": {
      "text/html": [
       "<div>\n",
       "<style scoped>\n",
       "    .dataframe tbody tr th:only-of-type {\n",
       "        vertical-align: middle;\n",
       "    }\n",
       "\n",
       "    .dataframe tbody tr th {\n",
       "        vertical-align: top;\n",
       "    }\n",
       "\n",
       "    .dataframe thead th {\n",
       "        text-align: right;\n",
       "    }\n",
       "</style>\n",
       "<table border=\"1\" class=\"dataframe\">\n",
       "  <thead>\n",
       "    <tr style=\"text-align: right;\">\n",
       "      <th></th>\n",
       "      <th>FieldID</th>\n",
       "      <th>Date</th>\n",
       "      <th>Year_x</th>\n",
       "      <th>JDay</th>\n",
       "      <th>SsCtMean</th>\n",
       "      <th>SsCtSD</th>\n",
       "      <th>SsMean</th>\n",
       "      <th>logSsMean</th>\n",
       "      <th>TtCt</th>\n",
       "      <th>TtSD</th>\n",
       "      <th>...</th>\n",
       "      <th>Year_y</th>\n",
       "      <th>SamplerNo</th>\n",
       "      <th>CropType</th>\n",
       "      <th>Crop</th>\n",
       "      <th>Region</th>\n",
       "      <th>Province</th>\n",
       "      <th>SamplerPresent</th>\n",
       "      <th>SamplerType</th>\n",
       "      <th>Lat</th>\n",
       "      <th>Long</th>\n",
       "    </tr>\n",
       "  </thead>\n",
       "  <tbody>\n",
       "    <tr>\n",
       "      <th>905</th>\n",
       "      <td>Vauxhall</td>\n",
       "      <td>2018-06-13</td>\n",
       "      <td>2018</td>\n",
       "      <td>164</td>\n",
       "      <td>NaN</td>\n",
       "      <td>NaN</td>\n",
       "      <td>NaN</td>\n",
       "      <td>NaN</td>\n",
       "      <td>NaN</td>\n",
       "      <td>NaN</td>\n",
       "      <td>...</td>\n",
       "      <td>2019.0</td>\n",
       "      <td>NaN</td>\n",
       "      <td>City</td>\n",
       "      <td>NaN</td>\n",
       "      <td>Vauxhall</td>\n",
       "      <td>Alberta</td>\n",
       "      <td>No</td>\n",
       "      <td>NaN</td>\n",
       "      <td>50.070242</td>\n",
       "      <td>-112.106166</td>\n",
       "    </tr>\n",
       "    <tr>\n",
       "      <th>751</th>\n",
       "      <td>Cranford</td>\n",
       "      <td>2018-06-13</td>\n",
       "      <td>2018</td>\n",
       "      <td>164</td>\n",
       "      <td>NaN</td>\n",
       "      <td>NaN</td>\n",
       "      <td>295.04</td>\n",
       "      <td>2.471343</td>\n",
       "      <td>NaN</td>\n",
       "      <td>NaN</td>\n",
       "      <td>...</td>\n",
       "      <td>NaN</td>\n",
       "      <td>NaN</td>\n",
       "      <td>NaN</td>\n",
       "      <td>NaN</td>\n",
       "      <td>NaN</td>\n",
       "      <td>NaN</td>\n",
       "      <td>NaN</td>\n",
       "      <td>NaN</td>\n",
       "      <td>NaN</td>\n",
       "      <td>NaN</td>\n",
       "    </tr>\n",
       "    <tr>\n",
       "      <th>828</th>\n",
       "      <td>Taber</td>\n",
       "      <td>2018-06-13</td>\n",
       "      <td>2018</td>\n",
       "      <td>164</td>\n",
       "      <td>NaN</td>\n",
       "      <td>NaN</td>\n",
       "      <td>41.92</td>\n",
       "      <td>1.632693</td>\n",
       "      <td>NaN</td>\n",
       "      <td>NaN</td>\n",
       "      <td>...</td>\n",
       "      <td>2018.0</td>\n",
       "      <td>NaN</td>\n",
       "      <td>City</td>\n",
       "      <td>NaN</td>\n",
       "      <td>Taber</td>\n",
       "      <td>Alberta</td>\n",
       "      <td>No</td>\n",
       "      <td>NaN</td>\n",
       "      <td>49.785971</td>\n",
       "      <td>-112.152218</td>\n",
       "    </tr>\n",
       "    <tr>\n",
       "      <th>906</th>\n",
       "      <td>Vauxhall</td>\n",
       "      <td>2018-06-14</td>\n",
       "      <td>2018</td>\n",
       "      <td>165</td>\n",
       "      <td>NaN</td>\n",
       "      <td>NaN</td>\n",
       "      <td>NaN</td>\n",
       "      <td>NaN</td>\n",
       "      <td>NaN</td>\n",
       "      <td>NaN</td>\n",
       "      <td>...</td>\n",
       "      <td>2019.0</td>\n",
       "      <td>NaN</td>\n",
       "      <td>City</td>\n",
       "      <td>NaN</td>\n",
       "      <td>Vauxhall</td>\n",
       "      <td>Alberta</td>\n",
       "      <td>No</td>\n",
       "      <td>NaN</td>\n",
       "      <td>50.070242</td>\n",
       "      <td>-112.106166</td>\n",
       "    </tr>\n",
       "    <tr>\n",
       "      <th>752</th>\n",
       "      <td>Cranford</td>\n",
       "      <td>2018-06-14</td>\n",
       "      <td>2018</td>\n",
       "      <td>165</td>\n",
       "      <td>NaN</td>\n",
       "      <td>NaN</td>\n",
       "      <td>106.90</td>\n",
       "      <td>2.033021</td>\n",
       "      <td>NaN</td>\n",
       "      <td>NaN</td>\n",
       "      <td>...</td>\n",
       "      <td>NaN</td>\n",
       "      <td>NaN</td>\n",
       "      <td>NaN</td>\n",
       "      <td>NaN</td>\n",
       "      <td>NaN</td>\n",
       "      <td>NaN</td>\n",
       "      <td>NaN</td>\n",
       "      <td>NaN</td>\n",
       "      <td>NaN</td>\n",
       "      <td>NaN</td>\n",
       "    </tr>\n",
       "  </tbody>\n",
       "</table>\n",
       "<p>5 rows × 85 columns</p>\n",
       "</div>"
      ],
      "text/plain": [
       "      FieldID       Date  Year_x  JDay SsCtMean  SsCtSD  SsMean  logSsMean  \\\n",
       "905  Vauxhall 2018-06-13    2018   164      NaN     NaN     NaN        NaN   \n",
       "751  Cranford 2018-06-13    2018   164      NaN     NaN  295.04   2.471343   \n",
       "828     Taber 2018-06-13    2018   164      NaN     NaN   41.92   1.632693   \n",
       "906  Vauxhall 2018-06-14    2018   165      NaN     NaN     NaN        NaN   \n",
       "752  Cranford 2018-06-14    2018   165      NaN     NaN  106.90   2.033021   \n",
       "\n",
       "     TtCt  TtSD  ...  Year_y  SamplerNo  CropType  Crop    Region  Province  \\\n",
       "905   NaN   NaN  ...  2019.0        NaN      City   NaN  Vauxhall   Alberta   \n",
       "751   NaN   NaN  ...     NaN        NaN       NaN   NaN       NaN       NaN   \n",
       "828   NaN   NaN  ...  2018.0        NaN      City   NaN     Taber   Alberta   \n",
       "906   NaN   NaN  ...  2019.0        NaN      City   NaN  Vauxhall   Alberta   \n",
       "752   NaN   NaN  ...     NaN        NaN       NaN   NaN       NaN       NaN   \n",
       "\n",
       "     SamplerPresent  SamplerType        Lat        Long  \n",
       "905              No          NaN  50.070242 -112.106166  \n",
       "751             NaN          NaN        NaN         NaN  \n",
       "828              No          NaN  49.785971 -112.152218  \n",
       "906              No          NaN  50.070242 -112.106166  \n",
       "752             NaN          NaN        NaN         NaN  \n",
       "\n",
       "[5 rows x 85 columns]"
      ]
     },
     "execution_count": 7,
     "metadata": {},
     "output_type": "execute_result"
    }
   ],
   "source": [
    "df2.head()"
   ]
  },
  {
   "cell_type": "code",
   "execution_count": 8,
   "metadata": {},
   "outputs": [
    {
     "data": {
      "text/html": [
       "<div>\n",
       "<style scoped>\n",
       "    .dataframe tbody tr th:only-of-type {\n",
       "        vertical-align: middle;\n",
       "    }\n",
       "\n",
       "    .dataframe tbody tr th {\n",
       "        vertical-align: top;\n",
       "    }\n",
       "\n",
       "    .dataframe thead th {\n",
       "        text-align: right;\n",
       "    }\n",
       "</style>\n",
       "<table border=\"1\" class=\"dataframe\">\n",
       "  <thead>\n",
       "    <tr style=\"text-align: right;\">\n",
       "      <th></th>\n",
       "      <th>FieldID</th>\n",
       "      <th>Date</th>\n",
       "      <th>Year_x</th>\n",
       "      <th>JDay</th>\n",
       "      <th>SsCtMean</th>\n",
       "      <th>SsCtSD</th>\n",
       "      <th>SsMean</th>\n",
       "      <th>logSsMean</th>\n",
       "      <th>TtCt</th>\n",
       "      <th>TtSD</th>\n",
       "      <th>...</th>\n",
       "      <th>Year_y</th>\n",
       "      <th>SamplerNo</th>\n",
       "      <th>CropType</th>\n",
       "      <th>Crop</th>\n",
       "      <th>Region</th>\n",
       "      <th>Province</th>\n",
       "      <th>SamplerPresent</th>\n",
       "      <th>SamplerType</th>\n",
       "      <th>Lat</th>\n",
       "      <th>Long</th>\n",
       "    </tr>\n",
       "  </thead>\n",
       "  <tbody>\n",
       "    <tr>\n",
       "      <th>746</th>\n",
       "      <td>2042</td>\n",
       "      <td>2020-08-26</td>\n",
       "      <td>2020</td>\n",
       "      <td>239</td>\n",
       "      <td>NaN</td>\n",
       "      <td>NaN</td>\n",
       "      <td>15165.722660</td>\n",
       "      <td>4.181</td>\n",
       "      <td>NaN</td>\n",
       "      <td>NaN</td>\n",
       "      <td>...</td>\n",
       "      <td>2020.0</td>\n",
       "      <td>NaN</td>\n",
       "      <td>Bean disease nursery</td>\n",
       "      <td>Bean</td>\n",
       "      <td>Lethbridge</td>\n",
       "      <td>Alberta</td>\n",
       "      <td>Yes</td>\n",
       "      <td>Burkard</td>\n",
       "      <td>49.70232</td>\n",
       "      <td>-112.75915</td>\n",
       "    </tr>\n",
       "    <tr>\n",
       "      <th>747</th>\n",
       "      <td>2042</td>\n",
       "      <td>2020-08-27</td>\n",
       "      <td>2020</td>\n",
       "      <td>240</td>\n",
       "      <td>NaN</td>\n",
       "      <td>NaN</td>\n",
       "      <td>8115.201511</td>\n",
       "      <td>3.909</td>\n",
       "      <td>NaN</td>\n",
       "      <td>NaN</td>\n",
       "      <td>...</td>\n",
       "      <td>2020.0</td>\n",
       "      <td>NaN</td>\n",
       "      <td>Bean disease nursery</td>\n",
       "      <td>Bean</td>\n",
       "      <td>Lethbridge</td>\n",
       "      <td>Alberta</td>\n",
       "      <td>Yes</td>\n",
       "      <td>Burkard</td>\n",
       "      <td>49.70232</td>\n",
       "      <td>-112.75915</td>\n",
       "    </tr>\n",
       "    <tr>\n",
       "      <th>748</th>\n",
       "      <td>2042</td>\n",
       "      <td>2020-08-28</td>\n",
       "      <td>2020</td>\n",
       "      <td>241</td>\n",
       "      <td>NaN</td>\n",
       "      <td>NaN</td>\n",
       "      <td>3191.067340</td>\n",
       "      <td>3.504</td>\n",
       "      <td>NaN</td>\n",
       "      <td>NaN</td>\n",
       "      <td>...</td>\n",
       "      <td>2020.0</td>\n",
       "      <td>NaN</td>\n",
       "      <td>Bean disease nursery</td>\n",
       "      <td>Bean</td>\n",
       "      <td>Lethbridge</td>\n",
       "      <td>Alberta</td>\n",
       "      <td>Yes</td>\n",
       "      <td>Burkard</td>\n",
       "      <td>49.70232</td>\n",
       "      <td>-112.75915</td>\n",
       "    </tr>\n",
       "    <tr>\n",
       "      <th>749</th>\n",
       "      <td>2042</td>\n",
       "      <td>2020-08-29</td>\n",
       "      <td>2020</td>\n",
       "      <td>242</td>\n",
       "      <td>NaN</td>\n",
       "      <td>NaN</td>\n",
       "      <td>2569.229289</td>\n",
       "      <td>3.410</td>\n",
       "      <td>NaN</td>\n",
       "      <td>NaN</td>\n",
       "      <td>...</td>\n",
       "      <td>2020.0</td>\n",
       "      <td>NaN</td>\n",
       "      <td>Bean disease nursery</td>\n",
       "      <td>Bean</td>\n",
       "      <td>Lethbridge</td>\n",
       "      <td>Alberta</td>\n",
       "      <td>Yes</td>\n",
       "      <td>Burkard</td>\n",
       "      <td>49.70232</td>\n",
       "      <td>-112.75915</td>\n",
       "    </tr>\n",
       "    <tr>\n",
       "      <th>750</th>\n",
       "      <td>2042</td>\n",
       "      <td>2020-08-30</td>\n",
       "      <td>2020</td>\n",
       "      <td>243</td>\n",
       "      <td>NaN</td>\n",
       "      <td>NaN</td>\n",
       "      <td>729.416321</td>\n",
       "      <td>2.864</td>\n",
       "      <td>NaN</td>\n",
       "      <td>NaN</td>\n",
       "      <td>...</td>\n",
       "      <td>2020.0</td>\n",
       "      <td>NaN</td>\n",
       "      <td>Bean disease nursery</td>\n",
       "      <td>Bean</td>\n",
       "      <td>Lethbridge</td>\n",
       "      <td>Alberta</td>\n",
       "      <td>Yes</td>\n",
       "      <td>Burkard</td>\n",
       "      <td>49.70232</td>\n",
       "      <td>-112.75915</td>\n",
       "    </tr>\n",
       "  </tbody>\n",
       "</table>\n",
       "<p>5 rows × 85 columns</p>\n",
       "</div>"
      ],
      "text/plain": [
       "    FieldID       Date  Year_x  JDay SsCtMean  SsCtSD        SsMean  \\\n",
       "746    2042 2020-08-26    2020   239      NaN     NaN  15165.722660   \n",
       "747    2042 2020-08-27    2020   240      NaN     NaN   8115.201511   \n",
       "748    2042 2020-08-28    2020   241      NaN     NaN   3191.067340   \n",
       "749    2042 2020-08-29    2020   242      NaN     NaN   2569.229289   \n",
       "750    2042 2020-08-30    2020   243      NaN     NaN    729.416321   \n",
       "\n",
       "     logSsMean  TtCt  TtSD  ...  Year_y  SamplerNo              CropType  \\\n",
       "746      4.181   NaN   NaN  ...  2020.0        NaN  Bean disease nursery   \n",
       "747      3.909   NaN   NaN  ...  2020.0        NaN  Bean disease nursery   \n",
       "748      3.504   NaN   NaN  ...  2020.0        NaN  Bean disease nursery   \n",
       "749      3.410   NaN   NaN  ...  2020.0        NaN  Bean disease nursery   \n",
       "750      2.864   NaN   NaN  ...  2020.0        NaN  Bean disease nursery   \n",
       "\n",
       "     Crop      Region  Province  SamplerPresent  SamplerType       Lat  \\\n",
       "746  Bean  Lethbridge   Alberta             Yes      Burkard  49.70232   \n",
       "747  Bean  Lethbridge   Alberta             Yes      Burkard  49.70232   \n",
       "748  Bean  Lethbridge   Alberta             Yes      Burkard  49.70232   \n",
       "749  Bean  Lethbridge   Alberta             Yes      Burkard  49.70232   \n",
       "750  Bean  Lethbridge   Alberta             Yes      Burkard  49.70232   \n",
       "\n",
       "          Long  \n",
       "746 -112.75915  \n",
       "747 -112.75915  \n",
       "748 -112.75915  \n",
       "749 -112.75915  \n",
       "750 -112.75915  \n",
       "\n",
       "[5 rows x 85 columns]"
      ]
     },
     "execution_count": 8,
     "metadata": {},
     "output_type": "execute_result"
    }
   ],
   "source": [
    "df2.tail()"
   ]
  },
  {
   "cell_type": "code",
   "execution_count": 10,
   "metadata": {},
   "outputs": [
    {
     "data": {
      "text/plain": [
       "array(['Vauxhall', 'Cranford', 'Taber', '1919', '1920', '1921', '1906',\n",
       "       '1910', '1922', '1904', '1917', '1915', '2007', '2006', '2042',\n",
       "       '2001', '2004'], dtype=object)"
      ]
     },
     "execution_count": 10,
     "metadata": {},
     "output_type": "execute_result"
    }
   ],
   "source": [
    "# 2018 dates start on June 13, 2020 dates end on Aug 30\n",
    "df2['FieldID'].unique()"
   ]
  },
  {
   "cell_type": "code",
   "execution_count": null,
   "metadata": {},
   "outputs": [],
   "source": [
    "# vauxhall = FieldID 1814\n",
    "# Taber = FieldID 1804\n",
    "# Cranford = FieldID 1810"
   ]
  },
  {
   "cell_type": "markdown",
   "metadata": {},
   "source": [
    "rolling hills weather: 'vauxhall' \\\n",
    "barnwell weather: 'cranford' \\\n",
    "lethbridge weather: 1919, 1920, 1921, 1922, 2042 \\\n",
    "vauxhall weather: 1906, 1910, 2007 \\\n",
    "fincastle weather: 1904 \\\n",
    "bow weather = 1917, 2006, 2004, 'taber' \\\n",
    "bow north weather = 1915 \\\n",
    "grassy lake weather: 2001"
   ]
  },
  {
   "cell_type": "code",
   "execution_count": 28,
   "metadata": {},
   "outputs": [],
   "source": [
    "rolling_hills1 = pd.read_csv('rolling_hills_18-19.csv')\n",
    "rolling_hills2 = pd.read_csv('rolling_hills_20.csv')\n",
    "rolling_hills = pd.concat([rolling_hills1, rolling_hills2], ignore_index=True)"
   ]
  },
  {
   "cell_type": "code",
   "execution_count": 18,
   "metadata": {
    "collapsed": true,
    "jupyter": {
     "outputs_hidden": true
    }
   },
   "outputs": [
    {
     "data": {
      "text/html": [
       "<div>\n",
       "<style scoped>\n",
       "    .dataframe tbody tr th:only-of-type {\n",
       "        vertical-align: middle;\n",
       "    }\n",
       "\n",
       "    .dataframe tbody tr th {\n",
       "        vertical-align: top;\n",
       "    }\n",
       "\n",
       "    .dataframe thead th {\n",
       "        text-align: right;\n",
       "    }\n",
       "</style>\n",
       "<table border=\"1\" class=\"dataframe\">\n",
       "  <thead>\n",
       "    <tr style=\"text-align: right;\">\n",
       "      <th></th>\n",
       "      <th>Station Name</th>\n",
       "      <th>Date (Local Standard Time)</th>\n",
       "      <th>Air Temp. Min. (�C)</th>\n",
       "      <th>Air Temp. Min. Source Flag</th>\n",
       "      <th>Air Temp. Min. Record Completeness (%)</th>\n",
       "      <th>Air Temp. Max. (�C)</th>\n",
       "      <th>Air Temp. Max. Source Flag</th>\n",
       "      <th>Air Temp. Max. Record Completeness (%)</th>\n",
       "      <th>Air Temp. Avg. (�C)</th>\n",
       "      <th>Air Temp. Avg. Source Flag</th>\n",
       "      <th>...</th>\n",
       "      <th>Wind Speed 2 m Avg. Record Completeness (%)</th>\n",
       "      <th>Wind Speed 10 m Avg. (km/h)</th>\n",
       "      <th>Wind Speed 10 m Avg. Source Flag</th>\n",
       "      <th>Wind Speed 10 m Avg. Record Completeness (%)</th>\n",
       "      <th>Wind Dir. 10 m Avg. (�)</th>\n",
       "      <th>Wind Dir. 10 m Avg. Source Flag</th>\n",
       "      <th>Wind Dir. 10 m Avg. Record Completeness (%)</th>\n",
       "      <th>Frost Probability 0�C (%)</th>\n",
       "      <th>Frost Probability 0�C Source Flag</th>\n",
       "      <th>Frost Probability 0�C Record Completeness (%)</th>\n",
       "    </tr>\n",
       "  </thead>\n",
       "  <tbody>\n",
       "    <tr>\n",
       "      <th>595</th>\n",
       "      <td>Rolling Hills AGCM</td>\n",
       "      <td>25-September-2020</td>\n",
       "      <td>7.8</td>\n",
       "      <td>ACTUAL</td>\n",
       "      <td>100.0</td>\n",
       "      <td>19.6</td>\n",
       "      <td>ACTUAL</td>\n",
       "      <td>100.0</td>\n",
       "      <td>13.5</td>\n",
       "      <td>AGGREGATED</td>\n",
       "      <td>...</td>\n",
       "      <td>100.0</td>\n",
       "      <td>29.2</td>\n",
       "      <td>AGGREGATED</td>\n",
       "      <td>100.0</td>\n",
       "      <td>229.7</td>\n",
       "      <td>AGGREGATED</td>\n",
       "      <td>100.0</td>\n",
       "      <td>74.6</td>\n",
       "      <td>COMPUTED</td>\n",
       "      <td>NaN</td>\n",
       "    </tr>\n",
       "    <tr>\n",
       "      <th>596</th>\n",
       "      <td>Rolling Hills AGCM</td>\n",
       "      <td>26-September-2020</td>\n",
       "      <td>5.6</td>\n",
       "      <td>ACTUAL</td>\n",
       "      <td>100.0</td>\n",
       "      <td>18.4</td>\n",
       "      <td>ACTUAL</td>\n",
       "      <td>100.0</td>\n",
       "      <td>11.8</td>\n",
       "      <td>AGGREGATED</td>\n",
       "      <td>...</td>\n",
       "      <td>100.0</td>\n",
       "      <td>20.8</td>\n",
       "      <td>AGGREGATED</td>\n",
       "      <td>100.0</td>\n",
       "      <td>264.0</td>\n",
       "      <td>AGGREGATED</td>\n",
       "      <td>100.0</td>\n",
       "      <td>74.6</td>\n",
       "      <td>COMPUTED</td>\n",
       "      <td>NaN</td>\n",
       "    </tr>\n",
       "    <tr>\n",
       "      <th>597</th>\n",
       "      <td>Rolling Hills AGCM</td>\n",
       "      <td>27-September-2020</td>\n",
       "      <td>0.5</td>\n",
       "      <td>ACTUAL</td>\n",
       "      <td>100.0</td>\n",
       "      <td>18.5</td>\n",
       "      <td>ACTUAL</td>\n",
       "      <td>100.0</td>\n",
       "      <td>8.8</td>\n",
       "      <td>AGGREGATED</td>\n",
       "      <td>...</td>\n",
       "      <td>100.0</td>\n",
       "      <td>15.2</td>\n",
       "      <td>AGGREGATED</td>\n",
       "      <td>100.0</td>\n",
       "      <td>284.2</td>\n",
       "      <td>AGGREGATED</td>\n",
       "      <td>100.0</td>\n",
       "      <td>79.7</td>\n",
       "      <td>COMPUTED</td>\n",
       "      <td>NaN</td>\n",
       "    </tr>\n",
       "    <tr>\n",
       "      <th>598</th>\n",
       "      <td>Rolling Hills AGCM</td>\n",
       "      <td>28-September-2020</td>\n",
       "      <td>0.5</td>\n",
       "      <td>ACTUAL</td>\n",
       "      <td>100.0</td>\n",
       "      <td>23.3</td>\n",
       "      <td>ACTUAL</td>\n",
       "      <td>100.0</td>\n",
       "      <td>11.8</td>\n",
       "      <td>AGGREGATED</td>\n",
       "      <td>...</td>\n",
       "      <td>100.0</td>\n",
       "      <td>11.9</td>\n",
       "      <td>AGGREGATED</td>\n",
       "      <td>100.0</td>\n",
       "      <td>206.5</td>\n",
       "      <td>AGGREGATED</td>\n",
       "      <td>100.0</td>\n",
       "      <td>79.7</td>\n",
       "      <td>COMPUTED</td>\n",
       "      <td>NaN</td>\n",
       "    </tr>\n",
       "    <tr>\n",
       "      <th>599</th>\n",
       "      <td>Rolling Hills AGCM</td>\n",
       "      <td>29-September-2020</td>\n",
       "      <td>6.0</td>\n",
       "      <td>ACTUAL</td>\n",
       "      <td>100.0</td>\n",
       "      <td>20.6</td>\n",
       "      <td>ACTUAL</td>\n",
       "      <td>100.0</td>\n",
       "      <td>13.8</td>\n",
       "      <td>AGGREGATED</td>\n",
       "      <td>...</td>\n",
       "      <td>100.0</td>\n",
       "      <td>14.2</td>\n",
       "      <td>AGGREGATED</td>\n",
       "      <td>100.0</td>\n",
       "      <td>334.4</td>\n",
       "      <td>AGGREGATED</td>\n",
       "      <td>100.0</td>\n",
       "      <td>81.4</td>\n",
       "      <td>COMPUTED</td>\n",
       "      <td>NaN</td>\n",
       "    </tr>\n",
       "  </tbody>\n",
       "</table>\n",
       "<p>5 rows × 32 columns</p>\n",
       "</div>"
      ],
      "text/plain": [
       "           Station Name Date (Local Standard Time)  Air Temp. Min. (�C)  \\\n",
       "595  Rolling Hills AGCM          25-September-2020                  7.8   \n",
       "596  Rolling Hills AGCM          26-September-2020                  5.6   \n",
       "597  Rolling Hills AGCM          27-September-2020                  0.5   \n",
       "598  Rolling Hills AGCM          28-September-2020                  0.5   \n",
       "599  Rolling Hills AGCM          29-September-2020                  6.0   \n",
       "\n",
       "    Air Temp. Min. Source Flag  Air Temp. Min. Record Completeness (%)  \\\n",
       "595                     ACTUAL                                   100.0   \n",
       "596                     ACTUAL                                   100.0   \n",
       "597                     ACTUAL                                   100.0   \n",
       "598                     ACTUAL                                   100.0   \n",
       "599                     ACTUAL                                   100.0   \n",
       "\n",
       "     Air Temp. Max. (�C) Air Temp. Max. Source Flag  \\\n",
       "595                 19.6                     ACTUAL   \n",
       "596                 18.4                     ACTUAL   \n",
       "597                 18.5                     ACTUAL   \n",
       "598                 23.3                     ACTUAL   \n",
       "599                 20.6                     ACTUAL   \n",
       "\n",
       "     Air Temp. Max. Record Completeness (%)  Air Temp. Avg. (�C)  \\\n",
       "595                                   100.0                 13.5   \n",
       "596                                   100.0                 11.8   \n",
       "597                                   100.0                  8.8   \n",
       "598                                   100.0                 11.8   \n",
       "599                                   100.0                 13.8   \n",
       "\n",
       "    Air Temp. Avg. Source Flag  ...  \\\n",
       "595                 AGGREGATED  ...   \n",
       "596                 AGGREGATED  ...   \n",
       "597                 AGGREGATED  ...   \n",
       "598                 AGGREGATED  ...   \n",
       "599                 AGGREGATED  ...   \n",
       "\n",
       "     Wind Speed 2 m Avg. Record Completeness (%)  Wind Speed 10 m Avg. (km/h)  \\\n",
       "595                                        100.0                         29.2   \n",
       "596                                        100.0                         20.8   \n",
       "597                                        100.0                         15.2   \n",
       "598                                        100.0                         11.9   \n",
       "599                                        100.0                         14.2   \n",
       "\n",
       "    Wind Speed 10 m Avg. Source Flag  \\\n",
       "595                       AGGREGATED   \n",
       "596                       AGGREGATED   \n",
       "597                       AGGREGATED   \n",
       "598                       AGGREGATED   \n",
       "599                       AGGREGATED   \n",
       "\n",
       "     Wind Speed 10 m Avg. Record Completeness (%)  Wind Dir. 10 m Avg. (�)  \\\n",
       "595                                         100.0                    229.7   \n",
       "596                                         100.0                    264.0   \n",
       "597                                         100.0                    284.2   \n",
       "598                                         100.0                    206.5   \n",
       "599                                         100.0                    334.4   \n",
       "\n",
       "    Wind Dir. 10 m Avg. Source Flag  \\\n",
       "595                      AGGREGATED   \n",
       "596                      AGGREGATED   \n",
       "597                      AGGREGATED   \n",
       "598                      AGGREGATED   \n",
       "599                      AGGREGATED   \n",
       "\n",
       "    Wind Dir. 10 m Avg. Record Completeness (%)  Frost Probability 0�C (%)  \\\n",
       "595                                       100.0                       74.6   \n",
       "596                                       100.0                       74.6   \n",
       "597                                       100.0                       79.7   \n",
       "598                                       100.0                       79.7   \n",
       "599                                       100.0                       81.4   \n",
       "\n",
       "    Frost Probability 0�C Source Flag  \\\n",
       "595                          COMPUTED   \n",
       "596                          COMPUTED   \n",
       "597                          COMPUTED   \n",
       "598                          COMPUTED   \n",
       "599                          COMPUTED   \n",
       "\n",
       "    Frost Probability 0�C Record Completeness (%)  \n",
       "595                                           NaN  \n",
       "596                                           NaN  \n",
       "597                                           NaN  \n",
       "598                                           NaN  \n",
       "599                                           NaN  \n",
       "\n",
       "[5 rows x 32 columns]"
      ]
     },
     "execution_count": 18,
     "metadata": {},
     "output_type": "execute_result"
    }
   ],
   "source": [
    "rolling_hills.tail()"
   ]
  },
  {
   "cell_type": "code",
   "execution_count": 19,
   "metadata": {},
   "outputs": [
    {
     "data": {
      "text/plain": [
       "(600, 32)"
      ]
     },
     "execution_count": 19,
     "metadata": {},
     "output_type": "execute_result"
    }
   ],
   "source": [
    "rolling_hills.shape"
   ]
  },
  {
   "cell_type": "code",
   "execution_count": 20,
   "metadata": {
    "collapsed": true,
    "jupyter": {
     "outputs_hidden": true
    }
   },
   "outputs": [
    {
     "data": {
      "text/plain": [
       "Index(['Station Name', 'Date (Local Standard Time)', 'Air Temp. Min. (�C)',\n",
       "       'Air Temp. Min. Source Flag', 'Air Temp. Min. Record Completeness (%)',\n",
       "       'Air Temp. Max. (�C)', 'Air Temp. Max. Source Flag',\n",
       "       'Air Temp. Max. Record Completeness (%)', 'Air Temp. Avg. (�C)',\n",
       "       'Air Temp. Avg. Source Flag', 'Air Temp. Avg. Record Completeness (%)',\n",
       "       'Humidity Avg. (%)', 'Humidity Avg. Source Flag',\n",
       "       'Humidity Avg. Record Completeness (%)', 'Precip. Accumulated (mm)',\n",
       "       'Precip. Accumulated Source Flag', 'Precip. Accumulated Comment',\n",
       "       'Precip. (mm)', 'Precip. Source Flag', 'Precip. Comment',\n",
       "       'Wind Speed 2 m Avg. (km/h)', 'Wind Speed 2 m Avg. Source Flag',\n",
       "       'Wind Speed 2 m Avg. Record Completeness (%)',\n",
       "       'Wind Speed 10 m Avg. (km/h)', 'Wind Speed 10 m Avg. Source Flag',\n",
       "       'Wind Speed 10 m Avg. Record Completeness (%)',\n",
       "       'Wind Dir. 10 m Avg. (�)', 'Wind Dir. 10 m Avg. Source Flag',\n",
       "       'Wind Dir. 10 m Avg. Record Completeness (%)',\n",
       "       'Frost Probability 0�C (%)', 'Frost Probability 0�C Source Flag',\n",
       "       'Frost Probability 0�C Record Completeness (%)'],\n",
       "      dtype='object')"
      ]
     },
     "execution_count": 20,
     "metadata": {},
     "output_type": "execute_result"
    }
   ],
   "source": [
    "rolling_hills.columns"
   ]
  },
  {
   "cell_type": "code",
   "execution_count": 29,
   "metadata": {},
   "outputs": [],
   "source": [
    "to_drop = [\n",
    "       'Air Temp. Min. Source Flag', 'Air Temp. Min. Record Completeness (%)',\n",
    "       'Air Temp. Max. Source Flag',\n",
    "       'Air Temp. Max. Record Completeness (%)', \n",
    "       'Air Temp. Avg. Source Flag', 'Air Temp. Avg. Record Completeness (%)',\n",
    "       'Humidity Avg. Source Flag',\n",
    "       'Humidity Avg. Record Completeness (%)', \n",
    "       'Precip. Accumulated Source Flag', 'Precip. Accumulated Comment',\n",
    "        'Precip. Source Flag', 'Precip. Comment',\n",
    "    'Wind Speed 2 m Avg. Source Flag',\n",
    "       'Wind Speed 2 m Avg. Record Completeness (%)',\n",
    "        'Wind Speed 10 m Avg. Source Flag',\n",
    "       'Wind Speed 10 m Avg. Record Completeness (%)',\n",
    "    'Wind Dir. 10 m Avg. Source Flag',\n",
    "       'Wind Dir. 10 m Avg. Record Completeness (%)',\n",
    "       'Frost Probability 0�C Source Flag',\n",
    "       'Frost Probability 0�C Record Completeness (%)', \n",
    "'Precip. Accumulated (mm)']\n",
    "\n",
    "rolling_hills.drop(labels=to_drop, axis=1, inplace=True)"
   ]
  },
  {
   "cell_type": "code",
   "execution_count": 32,
   "metadata": {},
   "outputs": [
    {
     "data": {
      "text/html": [
       "<div>\n",
       "<style scoped>\n",
       "    .dataframe tbody tr th:only-of-type {\n",
       "        vertical-align: middle;\n",
       "    }\n",
       "\n",
       "    .dataframe tbody tr th {\n",
       "        vertical-align: top;\n",
       "    }\n",
       "\n",
       "    .dataframe thead th {\n",
       "        text-align: right;\n",
       "    }\n",
       "</style>\n",
       "<table border=\"1\" class=\"dataframe\">\n",
       "  <thead>\n",
       "    <tr style=\"text-align: right;\">\n",
       "      <th></th>\n",
       "      <th>Station</th>\n",
       "      <th>Date</th>\n",
       "      <th>MinTemp</th>\n",
       "      <th>MaxTemp</th>\n",
       "      <th>MeanTemp</th>\n",
       "      <th>MeanRH</th>\n",
       "      <th>Precip</th>\n",
       "      <th>Wind2</th>\n",
       "      <th>Wind10</th>\n",
       "      <th>Wind10Dir</th>\n",
       "      <th>Frost</th>\n",
       "    </tr>\n",
       "  </thead>\n",
       "  <tbody>\n",
       "    <tr>\n",
       "      <th>0</th>\n",
       "      <td>Rolling Hills AGCM</td>\n",
       "      <td>27-May-2018</td>\n",
       "      <td>5.6</td>\n",
       "      <td>27.9</td>\n",
       "      <td>18.7</td>\n",
       "      <td>57.0</td>\n",
       "      <td>0.0</td>\n",
       "      <td>9.9</td>\n",
       "      <td>11.5</td>\n",
       "      <td>68.1</td>\n",
       "      <td>10.2</td>\n",
       "    </tr>\n",
       "    <tr>\n",
       "      <th>1</th>\n",
       "      <td>Rolling Hills AGCM</td>\n",
       "      <td>28-May-2018</td>\n",
       "      <td>9.5</td>\n",
       "      <td>31.6</td>\n",
       "      <td>21.8</td>\n",
       "      <td>44.8</td>\n",
       "      <td>0.0</td>\n",
       "      <td>16.3</td>\n",
       "      <td>20.1</td>\n",
       "      <td>182.7</td>\n",
       "      <td>8.5</td>\n",
       "    </tr>\n",
       "    <tr>\n",
       "      <th>2</th>\n",
       "      <td>Rolling Hills AGCM</td>\n",
       "      <td>29-May-2018</td>\n",
       "      <td>11.1</td>\n",
       "      <td>22.1</td>\n",
       "      <td>17.3</td>\n",
       "      <td>42.3</td>\n",
       "      <td>0.0</td>\n",
       "      <td>19.9</td>\n",
       "      <td>25.3</td>\n",
       "      <td>341.5</td>\n",
       "      <td>8.5</td>\n",
       "    </tr>\n",
       "    <tr>\n",
       "      <th>3</th>\n",
       "      <td>Rolling Hills AGCM</td>\n",
       "      <td>30-May-2018</td>\n",
       "      <td>7.9</td>\n",
       "      <td>20.4</td>\n",
       "      <td>13.0</td>\n",
       "      <td>65.4</td>\n",
       "      <td>6.1</td>\n",
       "      <td>13.0</td>\n",
       "      <td>15.9</td>\n",
       "      <td>344.6</td>\n",
       "      <td>8.5</td>\n",
       "    </tr>\n",
       "    <tr>\n",
       "      <th>4</th>\n",
       "      <td>Rolling Hills AGCM</td>\n",
       "      <td>31-May-2018</td>\n",
       "      <td>4.2</td>\n",
       "      <td>10.2</td>\n",
       "      <td>8.5</td>\n",
       "      <td>92.5</td>\n",
       "      <td>5.2</td>\n",
       "      <td>14.8</td>\n",
       "      <td>18.2</td>\n",
       "      <td>40.0</td>\n",
       "      <td>6.8</td>\n",
       "    </tr>\n",
       "  </tbody>\n",
       "</table>\n",
       "</div>"
      ],
      "text/plain": [
       "              Station         Date  MinTemp  MaxTemp  MeanTemp  MeanRH  \\\n",
       "0  Rolling Hills AGCM  27-May-2018      5.6     27.9      18.7    57.0   \n",
       "1  Rolling Hills AGCM  28-May-2018      9.5     31.6      21.8    44.8   \n",
       "2  Rolling Hills AGCM  29-May-2018     11.1     22.1      17.3    42.3   \n",
       "3  Rolling Hills AGCM  30-May-2018      7.9     20.4      13.0    65.4   \n",
       "4  Rolling Hills AGCM  31-May-2018      4.2     10.2       8.5    92.5   \n",
       "\n",
       "   Precip  Wind2  Wind10  Wind10Dir  Frost  \n",
       "0     0.0    9.9    11.5       68.1   10.2  \n",
       "1     0.0   16.3    20.1      182.7    8.5  \n",
       "2     0.0   19.9    25.3      341.5    8.5  \n",
       "3     6.1   13.0    15.9      344.6    8.5  \n",
       "4     5.2   14.8    18.2       40.0    6.8  "
      ]
     },
     "execution_count": 32,
     "metadata": {},
     "output_type": "execute_result"
    }
   ],
   "source": [
    "rolling_hills.head()"
   ]
  },
  {
   "cell_type": "code",
   "execution_count": 31,
   "metadata": {},
   "outputs": [],
   "source": [
    "# rename columns\n",
    "rolling_hills.columns = ['Station','Date','MinTemp','MaxTemp','MeanTemp','MeanRH','Precip','Wind2','Wind10','Wind10Dir','Frost']"
   ]
  },
  {
   "cell_type": "code",
   "execution_count": null,
   "metadata": {},
   "outputs": [],
   "source": []
  },
  {
   "cell_type": "code",
   "execution_count": null,
   "metadata": {},
   "outputs": [],
   "source": []
  },
  {
   "cell_type": "code",
   "execution_count": 35,
   "metadata": {},
   "outputs": [],
   "source": [
    "taber.to_csv('taber_processed_18-19.csv')"
   ]
  },
  {
   "cell_type": "code",
   "execution_count": 36,
   "metadata": {},
   "outputs": [],
   "source": [
    "gl = pd.read_csv('grassy_lake_1915_1917_18-19.csv')"
   ]
  },
  {
   "cell_type": "code",
   "execution_count": 37,
   "metadata": {},
   "outputs": [],
   "source": [
    "gl.drop(labels=to_drop, axis=1, inplace=True)"
   ]
  },
  {
   "cell_type": "code",
   "execution_count": 38,
   "metadata": {
    "collapsed": true,
    "jupyter": {
     "outputs_hidden": true
    }
   },
   "outputs": [
    {
     "data": {
      "text/html": [
       "<div>\n",
       "<style scoped>\n",
       "    .dataframe tbody tr th:only-of-type {\n",
       "        vertical-align: middle;\n",
       "    }\n",
       "\n",
       "    .dataframe tbody tr th {\n",
       "        vertical-align: top;\n",
       "    }\n",
       "\n",
       "    .dataframe thead th {\n",
       "        text-align: right;\n",
       "    }\n",
       "</style>\n",
       "<table border=\"1\" class=\"dataframe\">\n",
       "  <thead>\n",
       "    <tr style=\"text-align: right;\">\n",
       "      <th></th>\n",
       "      <th>Station Name</th>\n",
       "      <th>Date (Local Standard Time)</th>\n",
       "      <th>Air Temp. Min. (�C)</th>\n",
       "      <th>Air Temp. Max. (�C)</th>\n",
       "      <th>Air Temp. Avg. (�C)</th>\n",
       "      <th>Humidity Avg. (%)</th>\n",
       "      <th>Precip. (mm)</th>\n",
       "      <th>Wind Speed 10 m Avg. (km/h)</th>\n",
       "      <th>Frost Probability 0�C (%)</th>\n",
       "    </tr>\n",
       "  </thead>\n",
       "  <tbody>\n",
       "    <tr>\n",
       "      <th>0</th>\n",
       "      <td>Grassy Lake IMCIN</td>\n",
       "      <td>01-June-2018</td>\n",
       "      <td>9.1</td>\n",
       "      <td>16.0</td>\n",
       "      <td>11.2</td>\n",
       "      <td>87.3</td>\n",
       "      <td>13.4</td>\n",
       "      <td>14.3</td>\n",
       "      <td>1.7</td>\n",
       "    </tr>\n",
       "    <tr>\n",
       "      <th>1</th>\n",
       "      <td>Grassy Lake IMCIN</td>\n",
       "      <td>02-June-2018</td>\n",
       "      <td>6.8</td>\n",
       "      <td>23.0</td>\n",
       "      <td>15.6</td>\n",
       "      <td>56.9</td>\n",
       "      <td>0.0</td>\n",
       "      <td>18.7</td>\n",
       "      <td>1.7</td>\n",
       "    </tr>\n",
       "    <tr>\n",
       "      <th>2</th>\n",
       "      <td>Grassy Lake IMCIN</td>\n",
       "      <td>03-June-2018</td>\n",
       "      <td>6.8</td>\n",
       "      <td>25.7</td>\n",
       "      <td>17.2</td>\n",
       "      <td>55.8</td>\n",
       "      <td>0.0</td>\n",
       "      <td>13.1</td>\n",
       "      <td>1.7</td>\n",
       "    </tr>\n",
       "    <tr>\n",
       "      <th>3</th>\n",
       "      <td>Grassy Lake IMCIN</td>\n",
       "      <td>04-June-2018</td>\n",
       "      <td>12.5</td>\n",
       "      <td>26.7</td>\n",
       "      <td>19.6</td>\n",
       "      <td>46.5</td>\n",
       "      <td>0.0</td>\n",
       "      <td>23.7</td>\n",
       "      <td>1.7</td>\n",
       "    </tr>\n",
       "    <tr>\n",
       "      <th>4</th>\n",
       "      <td>Grassy Lake IMCIN</td>\n",
       "      <td>05-June-2018</td>\n",
       "      <td>5.0</td>\n",
       "      <td>22.8</td>\n",
       "      <td>14.8</td>\n",
       "      <td>55.5</td>\n",
       "      <td>0.0</td>\n",
       "      <td>11.1</td>\n",
       "      <td>1.7</td>\n",
       "    </tr>\n",
       "  </tbody>\n",
       "</table>\n",
       "</div>"
      ],
      "text/plain": [
       "        Station Name Date (Local Standard Time)  Air Temp. Min. (�C)  \\\n",
       "0  Grassy Lake IMCIN               01-June-2018                  9.1   \n",
       "1  Grassy Lake IMCIN               02-June-2018                  6.8   \n",
       "2  Grassy Lake IMCIN               03-June-2018                  6.8   \n",
       "3  Grassy Lake IMCIN               04-June-2018                 12.5   \n",
       "4  Grassy Lake IMCIN               05-June-2018                  5.0   \n",
       "\n",
       "   Air Temp. Max. (�C)  Air Temp. Avg. (�C)  Humidity Avg. (%)  Precip. (mm)  \\\n",
       "0                 16.0                 11.2               87.3          13.4   \n",
       "1                 23.0                 15.6               56.9           0.0   \n",
       "2                 25.7                 17.2               55.8           0.0   \n",
       "3                 26.7                 19.6               46.5           0.0   \n",
       "4                 22.8                 14.8               55.5           0.0   \n",
       "\n",
       "   Wind Speed 10 m Avg. (km/h)  Frost Probability 0�C (%)  \n",
       "0                         14.3                        1.7  \n",
       "1                         18.7                        1.7  \n",
       "2                         13.1                        1.7  \n",
       "3                         23.7                        1.7  \n",
       "4                         11.1                        1.7  "
      ]
     },
     "execution_count": 38,
     "metadata": {},
     "output_type": "execute_result"
    }
   ],
   "source": [
    "gl.head()"
   ]
  },
  {
   "cell_type": "code",
   "execution_count": 39,
   "metadata": {},
   "outputs": [],
   "source": [
    "gl.to_csv('grassy_lake_processed_18-19.csv')"
   ]
  },
  {
   "cell_type": "code",
   "execution_count": 40,
   "metadata": {},
   "outputs": [],
   "source": [
    "vaux = pd.read_csv('vauxhall_18-19.csv')"
   ]
  },
  {
   "cell_type": "code",
   "execution_count": 41,
   "metadata": {},
   "outputs": [],
   "source": [
    "vaux.drop(labels=to_drop, axis=1, inplace=True)"
   ]
  },
  {
   "cell_type": "code",
   "execution_count": 43,
   "metadata": {
    "collapsed": true,
    "jupyter": {
     "outputs_hidden": true
    }
   },
   "outputs": [
    {
     "data": {
      "text/html": [
       "<div>\n",
       "<style scoped>\n",
       "    .dataframe tbody tr th:only-of-type {\n",
       "        vertical-align: middle;\n",
       "    }\n",
       "\n",
       "    .dataframe tbody tr th {\n",
       "        vertical-align: top;\n",
       "    }\n",
       "\n",
       "    .dataframe thead th {\n",
       "        text-align: right;\n",
       "    }\n",
       "</style>\n",
       "<table border=\"1\" class=\"dataframe\">\n",
       "  <thead>\n",
       "    <tr style=\"text-align: right;\">\n",
       "      <th></th>\n",
       "      <th>Station Name</th>\n",
       "      <th>Date (Local Standard Time)</th>\n",
       "      <th>Air Temp. Min. (�C)</th>\n",
       "      <th>Air Temp. Max. (�C)</th>\n",
       "      <th>Air Temp. Avg. (�C)</th>\n",
       "      <th>Humidity Avg. (%)</th>\n",
       "      <th>Precip. (mm)</th>\n",
       "      <th>Wind Speed 10 m Avg. (km/h)</th>\n",
       "      <th>Frost Probability 0�C (%)</th>\n",
       "    </tr>\n",
       "  </thead>\n",
       "  <tbody>\n",
       "    <tr>\n",
       "      <th>0</th>\n",
       "      <td>Vauxhall CDA CS</td>\n",
       "      <td>01-June-2018</td>\n",
       "      <td>8.8</td>\n",
       "      <td>14.9</td>\n",
       "      <td>11.1</td>\n",
       "      <td>87.4</td>\n",
       "      <td>19.5</td>\n",
       "      <td>10.8</td>\n",
       "      <td>5.1</td>\n",
       "    </tr>\n",
       "    <tr>\n",
       "      <th>1</th>\n",
       "      <td>Vauxhall CDA CS</td>\n",
       "      <td>02-June-2018</td>\n",
       "      <td>7.4</td>\n",
       "      <td>22.6</td>\n",
       "      <td>15.8</td>\n",
       "      <td>58.7</td>\n",
       "      <td>0.1</td>\n",
       "      <td>15.4</td>\n",
       "      <td>5.1</td>\n",
       "    </tr>\n",
       "    <tr>\n",
       "      <th>2</th>\n",
       "      <td>Vauxhall CDA CS</td>\n",
       "      <td>03-June-2018</td>\n",
       "      <td>7.1</td>\n",
       "      <td>24.9</td>\n",
       "      <td>16.7</td>\n",
       "      <td>60.8</td>\n",
       "      <td>0.0</td>\n",
       "      <td>10.1</td>\n",
       "      <td>5.1</td>\n",
       "    </tr>\n",
       "    <tr>\n",
       "      <th>3</th>\n",
       "      <td>Vauxhall CDA CS</td>\n",
       "      <td>04-June-2018</td>\n",
       "      <td>13.6</td>\n",
       "      <td>25.2</td>\n",
       "      <td>19.4</td>\n",
       "      <td>47.6</td>\n",
       "      <td>0.0</td>\n",
       "      <td>25.5</td>\n",
       "      <td>5.1</td>\n",
       "    </tr>\n",
       "    <tr>\n",
       "      <th>4</th>\n",
       "      <td>Vauxhall CDA CS</td>\n",
       "      <td>05-June-2018</td>\n",
       "      <td>5.7</td>\n",
       "      <td>21.8</td>\n",
       "      <td>14.3</td>\n",
       "      <td>56.9</td>\n",
       "      <td>0.1</td>\n",
       "      <td>12.7</td>\n",
       "      <td>5.1</td>\n",
       "    </tr>\n",
       "  </tbody>\n",
       "</table>\n",
       "</div>"
      ],
      "text/plain": [
       "      Station Name Date (Local Standard Time)  Air Temp. Min. (�C)  \\\n",
       "0  Vauxhall CDA CS               01-June-2018                  8.8   \n",
       "1  Vauxhall CDA CS               02-June-2018                  7.4   \n",
       "2  Vauxhall CDA CS               03-June-2018                  7.1   \n",
       "3  Vauxhall CDA CS               04-June-2018                 13.6   \n",
       "4  Vauxhall CDA CS               05-June-2018                  5.7   \n",
       "\n",
       "   Air Temp. Max. (�C)  Air Temp. Avg. (�C)  Humidity Avg. (%)  Precip. (mm)  \\\n",
       "0                 14.9                 11.1               87.4          19.5   \n",
       "1                 22.6                 15.8               58.7           0.1   \n",
       "2                 24.9                 16.7               60.8           0.0   \n",
       "3                 25.2                 19.4               47.6           0.0   \n",
       "4                 21.8                 14.3               56.9           0.1   \n",
       "\n",
       "   Wind Speed 10 m Avg. (km/h)  Frost Probability 0�C (%)  \n",
       "0                         10.8                        5.1  \n",
       "1                         15.4                        5.1  \n",
       "2                         10.1                        5.1  \n",
       "3                         25.5                        5.1  \n",
       "4                         12.7                        5.1  "
      ]
     },
     "execution_count": 43,
     "metadata": {},
     "output_type": "execute_result"
    }
   ],
   "source": [
    "vaux.head()"
   ]
  },
  {
   "cell_type": "code",
   "execution_count": 44,
   "metadata": {},
   "outputs": [],
   "source": [
    "vaux.to_csv('vauxhall_processed_18-19.csv')"
   ]
  },
  {
   "cell_type": "code",
   "execution_count": 48,
   "metadata": {},
   "outputs": [],
   "source": [
    "nine = pd.read_csv('1919_18-19.csv')"
   ]
  },
  {
   "cell_type": "code",
   "execution_count": 49,
   "metadata": {
    "collapsed": true,
    "jupyter": {
     "outputs_hidden": true
    }
   },
   "outputs": [
    {
     "data": {
      "text/html": [
       "<div>\n",
       "<style scoped>\n",
       "    .dataframe tbody tr th:only-of-type {\n",
       "        vertical-align: middle;\n",
       "    }\n",
       "\n",
       "    .dataframe tbody tr th {\n",
       "        vertical-align: top;\n",
       "    }\n",
       "\n",
       "    .dataframe thead th {\n",
       "        text-align: right;\n",
       "    }\n",
       "</style>\n",
       "<table border=\"1\" class=\"dataframe\">\n",
       "  <thead>\n",
       "    <tr style=\"text-align: right;\">\n",
       "      <th></th>\n",
       "      <th>Station Name</th>\n",
       "      <th>Date (Local Standard Time)</th>\n",
       "      <th>Air Temp. Min. (�C)</th>\n",
       "      <th>Air Temp. Max. (�C)</th>\n",
       "      <th>Air Temp. Avg. (�C)</th>\n",
       "      <th>Humidity Avg. (%)</th>\n",
       "      <th>Precip. (mm)</th>\n",
       "      <th>Wind Speed 10 m Avg. (km/h)</th>\n",
       "      <th>Frost Probability 0�C (%)</th>\n",
       "    </tr>\n",
       "  </thead>\n",
       "  <tbody>\n",
       "    <tr>\n",
       "      <th>0</th>\n",
       "      <td>Lethbridge CDA</td>\n",
       "      <td>01-June-2018</td>\n",
       "      <td>8.7</td>\n",
       "      <td>16.7</td>\n",
       "      <td>11.4</td>\n",
       "      <td>85.5</td>\n",
       "      <td>16.5</td>\n",
       "      <td>10.6</td>\n",
       "      <td>3.4</td>\n",
       "    </tr>\n",
       "    <tr>\n",
       "      <th>1</th>\n",
       "      <td>Lethbridge CDA</td>\n",
       "      <td>02-June-2018</td>\n",
       "      <td>10.9</td>\n",
       "      <td>22.1</td>\n",
       "      <td>16.6</td>\n",
       "      <td>44.5</td>\n",
       "      <td>0.4</td>\n",
       "      <td>27.1</td>\n",
       "      <td>3.4</td>\n",
       "    </tr>\n",
       "    <tr>\n",
       "      <th>2</th>\n",
       "      <td>Lethbridge CDA</td>\n",
       "      <td>03-June-2018</td>\n",
       "      <td>9.1</td>\n",
       "      <td>27.1</td>\n",
       "      <td>18.1</td>\n",
       "      <td>49.1</td>\n",
       "      <td>0.2</td>\n",
       "      <td>9.4</td>\n",
       "      <td>1.7</td>\n",
       "    </tr>\n",
       "    <tr>\n",
       "      <th>3</th>\n",
       "      <td>Lethbridge CDA</td>\n",
       "      <td>04-June-2018</td>\n",
       "      <td>13.4</td>\n",
       "      <td>24.6</td>\n",
       "      <td>19.4</td>\n",
       "      <td>43.1</td>\n",
       "      <td>0.2</td>\n",
       "      <td>23.1</td>\n",
       "      <td>1.7</td>\n",
       "    </tr>\n",
       "    <tr>\n",
       "      <th>4</th>\n",
       "      <td>Lethbridge CDA</td>\n",
       "      <td>05-June-2018</td>\n",
       "      <td>5.2</td>\n",
       "      <td>22.2</td>\n",
       "      <td>15.0</td>\n",
       "      <td>46.5</td>\n",
       "      <td>0.0</td>\n",
       "      <td>12.8</td>\n",
       "      <td>1.7</td>\n",
       "    </tr>\n",
       "  </tbody>\n",
       "</table>\n",
       "</div>"
      ],
      "text/plain": [
       "     Station Name Date (Local Standard Time)  Air Temp. Min. (�C)  \\\n",
       "0  Lethbridge CDA               01-June-2018                  8.7   \n",
       "1  Lethbridge CDA               02-June-2018                 10.9   \n",
       "2  Lethbridge CDA               03-June-2018                  9.1   \n",
       "3  Lethbridge CDA               04-June-2018                 13.4   \n",
       "4  Lethbridge CDA               05-June-2018                  5.2   \n",
       "\n",
       "   Air Temp. Max. (�C)  Air Temp. Avg. (�C)  Humidity Avg. (%)  Precip. (mm)  \\\n",
       "0                 16.7                 11.4               85.5          16.5   \n",
       "1                 22.1                 16.6               44.5           0.4   \n",
       "2                 27.1                 18.1               49.1           0.2   \n",
       "3                 24.6                 19.4               43.1           0.2   \n",
       "4                 22.2                 15.0               46.5           0.0   \n",
       "\n",
       "   Wind Speed 10 m Avg. (km/h)  Frost Probability 0�C (%)  \n",
       "0                         10.6                        3.4  \n",
       "1                         27.1                        3.4  \n",
       "2                          9.4                        1.7  \n",
       "3                         23.1                        1.7  \n",
       "4                         12.8                        1.7  "
      ]
     },
     "execution_count": 49,
     "metadata": {},
     "output_type": "execute_result"
    }
   ],
   "source": [
    "nine.drop(labels=to_drop, axis=1, inplace=True)\n",
    "nine.head()"
   ]
  },
  {
   "cell_type": "code",
   "execution_count": 50,
   "metadata": {},
   "outputs": [],
   "source": [
    "nine.to_csv('lethbridge_processed_18-19.csv')"
   ]
  },
  {
   "cell_type": "code",
   "execution_count": 51,
   "metadata": {},
   "outputs": [],
   "source": [
    "cran = pd.read_csv('cranford_18-19.csv')"
   ]
  },
  {
   "cell_type": "code",
   "execution_count": 52,
   "metadata": {},
   "outputs": [
    {
     "data": {
      "text/html": [
       "<div>\n",
       "<style scoped>\n",
       "    .dataframe tbody tr th:only-of-type {\n",
       "        vertical-align: middle;\n",
       "    }\n",
       "\n",
       "    .dataframe tbody tr th {\n",
       "        vertical-align: top;\n",
       "    }\n",
       "\n",
       "    .dataframe thead th {\n",
       "        text-align: right;\n",
       "    }\n",
       "</style>\n",
       "<table border=\"1\" class=\"dataframe\">\n",
       "  <thead>\n",
       "    <tr style=\"text-align: right;\">\n",
       "      <th></th>\n",
       "      <th>Station Name</th>\n",
       "      <th>Date (Local Standard Time)</th>\n",
       "      <th>Air Temp. Min. (�C)</th>\n",
       "      <th>Air Temp. Max. (�C)</th>\n",
       "      <th>Air Temp. Avg. (�C)</th>\n",
       "      <th>Humidity Avg. (%)</th>\n",
       "      <th>Precip. (mm)</th>\n",
       "      <th>Wind Speed 10 m Avg. (km/h)</th>\n",
       "      <th>Frost Probability 0�C (%)</th>\n",
       "    </tr>\n",
       "  </thead>\n",
       "  <tbody>\n",
       "    <tr>\n",
       "      <th>0</th>\n",
       "      <td>Barnwell AGDM</td>\n",
       "      <td>01-June-2018</td>\n",
       "      <td>9.1</td>\n",
       "      <td>15.4</td>\n",
       "      <td>11.3</td>\n",
       "      <td>86.6</td>\n",
       "      <td>18.5</td>\n",
       "      <td>13.5</td>\n",
       "      <td>1.7</td>\n",
       "    </tr>\n",
       "    <tr>\n",
       "      <th>1</th>\n",
       "      <td>Barnwell AGDM</td>\n",
       "      <td>02-June-2018</td>\n",
       "      <td>8.4</td>\n",
       "      <td>22.9</td>\n",
       "      <td>15.9</td>\n",
       "      <td>52.3</td>\n",
       "      <td>0.0</td>\n",
       "      <td>25.4</td>\n",
       "      <td>1.7</td>\n",
       "    </tr>\n",
       "    <tr>\n",
       "      <th>2</th>\n",
       "      <td>Barnwell AGDM</td>\n",
       "      <td>03-June-2018</td>\n",
       "      <td>6.2</td>\n",
       "      <td>25.9</td>\n",
       "      <td>16.9</td>\n",
       "      <td>55.6</td>\n",
       "      <td>0.0</td>\n",
       "      <td>13.5</td>\n",
       "      <td>1.7</td>\n",
       "    </tr>\n",
       "    <tr>\n",
       "      <th>3</th>\n",
       "      <td>Barnwell AGDM</td>\n",
       "      <td>04-June-2018</td>\n",
       "      <td>13.1</td>\n",
       "      <td>25.7</td>\n",
       "      <td>19.7</td>\n",
       "      <td>42.1</td>\n",
       "      <td>0.0</td>\n",
       "      <td>27.2</td>\n",
       "      <td>1.7</td>\n",
       "    </tr>\n",
       "    <tr>\n",
       "      <th>4</th>\n",
       "      <td>Barnwell AGDM</td>\n",
       "      <td>05-June-2018</td>\n",
       "      <td>3.9</td>\n",
       "      <td>22.5</td>\n",
       "      <td>14.4</td>\n",
       "      <td>52.0</td>\n",
       "      <td>0.0</td>\n",
       "      <td>13.6</td>\n",
       "      <td>1.7</td>\n",
       "    </tr>\n",
       "  </tbody>\n",
       "</table>\n",
       "</div>"
      ],
      "text/plain": [
       "    Station Name Date (Local Standard Time)  Air Temp. Min. (�C)  \\\n",
       "0  Barnwell AGDM               01-June-2018                  9.1   \n",
       "1  Barnwell AGDM               02-June-2018                  8.4   \n",
       "2  Barnwell AGDM               03-June-2018                  6.2   \n",
       "3  Barnwell AGDM               04-June-2018                 13.1   \n",
       "4  Barnwell AGDM               05-June-2018                  3.9   \n",
       "\n",
       "   Air Temp. Max. (�C)  Air Temp. Avg. (�C)  Humidity Avg. (%)  Precip. (mm)  \\\n",
       "0                 15.4                 11.3               86.6          18.5   \n",
       "1                 22.9                 15.9               52.3           0.0   \n",
       "2                 25.9                 16.9               55.6           0.0   \n",
       "3                 25.7                 19.7               42.1           0.0   \n",
       "4                 22.5                 14.4               52.0           0.0   \n",
       "\n",
       "   Wind Speed 10 m Avg. (km/h)  Frost Probability 0�C (%)  \n",
       "0                         13.5                        1.7  \n",
       "1                         25.4                        1.7  \n",
       "2                         13.5                        1.7  \n",
       "3                         27.2                        1.7  \n",
       "4                         13.6                        1.7  "
      ]
     },
     "execution_count": 52,
     "metadata": {},
     "output_type": "execute_result"
    }
   ],
   "source": [
    "cran.drop(labels=to_drop, axis=1, inplace=True)\n",
    "cran.head()"
   ]
  },
  {
   "cell_type": "code",
   "execution_count": 53,
   "metadata": {},
   "outputs": [],
   "source": [
    "cran.to_csv('cranford_processed_18-19.csv')"
   ]
  },
  {
   "cell_type": "code",
   "execution_count": 67,
   "metadata": {},
   "outputs": [],
   "source": [
    "cran['Date (Local Standard Time)'] = pd.to_datetime(cran['Date (Local Standard Time)'])"
   ]
  },
  {
   "cell_type": "code",
   "execution_count": 107,
   "metadata": {},
   "outputs": [],
   "source": [
    "cran_df = df.loc[df['Location.x'] == 'Cranford']"
   ]
  },
  {
   "cell_type": "code",
   "execution_count": 108,
   "metadata": {},
   "outputs": [
    {
     "data": {
      "text/plain": [
       "(77, 98)"
      ]
     },
     "execution_count": 108,
     "metadata": {},
     "output_type": "execute_result"
    }
   ],
   "source": [
    "cran_df.shape"
   ]
  },
  {
   "cell_type": "code",
   "execution_count": 109,
   "metadata": {},
   "outputs": [],
   "source": [
    "cran_df2 = cran_df.merge(cran, how='left', left_on='Date', right_on='Date (Local Standard Time)')"
   ]
  },
  {
   "cell_type": "code",
   "execution_count": 110,
   "metadata": {},
   "outputs": [
    {
     "data": {
      "text/plain": [
       "(77, 107)"
      ]
     },
     "execution_count": 110,
     "metadata": {},
     "output_type": "execute_result"
    }
   ],
   "source": [
    "cran_df2.shape"
   ]
  },
  {
   "cell_type": "code",
   "execution_count": 111,
   "metadata": {},
   "outputs": [],
   "source": [
    "taber_df = df.loc[(df['Location.x'] == 'Taber') | (df['Location.x'] == '1904')]"
   ]
  },
  {
   "cell_type": "code",
   "execution_count": 112,
   "metadata": {},
   "outputs": [
    {
     "data": {
      "text/plain": [
       "(131, 98)"
      ]
     },
     "execution_count": 112,
     "metadata": {},
     "output_type": "execute_result"
    }
   ],
   "source": [
    "taber_df.shape"
   ]
  },
  {
   "cell_type": "code",
   "execution_count": 113,
   "metadata": {},
   "outputs": [],
   "source": [
    "taber['Date (Local Standard Time)'] = pd.to_datetime(taber['Date (Local Standard Time)'])\n",
    "\n",
    "taber_df2 = taber_df.merge(taber, how='left', left_on='Date', right_on='Date (Local Standard Time)')"
   ]
  },
  {
   "cell_type": "code",
   "execution_count": 114,
   "metadata": {},
   "outputs": [
    {
     "data": {
      "text/plain": [
       "(131, 107)"
      ]
     },
     "execution_count": 114,
     "metadata": {},
     "output_type": "execute_result"
    }
   ],
   "source": [
    "taber_df2.shape"
   ]
  },
  {
   "cell_type": "code",
   "execution_count": 115,
   "metadata": {},
   "outputs": [],
   "source": [
    "main = pd.concat([cran_df2, taber_df2])"
   ]
  },
  {
   "cell_type": "code",
   "execution_count": 116,
   "metadata": {},
   "outputs": [
    {
     "data": {
      "text/plain": [
       "(208, 107)"
      ]
     },
     "execution_count": 116,
     "metadata": {},
     "output_type": "execute_result"
    }
   ],
   "source": [
    "main.shape"
   ]
  },
  {
   "cell_type": "code",
   "execution_count": 117,
   "metadata": {},
   "outputs": [],
   "source": [
    "gl_df = df.loc[(df['Location.x'] == '1915') | (df['Location.x'] == '1917')]"
   ]
  },
  {
   "cell_type": "code",
   "execution_count": 118,
   "metadata": {},
   "outputs": [
    {
     "data": {
      "text/plain": [
       "(100, 98)"
      ]
     },
     "execution_count": 118,
     "metadata": {},
     "output_type": "execute_result"
    }
   ],
   "source": [
    "gl_df.shape"
   ]
  },
  {
   "cell_type": "code",
   "execution_count": 119,
   "metadata": {},
   "outputs": [],
   "source": [
    "gl['Date (Local Standard Time)'] = pd.to_datetime(gl['Date (Local Standard Time)'])\n",
    "\n",
    "gl_df2 = gl_df.merge(gl, how='left', left_on='Date', right_on='Date (Local Standard Time)')"
   ]
  },
  {
   "cell_type": "code",
   "execution_count": 120,
   "metadata": {},
   "outputs": [
    {
     "data": {
      "text/plain": [
       "(100, 107)"
      ]
     },
     "execution_count": 120,
     "metadata": {},
     "output_type": "execute_result"
    }
   ],
   "source": [
    "gl_df2.shape"
   ]
  },
  {
   "cell_type": "code",
   "execution_count": 121,
   "metadata": {},
   "outputs": [],
   "source": [
    "main = pd.concat([main, gl_df2])"
   ]
  },
  {
   "cell_type": "code",
   "execution_count": 122,
   "metadata": {},
   "outputs": [
    {
     "data": {
      "text/plain": [
       "(308, 107)"
      ]
     },
     "execution_count": 122,
     "metadata": {},
     "output_type": "execute_result"
    }
   ],
   "source": [
    "main.shape"
   ]
  },
  {
   "cell_type": "code",
   "execution_count": 123,
   "metadata": {},
   "outputs": [],
   "source": [
    "v_df = df.loc[(df['Location.x'] == '1906') | (df['Location.x'] == '1910') | (df['Location.x'] == 'Vauxhall')]"
   ]
  },
  {
   "cell_type": "code",
   "execution_count": 124,
   "metadata": {},
   "outputs": [
    {
     "data": {
      "text/plain": [
       "(196, 98)"
      ]
     },
     "execution_count": 124,
     "metadata": {},
     "output_type": "execute_result"
    }
   ],
   "source": [
    "v_df.shape"
   ]
  },
  {
   "cell_type": "code",
   "execution_count": 125,
   "metadata": {},
   "outputs": [],
   "source": [
    "vaux['Date (Local Standard Time)'] = pd.to_datetime(vaux['Date (Local Standard Time)'])\n",
    "\n",
    "v_df2 = v_df.merge(vaux, how='left', left_on='Date', right_on='Date (Local Standard Time)')"
   ]
  },
  {
   "cell_type": "code",
   "execution_count": 126,
   "metadata": {},
   "outputs": [
    {
     "data": {
      "text/plain": [
       "(196, 107)"
      ]
     },
     "execution_count": 126,
     "metadata": {},
     "output_type": "execute_result"
    }
   ],
   "source": [
    "v_df2.shape"
   ]
  },
  {
   "cell_type": "code",
   "execution_count": 127,
   "metadata": {},
   "outputs": [],
   "source": [
    "main = pd.concat([main, v_df2])"
   ]
  },
  {
   "cell_type": "code",
   "execution_count": 128,
   "metadata": {},
   "outputs": [
    {
     "data": {
      "text/plain": [
       "(504, 107)"
      ]
     },
     "execution_count": 128,
     "metadata": {},
     "output_type": "execute_result"
    }
   ],
   "source": [
    "main.shape"
   ]
  },
  {
   "cell_type": "code",
   "execution_count": 129,
   "metadata": {},
   "outputs": [],
   "source": [
    "n_df = df.loc[df['Location.x'] == '1919']"
   ]
  },
  {
   "cell_type": "code",
   "execution_count": 130,
   "metadata": {},
   "outputs": [
    {
     "data": {
      "text/plain": [
       "(64, 98)"
      ]
     },
     "execution_count": 130,
     "metadata": {},
     "output_type": "execute_result"
    }
   ],
   "source": [
    "n_df.shape"
   ]
  },
  {
   "cell_type": "code",
   "execution_count": 131,
   "metadata": {},
   "outputs": [],
   "source": [
    "nine['Date (Local Standard Time)'] = pd.to_datetime(nine['Date (Local Standard Time)'])\n",
    "\n",
    "n_df2 = n_df.merge(nine, how='left', left_on='Date', right_on='Date (Local Standard Time)')"
   ]
  },
  {
   "cell_type": "code",
   "execution_count": 132,
   "metadata": {},
   "outputs": [
    {
     "data": {
      "text/plain": [
       "(64, 107)"
      ]
     },
     "execution_count": 132,
     "metadata": {},
     "output_type": "execute_result"
    }
   ],
   "source": [
    "n_df2.shape"
   ]
  },
  {
   "cell_type": "code",
   "execution_count": 133,
   "metadata": {},
   "outputs": [],
   "source": [
    "main = pd.concat([main, n_df2])"
   ]
  },
  {
   "cell_type": "code",
   "execution_count": 134,
   "metadata": {},
   "outputs": [
    {
     "data": {
      "text/plain": [
       "(568, 107)"
      ]
     },
     "execution_count": 134,
     "metadata": {},
     "output_type": "execute_result"
    }
   ],
   "source": [
    "main.shape"
   ]
  },
  {
   "cell_type": "code",
   "execution_count": 135,
   "metadata": {},
   "outputs": [
    {
     "data": {
      "text/plain": [
       "(568, 98)"
      ]
     },
     "execution_count": 135,
     "metadata": {},
     "output_type": "execute_result"
    }
   ],
   "source": [
    "df.shape"
   ]
  },
  {
   "cell_type": "code",
   "execution_count": 136,
   "metadata": {},
   "outputs": [],
   "source": [
    "main.to_csv('final_df.csv')"
   ]
  },
  {
   "cell_type": "code",
   "execution_count": 137,
   "metadata": {},
   "outputs": [
    {
     "data": {
      "text/html": [
       "<div>\n",
       "<style scoped>\n",
       "    .dataframe tbody tr th:only-of-type {\n",
       "        vertical-align: middle;\n",
       "    }\n",
       "\n",
       "    .dataframe tbody tr th {\n",
       "        vertical-align: top;\n",
       "    }\n",
       "\n",
       "    .dataframe thead th {\n",
       "        text-align: right;\n",
       "    }\n",
       "</style>\n",
       "<table border=\"1\" class=\"dataframe\">\n",
       "  <thead>\n",
       "    <tr style=\"text-align: right;\">\n",
       "      <th></th>\n",
       "      <th>Location.x</th>\n",
       "      <th>JDay</th>\n",
       "      <th>Date</th>\n",
       "      <th>SsCtMean</th>\n",
       "      <th>SsCtSD</th>\n",
       "      <th>SsMean</th>\n",
       "      <th>logSsMean</th>\n",
       "      <th>SsSD</th>\n",
       "      <th>SsClean</th>\n",
       "      <th>logSsClean</th>\n",
       "      <th>...</th>\n",
       "      <th>Long</th>\n",
       "      <th>Station Name</th>\n",
       "      <th>Date (Local Standard Time)</th>\n",
       "      <th>Air Temp. Min. (�C)</th>\n",
       "      <th>Air Temp. Max. (�C)</th>\n",
       "      <th>Air Temp. Avg. (�C)</th>\n",
       "      <th>Humidity Avg. (%)</th>\n",
       "      <th>Precip. (mm)</th>\n",
       "      <th>Wind Speed 10 m Avg. (km/h)</th>\n",
       "      <th>Frost Probability 0�C (%)</th>\n",
       "    </tr>\n",
       "  </thead>\n",
       "  <tbody>\n",
       "    <tr>\n",
       "      <th>0</th>\n",
       "      <td>Cranford</td>\n",
       "      <td>164</td>\n",
       "      <td>2018-06-13</td>\n",
       "      <td>NaN</td>\n",
       "      <td>NaN</td>\n",
       "      <td>295.035</td>\n",
       "      <td>2.471343</td>\n",
       "      <td>NaN</td>\n",
       "      <td>NaN</td>\n",
       "      <td>NaN</td>\n",
       "      <td>...</td>\n",
       "      <td>NaN</td>\n",
       "      <td>Barnwell AGDM</td>\n",
       "      <td>2018-06-13</td>\n",
       "      <td>7.7</td>\n",
       "      <td>26.5</td>\n",
       "      <td>17.9</td>\n",
       "      <td>38.4</td>\n",
       "      <td>0.0</td>\n",
       "      <td>22.6</td>\n",
       "      <td>0.0</td>\n",
       "    </tr>\n",
       "    <tr>\n",
       "      <th>1</th>\n",
       "      <td>Cranford</td>\n",
       "      <td>165</td>\n",
       "      <td>2018-06-14</td>\n",
       "      <td>NaN</td>\n",
       "      <td>NaN</td>\n",
       "      <td>106.900</td>\n",
       "      <td>2.033021</td>\n",
       "      <td>NaN</td>\n",
       "      <td>NaN</td>\n",
       "      <td>NaN</td>\n",
       "      <td>...</td>\n",
       "      <td>NaN</td>\n",
       "      <td>Barnwell AGDM</td>\n",
       "      <td>2018-06-14</td>\n",
       "      <td>4.6</td>\n",
       "      <td>22.0</td>\n",
       "      <td>13.1</td>\n",
       "      <td>65.9</td>\n",
       "      <td>1.2</td>\n",
       "      <td>19.1</td>\n",
       "      <td>0.0</td>\n",
       "    </tr>\n",
       "    <tr>\n",
       "      <th>2</th>\n",
       "      <td>Cranford</td>\n",
       "      <td>166</td>\n",
       "      <td>2018-06-15</td>\n",
       "      <td>NaN</td>\n",
       "      <td>NaN</td>\n",
       "      <td>164.775</td>\n",
       "      <td>2.219519</td>\n",
       "      <td>NaN</td>\n",
       "      <td>NaN</td>\n",
       "      <td>NaN</td>\n",
       "      <td>...</td>\n",
       "      <td>NaN</td>\n",
       "      <td>Barnwell AGDM</td>\n",
       "      <td>2018-06-15</td>\n",
       "      <td>7.2</td>\n",
       "      <td>22.0</td>\n",
       "      <td>13.2</td>\n",
       "      <td>77.8</td>\n",
       "      <td>7.2</td>\n",
       "      <td>11.1</td>\n",
       "      <td>0.0</td>\n",
       "    </tr>\n",
       "    <tr>\n",
       "      <th>3</th>\n",
       "      <td>Cranford</td>\n",
       "      <td>167</td>\n",
       "      <td>2018-06-16</td>\n",
       "      <td>NaN</td>\n",
       "      <td>NaN</td>\n",
       "      <td>138.380</td>\n",
       "      <td>2.144200</td>\n",
       "      <td>NaN</td>\n",
       "      <td>NaN</td>\n",
       "      <td>NaN</td>\n",
       "      <td>...</td>\n",
       "      <td>NaN</td>\n",
       "      <td>Barnwell AGDM</td>\n",
       "      <td>2018-06-16</td>\n",
       "      <td>11.2</td>\n",
       "      <td>18.1</td>\n",
       "      <td>12.5</td>\n",
       "      <td>89.3</td>\n",
       "      <td>9.8</td>\n",
       "      <td>16.5</td>\n",
       "      <td>0.0</td>\n",
       "    </tr>\n",
       "    <tr>\n",
       "      <th>4</th>\n",
       "      <td>Cranford</td>\n",
       "      <td>168</td>\n",
       "      <td>2018-06-17</td>\n",
       "      <td>NaN</td>\n",
       "      <td>NaN</td>\n",
       "      <td>154.545</td>\n",
       "      <td>2.191856</td>\n",
       "      <td>NaN</td>\n",
       "      <td>NaN</td>\n",
       "      <td>NaN</td>\n",
       "      <td>...</td>\n",
       "      <td>NaN</td>\n",
       "      <td>Barnwell AGDM</td>\n",
       "      <td>2018-06-17</td>\n",
       "      <td>7.7</td>\n",
       "      <td>21.8</td>\n",
       "      <td>15.8</td>\n",
       "      <td>67.1</td>\n",
       "      <td>0.0</td>\n",
       "      <td>7.8</td>\n",
       "      <td>0.0</td>\n",
       "    </tr>\n",
       "  </tbody>\n",
       "</table>\n",
       "<p>5 rows × 107 columns</p>\n",
       "</div>"
      ],
      "text/plain": [
       "  Location.x  JDay       Date  SsCtMean  SsCtSD   SsMean  logSsMean  SsSD  \\\n",
       "0   Cranford   164 2018-06-13       NaN     NaN  295.035   2.471343   NaN   \n",
       "1   Cranford   165 2018-06-14       NaN     NaN  106.900   2.033021   NaN   \n",
       "2   Cranford   166 2018-06-15       NaN     NaN  164.775   2.219519   NaN   \n",
       "3   Cranford   167 2018-06-16       NaN     NaN  138.380   2.144200   NaN   \n",
       "4   Cranford   168 2018-06-17       NaN     NaN  154.545   2.191856   NaN   \n",
       "\n",
       "   SsClean  logSsClean  ...  Long   Station Name Date (Local Standard Time)  \\\n",
       "0      NaN         NaN  ...   NaN  Barnwell AGDM                 2018-06-13   \n",
       "1      NaN         NaN  ...   NaN  Barnwell AGDM                 2018-06-14   \n",
       "2      NaN         NaN  ...   NaN  Barnwell AGDM                 2018-06-15   \n",
       "3      NaN         NaN  ...   NaN  Barnwell AGDM                 2018-06-16   \n",
       "4      NaN         NaN  ...   NaN  Barnwell AGDM                 2018-06-17   \n",
       "\n",
       "   Air Temp. Min. (�C)  Air Temp. Max. (�C)  Air Temp. Avg. (�C)  \\\n",
       "0                  7.7                 26.5                 17.9   \n",
       "1                  4.6                 22.0                 13.1   \n",
       "2                  7.2                 22.0                 13.2   \n",
       "3                 11.2                 18.1                 12.5   \n",
       "4                  7.7                 21.8                 15.8   \n",
       "\n",
       "   Humidity Avg. (%)  Precip. (mm)  Wind Speed 10 m Avg. (km/h)  \\\n",
       "0               38.4           0.0                         22.6   \n",
       "1               65.9           1.2                         19.1   \n",
       "2               77.8           7.2                         11.1   \n",
       "3               89.3           9.8                         16.5   \n",
       "4               67.1           0.0                          7.8   \n",
       "\n",
       "   Frost Probability 0�C (%)  \n",
       "0                        0.0  \n",
       "1                        0.0  \n",
       "2                        0.0  \n",
       "3                        0.0  \n",
       "4                        0.0  \n",
       "\n",
       "[5 rows x 107 columns]"
      ]
     },
     "execution_count": 137,
     "metadata": {},
     "output_type": "execute_result"
    }
   ],
   "source": [
    "main.head()"
   ]
  },
  {
   "cell_type": "code",
   "execution_count": 139,
   "metadata": {},
   "outputs": [
    {
     "data": {
      "text/plain": [
       "SamplerNo        568\n",
       "DiffMinSoilT     333\n",
       "DiffMeanSoilT    333\n",
       "DiffMaxSoilT     333\n",
       "MaxSoilT_1d      331\n",
       "MinSoilT_1d      331\n",
       "MeanSoilT_1d     331\n",
       "MaxSoilTemp      327\n",
       "MeanSoilTemp     327\n",
       "MinSoilTemp      327\n",
       "dtype: int64"
      ]
     },
     "execution_count": 139,
     "metadata": {},
     "output_type": "execute_result"
    }
   ],
   "source": [
    "main.isnull().sum().sort_values(ascending=False).head(10)"
   ]
  },
  {
   "cell_type": "code",
   "execution_count": 140,
   "metadata": {},
   "outputs": [
    {
     "data": {
      "text/plain": [
       "Index(['Location.x', 'JDay', 'Date', 'SsCtMean', 'SsCtSD', 'SsMean',\n",
       "       'logSsMean', 'SsSD', 'SsClean', 'logSsClean',\n",
       "       ...\n",
       "       'Long', 'Station Name', 'Date (Local Standard Time)',\n",
       "       'Air Temp. Min. (�C)', 'Air Temp. Max. (�C)', 'Air Temp. Avg. (�C)',\n",
       "       'Humidity Avg. (%)', 'Precip. (mm)', 'Wind Speed 10 m Avg. (km/h)',\n",
       "       'Frost Probability 0�C (%)'],\n",
       "      dtype='object', length=107)"
      ]
     },
     "execution_count": 140,
     "metadata": {},
     "output_type": "execute_result"
    }
   ],
   "source": [
    "main.columns"
   ]
  },
  {
   "cell_type": "code",
   "execution_count": 141,
   "metadata": {},
   "outputs": [
    {
     "data": {
      "text/plain": [
       "Index(['Location.x', 'JDay', 'Date', 'SsCtMean', 'SsCtSD', 'SsMean',\n",
       "       'logSsMean', 'SsSD', 'SsClean', 'logSsClean', 'TtCt', 'TtSD', 'Water.',\n",
       "       'logSsMean_t1', 'Year_x', 'MeanWetness', 'DiffMeanWet', 'MeanWet_1d',\n",
       "       'MaxWetness', 'DiffMaxWet', 'MaxWet_1d', 'MinWetness', 'DiffMinWet',\n",
       "       'MinWet_1d', 'MeanTemp', 'DiffMeanT', 'MeanT_1d', 'MaxTemp', 'DiffMaxT',\n",
       "       'MaxT_1d', 'MinTemp', 'DiffMinT', 'MinT_1d', 'MeanRH', 'DiffMeanRH',\n",
       "       'MeanRH_1d', 'MaxRH', 'DiffMaxRH', 'MaxRH_1d', 'MinRH', 'DiffMinRH',\n",
       "       'MinRH_1d', 'DiffRH_0d', 'DiffRH_1d', 'DiffRH_2d', 'MaxDiffRH_2h',\n",
       "       'MaxDiffRH_3h', 'MeanVPD', 'DiffMeanVPD', 'MeanVPD_1d', 'MaxVPD',\n",
       "       'DiffMaxVPD', 'MaxVPD_1d', 'MinVPD', 'DiffMinVPD', 'TotalPrecip',\n",
       "       'Precip_1d', 'RainYN', 'MaxRain', 'MinRain', 'MeanWC', 'DiffMeanWC',\n",
       "       'MeanWC_1d', 'MaxWC', 'DiffMaxWC', 'MaxWC_1d', 'MinWC', 'DiffMinWC',\n",
       "       'MinWC_1d', 'MeanDP', 'DiffMeanDP', 'MeanDP_1d', 'MaxDP', 'DiffMaxDP',\n",
       "       'MaxDP_1d', 'MinDP', 'DiffMinDP', 'MinDP_1d', 'MeanSoilTemp',\n",
       "       'DiffMeanSoilT', 'MeanSoilT_1d', 'MaxSoilTemp', 'DiffMaxSoilT',\n",
       "       'MaxSoilT_1d', 'MinSoilTemp', 'DiffMinSoilT', 'MinSoilT_1d', 'Year_y',\n",
       "       'FieldID', 'SamplerNo', 'CropType', 'Crop', 'Region', 'Province',\n",
       "       'SamplerPresent', 'SamplerType', 'Lat', 'Long'],\n",
       "      dtype='object')"
      ]
     },
     "execution_count": 141,
     "metadata": {},
     "output_type": "execute_result"
    }
   ],
   "source": [
    "df.columns"
   ]
  },
  {
   "cell_type": "code",
   "execution_count": 142,
   "metadata": {},
   "outputs": [],
   "source": [
    "to_drop = ['SamplerNo', 'Date (Local Standard Time)', 'Station Name', 'SamplerPresent','SamplerType','Province','Region','Crop','CropType','FieldID']\n",
    "\n",
    "main.drop(labels=to_drop, axis=1, inplace=True)"
   ]
  },
  {
   "cell_type": "code",
   "execution_count": 143,
   "metadata": {},
   "outputs": [
    {
     "data": {
      "text/plain": [
       "(568, 97)"
      ]
     },
     "execution_count": 143,
     "metadata": {},
     "output_type": "execute_result"
    }
   ],
   "source": [
    "main.shape"
   ]
  },
  {
   "cell_type": "code",
   "execution_count": 144,
   "metadata": {},
   "outputs": [],
   "source": [
    "main.to_csv('final_df.csv')"
   ]
  },
  {
   "cell_type": "code",
   "execution_count": null,
   "metadata": {},
   "outputs": [],
   "source": []
  }
 ],
 "metadata": {
  "kernelspec": {
   "display_name": "lighthouse",
   "language": "python",
   "name": "lighthouse"
  },
  "language_info": {
   "codemirror_mode": {
    "name": "ipython",
    "version": 3
   },
   "file_extension": ".py",
   "mimetype": "text/x-python",
   "name": "python",
   "nbconvert_exporter": "python",
   "pygments_lexer": "ipython3",
   "version": "3.8.2"
  }
 },
 "nbformat": 4,
 "nbformat_minor": 4
}
