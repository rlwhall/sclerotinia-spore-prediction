{
 "cells": [
  {
   "cell_type": "markdown",
   "metadata": {},
   "source": [
    "# Building a pipeline"
   ]
  },
  {
   "cell_type": "code",
   "execution_count": 60,
   "metadata": {},
   "outputs": [],
   "source": [
    "import pandas as pd\n",
    "import numpy as np\n",
    "\n",
    "from sklearn.feature_selection import SelectKBest\n",
    "from sklearn.preprocessing import LabelEncoder, OrdinalEncoder, OneHotEncoder\n",
    "from sklearn.preprocessing import FunctionTransformer\n",
    "from sklearn.decomposition import PCA\n",
    "from sklearn.preprocessing import StandardScaler\n",
    "from sklearn.cluster import KMeans\n",
    "\n",
    "from sklearn.pipeline import Pipeline, FeatureUnion\n",
    "\n",
    "import xgboost as xgb\n",
    "from sklearn.svm import SVR\n",
    "from sklearn.linear_model import LinearRegression, Ridge, Lasso\n",
    "\n",
    "from sklearn.model_selection import train_test_split\n",
    "\n",
    "from sklearn.metrics import mean_squared_error, mean_absolute_error\n",
    "from sklearn.metrics import plot_confusion_matrix\n",
    "from sklearn.metrics import classification_report\n",
    "from sklearn.metrics import confusion_matrix\n",
    "from sklearn.metrics import roc_curve, roc_auc_score\n",
    "from sklearn.metrics import precision_score\n",
    "from sklearn.metrics import recall_score\n",
    "from sklearn.metrics import f1_score\n",
    "\n",
    "import matplotlib.pyplot as plt\n",
    "\n",
    "import warnings\n",
    "warnings.filterwarnings('ignore')"
   ]
  },
  {
   "cell_type": "code",
   "execution_count": 2,
   "metadata": {},
   "outputs": [],
   "source": [
    "df = pd.read_csv('SFE_data.csv', index_col=0)"
   ]
  },
  {
   "cell_type": "code",
   "execution_count": 3,
   "metadata": {},
   "outputs": [],
   "source": [
    "# Set categorical variables\n",
    "to_cat = ['MinTemp_uDP', 'MinTemp_u20', 'MaxTemp_uDP','MaxTemp_u20', \n",
    "          'MeanTemp_uDP', 'MeanTemp_u20', 'MinTemp_uDPSum_1', 'MinTemp_uDPSum_3', \n",
    "          'MinTemp_uDPSum_7','MaxTemp_uDPSum_1', 'MaxTemp_uDPSum_3', 'MaxTemp_uDPSum_7',\n",
    "       'MeanTemp_uDPSum_1', 'MeanTemp_uDPSum_3', 'MeanTemp_uDPSum_7',\n",
    "       'MinTemp_u20Sum_1', 'MinTemp_u20Sum_3', 'MinTemp_u20Sum_7',\n",
    "       'MaxTemp_u20Sum_1', 'MaxTemp_u20Sum_3', 'MaxTemp_u20Sum_7',\n",
    "       'MeanTemp_u20Sum_1', 'MeanTemp_u20Sum_3', 'MeanTemp_u20Sum_7','month', 'year', 'YearWeek']\n",
    "\n",
    "for col in to_cat:\n",
    "    df[col] = df[col].astype(object)"
   ]
  },
  {
   "cell_type": "code",
   "execution_count": 5,
   "metadata": {},
   "outputs": [
    {
     "data": {
      "text/plain": [
       "(933, 79)"
      ]
     },
     "execution_count": 5,
     "metadata": {},
     "output_type": "execute_result"
    }
   ],
   "source": [
    "df.shape"
   ]
  },
  {
   "cell_type": "code",
   "execution_count": 6,
   "metadata": {},
   "outputs": [],
   "source": [
    "#drop cols that could lead to overfitting, and ones with only one category\n",
    "to_drop = ['Date', 'year', 'FieldID', 'JDay', 'MaxTemp_uDP', 'MeanTemp_uDP', \n",
    "           'MaxTemp_uDPSum_1',\n",
    "       'MaxTemp_uDPSum_3', 'MaxTemp_uDPSum_7', 'MeanTemp_uDPSum_1',\n",
    "       'MeanTemp_uDPSum_3', 'MeanTemp_uDPSum_7','MinTemp_u20', 'MinTemp_u20Sum_1',\n",
    "       'MinTemp_u20Sum_3', 'MinTemp_u20Sum_7',]\n",
    "df.drop(labels=to_drop, axis=1, inplace=True)"
   ]
  },
  {
   "cell_type": "code",
   "execution_count": 7,
   "metadata": {},
   "outputs": [
    {
     "data": {
      "text/html": [
       "<div>\n",
       "<style scoped>\n",
       "    .dataframe tbody tr th:only-of-type {\n",
       "        vertical-align: middle;\n",
       "    }\n",
       "\n",
       "    .dataframe tbody tr th {\n",
       "        vertical-align: top;\n",
       "    }\n",
       "\n",
       "    .dataframe thead th {\n",
       "        text-align: right;\n",
       "    }\n",
       "</style>\n",
       "<table border=\"1\" class=\"dataframe\">\n",
       "  <thead>\n",
       "    <tr style=\"text-align: right;\">\n",
       "      <th></th>\n",
       "      <th>SsMean</th>\n",
       "      <th>Crop</th>\n",
       "      <th>MinTemp_y</th>\n",
       "      <th>MaxTemp_y</th>\n",
       "      <th>MeanTemp_y</th>\n",
       "      <th>MeanRH_y</th>\n",
       "      <th>Precip</th>\n",
       "      <th>Wind2</th>\n",
       "      <th>Wind10</th>\n",
       "      <th>Wind10Dir</th>\n",
       "      <th>...</th>\n",
       "      <th>MaxTemp_u20Sum_7</th>\n",
       "      <th>MeanTemp_u20Sum_1</th>\n",
       "      <th>MeanTemp_u20Sum_3</th>\n",
       "      <th>MeanTemp_u20Sum_7</th>\n",
       "      <th>SsMean_1</th>\n",
       "      <th>SsMean_3</th>\n",
       "      <th>SsMean_7</th>\n",
       "      <th>month</th>\n",
       "      <th>YearWeek</th>\n",
       "      <th>logSsMean</th>\n",
       "    </tr>\n",
       "  </thead>\n",
       "  <tbody>\n",
       "    <tr>\n",
       "      <th>4</th>\n",
       "      <td>14.95</td>\n",
       "      <td>unknown</td>\n",
       "      <td>8.6</td>\n",
       "      <td>23.0</td>\n",
       "      <td>16.6</td>\n",
       "      <td>63.8</td>\n",
       "      <td>0.0</td>\n",
       "      <td>7.0</td>\n",
       "      <td>7.7</td>\n",
       "      <td>282.8</td>\n",
       "      <td>...</td>\n",
       "      <td>3.0</td>\n",
       "      <td>1.0</td>\n",
       "      <td>3.0</td>\n",
       "      <td>7.0</td>\n",
       "      <td>14.95</td>\n",
       "      <td>14.95</td>\n",
       "      <td>14.95</td>\n",
       "      <td>6</td>\n",
       "      <td>24</td>\n",
       "      <td>2.769459</td>\n",
       "    </tr>\n",
       "    <tr>\n",
       "      <th>5</th>\n",
       "      <td>9.71</td>\n",
       "      <td>unknown</td>\n",
       "      <td>9.0</td>\n",
       "      <td>22.7</td>\n",
       "      <td>15.7</td>\n",
       "      <td>72.6</td>\n",
       "      <td>0.1</td>\n",
       "      <td>9.0</td>\n",
       "      <td>10.5</td>\n",
       "      <td>166.6</td>\n",
       "      <td>...</td>\n",
       "      <td>2.0</td>\n",
       "      <td>1.0</td>\n",
       "      <td>3.0</td>\n",
       "      <td>7.0</td>\n",
       "      <td>14.95</td>\n",
       "      <td>14.95</td>\n",
       "      <td>14.95</td>\n",
       "      <td>6</td>\n",
       "      <td>25</td>\n",
       "      <td>2.371178</td>\n",
       "    </tr>\n",
       "    <tr>\n",
       "      <th>6</th>\n",
       "      <td>57.75</td>\n",
       "      <td>unknown</td>\n",
       "      <td>12.4</td>\n",
       "      <td>24.7</td>\n",
       "      <td>18.5</td>\n",
       "      <td>59.5</td>\n",
       "      <td>0.0</td>\n",
       "      <td>9.0</td>\n",
       "      <td>10.0</td>\n",
       "      <td>188.6</td>\n",
       "      <td>...</td>\n",
       "      <td>1.0</td>\n",
       "      <td>1.0</td>\n",
       "      <td>3.0</td>\n",
       "      <td>7.0</td>\n",
       "      <td>9.71</td>\n",
       "      <td>9.71</td>\n",
       "      <td>9.71</td>\n",
       "      <td>6</td>\n",
       "      <td>25</td>\n",
       "      <td>4.073291</td>\n",
       "    </tr>\n",
       "    <tr>\n",
       "      <th>7</th>\n",
       "      <td>6.67</td>\n",
       "      <td>unknown</td>\n",
       "      <td>6.9</td>\n",
       "      <td>27.1</td>\n",
       "      <td>18.5</td>\n",
       "      <td>62.6</td>\n",
       "      <td>0.0</td>\n",
       "      <td>10.4</td>\n",
       "      <td>12.2</td>\n",
       "      <td>160.4</td>\n",
       "      <td>...</td>\n",
       "      <td>1.0</td>\n",
       "      <td>1.0</td>\n",
       "      <td>3.0</td>\n",
       "      <td>7.0</td>\n",
       "      <td>57.75</td>\n",
       "      <td>27.47</td>\n",
       "      <td>27.47</td>\n",
       "      <td>6</td>\n",
       "      <td>25</td>\n",
       "      <td>2.037317</td>\n",
       "    </tr>\n",
       "    <tr>\n",
       "      <th>8</th>\n",
       "      <td>107.32</td>\n",
       "      <td>unknown</td>\n",
       "      <td>9.6</td>\n",
       "      <td>30.2</td>\n",
       "      <td>21.1</td>\n",
       "      <td>59.5</td>\n",
       "      <td>0.0</td>\n",
       "      <td>12.4</td>\n",
       "      <td>15.3</td>\n",
       "      <td>148.2</td>\n",
       "      <td>...</td>\n",
       "      <td>1.0</td>\n",
       "      <td>1.0</td>\n",
       "      <td>3.0</td>\n",
       "      <td>7.0</td>\n",
       "      <td>6.67</td>\n",
       "      <td>24.71</td>\n",
       "      <td>24.71</td>\n",
       "      <td>6</td>\n",
       "      <td>25</td>\n",
       "      <td>4.685090</td>\n",
       "    </tr>\n",
       "  </tbody>\n",
       "</table>\n",
       "<p>5 rows × 63 columns</p>\n",
       "</div>"
      ],
      "text/plain": [
       "   SsMean     Crop  MinTemp_y  MaxTemp_y  MeanTemp_y  MeanRH_y  Precip  Wind2  \\\n",
       "4   14.95  unknown        8.6       23.0        16.6      63.8     0.0    7.0   \n",
       "5    9.71  unknown        9.0       22.7        15.7      72.6     0.1    9.0   \n",
       "6   57.75  unknown       12.4       24.7        18.5      59.5     0.0    9.0   \n",
       "7    6.67  unknown        6.9       27.1        18.5      62.6     0.0   10.4   \n",
       "8  107.32  unknown        9.6       30.2        21.1      59.5     0.0   12.4   \n",
       "\n",
       "   Wind10  Wind10Dir  ...  MaxTemp_u20Sum_7  MeanTemp_u20Sum_1  \\\n",
       "4     7.7      282.8  ...               3.0                1.0   \n",
       "5    10.5      166.6  ...               2.0                1.0   \n",
       "6    10.0      188.6  ...               1.0                1.0   \n",
       "7    12.2      160.4  ...               1.0                1.0   \n",
       "8    15.3      148.2  ...               1.0                1.0   \n",
       "\n",
       "  MeanTemp_u20Sum_3 MeanTemp_u20Sum_7 SsMean_1  SsMean_3  SsMean_7  month  \\\n",
       "4               3.0               7.0    14.95     14.95     14.95      6   \n",
       "5               3.0               7.0    14.95     14.95     14.95      6   \n",
       "6               3.0               7.0     9.71      9.71      9.71      6   \n",
       "7               3.0               7.0    57.75     27.47     27.47      6   \n",
       "8               3.0               7.0     6.67     24.71     24.71      6   \n",
       "\n",
       "   YearWeek  logSsMean  \n",
       "4        24   2.769459  \n",
       "5        25   2.371178  \n",
       "6        25   4.073291  \n",
       "7        25   2.037317  \n",
       "8        25   4.685090  \n",
       "\n",
       "[5 rows x 63 columns]"
      ]
     },
     "execution_count": 7,
     "metadata": {},
     "output_type": "execute_result"
    }
   ],
   "source": [
    "df.head()"
   ]
  },
  {
   "cell_type": "markdown",
   "metadata": {},
   "source": [
    "#### Build Pipeline"
   ]
  },
  {
   "cell_type": "code",
   "execution_count": 9,
   "metadata": {},
   "outputs": [],
   "source": [
    "# separate out target variable\n",
    "X = df.drop(labels=['SsMean','logSsMean'], axis=1)\n",
    "# using logSsMean was also tried, led to poorer model performance\n",
    "y = df.SsMean"
   ]
  },
  {
   "cell_type": "code",
   "execution_count": 10,
   "metadata": {},
   "outputs": [],
   "source": [
    "# create pipeline\n",
    "\n",
    "# select continuous and categorical varables\n",
    "cat_feats = X.dtypes[X.dtypes == 'object'].index.tolist()\n",
    "num_feats = X.dtypes[~X.dtypes.index.isin(cat_feats)].index.tolist()\n",
    "\n",
    "# create functions to isolate datatypes\n",
    "def numFeat(data):\n",
    "    return data[num_feats]\n",
    "\n",
    "def catFeat(data):\n",
    "    return data[cat_feats]\n",
    "\n",
    "# create fit_transform for feature functions\n",
    "keep_num = FunctionTransformer(numFeat)\n",
    "keep_cat = FunctionTransformer(catFeat)\n",
    "\n",
    "# label encoder won't work in pipeline, will use one hot encoding\n",
    "encoder = OneHotEncoder()\n",
    "\n",
    "# will need to densify after encoding\n",
    "class ToDenseTransformer():\n",
    "    def transform(self, X, y=None, **fit_params):\n",
    "        return X.todense()\n",
    "    \n",
    "    def fit(self, X, y=None, **fit_params):\n",
    "        return self\n",
    "        \n",
    "# select kbest\n",
    "kbest = SelectKBest(k=30)\n",
    "\n",
    "# select PCA components\n",
    "pca = PCA(n_components=4)\n",
    "\n",
    "# scale\n",
    "scaler = StandardScaler()"
   ]
  },
  {
   "cell_type": "code",
   "execution_count": 12,
   "metadata": {},
   "outputs": [],
   "source": [
    "cat_preprocessing = Pipeline([\n",
    "    ('cats', keep_cat),\n",
    "    ('encode', encoder),\n",
    "    ('densify', ToDenseTransformer())\n",
    "])\n",
    "\n",
    "num_preprocessing = Pipeline([\n",
    "    ('nums', keep_num),\n",
    "])\n",
    "\n",
    "values_union = FeatureUnion([\n",
    "    ('cat_cols', cat_preprocessing),\n",
    "    ('num_cols', num_preprocessing),\n",
    "])\n",
    "\n",
    "feature_union = FeatureUnion([\n",
    "    ('pca', pca),\n",
    "    ('select_best', kbest)\n",
    "])"
   ]
  },
  {
   "cell_type": "markdown",
   "metadata": {},
   "source": [
    "#### SVM"
   ]
  },
  {
   "cell_type": "code",
   "execution_count": 26,
   "metadata": {
    "collapsed": true,
    "jupyter": {
     "outputs_hidden": true
    }
   },
   "outputs": [
    {
     "data": {
      "text/plain": [
       "Pipeline(steps=[('values',\n",
       "                 FeatureUnion(transformer_list=[('cat_cols',\n",
       "                                                 Pipeline(steps=[('cats',\n",
       "                                                                  FunctionTransformer(func=<function catFeat at 0x7ffae03a7280>)),\n",
       "                                                                 ('encode',\n",
       "                                                                  OneHotEncoder()),\n",
       "                                                                 ('densify',\n",
       "                                                                  <__main__.ToDenseTransformer object at 0x7ffae03ac130>)])),\n",
       "                                                ('num_cols',\n",
       "                                                 Pipeline(steps=[('nums',\n",
       "                                                                  FunctionTransformer(func=<function numFeat at 0x7ffae03a7310>))]))])),\n",
       "                ('scale', StandardScaler()), ('model', SVR())])"
      ]
     },
     "execution_count": 26,
     "metadata": {},
     "output_type": "execute_result"
    }
   ],
   "source": [
    "# fit model\n",
    "base_model = SVR()\n",
    "\n",
    "pipeline = Pipeline(steps=[\n",
    "    ('values', values_union),\n",
    "    ('scale', scaler),\n",
    "    #('features', feature_union), # better performance without feature selection\n",
    "    ('model', base_model)\n",
    "])\n",
    "\n",
    "# train test split\n",
    "X_train, X_test, y_train, y_test = train_test_split(X,y, test_size=0.2, random_state=46)\n",
    "\n",
    "pipeline.fit(X_train, y_train)"
   ]
  },
  {
   "cell_type": "code",
   "execution_count": 27,
   "metadata": {},
   "outputs": [
    {
     "name": "stdout",
     "output_type": "stream",
     "text": [
      "Training acc: -0.07770356927107702\n",
      "Testing acc: -0.0747795184929787\n",
      "Train Mean squared error:  10420196.197371716\n",
      "Test Mean squared error:  24454152.65874216\n",
      "Train MAE:  1043.617920333086\n",
      "Test MAE:  1503.901815429798\n",
      "Train RMSE:  3228.032868074877\n",
      "Test RMSE:  4945.114018780776\n",
      "Train corr:  (0.2522113481017955, 2.7408086320333963e-12)\n",
      "Test corr:  (0.16830378451467223, 0.02130489008191786)\n"
     ]
    },
    {
     "data": {
      "image/png": "[encoded data removed]",
      "text/plain": [
       "<Figure size 432x288 with 1 Axes>"
      ]
     },
     "metadata": {
      "needs_background": "light"
     },
     "output_type": "display_data"
    },
    {
     "data": {
      "image/png": "[encoded data removed]",
      "text/plain": [
       "<Figure size 432x288 with 1 Axes>"
      ]
     },
     "metadata": {
      "needs_background": "light"
     },
     "output_type": "display_data"
    }
   ],
   "source": [
    "# evaluate\n",
    "\n",
    "xg = pipeline\n",
    "\n",
    "y_pred = xg.predict(X_test)\n",
    "train_score = xg.score(X_train, y_train.values)\n",
    "test_score = xg.score(X_test, y_test.values)\n",
    "print('Training acc:', train_score)\n",
    "print('Testing acc:', test_score)\n",
    "train_pred = xg.predict(X_train)\n",
    "\n",
    "train_mse = mean_squared_error(y_train, train_pred)\n",
    "print('Train Mean squared error: ', train_mse)\n",
    "test_mse = mean_squared_error(y_test, y_pred)\n",
    "print('Test Mean squared error: ', test_mse)\n",
    "\n",
    "train_mae = mean_absolute_error(y_train, train_pred)\n",
    "print('Train MAE: ', train_mae)\n",
    "test_mae = mean_absolute_error(y_test, y_pred)\n",
    "print('Test MAE: ', test_mae)\n",
    "\n",
    "train_rmse = mean_squared_error(y_train, train_pred, squared=False)\n",
    "print('Train RMSE: ', train_rmse)\n",
    "test_rmse = mean_squared_error(y_test, y_pred, squared=False)\n",
    "print('Test RMSE: ', test_rmse)\n",
    "\n",
    "from scipy.stats import pearsonr as pearson\n",
    "train_pearson = pearson(y_train, train_pred)\n",
    "print('Train corr: ', train_pearson)\n",
    "test_pearson = pearson(y_test, y_pred)\n",
    "print('Test corr: ', test_pearson)\n",
    "\n",
    "# plot test\n",
    "plt.plot(y_pred, c='b')\n",
    "plt.plot(y_test.values, c='r')\n",
    "plt.show()\n",
    "\n",
    "# plot closeup of test\n",
    "plt.plot(y_pred[50:150], c='b')\n",
    "plt.plot(y_test.values[50:150], c='r')\n",
    "plt.show()"
   ]
  },
  {
   "cell_type": "markdown",
   "metadata": {},
   "source": [
    "#### Linear Regression"
   ]
  },
  {
   "cell_type": "code",
   "execution_count": 28,
   "metadata": {
    "collapsed": true,
    "jupyter": {
     "outputs_hidden": true
    }
   },
   "outputs": [
    {
     "data": {
      "text/plain": [
       "Pipeline(steps=[('values',\n",
       "                 FeatureUnion(transformer_list=[('cat_cols',\n",
       "                                                 Pipeline(steps=[('cats',\n",
       "                                                                  FunctionTransformer(func=<function catFeat at 0x7ffae03a7280>)),\n",
       "                                                                 ('encode',\n",
       "                                                                  OneHotEncoder()),\n",
       "                                                                 ('densify',\n",
       "                                                                  <__main__.ToDenseTransformer object at 0x7ffae03ac130>)])),\n",
       "                                                ('num_cols',\n",
       "                                                 Pipeline(steps=[('nums',\n",
       "                                                                  FunctionTransformer(func=<function numFeat at 0x7ffae03a7310>))]))])),\n",
       "                ('scale', StandardScaler()), ('model', LinearRegression())])"
      ]
     },
     "execution_count": 28,
     "metadata": {},
     "output_type": "execute_result"
    }
   ],
   "source": [
    "# fit model\n",
    "base_model = LinearRegression()\n",
    "\n",
    "pipeline = Pipeline(steps=[\n",
    "    ('values', values_union),\n",
    "    ('scale', scaler),\n",
    "    #('features', feature_union), # better performance without feature selection\n",
    "    ('model', base_model)\n",
    "])\n",
    "\n",
    "# train test split\n",
    "X_train, X_test, y_train, y_test = train_test_split(X,y, test_size=0.2, random_state=46)\n",
    "\n",
    "pipeline.fit(X_train, y_train)"
   ]
  },
  {
   "cell_type": "code",
   "execution_count": 29,
   "metadata": {},
   "outputs": [
    {
     "name": "stdout",
     "output_type": "stream",
     "text": [
      "Training acc: 0.37808262677003623\n",
      "Testing acc: 0.31355054276574557\n",
      "Train Mean squared error:  6013250.055387189\n",
      "Test Mean squared error:  15618589.237032266\n",
      "Train MAE:  1240.2967539785416\n",
      "Test MAE:  1597.4943942558332\n",
      "Train RMSE:  2452.1929074579734\n",
      "Test RMSE:  3952.036087516442\n",
      "Train corr:  (0.6152788388094308, 6.582584026191402e-79)\n",
      "Test corr:  (0.6057806212083133, 4.104591286593098e-20)\n"
     ]
    },
    {
     "data": {
      "image/png": "[encoded data removed]",
      "text/plain": [
       "<Figure size 432x288 with 1 Axes>"
      ]
     },
     "metadata": {
      "needs_background": "light"
     },
     "output_type": "display_data"
    },
    {
     "data": {
      "image/png": "[encoded data removed]",
      "text/plain": [
       "<Figure size 432x288 with 1 Axes>"
      ]
     },
     "metadata": {
      "needs_background": "light"
     },
     "output_type": "display_data"
    }
   ],
   "source": [
    "# evaluate\n",
    "\n",
    "xg = pipeline\n",
    "\n",
    "y_pred = xg.predict(X_test)\n",
    "train_score = xg.score(X_train, y_train.values)\n",
    "test_score = xg.score(X_test, y_test.values)\n",
    "print('Training acc:', train_score)\n",
    "print('Testing acc:', test_score)\n",
    "train_pred = xg.predict(X_train)\n",
    "\n",
    "train_mse = mean_squared_error(y_train, train_pred)\n",
    "print('Train Mean squared error: ', train_mse)\n",
    "test_mse = mean_squared_error(y_test, y_pred)\n",
    "print('Test Mean squared error: ', test_mse)\n",
    "\n",
    "train_mae = mean_absolute_error(y_train, train_pred)\n",
    "print('Train MAE: ', train_mae)\n",
    "test_mae = mean_absolute_error(y_test, y_pred)\n",
    "print('Test MAE: ', test_mae)\n",
    "\n",
    "train_rmse = mean_squared_error(y_train, train_pred, squared=False)\n",
    "print('Train RMSE: ', train_rmse)\n",
    "test_rmse = mean_squared_error(y_test, y_pred, squared=False)\n",
    "print('Test RMSE: ', test_rmse)\n",
    "\n",
    "from scipy.stats import pearsonr as pearson\n",
    "train_pearson = pearson(y_train, train_pred)\n",
    "print('Train corr: ', train_pearson)\n",
    "test_pearson = pearson(y_test, y_pred)\n",
    "print('Test corr: ', test_pearson)\n",
    "\n",
    "# plot test\n",
    "plt.plot(y_pred, c='b')\n",
    "plt.plot(y_test.values, c='r')\n",
    "plt.show()\n",
    "\n",
    "# plot closeup of test\n",
    "plt.plot(y_pred[50:150], c='b')\n",
    "plt.plot(y_test.values[50:150], c='r')\n",
    "plt.show()"
   ]
  },
  {
   "cell_type": "markdown",
   "metadata": {},
   "source": [
    "#### Ridge Regression"
   ]
  },
  {
   "cell_type": "code",
   "execution_count": 40,
   "metadata": {},
   "outputs": [
    {
     "data": {
      "text/plain": [
       "Pipeline(steps=[('values',\n",
       "                 FeatureUnion(transformer_list=[('cat_cols',\n",
       "                                                 Pipeline(steps=[('cats',\n",
       "                                                                  FunctionTransformer(func=<function catFeat at 0x7ffae03a7280>)),\n",
       "                                                                 ('encode',\n",
       "                                                                  OneHotEncoder()),\n",
       "                                                                 ('densify',\n",
       "                                                                  <__main__.ToDenseTransformer object at 0x7ffae03ac130>)])),\n",
       "                                                ('num_cols',\n",
       "                                                 Pipeline(steps=[('nums',\n",
       "                                                                  FunctionTransformer(func=<function numFeat at 0x7ffae03a7310>))]))])),\n",
       "                ('scale', StandardScaler()), ('model', Ridge())])"
      ]
     },
     "execution_count": 40,
     "metadata": {},
     "output_type": "execute_result"
    }
   ],
   "source": [
    "# fit model\n",
    "# Lasso also tried, with similar performance\n",
    "base_model = Ridge()\n",
    "\n",
    "pipeline = Pipeline(steps=[\n",
    "    ('values', values_union),\n",
    "    ('scale', scaler),\n",
    "    #('features', feature_union), # better performance without feature selection\n",
    "    ('model', base_model)\n",
    "])\n",
    "\n",
    "# train test split\n",
    "X_train, X_test, y_train, y_test = train_test_split(X,y, test_size=0.2, random_state=46)\n",
    "\n",
    "pipeline.fit(X_train, y_train)"
   ]
  },
  {
   "cell_type": "code",
   "execution_count": 41,
   "metadata": {},
   "outputs": [
    {
     "name": "stdout",
     "output_type": "stream",
     "text": [
      "Training acc: 0.3803636248017722\n",
      "Testing acc: 0.3216073008672877\n",
      "Train Mean squared error:  5991195.338585439\n",
      "Test Mean squared error:  15435276.111726409\n",
      "Train MAE:  1197.6283025071953\n",
      "Test MAE:  1541.0320032859868\n",
      "Train RMSE:  2447.691838975127\n",
      "Test RMSE:  3928.775395937824\n",
      "Train corr:  (0.6167470255313076, 2.2203750819590803e-79)\n",
      "Test corr:  (0.6215202653789439, 2.2775094816338973e-21)\n"
     ]
    },
    {
     "data": {
      "image/png": "[encoded data removed]",
      "text/plain": [
       "<Figure size 432x288 with 1 Axes>"
      ]
     },
     "metadata": {
      "needs_background": "light"
     },
     "output_type": "display_data"
    },
    {
     "data": {
      "image/png": "[encoded data removed]",
      "text/plain": [
       "<Figure size 432x288 with 1 Axes>"
      ]
     },
     "metadata": {
      "needs_background": "light"
     },
     "output_type": "display_data"
    }
   ],
   "source": [
    "# evaluate\n",
    "\n",
    "xg = pipeline\n",
    "\n",
    "y_pred = xg.predict(X_test)\n",
    "train_score = xg.score(X_train, y_train.values)\n",
    "test_score = xg.score(X_test, y_test.values)\n",
    "print('Training acc:', train_score)\n",
    "print('Testing acc:', test_score)\n",
    "train_pred = xg.predict(X_train)\n",
    "\n",
    "train_mse = mean_squared_error(y_train, train_pred)\n",
    "print('Train Mean squared error: ', train_mse)\n",
    "test_mse = mean_squared_error(y_test, y_pred)\n",
    "print('Test Mean squared error: ', test_mse)\n",
    "\n",
    "train_mae = mean_absolute_error(y_train, train_pred)\n",
    "print('Train MAE: ', train_mae)\n",
    "test_mae = mean_absolute_error(y_test, y_pred)\n",
    "print('Test MAE: ', test_mae)\n",
    "\n",
    "train_rmse = mean_squared_error(y_train, train_pred, squared=False)\n",
    "print('Train RMSE: ', train_rmse)\n",
    "test_rmse = mean_squared_error(y_test, y_pred, squared=False)\n",
    "print('Test RMSE: ', test_rmse)\n",
    "\n",
    "from scipy.stats import pearsonr as pearson\n",
    "train_pearson = pearson(y_train, train_pred)\n",
    "print('Train corr: ', train_pearson)\n",
    "test_pearson = pearson(y_test, y_pred)\n",
    "print('Test corr: ', test_pearson)\n",
    "\n",
    "# plot test\n",
    "plt.plot(y_pred, c='b')\n",
    "plt.plot(y_test.values, c='r')\n",
    "plt.show()\n",
    "\n",
    "# plot closeup of test\n",
    "plt.plot(y_pred[50:150], c='b')\n",
    "plt.plot(y_test.values[50:150], c='r')\n",
    "plt.show()"
   ]
  },
  {
   "cell_type": "markdown",
   "metadata": {},
   "source": [
    "#### XGBoost Regression"
   ]
  },
  {
   "cell_type": "code",
   "execution_count": 96,
   "metadata": {},
   "outputs": [
    {
     "data": {
      "text/plain": [
       "Pipeline(steps=[('values',\n",
       "                 FeatureUnion(transformer_list=[('cat_cols',\n",
       "                                                 Pipeline(steps=[('cats',\n",
       "                                                                  FunctionTransformer(func=<function catFeat at 0x7ffae03a7280>)),\n",
       "                                                                 ('encode',\n",
       "                                                                  OneHotEncoder()),\n",
       "                                                                 ('densify',\n",
       "                                                                  <__main__.ToDenseTransformer object at 0x7ffae03ac130>)])),\n",
       "                                                ('num_cols',\n",
       "                                                 Pipeline(steps=[('nums',\n",
       "                                                                  FunctionTransformer(func=<function numFeat at 0x7ffae03a7310>))]))]))...\n",
       "                              colsample_bytree=1, gamma=0, gpu_id=-1,\n",
       "                              importance_type='gain',\n",
       "                              interaction_constraints='',\n",
       "                              learning_rate=0.300000012, max_delta_step=0,\n",
       "                              max_depth=6, min_child_weight=1, missing=nan,\n",
       "                              monotone_constraints='()', n_estimators=100,\n",
       "                              n_jobs=4, num_parallel_tree=1, random_state=0,\n",
       "                              reg_alpha=0, reg_lambda=1, scale_pos_weight=1,\n",
       "                              subsample=1, tree_method='exact',\n",
       "                              validate_parameters=1, verbosity=None))])"
      ]
     },
     "execution_count": 96,
     "metadata": {},
     "output_type": "execute_result"
    }
   ],
   "source": [
    "# fit model\n",
    "base_model = xgb.XGBRegressor()\n",
    "\n",
    "pipeline = Pipeline(steps=[\n",
    "    ('values', values_union),\n",
    "    ('scale', scaler),\n",
    "    #('features', feature_union), # better performance without feature selection\n",
    "    ('model', base_model)\n",
    "])\n",
    "\n",
    "# train test split\n",
    "X_train, X_test, y_train, y_test = train_test_split(X,y, test_size=0.2, random_state=46)\n",
    "\n",
    "pipeline.fit(X_train, y_train)"
   ]
  },
  {
   "cell_type": "code",
   "execution_count": 97,
   "metadata": {},
   "outputs": [
    {
     "name": "stdout",
     "output_type": "stream",
     "text": [
      "Training acc: 0.9999769303867057\n",
      "Testing acc: 0.46998227783316526\n",
      "Train Mean squared error:  223.0575304550984\n",
      "Test Mean squared error:  12059342.466704475\n",
      "Train MAE:  10.397672775839021\n",
      "Test MAE:  1310.7770707188185\n",
      "Train RMSE:  14.935110660959241\n",
      "Test RMSE:  3472.6563991711696\n",
      "Train corr:  (0.9999887542788912, 0.0)\n",
      "Test corr:  (0.7696265646720302, 6.82261162488359e-38)\n"
     ]
    },
    {
     "data": {
      "image/png": "[encoded data removed]",
      "text/plain": [
       "<Figure size 432x288 with 1 Axes>"
      ]
     },
     "metadata": {
      "needs_background": "light"
     },
     "output_type": "display_data"
    },
    {
     "data": {
      "image/png": "[encoded data removed]",
      "text/plain": [
       "<Figure size 432x288 with 1 Axes>"
      ]
     },
     "metadata": {
      "needs_background": "light"
     },
     "output_type": "display_data"
    }
   ],
   "source": [
    "# evaluate\n",
    "\n",
    "xg = pipeline\n",
    "\n",
    "y_pred = xg.predict(X_test)\n",
    "train_score = xg.score(X_train, y_train.values)\n",
    "test_score = xg.score(X_test, y_test.values)\n",
    "print('Training acc:', train_score)\n",
    "print('Testing acc:', test_score)\n",
    "train_pred = xg.predict(X_train)\n",
    "\n",
    "train_mse = mean_squared_error(y_train, train_pred)\n",
    "print('Train Mean squared error: ', train_mse)\n",
    "test_mse = mean_squared_error(y_test, y_pred)\n",
    "print('Test Mean squared error: ', test_mse)\n",
    "\n",
    "train_mae = mean_absolute_error(y_train, train_pred)\n",
    "print('Train MAE: ', train_mae)\n",
    "test_mae = mean_absolute_error(y_test, y_pred)\n",
    "print('Test MAE: ', test_mae)\n",
    "\n",
    "train_rmse = mean_squared_error(y_train, train_pred, squared=False)\n",
    "print('Train RMSE: ', train_rmse)\n",
    "test_rmse = mean_squared_error(y_test, y_pred, squared=False)\n",
    "print('Test RMSE: ', test_rmse)\n",
    "\n",
    "from scipy.stats import pearsonr as pearson\n",
    "train_pearson = pearson(y_train, train_pred)\n",
    "print('Train corr: ', train_pearson)\n",
    "test_pearson = pearson(y_test, y_pred)\n",
    "print('Test corr: ', test_pearson)\n",
    "\n",
    "# plot test\n",
    "plt.plot(y_pred, c='b')\n",
    "plt.plot(y_test.values, c='r')\n",
    "plt.show()\n",
    "\n",
    "# plot closeup of test\n",
    "plt.plot(y_pred[50:150], c='b')\n",
    "plt.plot(y_test.values[50:150], c='r')\n",
    "plt.show()"
   ]
  },
  {
   "cell_type": "markdown",
   "metadata": {},
   "source": [
    "#### *Move forward with XGBoost"
   ]
  },
  {
   "cell_type": "markdown",
   "metadata": {},
   "source": [
    "#### Build Classification system"
   ]
  },
  {
   "cell_type": "code",
   "execution_count": 75,
   "metadata": {},
   "outputs": [],
   "source": [
    "# although accuracy is low, correlation is okay and model seems to be predicting spikes to some degree\n",
    "# create a classification system to see performance\n",
    "# will need to determin custom classification thresholds for model"
   ]
  },
  {
   "cell_type": "code",
   "execution_count": 49,
   "metadata": {},
   "outputs": [
    {
     "data": {
      "text/plain": [
       "count      933.000000\n",
       "mean      1241.957622\n",
       "std       3512.085184\n",
       "min          0.000000\n",
       "25%         86.000000\n",
       "50%        268.880000\n",
       "75%        827.670000\n",
       "max      49537.972050\n",
       "Name: SsMean, dtype: float64"
      ]
     },
     "execution_count": 49,
     "metadata": {},
     "output_type": "execute_result"
    }
   ],
   "source": [
    "# get an idea for target distribution\n",
    "df.SsMean.describe()"
   ]
  },
  {
   "cell_type": "code",
   "execution_count": 50,
   "metadata": {},
   "outputs": [
    {
     "name": "stdout",
     "output_type": "stream",
     "text": [
      "52\n",
      "95\n"
     ]
    }
   ],
   "source": [
    "print(df[df['SsMean'] > 5000].SsMean.count()) # ~top 5% of counts\n",
    "print(df[df['SsMean'] > 2500].SsMean.count()) # ~top 10% of counts"
   ]
  },
  {
   "cell_type": "code",
   "execution_count": 90,
   "metadata": {},
   "outputs": [],
   "source": [
    "# classifier function 2500\n",
    "def classify_2500(data):\n",
    "    if data < 2500:\n",
    "        return 0\n",
    "    else:\n",
    "        return 1\n",
    "\n",
    "# classifier function 5000\n",
    "def classify_5000(data):\n",
    "    if data < 5000:\n",
    "        return 0\n",
    "    else:\n",
    "        return 1\n",
    "\n",
    "# function to filter roc_curve thresholds\n",
    "def thresholds(false, true, th):\n",
    "    rc = list(zip(false, true, th))\n",
    "    to_try = []\n",
    "    for i in rc:\n",
    "        fp = i[0]\n",
    "        tp = i[1]\n",
    "        t = i[2]\n",
    "        if (fp <= 0.4) & (tp >= 0.8):\n",
    "            to_try.append(i)\n",
    "    return to_try\n",
    "    \n",
    "def thresholds_2500():\n",
    "    print(\"2500 classification threshold\")\n",
    "    # apply classifier and print AUC scores\n",
    "    train_auc = roc_auc_score(y_train.apply(classify_2500),train_pred)\n",
    "    print('Train auc:', train_auc)\n",
    "    test_auc = roc_auc_score(y_test.apply(classify_2500),y_pred)\n",
    "    print('Test auc:', test_auc)\n",
    "\n",
    "    # calculate roc_auc curve \n",
    "    fpr, tpr, thresh = roc_curve(y_test.apply(classify_2500),y_pred)\n",
    "\n",
    "    # plot\n",
    "    plt.plot(fpr, tpr)\n",
    "    plt.show()\n",
    "    \n",
    "    holds = thresholds(fpr, tpr, thresh)\n",
    "    print(holds)\n",
    "    \n",
    "def thresholds_5000():\n",
    "    print(\"2500 classification threshold\")\n",
    "    # apply classifier and print AUC scores\n",
    "    train_auc = roc_auc_score(y_train.apply(classify_5000),train_pred)\n",
    "    print('Train auc:', train_auc)\n",
    "    test_auc = roc_auc_score(y_test.apply(classify_5000),y_pred)\n",
    "    print('Test auc:', test_auc)\n",
    "\n",
    "    # calculate roc_auc curve \n",
    "    fpr, tpr, thresh = roc_curve(y_test.apply(classify_5000),y_pred)\n",
    "\n",
    "    # plot\n",
    "    plt.plot(fpr, tpr)\n",
    "    plt.show()\n",
    "    \n",
    "    holds = thresholds(fpr, tpr, thresh)\n",
    "    print(holds)\n",
    "    \n",
    "# function to show result from custom classification\n",
    "def custom_results(model_threshold, true_cl):\n",
    "    # define model threshold classes\n",
    "    def model_cl(data):\n",
    "        if data < model_threshold:\n",
    "            return 0\n",
    "        else:\n",
    "            return 1\n",
    "    # build dataframe with true and predicted labels\n",
    "    # train\n",
    "    train_result = pd.DataFrame()\n",
    "    train_result['train_pred'] = train_pred\n",
    "    train_result['train_pred_label'] = train_result.train_pred.apply(model_cl)\n",
    "    train_result['y_train'] = y_train.values\n",
    "    train_result['train_true_label'] = train_result.y_train.apply(true_cl)\n",
    "    #test\n",
    "    test_result = pd.DataFrame()\n",
    "    test_result['y_pred'] = y_pred\n",
    "    test_result['pred_label'] = test_result.y_pred.apply(model_cl)\n",
    "    test_result['y'] = y_test.values\n",
    "    test_result['true_label'] = test_result.y.apply(true_cl)\n",
    "    # performance evaluations\n",
    "    train_precision = precision_score(train_result.train_true_label, train_result.train_pred_label)\n",
    "    test_precision = precision_score(test_result.true_label, test_result.pred_label)\n",
    "    print('Train precision:', train_precision)\n",
    "    print('Test precision:', test_precision)\n",
    "\n",
    "    train_recall = recall_score(train_result.train_true_label, train_result.train_pred_label)\n",
    "    test_recall = recall_score(test_result.true_label, test_result.pred_label)\n",
    "    print('Train recall:', train_recall)\n",
    "    print('Test recall:', test_recall)\n",
    "\n",
    "    train_f1 = f1_score(train_result.train_true_label, train_result.train_pred_label)\n",
    "    test_f1 = f1_score(test_result.true_label, test_result.pred_label)\n",
    "    print('F1 score train:', train_f1)\n",
    "    print('F1 score test:', test_f1)\n",
    "\n",
    "    cr = classification_report(test_result.true_label, test_result.pred_label)\n",
    "    print(cr)\n",
    "\n",
    "    cm = confusion_matrix(test_result.true_label, test_result.pred_label)\n",
    "    plot_confusion_matrix(cm, classes=[0,1])\n",
    "    \n",
    "# convenience function to plot confustion matrix\n",
    "def plot_confusion_matrix(cm, classes,\n",
    "                          title='Confusion matrix',\n",
    "                          cmap=plt.cm.Blues):\n",
    "    import itertools\n",
    "    \n",
    "    plt.imshow(cm, interpolation='nearest', cmap=cmap)\n",
    "    plt.title(title)\n",
    "    plt.colorbar()\n",
    "    tick_marks = np.arange(len(classes))\n",
    "    plt.xticks(tick_marks, classes, rotation=45)\n",
    "    plt.yticks(tick_marks, classes)\n",
    "\n",
    "    thresh = cm.max() / 2.\n",
    "    for i, j in itertools.product(range(cm.shape[0]), range(cm.shape[1])):\n",
    "        plt.text(j, i, format(cm[i, j], 'd'),\n",
    "                 horizontalalignment=\"center\",\n",
    "                 color=\"white\" if cm[i, j] > thresh else \"black\")\n",
    "\n",
    "    plt.ylabel('True label')\n",
    "    plt.xlabel('Predicted label')\n",
    "    plt.tight_layout()"
   ]
  },
  {
   "cell_type": "markdown",
   "metadata": {},
   "source": [
    "#### Baseline XGBoost Classification Permormance"
   ]
  },
  {
   "cell_type": "code",
   "execution_count": 98,
   "metadata": {},
   "outputs": [
    {
     "name": "stdout",
     "output_type": "stream",
     "text": [
      "2500 classification threshold\n",
      "Train auc: 1.0\n",
      "Test auc: 0.8838209982788297\n"
     ]
    },
    {
     "data": {
      "image/png": "[encoded data removed]",
      "text/plain": [
       "<Figure size 432x288 with 1 Axes>"
      ]
     },
     "metadata": {
      "needs_background": "light"
     },
     "output_type": "display_data"
    },
    {
     "name": "stdout",
     "output_type": "stream",
     "text": [
      "[(0.2710843373493976, 0.8095238095238095, 629.43353), (0.3132530120481928, 0.8095238095238095, 575.782), (0.3132530120481928, 0.9047619047619048, 565.7472), (0.3493975903614458, 0.9047619047619048, 503.88397), (0.3493975903614458, 0.9523809523809523, 503.5062)]\n"
     ]
    }
   ],
   "source": [
    "# 2500\n",
    "thresholds_2500()"
   ]
  },
  {
   "cell_type": "code",
   "execution_count": 100,
   "metadata": {},
   "outputs": [
    {
     "name": "stdout",
     "output_type": "stream",
     "text": [
      "Train precision: 0.2901960784313726\n",
      "Test precision: 0.2564102564102564\n",
      "Train recall: 1.0\n",
      "Test recall: 0.9523809523809523\n",
      "F1 score train: 0.44984802431610943\n",
      "F1 score test: 0.40404040404040403\n",
      "              precision    recall  f1-score   support\n",
      "\n",
      "           0       0.99      0.65      0.79       166\n",
      "           1       0.26      0.95      0.40        21\n",
      "\n",
      "    accuracy                           0.68       187\n",
      "   macro avg       0.62      0.80      0.59       187\n",
      "weighted avg       0.91      0.68      0.74       187\n",
      "\n"
     ]
    },
    {
     "data": {
      "image/png": "[encoded data removed]",
      "text/plain": [
       "<Figure size 432x288 with 2 Axes>"
      ]
     },
     "metadata": {
      "needs_background": "light"
     },
     "output_type": "display_data"
    }
   ],
   "source": [
    "# 2500 performace\n",
    "custom_results(500, classify_2500)"
   ]
  },
  {
   "cell_type": "code",
   "execution_count": 101,
   "metadata": {},
   "outputs": [
    {
     "name": "stdout",
     "output_type": "stream",
     "text": [
      "2500 classification threshold\n",
      "Train auc: 1.0\n",
      "Test auc: 0.9282945736434108\n"
     ]
    },
    {
     "data": {
      "image/png": "[encoded data removed]",
      "text/plain": [
       "<Figure size 432x288 with 1 Axes>"
      ]
     },
     "metadata": {
      "needs_background": "light"
     },
     "output_type": "display_data"
    },
    {
     "name": "stdout",
     "output_type": "stream",
     "text": [
      "[(0.13372093023255813, 0.8, 1359.2766), (0.1686046511627907, 0.8, 1061.8708), (0.1686046511627907, 0.8666666666666667, 1036.7358), (0.22093023255813954, 0.8666666666666667, 871.64795), (0.22093023255813954, 0.9333333333333333, 856.4169), (0.36627906976744184, 0.9333333333333333, 503.88397), (0.36627906976744184, 1.0, 503.5062)]\n"
     ]
    }
   ],
   "source": [
    "# 5000 \n",
    "thresholds_5000()"
   ]
  },
  {
   "cell_type": "code",
   "execution_count": 104,
   "metadata": {},
   "outputs": [
    {
     "name": "stdout",
     "output_type": "stream",
     "text": [
      "Train precision: 0.1450980392156863\n",
      "Test precision: 0.19230769230769232\n",
      "Train recall: 1.0\n",
      "Test recall: 1.0\n",
      "F1 score train: 0.2534246575342466\n",
      "F1 score test: 0.32258064516129037\n",
      "              precision    recall  f1-score   support\n",
      "\n",
      "           0       1.00      0.63      0.78       172\n",
      "           1       0.19      1.00      0.32        15\n",
      "\n",
      "    accuracy                           0.66       187\n",
      "   macro avg       0.60      0.82      0.55       187\n",
      "weighted avg       0.94      0.66      0.74       187\n",
      "\n"
     ]
    },
    {
     "data": {
      "image/png": "[encoded data removed]",
      "text/plain": [
       "<Figure size 432x288 with 2 Axes>"
      ]
     },
     "metadata": {
      "needs_background": "light"
     },
     "output_type": "display_data"
    }
   ],
   "source": [
    "custom_results(500, classify_5000)"
   ]
  },
  {
   "cell_type": "markdown",
   "metadata": {},
   "source": [
    "#### Tuned XGBoost Model"
   ]
  },
  {
   "cell_type": "code",
   "execution_count": 105,
   "metadata": {},
   "outputs": [
    {
     "data": {
      "text/plain": [
       "Pipeline(steps=[('values',\n",
       "                 FeatureUnion(transformer_list=[('cat_cols',\n",
       "                                                 Pipeline(steps=[('cats',\n",
       "                                                                  FunctionTransformer(func=<function catFeat at 0x7ffae03a7280>)),\n",
       "                                                                 ('encode',\n",
       "                                                                  OneHotEncoder()),\n",
       "                                                                 ('densify',\n",
       "                                                                  <__main__.ToDenseTransformer object at 0x7ffae03ac130>)])),\n",
       "                                                ('num_cols',\n",
       "                                                 Pipeline(steps=[('nums',\n",
       "                                                                  FunctionTransformer(func=<function numFeat at 0x7ffae03a7310>))]))]))...\n",
       "                              colsample_bytree=1, eta=0.4, gamma=0, gpu_id=-1,\n",
       "                              importance_type='gain',\n",
       "                              interaction_constraints='',\n",
       "                              learning_rate=0.400000006, max_delta_step=0,\n",
       "                              max_depth=5, min_child_weight=1, missing=nan,\n",
       "                              monotone_constraints='()', n_estimators=100,\n",
       "                              n_jobs=4, num_parallel_tree=1, random_state=0,\n",
       "                              reg_alpha=0, reg_lambda=1, scale_pos_weight=1,\n",
       "                              subsample=1, tree_method='exact',\n",
       "                              validate_parameters=1, verbosity=None))])"
      ]
     },
     "execution_count": 105,
     "metadata": {},
     "output_type": "execute_result"
    }
   ],
   "source": [
    "# fit model\n",
    "base_model = xgb.XGBRegressor(eta=0.4, max_depth=5)\n",
    "\n",
    "pipeline = Pipeline(steps=[\n",
    "    ('values', values_union),\n",
    "    ('scale', scaler),\n",
    "    #('features', feature_union), # better performance without feature selection\n",
    "    ('model', base_model)\n",
    "])\n",
    "\n",
    "# train test split\n",
    "X_train, X_test, y_train, y_test = train_test_split(X,y, test_size=0.2, random_state=46)\n",
    "\n",
    "pipeline.fit(X_train, y_train)"
   ]
  },
  {
   "cell_type": "code",
   "execution_count": 106,
   "metadata": {},
   "outputs": [
    {
     "name": "stdout",
     "output_type": "stream",
     "text": [
      "Training acc: 0.9999479823738021\n",
      "Testing acc: 0.46879899811830783\n",
      "Train Mean squared error:  502.9526542912304\n",
      "Test Mean squared error:  12086265.293467764\n",
      "Train MAE:  15.753115438589328\n",
      "Test MAE:  1302.6711633151388\n",
      "Train RMSE:  22.42660594675954\n",
      "Test RMSE:  3476.530640375224\n",
      "Train corr:  (0.999974354836766, 0.0)\n",
      "Test corr:  (0.7340715567022117, 6.375371373004795e-33)\n"
     ]
    },
    {
     "data": {
      "image/png": "[encoded data removed]",
      "text/plain": [
       "<Figure size 432x288 with 1 Axes>"
      ]
     },
     "metadata": {
      "needs_background": "light"
     },
     "output_type": "display_data"
    },
    {
     "data": {
      "image/png": "[encoded data removed]",
      "text/plain": [
       "<Figure size 432x288 with 1 Axes>"
      ]
     },
     "metadata": {
      "needs_background": "light"
     },
     "output_type": "display_data"
    }
   ],
   "source": [
    "# evaluate\n",
    "\n",
    "xg = pipeline\n",
    "\n",
    "y_pred = xg.predict(X_test)\n",
    "train_score = xg.score(X_train, y_train.values)\n",
    "test_score = xg.score(X_test, y_test.values)\n",
    "print('Training acc:', train_score)\n",
    "print('Testing acc:', test_score)\n",
    "train_pred = xg.predict(X_train)\n",
    "\n",
    "train_mse = mean_squared_error(y_train, train_pred)\n",
    "print('Train Mean squared error: ', train_mse)\n",
    "test_mse = mean_squared_error(y_test, y_pred)\n",
    "print('Test Mean squared error: ', test_mse)\n",
    "\n",
    "train_mae = mean_absolute_error(y_train, train_pred)\n",
    "print('Train MAE: ', train_mae)\n",
    "test_mae = mean_absolute_error(y_test, y_pred)\n",
    "print('Test MAE: ', test_mae)\n",
    "\n",
    "train_rmse = mean_squared_error(y_train, train_pred, squared=False)\n",
    "print('Train RMSE: ', train_rmse)\n",
    "test_rmse = mean_squared_error(y_test, y_pred, squared=False)\n",
    "print('Test RMSE: ', test_rmse)\n",
    "\n",
    "from scipy.stats import pearsonr as pearson\n",
    "train_pearson = pearson(y_train, train_pred)\n",
    "print('Train corr: ', train_pearson)\n",
    "test_pearson = pearson(y_test, y_pred)\n",
    "print('Test corr: ', test_pearson)\n",
    "\n",
    "# plot test\n",
    "plt.plot(y_pred, c='b')\n",
    "plt.plot(y_test.values, c='r')\n",
    "plt.show()\n",
    "\n",
    "# plot closeup of test\n",
    "plt.plot(y_pred[50:150], c='b')\n",
    "plt.plot(y_test.values[50:150], c='r')\n",
    "plt.show()"
   ]
  },
  {
   "cell_type": "code",
   "execution_count": 107,
   "metadata": {},
   "outputs": [
    {
     "name": "stdout",
     "output_type": "stream",
     "text": [
      "2500 classification threshold\n",
      "Train auc: 1.0\n",
      "Test auc: 0.9084911072862879\n"
     ]
    },
    {
     "data": {
      "image/png": "[encoded data removed]",
      "text/plain": [
       "<Figure size 432x288 with 1 Axes>"
      ]
     },
     "metadata": {
      "needs_background": "light"
     },
     "output_type": "display_data"
    },
    {
     "name": "stdout",
     "output_type": "stream",
     "text": [
      "[(0.1566265060240964, 0.8095238095238095, 990.1304), (0.2289156626506024, 0.8095238095238095, 796.28296), (0.2289156626506024, 0.8571428571428571, 770.80664), (0.3132530120481928, 0.8571428571428571, 544.39703), (0.3132530120481928, 0.9047619047619048, 544.39374), (0.39759036144578314, 0.9047619047619048, 408.2735), (0.39759036144578314, 0.9523809523809523, 402.01355)]\n"
     ]
    }
   ],
   "source": [
    "thresholds_2500()"
   ]
  },
  {
   "cell_type": "code",
   "execution_count": 111,
   "metadata": {},
   "outputs": [
    {
     "name": "stdout",
     "output_type": "stream",
     "text": [
      "Train precision: 0.3070539419087137\n",
      "Test precision: 0.2608695652173913\n",
      "Train recall: 1.0\n",
      "Test recall: 0.8571428571428571\n",
      "F1 score train: 0.46984126984126984\n",
      "F1 score test: 0.4\n",
      "              precision    recall  f1-score   support\n",
      "\n",
      "           0       0.97      0.69      0.81       166\n",
      "           1       0.26      0.86      0.40        21\n",
      "\n",
      "    accuracy                           0.71       187\n",
      "   macro avg       0.62      0.77      0.60       187\n",
      "weighted avg       0.89      0.71      0.76       187\n",
      "\n"
     ]
    },
    {
     "data": {
      "image/png": "[encoded data removed]",
      "text/plain": [
       "<Figure size 432x288 with 2 Axes>"
      ]
     },
     "metadata": {
      "needs_background": "light"
     },
     "output_type": "display_data"
    }
   ],
   "source": [
    "custom_results(550, classify_2500)"
   ]
  },
  {
   "cell_type": "code",
   "execution_count": 112,
   "metadata": {},
   "outputs": [
    {
     "name": "stdout",
     "output_type": "stream",
     "text": [
      "2500 classification threshold\n",
      "Train auc: 1.0\n",
      "Test auc: 0.9713178294573643\n"
     ]
    },
    {
     "data": {
      "image/png": "[encoded data removed]",
      "text/plain": [
       "<Figure size 432x288 with 1 Axes>"
      ]
     },
     "metadata": {
      "needs_background": "light"
     },
     "output_type": "display_data"
    },
    {
     "name": "stdout",
     "output_type": "stream",
     "text": [
      "[(0.046511627906976744, 0.8, 2523.6428), (0.05813953488372093, 0.8, 2193.0386), (0.05813953488372093, 0.9333333333333333, 1947.4546), (0.06395348837209303, 0.9333333333333333, 1913.2313), (0.06395348837209303, 1.0, 1817.0765)]\n"
     ]
    }
   ],
   "source": [
    "thresholds_5000()"
   ]
  },
  {
   "cell_type": "code",
   "execution_count": 115,
   "metadata": {},
   "outputs": [
    {
     "name": "stdout",
     "output_type": "stream",
     "text": [
      "Train precision: 0.37\n",
      "Test precision: 0.5769230769230769\n",
      "Train recall: 1.0\n",
      "Test recall: 1.0\n",
      "F1 score train: 0.5401459854014599\n",
      "F1 score test: 0.7317073170731707\n",
      "              precision    recall  f1-score   support\n",
      "\n",
      "           0       1.00      0.94      0.97       172\n",
      "           1       0.58      1.00      0.73        15\n",
      "\n",
      "    accuracy                           0.94       187\n",
      "   macro avg       0.79      0.97      0.85       187\n",
      "weighted avg       0.97      0.94      0.95       187\n",
      "\n"
     ]
    },
    {
     "data": {
      "image/png": "[encoded data removed]",
      "text/plain": [
       "<Figure size 432x288 with 2 Axes>"
      ]
     },
     "metadata": {
      "needs_background": "light"
     },
     "output_type": "display_data"
    }
   ],
   "source": [
    "custom_results(1800, classify_5000)"
   ]
  },
  {
   "cell_type": "code",
   "execution_count": 116,
   "metadata": {},
   "outputs": [],
   "source": [
    "import pickle\n",
    "\n",
    "filename = 'XGBR14.sav'\n",
    "pickle.dump(pipeline, open(filename, 'wb'))"
   ]
  },
  {
   "cell_type": "code",
   "execution_count": 117,
   "metadata": {},
   "outputs": [],
   "source": [
    "load_model = pickle.load(open(filename, 'rb'))"
   ]
  },
  {
   "cell_type": "code",
   "execution_count": 118,
   "metadata": {},
   "outputs": [
    {
     "name": "stdout",
     "output_type": "stream",
     "text": [
      "0.46879899811830783\n"
     ]
    }
   ],
   "source": [
    "y_pred = load_model.predict(X_test)\n",
    "test_acc = xg.score(X_test, y_test)\n",
    "print(test_acc)"
   ]
  },
  {
   "cell_type": "code",
   "execution_count": null,
   "metadata": {},
   "outputs": [],
   "source": []
  }
 ],
 "metadata": {
  "kernelspec": {
   "display_name": "lighthouse",
   "language": "python",
   "name": "lighthouse"
  },
  "language_info": {
   "codemirror_mode": {
    "name": "ipython",
    "version": 3
   },
   "file_extension": ".py",
   "mimetype": "text/x-python",
   "name": "python",
   "nbconvert_exporter": "python",
   "pygments_lexer": "ipython3",
   "version": "3.8.2"
  }
 },
 "nbformat": 4,
 "nbformat_minor": 4
}
