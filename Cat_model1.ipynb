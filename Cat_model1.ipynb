{
 "cells": [
  {
   "cell_type": "markdown",
   "metadata": {},
   "source": [
    "# Categorical Modelling"
   ]
  },
  {
   "cell_type": "code",
   "execution_count": 2,
   "metadata": {},
   "outputs": [],
   "source": [
    "import pandas as pd"
   ]
  },
  {
   "cell_type": "code",
   "execution_count": 3,
   "metadata": {},
   "outputs": [],
   "source": [
    "df = pd.read_csv('FE_data_18-19.csv', index_col=0)\n",
    "\n",
    "# sort by date\n",
    "df.sort_values(by='Date', inplace=True)\n",
    "\n",
    "# make date the index\n",
    "df.set_index('Date',inplace=True)"
   ]
  },
  {
   "cell_type": "code",
   "execution_count": 4,
   "metadata": {},
   "outputs": [
    {
     "data": {
      "text/html": [
       "<div>\n",
       "<style scoped>\n",
       "    .dataframe tbody tr th:only-of-type {\n",
       "        vertical-align: middle;\n",
       "    }\n",
       "\n",
       "    .dataframe tbody tr th {\n",
       "        vertical-align: top;\n",
       "    }\n",
       "\n",
       "    .dataframe thead th {\n",
       "        text-align: right;\n",
       "    }\n",
       "</style>\n",
       "<table border=\"1\" class=\"dataframe\">\n",
       "  <thead>\n",
       "    <tr style=\"text-align: right;\">\n",
       "      <th></th>\n",
       "      <th>Location</th>\n",
       "      <th>JDay</th>\n",
       "      <th>SsMean</th>\n",
       "      <th>MinTemp</th>\n",
       "      <th>MaxTemp</th>\n",
       "      <th>AvgTemp</th>\n",
       "      <th>AvgRH</th>\n",
       "      <th>Precip</th>\n",
       "      <th>AvgWindSpeed</th>\n",
       "      <th>month</th>\n",
       "      <th>...</th>\n",
       "      <th>MaxTemp_1</th>\n",
       "      <th>MaxTemp_3</th>\n",
       "      <th>MaxTemp_7</th>\n",
       "      <th>MinTemp_1</th>\n",
       "      <th>MinTemp_3</th>\n",
       "      <th>MinTemp_7</th>\n",
       "      <th>SsMean_1</th>\n",
       "      <th>SsMean_3</th>\n",
       "      <th>SsMean_7</th>\n",
       "      <th>precip_3dTotal</th>\n",
       "    </tr>\n",
       "    <tr>\n",
       "      <th>Date</th>\n",
       "      <th></th>\n",
       "      <th></th>\n",
       "      <th></th>\n",
       "      <th></th>\n",
       "      <th></th>\n",
       "      <th></th>\n",
       "      <th></th>\n",
       "      <th></th>\n",
       "      <th></th>\n",
       "      <th></th>\n",
       "      <th></th>\n",
       "      <th></th>\n",
       "      <th></th>\n",
       "      <th></th>\n",
       "      <th></th>\n",
       "      <th></th>\n",
       "      <th></th>\n",
       "      <th></th>\n",
       "      <th></th>\n",
       "      <th></th>\n",
       "      <th></th>\n",
       "    </tr>\n",
       "  </thead>\n",
       "  <tbody>\n",
       "    <tr>\n",
       "      <th>2018-06-13</th>\n",
       "      <td>Cranford</td>\n",
       "      <td>164</td>\n",
       "      <td>295.035000</td>\n",
       "      <td>7.7</td>\n",
       "      <td>26.5</td>\n",
       "      <td>17.9</td>\n",
       "      <td>38.4</td>\n",
       "      <td>0.0</td>\n",
       "      <td>22.6</td>\n",
       "      <td>6</td>\n",
       "      <td>...</td>\n",
       "      <td>21.45</td>\n",
       "      <td>22.075000</td>\n",
       "      <td>24.114286</td>\n",
       "      <td>8.433333</td>\n",
       "      <td>10.900000</td>\n",
       "      <td>9.295918</td>\n",
       "      <td>168.128333</td>\n",
       "      <td>218.488333</td>\n",
       "      <td>169.640000</td>\n",
       "      <td>4.325</td>\n",
       "    </tr>\n",
       "    <tr>\n",
       "      <th>2018-06-13</th>\n",
       "      <td>Taber</td>\n",
       "      <td>164</td>\n",
       "      <td>41.923333</td>\n",
       "      <td>8.1</td>\n",
       "      <td>26.1</td>\n",
       "      <td>17.9</td>\n",
       "      <td>39.0</td>\n",
       "      <td>0.0</td>\n",
       "      <td>19.0</td>\n",
       "      <td>6</td>\n",
       "      <td>...</td>\n",
       "      <td>21.35</td>\n",
       "      <td>22.716667</td>\n",
       "      <td>25.487755</td>\n",
       "      <td>9.100000</td>\n",
       "      <td>11.508333</td>\n",
       "      <td>11.261224</td>\n",
       "      <td>41.041111</td>\n",
       "      <td>37.394722</td>\n",
       "      <td>63.708707</td>\n",
       "      <td>3.350</td>\n",
       "    </tr>\n",
       "    <tr>\n",
       "      <th>2018-06-14</th>\n",
       "      <td>Cranford</td>\n",
       "      <td>165</td>\n",
       "      <td>106.900000</td>\n",
       "      <td>4.6</td>\n",
       "      <td>22.0</td>\n",
       "      <td>13.1</td>\n",
       "      <td>65.9</td>\n",
       "      <td>1.2</td>\n",
       "      <td>19.1</td>\n",
       "      <td>6</td>\n",
       "      <td>...</td>\n",
       "      <td>26.50</td>\n",
       "      <td>22.075000</td>\n",
       "      <td>24.114286</td>\n",
       "      <td>7.700000</td>\n",
       "      <td>10.900000</td>\n",
       "      <td>9.295918</td>\n",
       "      <td>295.035000</td>\n",
       "      <td>218.488333</td>\n",
       "      <td>169.640000</td>\n",
       "      <td>4.325</td>\n",
       "    </tr>\n",
       "    <tr>\n",
       "      <th>2018-06-14</th>\n",
       "      <td>Taber</td>\n",
       "      <td>165</td>\n",
       "      <td>66.596667</td>\n",
       "      <td>6.2</td>\n",
       "      <td>21.7</td>\n",
       "      <td>13.5</td>\n",
       "      <td>65.5</td>\n",
       "      <td>6.0</td>\n",
       "      <td>15.7</td>\n",
       "      <td>6</td>\n",
       "      <td>...</td>\n",
       "      <td>26.10</td>\n",
       "      <td>22.716667</td>\n",
       "      <td>25.487755</td>\n",
       "      <td>8.100000</td>\n",
       "      <td>11.508333</td>\n",
       "      <td>11.261224</td>\n",
       "      <td>41.923333</td>\n",
       "      <td>37.394722</td>\n",
       "      <td>63.708707</td>\n",
       "      <td>3.350</td>\n",
       "    </tr>\n",
       "    <tr>\n",
       "      <th>2018-06-15</th>\n",
       "      <td>Cranford</td>\n",
       "      <td>166</td>\n",
       "      <td>164.775000</td>\n",
       "      <td>7.2</td>\n",
       "      <td>22.0</td>\n",
       "      <td>13.2</td>\n",
       "      <td>77.8</td>\n",
       "      <td>7.2</td>\n",
       "      <td>11.1</td>\n",
       "      <td>6</td>\n",
       "      <td>...</td>\n",
       "      <td>22.00</td>\n",
       "      <td>22.075000</td>\n",
       "      <td>24.114286</td>\n",
       "      <td>4.600000</td>\n",
       "      <td>10.900000</td>\n",
       "      <td>9.295918</td>\n",
       "      <td>106.900000</td>\n",
       "      <td>218.488333</td>\n",
       "      <td>169.640000</td>\n",
       "      <td>4.325</td>\n",
       "    </tr>\n",
       "  </tbody>\n",
       "</table>\n",
       "<p>5 rows × 36 columns</p>\n",
       "</div>"
      ],
      "text/plain": [
       "            Location  JDay      SsMean  MinTemp  MaxTemp  AvgTemp  AvgRH  \\\n",
       "Date                                                                       \n",
       "2018-06-13  Cranford   164  295.035000      7.7     26.5     17.9   38.4   \n",
       "2018-06-13     Taber   164   41.923333      8.1     26.1     17.9   39.0   \n",
       "2018-06-14  Cranford   165  106.900000      4.6     22.0     13.1   65.9   \n",
       "2018-06-14     Taber   165   66.596667      6.2     21.7     13.5   65.5   \n",
       "2018-06-15  Cranford   166  164.775000      7.2     22.0     13.2   77.8   \n",
       "\n",
       "            Precip  AvgWindSpeed  month  ...  MaxTemp_1  MaxTemp_3  MaxTemp_7  \\\n",
       "Date                                     ...                                    \n",
       "2018-06-13     0.0          22.6      6  ...      21.45  22.075000  24.114286   \n",
       "2018-06-13     0.0          19.0      6  ...      21.35  22.716667  25.487755   \n",
       "2018-06-14     1.2          19.1      6  ...      26.50  22.075000  24.114286   \n",
       "2018-06-14     6.0          15.7      6  ...      26.10  22.716667  25.487755   \n",
       "2018-06-15     7.2          11.1      6  ...      22.00  22.075000  24.114286   \n",
       "\n",
       "            MinTemp_1  MinTemp_3  MinTemp_7    SsMean_1    SsMean_3  \\\n",
       "Date                                                                  \n",
       "2018-06-13   8.433333  10.900000   9.295918  168.128333  218.488333   \n",
       "2018-06-13   9.100000  11.508333  11.261224   41.041111   37.394722   \n",
       "2018-06-14   7.700000  10.900000   9.295918  295.035000  218.488333   \n",
       "2018-06-14   8.100000  11.508333  11.261224   41.923333   37.394722   \n",
       "2018-06-15   4.600000  10.900000   9.295918  106.900000  218.488333   \n",
       "\n",
       "              SsMean_7  precip_3dTotal  \n",
       "Date                                    \n",
       "2018-06-13  169.640000           4.325  \n",
       "2018-06-13   63.708707           3.350  \n",
       "2018-06-14  169.640000           4.325  \n",
       "2018-06-14   63.708707           3.350  \n",
       "2018-06-15  169.640000           4.325  \n",
       "\n",
       "[5 rows x 36 columns]"
      ]
     },
     "execution_count": 4,
     "metadata": {},
     "output_type": "execute_result"
    }
   ],
   "source": [
    "df.head()"
   ]
  },
  {
   "cell_type": "markdown",
   "metadata": {},
   "source": [
    "## Two Categories"
   ]
  },
  {
   "cell_type": "code",
   "execution_count": 39,
   "metadata": {},
   "outputs": [
    {
     "name": "stdout",
     "output_type": "stream",
     "text": [
      "285\n",
      "260\n"
     ]
    }
   ],
   "source": [
    "print(df.loc[df['SsMean'] < 250].SsMean.count())\n",
    "print(df.loc[df['SsMean'] > 250].SsMean.count())"
   ]
  },
  {
   "cell_type": "code",
   "execution_count": 40,
   "metadata": {},
   "outputs": [],
   "source": [
    "# create target\n",
    "# 0 = less than 250\n",
    "# 1 = over 250"
   ]
  },
  {
   "cell_type": "code",
   "execution_count": 64,
   "metadata": {},
   "outputs": [],
   "source": [
    "def create_cat(data):\n",
    "    if data < 250:\n",
    "        return 0\n",
    "    else:\n",
    "        return 1"
   ]
  },
  {
   "cell_type": "code",
   "execution_count": 65,
   "metadata": {},
   "outputs": [],
   "source": [
    "df['label'] = df['SsMean'].apply(create_cat)"
   ]
  },
  {
   "cell_type": "markdown",
   "metadata": {},
   "source": [
    "### SVC, no scaling"
   ]
  },
  {
   "cell_type": "code",
   "execution_count": 43,
   "metadata": {},
   "outputs": [],
   "source": [
    "# split off end of 2019 as test set\n",
    "test_size = df.shape[0] - 14\n",
    "train, test = df.iloc[:test_size], df.iloc[test_size:]"
   ]
  },
  {
   "cell_type": "code",
   "execution_count": 44,
   "metadata": {},
   "outputs": [
    {
     "name": "stderr",
     "output_type": "stream",
     "text": [
      "<ipython-input-44-5b24073b50fb>:6: SettingWithCopyWarning: \n",
      "A value is trying to be set on a copy of a slice from a DataFrame.\n",
      "Try using .loc[row_indexer,col_indexer] = value instead\n",
      "\n",
      "See the caveats in the documentation: https://pandas.pydata.org/pandas-docs/stable/user_guide/indexing.html#returning-a-view-versus-a-copy\n",
      "  train['Location'] = le.transform(train['Location'])\n",
      "<ipython-input-44-5b24073b50fb>:7: SettingWithCopyWarning: \n",
      "A value is trying to be set on a copy of a slice from a DataFrame.\n",
      "Try using .loc[row_indexer,col_indexer] = value instead\n",
      "\n",
      "See the caveats in the documentation: https://pandas.pydata.org/pandas-docs/stable/user_guide/indexing.html#returning-a-view-versus-a-copy\n",
      "  test['Location'] = le.transform(test['Location'])\n"
     ]
    }
   ],
   "source": [
    "# encode location\n",
    "from sklearn.preprocessing import LabelEncoder\n",
    "\n",
    "le = LabelEncoder()\n",
    "le.fit(train['Location'])\n",
    "train['Location'] = le.transform(train['Location'])\n",
    "test['Location'] = le.transform(test['Location'])"
   ]
  },
  {
   "cell_type": "code",
   "execution_count": 45,
   "metadata": {},
   "outputs": [
    {
     "data": {
      "text/plain": [
       "SVC(probability=True)"
      ]
     },
     "execution_count": 45,
     "metadata": {},
     "output_type": "execute_result"
    }
   ],
   "source": [
    "from sklearn.svm import SVC\n",
    "from sklearn.model_selection import train_test_split\n",
    "\n",
    "X_train, X_test = train.drop(labels=['SsMean','logSsMean', 'label'], axis=1), test.drop(labels=['SsMean','logSsMean','label'], axis=1)\n",
    "y_train, y_test = train.label, test.label\n",
    "\n",
    "svc = SVC(probability=True)\n",
    "svc.fit(X_train, y_train)"
   ]
  },
  {
   "cell_type": "code",
   "execution_count": 46,
   "metadata": {},
   "outputs": [
    {
     "name": "stdout",
     "output_type": "stream",
     "text": [
      "Train accuracy: 0.6440677966101694\n",
      "Test accuracy: 0.7142857142857143\n",
      "Test auc: 0.7382954545454545\n",
      "Test auc: 0.725\n",
      "Train precision: 0.7248322147651006\n",
      "Test precision: 0.5\n",
      "Train recall: 0.421875\n",
      "Test recall: 1.0\n",
      "F1 score train: 0.5333333333333333\n",
      "F1 score test: 0.6666666666666666\n",
      "              precision    recall  f1-score   support\n",
      "\n",
      "           0       1.00      0.60      0.75        10\n",
      "           1       0.50      1.00      0.67         4\n",
      "\n",
      "    accuracy                           0.71        14\n",
      "   macro avg       0.75      0.80      0.71        14\n",
      "weighted avg       0.86      0.71      0.73        14\n",
      "\n"
     ]
    }
   ],
   "source": [
    "from sklearn.metrics import roc_auc_score\n",
    "from sklearn.metrics import classification_report\n",
    "from sklearn.metrics import precision_score\n",
    "from sklearn.metrics import recall_score\n",
    "from sklearn.metrics import f1_score\n",
    "\n",
    "y_pred = svc.predict(X_test)\n",
    "y_train_pred = svc.predict(X_train)\n",
    "\n",
    "test_acc = svc.score(X_test, y_test)\n",
    "train_acc = svc.score(X_train, y_train)\n",
    "print('Train accuracy:', train_acc)\n",
    "print('Test accuracy:', test_acc)\n",
    "\n",
    "train_probs = svc.predict_proba(X_train)[:,1]\n",
    "train_auc = roc_auc_score(y_train,train_probs)\n",
    "print('Test auc:', train_auc)\n",
    "test_probs = svc.predict_proba(X_test)[:,1]\n",
    "test_auc = roc_auc_score(y_test,test_probs)\n",
    "print('Test auc:', test_auc)\n",
    "\n",
    "train_precision = precision_score(y_train, y_train_pred)\n",
    "test_precision = precision_score(y_test, y_pred)\n",
    "print('Train precision:', train_precision)\n",
    "print('Test precision:', test_precision)\n",
    "\n",
    "train_recall = recall_score(y_train, y_train_pred)\n",
    "test_recall = recall_score(y_test, y_pred)\n",
    "print('Train recall:', train_recall)\n",
    "print('Test recall:', test_recall)\n",
    "\n",
    "train_f1 = f1_score(y_train, y_train_pred)\n",
    "test_f1 = f1_score(y_test, y_pred)\n",
    "print('F1 score train:', train_f1)\n",
    "print('F1 score test:', test_f1)\n",
    "\n",
    "cr = classification_report(y_test,y_pred)\n",
    "print(cr)"
   ]
  },
  {
   "cell_type": "code",
   "execution_count": 47,
   "metadata": {},
   "outputs": [
    {
     "data": {
      "text/plain": [
       "<sklearn.metrics._plot.confusion_matrix.ConfusionMatrixDisplay at 0x7fba9af9ea00>"
      ]
     },
     "execution_count": 47,
     "metadata": {},
     "output_type": "execute_result"
    },
    {
     "data": {
      "image/png": "[encoded data removed]",
      "text/plain": [
       "<Figure size 432x288 with 2 Axes>"
      ]
     },
     "metadata": {
      "needs_background": "light"
     },
     "output_type": "display_data"
    }
   ],
   "source": [
    "from sklearn.metrics import plot_confusion_matrix\n",
    "\n",
    "plot_confusion_matrix(svc, X_test, y_test)"
   ]
  },
  {
   "cell_type": "markdown",
   "metadata": {},
   "source": [
    "### SVC with scaling"
   ]
  },
  {
   "cell_type": "code",
   "execution_count": 48,
   "metadata": {},
   "outputs": [
    {
     "name": "stderr",
     "output_type": "stream",
     "text": [
      "<ipython-input-48-fef320e8d1ef>:10: SettingWithCopyWarning: \n",
      "A value is trying to be set on a copy of a slice from a DataFrame.\n",
      "Try using .loc[row_indexer,col_indexer] = value instead\n",
      "\n",
      "See the caveats in the documentation: https://pandas.pydata.org/pandas-docs/stable/user_guide/indexing.html#returning-a-view-versus-a-copy\n",
      "  train['Location'] = le.transform(train['Location'])\n",
      "<ipython-input-48-fef320e8d1ef>:11: SettingWithCopyWarning: \n",
      "A value is trying to be set on a copy of a slice from a DataFrame.\n",
      "Try using .loc[row_indexer,col_indexer] = value instead\n",
      "\n",
      "See the caveats in the documentation: https://pandas.pydata.org/pandas-docs/stable/user_guide/indexing.html#returning-a-view-versus-a-copy\n",
      "  test['Location'] = le.transform(test['Location'])\n"
     ]
    }
   ],
   "source": [
    "from sklearn.preprocessing import StandardScaler\n",
    "\n",
    "# split off end of 2019 as test set\n",
    "test_size = df.shape[0] - 14\n",
    "train, test = df.iloc[:test_size], df.iloc[test_size:]\n",
    "\n",
    "# encode location\n",
    "le = LabelEncoder()\n",
    "le.fit(train['Location'])\n",
    "train['Location'] = le.transform(train['Location'])\n",
    "test['Location'] = le.transform(test['Location'])\n",
    "\n",
    "X_train, X_test = train.drop(labels=['SsMean','logSsMean', 'label'], axis=1), test.drop(labels=['SsMean','logSsMean','label'], axis=1)\n",
    "y_train, y_test = train.label, test.label\n",
    "\n",
    "scaler = StandardScaler()\n",
    "scaler.fit(X_train)\n",
    "X_train = scaler.transform(X_train)\n",
    "X_test = scaler.transform(X_test)"
   ]
  },
  {
   "cell_type": "code",
   "execution_count": 49,
   "metadata": {},
   "outputs": [
    {
     "data": {
      "text/plain": [
       "SVC(probability=True)"
      ]
     },
     "execution_count": 49,
     "metadata": {},
     "output_type": "execute_result"
    }
   ],
   "source": [
    "svc = SVC(probability=True)\n",
    "svc.fit(X_train, y_train)"
   ]
  },
  {
   "cell_type": "code",
   "execution_count": 50,
   "metadata": {},
   "outputs": [
    {
     "name": "stdout",
     "output_type": "stream",
     "text": [
      "Train accuracy: 0.7419962335216572\n",
      "Test accuracy: 0.5\n",
      "Train auc: 0.850653409090909\n",
      "Test auc: 0.65\n",
      "Train precision: 0.7428571428571429\n",
      "Test precision: 0.3333333333333333\n",
      "Train recall: 0.7109375\n",
      "Test recall: 0.75\n",
      "F1 score train: 0.7265469061876249\n",
      "F1 score test: 0.46153846153846156\n",
      "              precision    recall  f1-score   support\n",
      "\n",
      "           0       0.80      0.40      0.53        10\n",
      "           1       0.33      0.75      0.46         4\n",
      "\n",
      "    accuracy                           0.50        14\n",
      "   macro avg       0.57      0.57      0.50        14\n",
      "weighted avg       0.67      0.50      0.51        14\n",
      "\n"
     ]
    }
   ],
   "source": [
    "y_pred = svc.predict(X_test)\n",
    "y_train_pred = svc.predict(X_train)\n",
    "\n",
    "test_acc = svc.score(X_test, y_test)\n",
    "train_acc = svc.score(X_train, y_train)\n",
    "print('Train accuracy:', train_acc)\n",
    "print('Test accuracy:', test_acc)\n",
    "\n",
    "train_probs = svc.predict_proba(X_train)[:,1]\n",
    "train_auc = roc_auc_score(y_train,train_probs)\n",
    "print('Train auc:', train_auc)\n",
    "test_probs = svc.predict_proba(X_test)[:,1]\n",
    "test_auc = roc_auc_score(y_test,test_probs)\n",
    "print('Test auc:', test_auc)\n",
    "\n",
    "train_precision = precision_score(y_train, y_train_pred)\n",
    "test_precision = precision_score(y_test, y_pred)\n",
    "print('Train precision:', train_precision)\n",
    "print('Test precision:', test_precision)\n",
    "\n",
    "train_recall = recall_score(y_train, y_train_pred)\n",
    "test_recall = recall_score(y_test, y_pred)\n",
    "print('Train recall:', train_recall)\n",
    "print('Test recall:', test_recall)\n",
    "\n",
    "train_f1 = f1_score(y_train, y_train_pred)\n",
    "test_f1 = f1_score(y_test, y_pred)\n",
    "print('F1 score train:', train_f1)\n",
    "print('F1 score test:', test_f1)\n",
    "\n",
    "cr = classification_report(y_test,y_pred)\n",
    "print(cr)"
   ]
  },
  {
   "cell_type": "code",
   "execution_count": 51,
   "metadata": {},
   "outputs": [
    {
     "data": {
      "text/plain": [
       "<sklearn.metrics._plot.confusion_matrix.ConfusionMatrixDisplay at 0x7fba9b2f3040>"
      ]
     },
     "execution_count": 51,
     "metadata": {},
     "output_type": "execute_result"
    },
    {
     "data": {
      "image/png": "[encoded data removed]",
      "text/plain": [
       "<Figure size 432x288 with 2 Axes>"
      ]
     },
     "metadata": {
      "needs_background": "light"
     },
     "output_type": "display_data"
    }
   ],
   "source": [
    "plot_confusion_matrix(svc, X_test, y_test)"
   ]
  },
  {
   "cell_type": "markdown",
   "metadata": {},
   "source": [
    "## 500+ label"
   ]
  },
  {
   "cell_type": "code",
   "execution_count": 52,
   "metadata": {},
   "outputs": [
    {
     "name": "stdout",
     "output_type": "stream",
     "text": [
      "377\n",
      "168\n"
     ]
    }
   ],
   "source": [
    "print(df.loc[df['SsMean'] < 500].SsMean.count())\n",
    "print(df.loc[df['SsMean'] > 500].SsMean.count())"
   ]
  },
  {
   "cell_type": "code",
   "execution_count": 74,
   "metadata": {},
   "outputs": [],
   "source": [
    "# create target\n",
    "# 0 = less than 500\n",
    "# 1 = over 500\n",
    "\n",
    "def create_500(data):\n",
    "    if data < 500:\n",
    "        return 0\n",
    "    else:\n",
    "        return 1"
   ]
  },
  {
   "cell_type": "code",
   "execution_count": 75,
   "metadata": {},
   "outputs": [],
   "source": [
    "df['label'] = df['SsMean'].apply(create_500)"
   ]
  },
  {
   "cell_type": "code",
   "execution_count": 76,
   "metadata": {},
   "outputs": [],
   "source": [
    "# create balanced dataset\n",
    "class_0 = df.loc[df['label']==0]\n",
    "class_1 = df.loc[df['label']==1]\n",
    "\n",
    "class_1_sample = class_1.sample(n=377, replace=True)\n",
    "\n",
    "bdf = pd.concat([class_0, class_1_sample], axis=0)\n",
    "bdf.sort_values(by='Date', inplace=True)"
   ]
  },
  {
   "cell_type": "code",
   "execution_count": 56,
   "metadata": {},
   "outputs": [
    {
     "data": {
      "text/plain": [
       "(754, 37)"
      ]
     },
     "execution_count": 56,
     "metadata": {},
     "output_type": "execute_result"
    }
   ],
   "source": [
    "bdf.shape"
   ]
  },
  {
   "cell_type": "markdown",
   "metadata": {},
   "source": [
    "### SVC, scaling, 500+ label"
   ]
  },
  {
   "cell_type": "code",
   "execution_count": 77,
   "metadata": {
    "collapsed": true,
    "jupyter": {
     "outputs_hidden": true
    }
   },
   "outputs": [
    {
     "name": "stderr",
     "output_type": "stream",
     "text": [
      "<ipython-input-77-20049e3bfc6f>:8: SettingWithCopyWarning: \n",
      "A value is trying to be set on a copy of a slice from a DataFrame.\n",
      "Try using .loc[row_indexer,col_indexer] = value instead\n",
      "\n",
      "See the caveats in the documentation: https://pandas.pydata.org/pandas-docs/stable/user_guide/indexing.html#returning-a-view-versus-a-copy\n",
      "  train['Location'] = le.transform(train['Location'])\n",
      "<ipython-input-77-20049e3bfc6f>:9: SettingWithCopyWarning: \n",
      "A value is trying to be set on a copy of a slice from a DataFrame.\n",
      "Try using .loc[row_indexer,col_indexer] = value instead\n",
      "\n",
      "See the caveats in the documentation: https://pandas.pydata.org/pandas-docs/stable/user_guide/indexing.html#returning-a-view-versus-a-copy\n",
      "  test['Location'] = le.transform(test['Location'])\n"
     ]
    },
    {
     "data": {
      "text/plain": [
       "SVC(probability=True)"
      ]
     },
     "execution_count": 77,
     "metadata": {},
     "output_type": "execute_result"
    }
   ],
   "source": [
    "# split off end of 2019 as test set\n",
    "test_size = bdf.shape[0] - 14\n",
    "train, test = bdf.iloc[:test_size], bdf.iloc[test_size:]\n",
    "\n",
    "# encode location\n",
    "le = LabelEncoder()\n",
    "le.fit(train['Location'])\n",
    "train['Location'] = le.transform(train['Location'])\n",
    "test['Location'] = le.transform(test['Location'])\n",
    "\n",
    "X_train, X_test = train.drop(labels=['SsMean','logSsMean', 'label'], axis=1), test.drop(labels=['SsMean','logSsMean','label'], axis=1)\n",
    "y_train, y_test = train.label, test.label\n",
    "\n",
    "scaler = StandardScaler()\n",
    "scaler.fit(X_train)\n",
    "X_train = scaler.transform(X_train)\n",
    "X_test = scaler.transform(X_test)\n",
    "\n",
    "svc = SVC(probability=True)\n",
    "svc.fit(X_train, y_train)"
   ]
  },
  {
   "cell_type": "code",
   "execution_count": 78,
   "metadata": {},
   "outputs": [
    {
     "name": "stdout",
     "output_type": "stream",
     "text": [
      "Train accuracy: 0.8216216216216217\n",
      "Test accuracy: 0.5\n",
      "Train auc: 0.9178341855368882\n",
      "Test auc: 0.4489795918367347\n",
      "Train precision: 0.8233695652173914\n",
      "Test precision: 0.5\n",
      "Train recall: 0.8189189189189189\n",
      "Test recall: 0.14285714285714285\n",
      "F1 score train: 0.8211382113821137\n",
      "F1 score test: 0.22222222222222224\n",
      "              precision    recall  f1-score   support\n",
      "\n",
      "           0       0.50      0.86      0.63         7\n",
      "           1       0.50      0.14      0.22         7\n",
      "\n",
      "    accuracy                           0.50        14\n",
      "   macro avg       0.50      0.50      0.43        14\n",
      "weighted avg       0.50      0.50      0.43        14\n",
      "\n"
     ]
    },
    {
     "data": {
      "text/plain": [
       "<sklearn.metrics._plot.confusion_matrix.ConfusionMatrixDisplay at 0x7fba9c7b51c0>"
      ]
     },
     "execution_count": 78,
     "metadata": {},
     "output_type": "execute_result"
    },
    {
     "data": {
      "image/png": "[encoded data removed]",
      "text/plain": [
       "<Figure size 432x288 with 2 Axes>"
      ]
     },
     "metadata": {
      "needs_background": "light"
     },
     "output_type": "display_data"
    }
   ],
   "source": [
    "y_pred = svc.predict(X_test)\n",
    "y_train_pred = svc.predict(X_train)\n",
    "\n",
    "test_acc = svc.score(X_test, y_test)\n",
    "train_acc = svc.score(X_train, y_train)\n",
    "print('Train accuracy:', train_acc)\n",
    "print('Test accuracy:', test_acc)\n",
    "\n",
    "train_probs = svc.predict_proba(X_train)[:,1]\n",
    "train_auc = roc_auc_score(y_train,train_probs)\n",
    "print('Train auc:', train_auc)\n",
    "test_probs = svc.predict_proba(X_test)[:,1]\n",
    "test_auc = roc_auc_score(y_test,test_probs)\n",
    "print('Test auc:', test_auc)\n",
    "\n",
    "train_precision = precision_score(y_train, y_train_pred)\n",
    "test_precision = precision_score(y_test, y_pred)\n",
    "print('Train precision:', train_precision)\n",
    "print('Test precision:', test_precision)\n",
    "\n",
    "train_recall = recall_score(y_train, y_train_pred)\n",
    "test_recall = recall_score(y_test, y_pred)\n",
    "print('Train recall:', train_recall)\n",
    "print('Test recall:', test_recall)\n",
    "\n",
    "train_f1 = f1_score(y_train, y_train_pred)\n",
    "test_f1 = f1_score(y_test, y_pred)\n",
    "print('F1 score train:', train_f1)\n",
    "print('F1 score test:', test_f1)\n",
    "\n",
    "cr = classification_report(y_test,y_pred)\n",
    "print(cr)\n",
    "\n",
    "plot_confusion_matrix(svc, X_test, y_test)"
   ]
  },
  {
   "cell_type": "markdown",
   "metadata": {},
   "source": [
    "### SVC, no scaling, 500+"
   ]
  },
  {
   "cell_type": "code",
   "execution_count": 79,
   "metadata": {
    "collapsed": true,
    "jupyter": {
     "outputs_hidden": true
    }
   },
   "outputs": [
    {
     "name": "stderr",
     "output_type": "stream",
     "text": [
      "<ipython-input-79-834a9d9f8da0>:8: SettingWithCopyWarning: \n",
      "A value is trying to be set on a copy of a slice from a DataFrame.\n",
      "Try using .loc[row_indexer,col_indexer] = value instead\n",
      "\n",
      "See the caveats in the documentation: https://pandas.pydata.org/pandas-docs/stable/user_guide/indexing.html#returning-a-view-versus-a-copy\n",
      "  train['Location'] = le.transform(train['Location'])\n",
      "<ipython-input-79-834a9d9f8da0>:9: SettingWithCopyWarning: \n",
      "A value is trying to be set on a copy of a slice from a DataFrame.\n",
      "Try using .loc[row_indexer,col_indexer] = value instead\n",
      "\n",
      "See the caveats in the documentation: https://pandas.pydata.org/pandas-docs/stable/user_guide/indexing.html#returning-a-view-versus-a-copy\n",
      "  test['Location'] = le.transform(test['Location'])\n"
     ]
    },
    {
     "data": {
      "text/plain": [
       "SVC(probability=True)"
      ]
     },
     "execution_count": 79,
     "metadata": {},
     "output_type": "execute_result"
    }
   ],
   "source": [
    "# split off end of 2019 as test set\n",
    "test_size = bdf.shape[0] - 30\n",
    "train, test = bdf.iloc[:test_size], bdf.iloc[test_size:]\n",
    "\n",
    "# encode location\n",
    "le = LabelEncoder()\n",
    "le.fit(train['Location'])\n",
    "train['Location'] = le.transform(train['Location'])\n",
    "test['Location'] = le.transform(test['Location'])\n",
    "\n",
    "X_train, X_test = train.drop(labels=['SsMean','logSsMean', 'label'], axis=1), test.drop(labels=['SsMean','logSsMean','label'], axis=1)\n",
    "y_train, y_test = train.label, test.label\n",
    "\n",
    "svc = SVC(probability=True)\n",
    "svc.fit(X_train, y_train)"
   ]
  },
  {
   "cell_type": "code",
   "execution_count": 80,
   "metadata": {},
   "outputs": [
    {
     "name": "stdout",
     "output_type": "stream",
     "text": [
      "Train accuracy: 0.6477900552486188\n",
      "Test accuracy: 0.6333333333333333\n",
      "Train auc: 0.7536917617430458\n",
      "Test auc: 0.7268518518518519\n",
      "Train precision: 0.7653061224489796\n",
      "Test precision: 0.7333333333333333\n",
      "Train recall: 0.4178272980501393\n",
      "Test recall: 0.6111111111111112\n",
      "F1 score train: 0.5405405405405406\n",
      "F1 score test: 0.6666666666666666\n",
      "              precision    recall  f1-score   support\n",
      "\n",
      "           0       0.53      0.67      0.59        12\n",
      "           1       0.73      0.61      0.67        18\n",
      "\n",
      "    accuracy                           0.63        30\n",
      "   macro avg       0.63      0.64      0.63        30\n",
      "weighted avg       0.65      0.63      0.64        30\n",
      "\n"
     ]
    },
    {
     "data": {
      "text/plain": [
       "<sklearn.metrics._plot.confusion_matrix.ConfusionMatrixDisplay at 0x7fba9b1b5f10>"
      ]
     },
     "execution_count": 80,
     "metadata": {},
     "output_type": "execute_result"
    },
    {
     "data": {
      "image/png": "[encoded data removed]",
      "text/plain": [
       "<Figure size 432x288 with 2 Axes>"
      ]
     },
     "metadata": {
      "needs_background": "light"
     },
     "output_type": "display_data"
    }
   ],
   "source": [
    "y_pred = svc.predict(X_test)\n",
    "y_train_pred = svc.predict(X_train)\n",
    "\n",
    "test_acc = svc.score(X_test, y_test)\n",
    "train_acc = svc.score(X_train, y_train)\n",
    "print('Train accuracy:', train_acc)\n",
    "print('Test accuracy:', test_acc)\n",
    "\n",
    "train_probs = svc.predict_proba(X_train)[:,1]\n",
    "train_auc = roc_auc_score(y_train,train_probs)\n",
    "print('Train auc:', train_auc)\n",
    "test_probs = svc.predict_proba(X_test)[:,1]\n",
    "test_auc = roc_auc_score(y_test,test_probs)\n",
    "print('Test auc:', test_auc)\n",
    "\n",
    "train_precision = precision_score(y_train, y_train_pred)\n",
    "test_precision = precision_score(y_test, y_pred)\n",
    "print('Train precision:', train_precision)\n",
    "print('Test precision:', test_precision)\n",
    "\n",
    "train_recall = recall_score(y_train, y_train_pred)\n",
    "test_recall = recall_score(y_test, y_pred)\n",
    "print('Train recall:', train_recall)\n",
    "print('Test recall:', test_recall)\n",
    "\n",
    "train_f1 = f1_score(y_train, y_train_pred)\n",
    "test_f1 = f1_score(y_test, y_pred)\n",
    "print('F1 score train:', train_f1)\n",
    "print('F1 score test:', test_f1)\n",
    "\n",
    "cr = classification_report(y_test,y_pred)\n",
    "print(cr)\n",
    "\n",
    "plot_confusion_matrix(svc, X_test, y_test)"
   ]
  },
  {
   "cell_type": "markdown",
   "metadata": {},
   "source": [
    "### Logistic Regression"
   ]
  },
  {
   "cell_type": "markdown",
   "metadata": {},
   "source": [
    "### 250+ label"
   ]
  },
  {
   "cell_type": "markdown",
   "metadata": {},
   "source": [
    "#### No scaling"
   ]
  },
  {
   "cell_type": "code",
   "execution_count": 67,
   "metadata": {
    "collapsed": true,
    "jupyter": {
     "outputs_hidden": true
    }
   },
   "outputs": [
    {
     "name": "stderr",
     "output_type": "stream",
     "text": [
      "<ipython-input-67-78a233d5b2e8>:10: SettingWithCopyWarning: \n",
      "A value is trying to be set on a copy of a slice from a DataFrame.\n",
      "Try using .loc[row_indexer,col_indexer] = value instead\n",
      "\n",
      "See the caveats in the documentation: https://pandas.pydata.org/pandas-docs/stable/user_guide/indexing.html#returning-a-view-versus-a-copy\n",
      "  train['Location'] = le.transform(train['Location'])\n",
      "<ipython-input-67-78a233d5b2e8>:11: SettingWithCopyWarning: \n",
      "A value is trying to be set on a copy of a slice from a DataFrame.\n",
      "Try using .loc[row_indexer,col_indexer] = value instead\n",
      "\n",
      "See the caveats in the documentation: https://pandas.pydata.org/pandas-docs/stable/user_guide/indexing.html#returning-a-view-versus-a-copy\n",
      "  test['Location'] = le.transform(test['Location'])\n",
      "/Users/reneehall/opt/anaconda3/envs/lighthouse/lib/python3.8/site-packages/sklearn/linear_model/_logistic.py:763: ConvergenceWarning: lbfgs failed to converge (status=1):\n",
      "STOP: TOTAL NO. of ITERATIONS REACHED LIMIT.\n",
      "\n",
      "Increase the number of iterations (max_iter) or scale the data as shown in:\n",
      "    https://scikit-learn.org/stable/modules/preprocessing.html\n",
      "Please also refer to the documentation for alternative solver options:\n",
      "    https://scikit-learn.org/stable/modules/linear_model.html#logistic-regression\n",
      "  n_iter_i = _check_optimize_result(\n"
     ]
    },
    {
     "data": {
      "text/plain": [
       "LogisticRegression()"
      ]
     },
     "execution_count": 67,
     "metadata": {},
     "output_type": "execute_result"
    }
   ],
   "source": [
    "from sklearn.linear_model import LogisticRegression\n",
    "\n",
    "# split off end of 2019 as test set\n",
    "test_size = df.shape[0] - 14\n",
    "train, test = df.iloc[:test_size], df.iloc[test_size:]\n",
    "\n",
    "# encode location\n",
    "le = LabelEncoder()\n",
    "le.fit(train['Location'])\n",
    "train['Location'] = le.transform(train['Location'])\n",
    "test['Location'] = le.transform(test['Location'])\n",
    "\n",
    "X_train, X_test = train.drop(labels=['SsMean','logSsMean', 'label'], axis=1), test.drop(labels=['SsMean','logSsMean','label'], axis=1)\n",
    "y_train, y_test = train.label, test.label\n",
    "\n",
    "lr = LogisticRegression()\n",
    "lr.fit(X_train, y_train)"
   ]
  },
  {
   "cell_type": "code",
   "execution_count": 68,
   "metadata": {},
   "outputs": [
    {
     "name": "stdout",
     "output_type": "stream",
     "text": [
      "Train accuracy: 0.7024482109227872\n",
      "Test accuracy: 0.6428571428571429\n",
      "Train auc: 0.7722017045454546\n",
      "Test auc: 0.625\n",
      "Train precision: 0.71875\n",
      "Test precision: 0.42857142857142855\n",
      "Train recall: 0.62890625\n",
      "Test recall: 0.75\n",
      "F1 score train: 0.6708333333333333\n",
      "F1 score test: 0.5454545454545454\n",
      "              precision    recall  f1-score   support\n",
      "\n",
      "           0       0.86      0.60      0.71        10\n",
      "           1       0.43      0.75      0.55         4\n",
      "\n",
      "    accuracy                           0.64        14\n",
      "   macro avg       0.64      0.68      0.63        14\n",
      "weighted avg       0.73      0.64      0.66        14\n",
      "\n"
     ]
    },
    {
     "data": {
      "text/plain": [
       "<sklearn.metrics._plot.confusion_matrix.ConfusionMatrixDisplay at 0x7fba9b457310>"
      ]
     },
     "execution_count": 68,
     "metadata": {},
     "output_type": "execute_result"
    },
    {
     "data": {
      "image/png": "[encoded data removed]",
      "text/plain": [
       "<Figure size 432x288 with 2 Axes>"
      ]
     },
     "metadata": {
      "needs_background": "light"
     },
     "output_type": "display_data"
    }
   ],
   "source": [
    "y_pred = lr.predict(X_test)\n",
    "y_train_pred = lr.predict(X_train)\n",
    "\n",
    "test_acc = lr.score(X_test, y_test)\n",
    "train_acc = lr.score(X_train, y_train)\n",
    "print('Train accuracy:', train_acc)\n",
    "print('Test accuracy:', test_acc)\n",
    "\n",
    "train_probs = lr.predict_proba(X_train)[:,1]\n",
    "train_auc = roc_auc_score(y_train,train_probs)\n",
    "print('Train auc:', train_auc)\n",
    "test_probs = lr.predict_proba(X_test)[:,1]\n",
    "test_auc = roc_auc_score(y_test,test_probs)\n",
    "print('Test auc:', test_auc)\n",
    "\n",
    "train_precision = precision_score(y_train, y_train_pred)\n",
    "test_precision = precision_score(y_test, y_pred)\n",
    "print('Train precision:', train_precision)\n",
    "print('Test precision:', test_precision)\n",
    "\n",
    "train_recall = recall_score(y_train, y_train_pred)\n",
    "test_recall = recall_score(y_test, y_pred)\n",
    "print('Train recall:', train_recall)\n",
    "print('Test recall:', test_recall)\n",
    "\n",
    "train_f1 = f1_score(y_train, y_train_pred)\n",
    "test_f1 = f1_score(y_test, y_pred)\n",
    "print('F1 score train:', train_f1)\n",
    "print('F1 score test:', test_f1)\n",
    "\n",
    "cr = classification_report(y_test,y_pred)\n",
    "print(cr)\n",
    "\n",
    "plot_confusion_matrix(lr, X_test, y_test)"
   ]
  },
  {
   "cell_type": "markdown",
   "metadata": {},
   "source": [
    "#### Scaling"
   ]
  },
  {
   "cell_type": "code",
   "execution_count": 70,
   "metadata": {
    "collapsed": true,
    "jupyter": {
     "outputs_hidden": true
    }
   },
   "outputs": [
    {
     "name": "stderr",
     "output_type": "stream",
     "text": [
      "<ipython-input-70-ac65d0e0f119>:8: SettingWithCopyWarning: \n",
      "A value is trying to be set on a copy of a slice from a DataFrame.\n",
      "Try using .loc[row_indexer,col_indexer] = value instead\n",
      "\n",
      "See the caveats in the documentation: https://pandas.pydata.org/pandas-docs/stable/user_guide/indexing.html#returning-a-view-versus-a-copy\n",
      "  train['Location'] = le.transform(train['Location'])\n",
      "<ipython-input-70-ac65d0e0f119>:9: SettingWithCopyWarning: \n",
      "A value is trying to be set on a copy of a slice from a DataFrame.\n",
      "Try using .loc[row_indexer,col_indexer] = value instead\n",
      "\n",
      "See the caveats in the documentation: https://pandas.pydata.org/pandas-docs/stable/user_guide/indexing.html#returning-a-view-versus-a-copy\n",
      "  test['Location'] = le.transform(test['Location'])\n"
     ]
    },
    {
     "data": {
      "text/plain": [
       "LogisticRegression()"
      ]
     },
     "execution_count": 70,
     "metadata": {},
     "output_type": "execute_result"
    }
   ],
   "source": [
    "# split off end of 2019 as test set\n",
    "test_size = df.shape[0] - 14\n",
    "train, test = df.iloc[:test_size], df.iloc[test_size:]\n",
    "\n",
    "# encode location\n",
    "le = LabelEncoder()\n",
    "le.fit(train['Location'])\n",
    "train['Location'] = le.transform(train['Location'])\n",
    "test['Location'] = le.transform(test['Location'])\n",
    "\n",
    "X_train, X_test = train.drop(labels=['SsMean','logSsMean', 'label'], axis=1), test.drop(labels=['SsMean','logSsMean','label'], axis=1)\n",
    "y_train, y_test = train.label, test.label\n",
    "\n",
    "scaler = StandardScaler()\n",
    "scaler.fit(X_train)\n",
    "X_train = scaler.transform(X_train)\n",
    "X_test = scaler.transform(X_test)\n",
    "\n",
    "lr = LogisticRegression()\n",
    "lr.fit(X_train, y_train)"
   ]
  },
  {
   "cell_type": "code",
   "execution_count": 71,
   "metadata": {},
   "outputs": [
    {
     "name": "stdout",
     "output_type": "stream",
     "text": [
      "Train accuracy: 0.7099811676082862\n",
      "Test accuracy: 0.42857142857142855\n",
      "Train auc: 0.7872727272727272\n",
      "Test auc: 0.65\n",
      "Train precision: 0.7161016949152542\n",
      "Test precision: 0.3\n",
      "Train recall: 0.66015625\n",
      "Test recall: 0.75\n",
      "F1 score train: 0.6869918699186991\n",
      "F1 score test: 0.4285714285714285\n",
      "              precision    recall  f1-score   support\n",
      "\n",
      "           0       0.75      0.30      0.43        10\n",
      "           1       0.30      0.75      0.43         4\n",
      "\n",
      "    accuracy                           0.43        14\n",
      "   macro avg       0.53      0.53      0.43        14\n",
      "weighted avg       0.62      0.43      0.43        14\n",
      "\n"
     ]
    },
    {
     "data": {
      "text/plain": [
       "<sklearn.metrics._plot.confusion_matrix.ConfusionMatrixDisplay at 0x7fba9e1c9a90>"
      ]
     },
     "execution_count": 71,
     "metadata": {},
     "output_type": "execute_result"
    },
    {
     "data": {
      "image/png": "[encoded data removed]",
      "text/plain": [
       "<Figure size 432x288 with 2 Axes>"
      ]
     },
     "metadata": {
      "needs_background": "light"
     },
     "output_type": "display_data"
    }
   ],
   "source": [
    "y_pred = lr.predict(X_test)\n",
    "y_train_pred = lr.predict(X_train)\n",
    "\n",
    "test_acc = lr.score(X_test, y_test)\n",
    "train_acc = lr.score(X_train, y_train)\n",
    "print('Train accuracy:', train_acc)\n",
    "print('Test accuracy:', test_acc)\n",
    "\n",
    "train_probs = lr.predict_proba(X_train)[:,1]\n",
    "train_auc = roc_auc_score(y_train,train_probs)\n",
    "print('Train auc:', train_auc)\n",
    "test_probs = lr.predict_proba(X_test)[:,1]\n",
    "test_auc = roc_auc_score(y_test,test_probs)\n",
    "print('Test auc:', test_auc)\n",
    "\n",
    "train_precision = precision_score(y_train, y_train_pred)\n",
    "test_precision = precision_score(y_test, y_pred)\n",
    "print('Train precision:', train_precision)\n",
    "print('Test precision:', test_precision)\n",
    "\n",
    "train_recall = recall_score(y_train, y_train_pred)\n",
    "test_recall = recall_score(y_test, y_pred)\n",
    "print('Train recall:', train_recall)\n",
    "print('Test recall:', test_recall)\n",
    "\n",
    "train_f1 = f1_score(y_train, y_train_pred)\n",
    "test_f1 = f1_score(y_test, y_pred)\n",
    "print('F1 score train:', train_f1)\n",
    "print('F1 score test:', test_f1)\n",
    "\n",
    "cr = classification_report(y_test,y_pred)\n",
    "print(cr)\n",
    "\n",
    "plot_confusion_matrix(lr, X_test, y_test)"
   ]
  },
  {
   "cell_type": "markdown",
   "metadata": {},
   "source": [
    "### 500+ label"
   ]
  },
  {
   "cell_type": "markdown",
   "metadata": {},
   "source": [
    "#### no scaling"
   ]
  },
  {
   "cell_type": "code",
   "execution_count": 85,
   "metadata": {},
   "outputs": [
    {
     "name": "stderr",
     "output_type": "stream",
     "text": [
      "<ipython-input-85-ec6373f25d8e>:8: SettingWithCopyWarning: \n",
      "A value is trying to be set on a copy of a slice from a DataFrame.\n",
      "Try using .loc[row_indexer,col_indexer] = value instead\n",
      "\n",
      "See the caveats in the documentation: https://pandas.pydata.org/pandas-docs/stable/user_guide/indexing.html#returning-a-view-versus-a-copy\n",
      "  train['Location'] = le.transform(train['Location'])\n",
      "<ipython-input-85-ec6373f25d8e>:9: SettingWithCopyWarning: \n",
      "A value is trying to be set on a copy of a slice from a DataFrame.\n",
      "Try using .loc[row_indexer,col_indexer] = value instead\n",
      "\n",
      "See the caveats in the documentation: https://pandas.pydata.org/pandas-docs/stable/user_guide/indexing.html#returning-a-view-versus-a-copy\n",
      "  test['Location'] = le.transform(test['Location'])\n",
      "/Users/reneehall/opt/anaconda3/envs/lighthouse/lib/python3.8/site-packages/sklearn/linear_model/_logistic.py:763: ConvergenceWarning: lbfgs failed to converge (status=1):\n",
      "STOP: TOTAL NO. of ITERATIONS REACHED LIMIT.\n",
      "\n",
      "Increase the number of iterations (max_iter) or scale the data as shown in:\n",
      "    https://scikit-learn.org/stable/modules/preprocessing.html\n",
      "Please also refer to the documentation for alternative solver options:\n",
      "    https://scikit-learn.org/stable/modules/linear_model.html#logistic-regression\n",
      "  n_iter_i = _check_optimize_result(\n"
     ]
    },
    {
     "data": {
      "text/plain": [
       "LogisticRegression()"
      ]
     },
     "execution_count": 85,
     "metadata": {},
     "output_type": "execute_result"
    }
   ],
   "source": [
    "# split off end of 2019 as test set\n",
    "test_size = bdf.shape[0] - 14\n",
    "train, test = bdf.iloc[:test_size], bdf.iloc[test_size:]\n",
    "\n",
    "# encode location\n",
    "le = LabelEncoder()\n",
    "le.fit(train['Location'])\n",
    "train['Location'] = le.transform(train['Location'])\n",
    "test['Location'] = le.transform(test['Location'])\n",
    "\n",
    "X_train, X_test = train.drop(labels=['SsMean','logSsMean', 'label'], axis=1), test.drop(labels=['SsMean','logSsMean','label'], axis=1)\n",
    "y_train, y_test = train.label, test.label\n",
    "\n",
    "lr = LogisticRegression()\n",
    "lr.fit(X_train, y_train)"
   ]
  },
  {
   "cell_type": "code",
   "execution_count": 86,
   "metadata": {},
   "outputs": [
    {
     "name": "stdout",
     "output_type": "stream",
     "text": [
      "Train accuracy: 0.7418918918918919\n",
      "Test accuracy: 0.42857142857142855\n",
      "Train auc: 0.8281081081081081\n",
      "Test auc: 0.4285714285714286\n",
      "Train precision: 0.752112676056338\n",
      "Test precision: 0.3333333333333333\n",
      "Train recall: 0.7216216216216216\n",
      "Test recall: 0.14285714285714285\n",
      "F1 score train: 0.736551724137931\n",
      "F1 score test: 0.2\n",
      "              precision    recall  f1-score   support\n",
      "\n",
      "           0       0.45      0.71      0.56         7\n",
      "           1       0.33      0.14      0.20         7\n",
      "\n",
      "    accuracy                           0.43        14\n",
      "   macro avg       0.39      0.43      0.38        14\n",
      "weighted avg       0.39      0.43      0.38        14\n",
      "\n"
     ]
    },
    {
     "data": {
      "text/plain": [
       "<sklearn.metrics._plot.confusion_matrix.ConfusionMatrixDisplay at 0x7fba9f0bbd60>"
      ]
     },
     "execution_count": 86,
     "metadata": {},
     "output_type": "execute_result"
    },
    {
     "data": {
      "image/png": "[encoded data removed]",
      "text/plain": [
       "<Figure size 432x288 with 2 Axes>"
      ]
     },
     "metadata": {
      "needs_background": "light"
     },
     "output_type": "display_data"
    }
   ],
   "source": [
    "y_pred = lr.predict(X_test)\n",
    "y_train_pred = lr.predict(X_train)\n",
    "\n",
    "test_acc = lr.score(X_test, y_test)\n",
    "train_acc = lr.score(X_train, y_train)\n",
    "print('Train accuracy:', train_acc)\n",
    "print('Test accuracy:', test_acc)\n",
    "\n",
    "train_probs = lr.predict_proba(X_train)[:,1]\n",
    "train_auc = roc_auc_score(y_train,train_probs)\n",
    "print('Train auc:', train_auc)\n",
    "test_probs = lr.predict_proba(X_test)[:,1]\n",
    "test_auc = roc_auc_score(y_test,test_probs)\n",
    "print('Test auc:', test_auc)\n",
    "\n",
    "train_precision = precision_score(y_train, y_train_pred)\n",
    "test_precision = precision_score(y_test, y_pred)\n",
    "print('Train precision:', train_precision)\n",
    "print('Test precision:', test_precision)\n",
    "\n",
    "train_recall = recall_score(y_train, y_train_pred)\n",
    "test_recall = recall_score(y_test, y_pred)\n",
    "print('Train recall:', train_recall)\n",
    "print('Test recall:', test_recall)\n",
    "\n",
    "train_f1 = f1_score(y_train, y_train_pred)\n",
    "test_f1 = f1_score(y_test, y_pred)\n",
    "print('F1 score train:', train_f1)\n",
    "print('F1 score test:', test_f1)\n",
    "\n",
    "cr = classification_report(y_test,y_pred)\n",
    "print(cr)\n",
    "\n",
    "plot_confusion_matrix(lr, X_test, y_test)"
   ]
  },
  {
   "cell_type": "markdown",
   "metadata": {},
   "source": [
    "#### scaling"
   ]
  },
  {
   "cell_type": "code",
   "execution_count": 87,
   "metadata": {},
   "outputs": [
    {
     "name": "stderr",
     "output_type": "stream",
     "text": [
      "<ipython-input-87-070c108627a5>:8: SettingWithCopyWarning: \n",
      "A value is trying to be set on a copy of a slice from a DataFrame.\n",
      "Try using .loc[row_indexer,col_indexer] = value instead\n",
      "\n",
      "See the caveats in the documentation: https://pandas.pydata.org/pandas-docs/stable/user_guide/indexing.html#returning-a-view-versus-a-copy\n",
      "  train['Location'] = le.transform(train['Location'])\n",
      "<ipython-input-87-070c108627a5>:9: SettingWithCopyWarning: \n",
      "A value is trying to be set on a copy of a slice from a DataFrame.\n",
      "Try using .loc[row_indexer,col_indexer] = value instead\n",
      "\n",
      "See the caveats in the documentation: https://pandas.pydata.org/pandas-docs/stable/user_guide/indexing.html#returning-a-view-versus-a-copy\n",
      "  test['Location'] = le.transform(test['Location'])\n"
     ]
    },
    {
     "data": {
      "text/plain": [
       "LogisticRegression()"
      ]
     },
     "execution_count": 87,
     "metadata": {},
     "output_type": "execute_result"
    }
   ],
   "source": [
    "# split off end of 2019 as test set\n",
    "test_size = bdf.shape[0] - 14\n",
    "train, test = bdf.iloc[:test_size], bdf.iloc[test_size:]\n",
    "\n",
    "# encode location\n",
    "le = LabelEncoder()\n",
    "le.fit(train['Location'])\n",
    "train['Location'] = le.transform(train['Location'])\n",
    "test['Location'] = le.transform(test['Location'])\n",
    "\n",
    "X_train, X_test = train.drop(labels=['SsMean','logSsMean', 'label'], axis=1), test.drop(labels=['SsMean','logSsMean','label'], axis=1)\n",
    "y_train, y_test = train.label, test.label\n",
    "\n",
    "scaler = StandardScaler()\n",
    "scaler.fit(X_train)\n",
    "X_train = scaler.transform(X_train)\n",
    "X_test = scaler.transform(X_test)\n",
    "\n",
    "lr = LogisticRegression()\n",
    "lr.fit(X_train, y_train)"
   ]
  },
  {
   "cell_type": "code",
   "execution_count": 88,
   "metadata": {},
   "outputs": [
    {
     "name": "stdout",
     "output_type": "stream",
     "text": [
      "Train accuracy: 0.7756756756756756\n",
      "Test accuracy: 0.5\n",
      "Train auc: 0.8511029948867787\n",
      "Test auc: 0.5714285714285714\n",
      "Train precision: 0.7833333333333333\n",
      "Test precision: 0.5\n",
      "Train recall: 0.7621621621621621\n",
      "Test recall: 0.7142857142857143\n",
      "F1 score train: 0.7726027397260273\n",
      "F1 score test: 0.588235294117647\n",
      "              precision    recall  f1-score   support\n",
      "\n",
      "           0       0.50      0.29      0.36         7\n",
      "           1       0.50      0.71      0.59         7\n",
      "\n",
      "    accuracy                           0.50        14\n",
      "   macro avg       0.50      0.50      0.48        14\n",
      "weighted avg       0.50      0.50      0.48        14\n",
      "\n"
     ]
    },
    {
     "data": {
      "text/plain": [
       "<sklearn.metrics._plot.confusion_matrix.ConfusionMatrixDisplay at 0x7fba9e1b9610>"
      ]
     },
     "execution_count": 88,
     "metadata": {},
     "output_type": "execute_result"
    },
    {
     "data": {
      "image/png": "[encoded data removed]",
      "text/plain": [
       "<Figure size 432x288 with 2 Axes>"
      ]
     },
     "metadata": {
      "needs_background": "light"
     },
     "output_type": "display_data"
    }
   ],
   "source": [
    "y_pred = lr.predict(X_test)\n",
    "y_train_pred = lr.predict(X_train)\n",
    "\n",
    "test_acc = lr.score(X_test, y_test)\n",
    "train_acc = lr.score(X_train, y_train)\n",
    "print('Train accuracy:', train_acc)\n",
    "print('Test accuracy:', test_acc)\n",
    "\n",
    "train_probs = lr.predict_proba(X_train)[:,1]\n",
    "train_auc = roc_auc_score(y_train,train_probs)\n",
    "print('Train auc:', train_auc)\n",
    "test_probs = lr.predict_proba(X_test)[:,1]\n",
    "test_auc = roc_auc_score(y_test,test_probs)\n",
    "print('Test auc:', test_auc)\n",
    "\n",
    "train_precision = precision_score(y_train, y_train_pred)\n",
    "test_precision = precision_score(y_test, y_pred)\n",
    "print('Train precision:', train_precision)\n",
    "print('Test precision:', test_precision)\n",
    "\n",
    "train_recall = recall_score(y_train, y_train_pred)\n",
    "test_recall = recall_score(y_test, y_pred)\n",
    "print('Train recall:', train_recall)\n",
    "print('Test recall:', test_recall)\n",
    "\n",
    "train_f1 = f1_score(y_train, y_train_pred)\n",
    "test_f1 = f1_score(y_test, y_pred)\n",
    "print('F1 score train:', train_f1)\n",
    "print('F1 score test:', test_f1)\n",
    "\n",
    "cr = classification_report(y_test,y_pred)\n",
    "print(cr)\n",
    "\n",
    "plot_confusion_matrix(lr, X_test, y_test)"
   ]
  },
  {
   "cell_type": "code",
   "execution_count": null,
   "metadata": {},
   "outputs": [],
   "source": []
  }
 ],
 "metadata": {
  "kernelspec": {
   "display_name": "lighthouse",
   "language": "python",
   "name": "lighthouse"
  },
  "language_info": {
   "codemirror_mode": {
    "name": "ipython",
    "version": 3
   },
   "file_extension": ".py",
   "mimetype": "text/x-python",
   "name": "python",
   "nbconvert_exporter": "python",
   "pygments_lexer": "ipython3",
   "version": "3.8.2"
  }
 },
 "nbformat": 4,
 "nbformat_minor": 4
}
